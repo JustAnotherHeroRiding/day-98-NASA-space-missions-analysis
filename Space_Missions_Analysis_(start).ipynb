{
  "cells": [
    {
      "cell_type": "markdown",
      "metadata": {
        "id": "ka_FkvXBiABo"
      },
      "source": [
        "# Introduction"
      ]
    },
    {
      "cell_type": "markdown",
      "metadata": {
        "id": "AWaMmfxXa-p0",
        "papermill": {
          "duration": 0.035434,
          "end_time": "2020-10-20T21:34:01.886225",
          "exception": false,
          "start_time": "2020-10-20T21:34:01.850791",
          "status": "completed"
        },
        "tags": []
      },
      "source": [
        "<center><img src=\"https://i.imgur.com/9hLRsjZ.jpg\" height=400></center>\n",
        "\n",
        "This dataset was scraped from [nextspaceflight.com](https://nextspaceflight.com/launches/past/?page=1) and includes all the space missions since the beginning of Space Race between the USA and the Soviet Union in 1957!"
      ]
    },
    {
      "cell_type": "markdown",
      "metadata": {
        "id": "ufzKRKS3bV0r"
      },
      "source": [
        "### Install Package with Country Codes"
      ]
    },
    {
      "cell_type": "code",
      "execution_count": 170,
      "metadata": {
        "colab": {
          "base_uri": "https://localhost:8080/"
        },
        "id": "0HxV9o6dbRUE",
        "outputId": "35464d43-d601-4b8f-81fd-6dbd400167f5"
      },
      "outputs": [],
      "source": [
        "#%pip install iso3166"
      ]
    },
    {
      "cell_type": "markdown",
      "metadata": {
        "id": "sghkhFoLbof8"
      },
      "source": [
        "### Upgrade Plotly\n",
        "\n",
        "Run the cell below if you are working with Google Colab."
      ]
    },
    {
      "cell_type": "code",
      "execution_count": 171,
      "metadata": {
        "colab": {
          "base_uri": "https://localhost:8080/"
        },
        "id": "gQ61wy9gbmxd",
        "outputId": "99185d87-acb8-4237-c0f7-bfb18bfd4d39"
      },
      "outputs": [],
      "source": [
        "#%pip install --upgrade plotly"
      ]
    },
    {
      "cell_type": "markdown",
      "metadata": {
        "id": "ErFDBihUi1jN"
      },
      "source": [
        "### Import Statements"
      ]
    },
    {
      "cell_type": "code",
      "execution_count": 172,
      "metadata": {
        "_cell_guid": "b1076dfc-b9ad-4769-8c92-a6c4dae69d19",
        "_kg_hide-input": true,
        "_kg_hide-output": true,
        "_uuid": "8f2839f25d086af736a60e9eeb907d3b93b6e0e5",
        "colab": {
          "base_uri": "https://localhost:8080/"
        },
        "execution": {
          "iopub.execute_input": "2020-10-20T21:34:02.101551Z",
          "iopub.status.busy": "2020-10-20T21:34:02.101085Z",
          "iopub.status.idle": "2020-10-20T21:34:03.726868Z",
          "shell.execute_reply": "2020-10-20T21:34:03.725783Z"
        },
        "id": "xdolY0-Sa-p1",
        "outputId": "7142dedb-82e9-457d-db44-cea4e121bdfe",
        "papermill": {
          "duration": 1.665326,
          "end_time": "2020-10-20T21:34:03.726995",
          "exception": false,
          "start_time": "2020-10-20T21:34:02.061669",
          "status": "completed"
        },
        "tags": []
      },
      "outputs": [],
      "source": [
        "import numpy as np\n",
        "import pandas as pd\n",
        "import plotly.express as px\n",
        "import matplotlib.pyplot as plt\n",
        "#import seaborn as sns\n",
        "import kaleido\n",
        "import plotly\n",
        "import plotly.graph_objs as go\n",
        "\n",
        "\n",
        "# These might be helpful:\n",
        "from iso3166 import countries\n",
        "from datetime import datetime, timedelta"
      ]
    },
    {
      "cell_type": "markdown",
      "metadata": {
        "id": "lovGPRgKxIgo"
      },
      "source": [
        "### Notebook Presentation"
      ]
    },
    {
      "cell_type": "code",
      "execution_count": 173,
      "metadata": {
        "id": "DHEULCOjxIIm"
      },
      "outputs": [],
      "source": [
        "pd.options.display.float_format = '{:,.2f}'.format"
      ]
    },
    {
      "cell_type": "markdown",
      "metadata": {
        "id": "yaT3QbjEa-p4",
        "papermill": {
          "duration": 0.034606,
          "end_time": "2020-10-20T21:34:03.798396",
          "exception": false,
          "start_time": "2020-10-20T21:34:03.763790",
          "status": "completed"
        },
        "tags": []
      },
      "source": [
        "### Load the Data"
      ]
    },
    {
      "cell_type": "code",
      "execution_count": 174,
      "metadata": {
        "_cell_guid": "79c7e3d0-c299-4dcb-8224-4455121ee9b0",
        "_kg_hide-input": true,
        "_uuid": "d629ff2d2480ee46fbb7e2d37f6b5fab8052498a",
        "execution": {
          "iopub.execute_input": "2020-10-20T21:34:03.874195Z",
          "iopub.status.busy": "2020-10-20T21:34:03.873775Z",
          "iopub.status.idle": "2020-10-20T21:34:03.921919Z",
          "shell.execute_reply": "2020-10-20T21:34:03.921418Z"
        },
        "id": "0lDOu8aka-p4",
        "papermill": {
          "duration": 0.08876,
          "end_time": "2020-10-20T21:34:03.922028",
          "exception": false,
          "start_time": "2020-10-20T21:34:03.833268",
          "status": "completed"
        },
        "tags": []
      },
      "outputs": [],
      "source": [
        "df_data = pd.read_csv('mission_launches.csv')"
      ]
    },
    {
      "cell_type": "markdown",
      "metadata": {
        "id": "jAnMiVcVjuKB"
      },
      "source": [
        "# Preliminary Data Exploration\n",
        "\n",
        "* What is the shape of `df_data`? \n",
        "* How many rows and columns does it have?\n",
        "* What are the column names?\n",
        "* Are there any NaN values or duplicates?"
      ]
    },
    {
      "cell_type": "code",
      "execution_count": 175,
      "metadata": {
        "id": "0tIuYcYNlPFQ"
      },
      "outputs": [
        {
          "data": {
            "text/html": [
              "<div>\n",
              "<style scoped>\n",
              "    .dataframe tbody tr th:only-of-type {\n",
              "        vertical-align: middle;\n",
              "    }\n",
              "\n",
              "    .dataframe tbody tr th {\n",
              "        vertical-align: top;\n",
              "    }\n",
              "\n",
              "    .dataframe thead th {\n",
              "        text-align: right;\n",
              "    }\n",
              "</style>\n",
              "<table border=\"1\" class=\"dataframe\">\n",
              "  <thead>\n",
              "    <tr style=\"text-align: right;\">\n",
              "      <th></th>\n",
              "      <th>Organisation</th>\n",
              "      <th>Location</th>\n",
              "      <th>Date</th>\n",
              "      <th>Detail</th>\n",
              "      <th>Rocket_Status</th>\n",
              "      <th>Price</th>\n",
              "      <th>Mission_Status</th>\n",
              "    </tr>\n",
              "  </thead>\n",
              "  <tbody>\n",
              "    <tr>\n",
              "      <th>3153</th>\n",
              "      <td>RVSN USSR</td>\n",
              "      <td>Site 86/1, Kapustin Yar, Russia</td>\n",
              "      <td>Thu Apr 19, 1973 10:20 UTC</td>\n",
              "      <td>Cosmos-2I (63SM) | Intercosmos-9</td>\n",
              "      <td>StatusRetired</td>\n",
              "      <td>NaN</td>\n",
              "      <td>Success</td>\n",
              "    </tr>\n",
              "    <tr>\n",
              "      <th>953</th>\n",
              "      <td>NASA</td>\n",
              "      <td>LC-39B, Kennedy Space Center, Florida, USA</td>\n",
              "      <td>Tue Jul 26, 2005 14:39 UTC</td>\n",
              "      <td>Space Shuttle Discovery | STS-114</td>\n",
              "      <td>StatusRetired</td>\n",
              "      <td>450.0</td>\n",
              "      <td>Success</td>\n",
              "    </tr>\n",
              "    <tr>\n",
              "      <th>3792</th>\n",
              "      <td>RVSN USSR</td>\n",
              "      <td>Site 86/1, Kapustin Yar, Russia</td>\n",
              "      <td>Tue Mar 21, 1967 10:07 UTC</td>\n",
              "      <td>Cosmos-2I (63SM) | Cosmos 149</td>\n",
              "      <td>StatusRetired</td>\n",
              "      <td>NaN</td>\n",
              "      <td>Success</td>\n",
              "    </tr>\n",
              "    <tr>\n",
              "      <th>628</th>\n",
              "      <td>Arianespace</td>\n",
              "      <td>ELS, Guiana Space Centre, French Guiana, France</td>\n",
              "      <td>Fri Oct 12, 2012 15:15 UTC</td>\n",
              "      <td>Soyuz ST-B/Fregat-MT | Galileo IOV FM03-FM04</td>\n",
              "      <td>StatusActive</td>\n",
              "      <td>NaN</td>\n",
              "      <td>Success</td>\n",
              "    </tr>\n",
              "    <tr>\n",
              "      <th>1872</th>\n",
              "      <td>Martin Marietta</td>\n",
              "      <td>SLC-40, Cape Canaveral AFS, Florida, USA</td>\n",
              "      <td>Mon Sep 04, 1989 05:54 UTC</td>\n",
              "      <td>Titan 34D | DSCS-II-16 &amp; DSCS-III-A2</td>\n",
              "      <td>StatusRetired</td>\n",
              "      <td>NaN</td>\n",
              "      <td>Success</td>\n",
              "    </tr>\n",
              "    <tr>\n",
              "      <th>4119</th>\n",
              "      <td>General Dynamics</td>\n",
              "      <td>LC-12, Cape Canaveral AFS, Florida, USA</td>\n",
              "      <td>Thu Oct 18, 1962 16:59 UTC</td>\n",
              "      <td>Atlas-LV3 Agena-B | Ranger 5</td>\n",
              "      <td>StatusRetired</td>\n",
              "      <td>NaN</td>\n",
              "      <td>Success</td>\n",
              "    </tr>\n",
              "    <tr>\n",
              "      <th>445</th>\n",
              "      <td>SpaceX</td>\n",
              "      <td>SLC-40, Cape Canaveral AFS, Florida, USA</td>\n",
              "      <td>Fri Apr 08, 2016 20:43 UTC</td>\n",
              "      <td>Falcon 9 Block 3 | CRS-8</td>\n",
              "      <td>StatusRetired</td>\n",
              "      <td>62.0</td>\n",
              "      <td>Success</td>\n",
              "    </tr>\n",
              "    <tr>\n",
              "      <th>2471</th>\n",
              "      <td>RVSN USSR</td>\n",
              "      <td>Site 132/1, Plesetsk Cosmodrome, Russia</td>\n",
              "      <td>Thu Mar 27, 1980 07:30 UTC</td>\n",
              "      <td>Cosmos-3M (11K65M) | Cosmos 1169</td>\n",
              "      <td>StatusRetired</td>\n",
              "      <td>NaN</td>\n",
              "      <td>Success</td>\n",
              "    </tr>\n",
              "    <tr>\n",
              "      <th>3292</th>\n",
              "      <td>RVSN USSR</td>\n",
              "      <td>Site 132/1, Plesetsk Cosmodrome, Russia</td>\n",
              "      <td>Mon Nov 29, 1971 17:30 UTC</td>\n",
              "      <td>Cosmos-3M (11K65M) | Cosmos 459</td>\n",
              "      <td>StatusRetired</td>\n",
              "      <td>NaN</td>\n",
              "      <td>Success</td>\n",
              "    </tr>\n",
              "    <tr>\n",
              "      <th>2141</th>\n",
              "      <td>NASA</td>\n",
              "      <td>LC-39A, Kennedy Space Center, Florida, USA</td>\n",
              "      <td>Fri Apr 12, 1985 13:59 UTC</td>\n",
              "      <td>Space Shuttle Discovery | STS-51-D</td>\n",
              "      <td>StatusRetired</td>\n",
              "      <td>450.0</td>\n",
              "      <td>Success</td>\n",
              "    </tr>\n",
              "  </tbody>\n",
              "</table>\n",
              "</div>"
            ],
            "text/plain": [
              "          Organisation                                         Location  \\\n",
              "3153         RVSN USSR                  Site 86/1, Kapustin Yar, Russia   \n",
              "953               NASA       LC-39B, Kennedy Space Center, Florida, USA   \n",
              "3792         RVSN USSR                  Site 86/1, Kapustin Yar, Russia   \n",
              "628        Arianespace  ELS, Guiana Space Centre, French Guiana, France   \n",
              "1872   Martin Marietta         SLC-40, Cape Canaveral AFS, Florida, USA   \n",
              "4119  General Dynamics          LC-12, Cape Canaveral AFS, Florida, USA   \n",
              "445             SpaceX         SLC-40, Cape Canaveral AFS, Florida, USA   \n",
              "2471         RVSN USSR          Site 132/1, Plesetsk Cosmodrome, Russia   \n",
              "3292         RVSN USSR          Site 132/1, Plesetsk Cosmodrome, Russia   \n",
              "2141              NASA       LC-39A, Kennedy Space Center, Florida, USA   \n",
              "\n",
              "                            Date  \\\n",
              "3153  Thu Apr 19, 1973 10:20 UTC   \n",
              "953   Tue Jul 26, 2005 14:39 UTC   \n",
              "3792  Tue Mar 21, 1967 10:07 UTC   \n",
              "628   Fri Oct 12, 2012 15:15 UTC   \n",
              "1872  Mon Sep 04, 1989 05:54 UTC   \n",
              "4119  Thu Oct 18, 1962 16:59 UTC   \n",
              "445   Fri Apr 08, 2016 20:43 UTC   \n",
              "2471  Thu Mar 27, 1980 07:30 UTC   \n",
              "3292  Mon Nov 29, 1971 17:30 UTC   \n",
              "2141  Fri Apr 12, 1985 13:59 UTC   \n",
              "\n",
              "                                            Detail  Rocket_Status  Price  \\\n",
              "3153              Cosmos-2I (63SM) | Intercosmos-9  StatusRetired    NaN   \n",
              "953              Space Shuttle Discovery | STS-114  StatusRetired  450.0   \n",
              "3792                 Cosmos-2I (63SM) | Cosmos 149  StatusRetired    NaN   \n",
              "628   Soyuz ST-B/Fregat-MT | Galileo IOV FM03-FM04   StatusActive    NaN   \n",
              "1872          Titan 34D | DSCS-II-16 & DSCS-III-A2  StatusRetired    NaN   \n",
              "4119                  Atlas-LV3 Agena-B | Ranger 5  StatusRetired    NaN   \n",
              "445                       Falcon 9 Block 3 | CRS-8  StatusRetired   62.0   \n",
              "2471              Cosmos-3M (11K65M) | Cosmos 1169  StatusRetired    NaN   \n",
              "3292               Cosmos-3M (11K65M) | Cosmos 459  StatusRetired    NaN   \n",
              "2141            Space Shuttle Discovery | STS-51-D  StatusRetired  450.0   \n",
              "\n",
              "     Mission_Status  \n",
              "3153        Success  \n",
              "953         Success  \n",
              "3792        Success  \n",
              "628         Success  \n",
              "1872        Success  \n",
              "4119        Success  \n",
              "445         Success  \n",
              "2471        Success  \n",
              "3292        Success  \n",
              "2141        Success  "
            ]
          },
          "execution_count": 175,
          "metadata": {},
          "output_type": "execute_result"
        }
      ],
      "source": [
        "#df_data.shape\n",
        "#4324 rows and 9 columns\n",
        "spacedf = df_data.drop(columns=['Unnamed: 0.1', 'Unnamed: 0'])\n",
        "spacedf.sample(10)"
      ]
    },
    {
      "cell_type": "code",
      "execution_count": 176,
      "metadata": {
        "id": "0dw2hd9UlPmP"
      },
      "outputs": [
        {
          "data": {
            "text/plain": [
              "Organisation         0\n",
              "Location             0\n",
              "Date                 0\n",
              "Detail               0\n",
              "Rocket_Status        0\n",
              "Price             3360\n",
              "Mission_Status       0\n",
              "dtype: int64"
            ]
          },
          "execution_count": 176,
          "metadata": {},
          "output_type": "execute_result"
        }
      ],
      "source": [
        "spacedf.isna().sum()\n",
        "#The price column has 3360 NaN values,the others are good"
      ]
    },
    {
      "cell_type": "markdown",
      "metadata": {
        "id": "KUN30y6ja-p9",
        "papermill": {
          "duration": 0.05406,
          "end_time": "2020-10-20T21:34:04.149973",
          "exception": false,
          "start_time": "2020-10-20T21:34:04.095913",
          "status": "completed"
        },
        "tags": []
      },
      "source": [
        "## Data Cleaning - Check for Missing Values and Duplicates\n",
        "\n",
        "Consider removing columns containing junk data. "
      ]
    },
    {
      "cell_type": "code",
      "execution_count": 177,
      "metadata": {
        "id": "wWQvnJb0k2Ig"
      },
      "outputs": [
        {
          "data": {
            "text/html": [
              "<div>\n",
              "<style scoped>\n",
              "    .dataframe tbody tr th:only-of-type {\n",
              "        vertical-align: middle;\n",
              "    }\n",
              "\n",
              "    .dataframe tbody tr th {\n",
              "        vertical-align: top;\n",
              "    }\n",
              "\n",
              "    .dataframe thead th {\n",
              "        text-align: right;\n",
              "    }\n",
              "</style>\n",
              "<table border=\"1\" class=\"dataframe\">\n",
              "  <thead>\n",
              "    <tr style=\"text-align: right;\">\n",
              "      <th></th>\n",
              "      <th>Organisation</th>\n",
              "      <th>Location</th>\n",
              "      <th>Date</th>\n",
              "      <th>Detail</th>\n",
              "      <th>Rocket_Status</th>\n",
              "      <th>Price</th>\n",
              "      <th>Mission_Status</th>\n",
              "    </tr>\n",
              "  </thead>\n",
              "  <tbody>\n",
              "    <tr>\n",
              "      <th>793</th>\n",
              "      <td>CASC</td>\n",
              "      <td>Site 9401 (SLS-2), Jiuquan Satellite Launch Ce...</td>\n",
              "      <td>Wed Nov 05, 2008 00:15 UTC</td>\n",
              "      <td>Long March 2D | Shiyan-3 &amp; Chuangxin-1(02)</td>\n",
              "      <td>StatusActive</td>\n",
              "      <td>29.75</td>\n",
              "      <td>Success</td>\n",
              "    </tr>\n",
              "  </tbody>\n",
              "</table>\n",
              "</div>"
            ],
            "text/plain": [
              "    Organisation                                           Location  \\\n",
              "793         CASC  Site 9401 (SLS-2), Jiuquan Satellite Launch Ce...   \n",
              "\n",
              "                           Date                                      Detail  \\\n",
              "793  Wed Nov 05, 2008 00:15 UTC  Long March 2D | Shiyan-3 & Chuangxin-1(02)   \n",
              "\n",
              "    Rocket_Status  Price Mission_Status  \n",
              "793  StatusActive  29.75        Success  "
            ]
          },
          "execution_count": 177,
          "metadata": {},
          "output_type": "execute_result"
        }
      ],
      "source": [
        "#Already removed the first 2 index columns\n",
        "#Lets check for duplicates\n",
        "#Only found one,everything seems to match while when only going by date there were 5 duplicates \n",
        "#but they had different models that were launched\n",
        "duplicates = spacedf.duplicated(subset=[\"Date\", \"Detail\"],keep='first')\n",
        "\n",
        "spacedf[duplicates]\n",
        "\n",
        "\n"
      ]
    },
    {
      "cell_type": "code",
      "execution_count": 178,
      "metadata": {
        "id": "SfxVooCYk2As"
      },
      "outputs": [],
      "source": [
        "spacedf = spacedf.drop_duplicates(subset=['Date', 'Detail'], keep='first')\n"
      ]
    },
    {
      "cell_type": "markdown",
      "metadata": {
        "id": "QHon_T5sa-p_",
        "papermill": {
          "duration": 0.036712,
          "end_time": "2020-10-20T21:34:05.227032",
          "exception": false,
          "start_time": "2020-10-20T21:34:05.190320",
          "status": "completed"
        },
        "tags": []
      },
      "source": [
        "## Descriptive Statistics"
      ]
    },
    {
      "cell_type": "code",
      "execution_count": 179,
      "metadata": {
        "id": "Fh1-libjkJIK"
      },
      "outputs": [
        {
          "data": {
            "text/html": [
              "<div>\n",
              "<style scoped>\n",
              "    .dataframe tbody tr th:only-of-type {\n",
              "        vertical-align: middle;\n",
              "    }\n",
              "\n",
              "    .dataframe tbody tr th {\n",
              "        vertical-align: top;\n",
              "    }\n",
              "\n",
              "    .dataframe thead th {\n",
              "        text-align: right;\n",
              "    }\n",
              "</style>\n",
              "<table border=\"1\" class=\"dataframe\">\n",
              "  <thead>\n",
              "    <tr style=\"text-align: right;\">\n",
              "      <th></th>\n",
              "      <th>Organisation</th>\n",
              "      <th>Location</th>\n",
              "      <th>Date</th>\n",
              "      <th>Detail</th>\n",
              "      <th>Rocket_Status</th>\n",
              "      <th>Price</th>\n",
              "      <th>Mission_Status</th>\n",
              "    </tr>\n",
              "  </thead>\n",
              "  <tbody>\n",
              "    <tr>\n",
              "      <th>count</th>\n",
              "      <td>4323</td>\n",
              "      <td>4323</td>\n",
              "      <td>4323</td>\n",
              "      <td>4323</td>\n",
              "      <td>4323</td>\n",
              "      <td>963</td>\n",
              "      <td>4323</td>\n",
              "    </tr>\n",
              "    <tr>\n",
              "      <th>unique</th>\n",
              "      <td>56</td>\n",
              "      <td>137</td>\n",
              "      <td>4319</td>\n",
              "      <td>4278</td>\n",
              "      <td>2</td>\n",
              "      <td>56</td>\n",
              "      <td>4</td>\n",
              "    </tr>\n",
              "    <tr>\n",
              "      <th>top</th>\n",
              "      <td>RVSN USSR</td>\n",
              "      <td>Site 31/6, Baikonur Cosmodrome, Kazakhstan</td>\n",
              "      <td>Sun Aug 25, 1991 08:40 UTC</td>\n",
              "      <td>Cosmos-3MRB (65MRB) | BOR-5 Shuttle</td>\n",
              "      <td>StatusRetired</td>\n",
              "      <td>450.0</td>\n",
              "      <td>Success</td>\n",
              "    </tr>\n",
              "    <tr>\n",
              "      <th>freq</th>\n",
              "      <td>1777</td>\n",
              "      <td>235</td>\n",
              "      <td>2</td>\n",
              "      <td>6</td>\n",
              "      <td>3534</td>\n",
              "      <td>136</td>\n",
              "      <td>3878</td>\n",
              "    </tr>\n",
              "  </tbody>\n",
              "</table>\n",
              "</div>"
            ],
            "text/plain": [
              "       Organisation                                    Location  \\\n",
              "count          4323                                        4323   \n",
              "unique           56                                         137   \n",
              "top       RVSN USSR  Site 31/6, Baikonur Cosmodrome, Kazakhstan   \n",
              "freq           1777                                         235   \n",
              "\n",
              "                              Date                               Detail  \\\n",
              "count                         4323                                 4323   \n",
              "unique                        4319                                 4278   \n",
              "top     Sun Aug 25, 1991 08:40 UTC  Cosmos-3MRB (65MRB) | BOR-5 Shuttle   \n",
              "freq                             2                                    6   \n",
              "\n",
              "        Rocket_Status  Price Mission_Status  \n",
              "count            4323    963           4323  \n",
              "unique              2     56              4  \n",
              "top     StatusRetired  450.0        Success  \n",
              "freq             3534    136           3878  "
            ]
          },
          "execution_count": 179,
          "metadata": {},
          "output_type": "execute_result"
        }
      ],
      "source": [
        "spacedf.describe()"
      ]
    },
    {
      "cell_type": "code",
      "execution_count": 180,
      "metadata": {
        "id": "dGZa5HdbkJBT"
      },
      "outputs": [],
      "source": [
        "#56 Organizations, RVSN USSR being the top one with 1777 missions\n",
        "#Also the cosmodrome being the number one launch site with 235 launches, and 137 locations in total\n",
        "#3534 rockets are retired out of 4323\n",
        "#3878 missions were successful"
      ]
    },
    {
      "cell_type": "markdown",
      "metadata": {
        "id": "cgCjcpeUkKPW"
      },
      "source": [
        "# Number of Launches per Company\n",
        "\n",
        "Create a chart that shows the number of space mission launches by organisation."
      ]
    },
    {
      "cell_type": "code",
      "execution_count": 181,
      "metadata": {
        "id": "rxvcIrtskxYB"
      },
      "outputs": [],
      "source": [
        "launchesorgs =  spacedf['Organisation'].value_counts().sort_values(ascending=False)[:20]"
      ]
    },
    {
      "cell_type": "code",
      "execution_count": 182,
      "metadata": {
        "id": "qgneHUbWkw5v"
      },
      "outputs": [
        {
          "data": {
            "application/vnd.plotly.v1+json": {
              "config": {
                "plotlyServerURL": "https://plot.ly"
              },
              "data": [
                {
                  "alignmentgroup": "True",
                  "hovertemplate": "x=%{x}<br>index=%{y}<br>color=%{marker.color}<extra></extra>",
                  "legendgroup": "",
                  "marker": {
                    "color": [
                      1777,
                      279,
                      251,
                      250,
                      203,
                      201,
                      161,
                      140,
                      136,
                      114,
                      100,
                      84,
                      83,
                      79,
                      76,
                      55,
                      46,
                      36,
                      30,
                      22
                    ],
                    "coloraxis": "coloraxis",
                    "pattern": {
                      "shape": ""
                    }
                  },
                  "name": "",
                  "offsetgroup": "",
                  "orientation": "h",
                  "showlegend": false,
                  "textposition": "auto",
                  "type": "bar",
                  "x": [
                    1777,
                    279,
                    251,
                    250,
                    203,
                    201,
                    161,
                    140,
                    136,
                    114,
                    100,
                    84,
                    83,
                    79,
                    76,
                    55,
                    46,
                    36,
                    30,
                    22
                  ],
                  "xaxis": "x",
                  "y": [
                    "RVSN USSR",
                    "Arianespace",
                    "General Dynamics",
                    "CASC",
                    "NASA",
                    "VKS RF",
                    "US Air Force",
                    "ULA",
                    "Boeing",
                    "Martin Marietta",
                    "SpaceX",
                    "MHI",
                    "Northrop",
                    "Lockheed",
                    "ISRO",
                    "Roscosmos",
                    "ILS",
                    "Sea Launch",
                    "ISAS",
                    "Kosmotras"
                  ],
                  "yaxis": "y"
                }
              ],
              "layout": {
                "barmode": "relative",
                "coloraxis": {
                  "colorbar": {
                    "title": {
                      "text": "color"
                    }
                  },
                  "colorscale": [
                    [
                      0,
                      "rgb(0,0,0)"
                    ],
                    [
                      0.2,
                      "rgb(30,0,100)"
                    ],
                    [
                      0.4,
                      "rgb(120,0,100)"
                    ],
                    [
                      0.6,
                      "rgb(160,90,0)"
                    ],
                    [
                      0.8,
                      "rgb(230,200,0)"
                    ],
                    [
                      1,
                      "rgb(255,250,220)"
                    ]
                  ],
                  "showscale": false
                },
                "legend": {
                  "tracegroupgap": 0
                },
                "template": {
                  "data": {
                    "bar": [
                      {
                        "error_x": {
                          "color": "#2a3f5f"
                        },
                        "error_y": {
                          "color": "#2a3f5f"
                        },
                        "marker": {
                          "line": {
                            "color": "#E5ECF6",
                            "width": 0.5
                          },
                          "pattern": {
                            "fillmode": "overlay",
                            "size": 10,
                            "solidity": 0.2
                          }
                        },
                        "type": "bar"
                      }
                    ],
                    "barpolar": [
                      {
                        "marker": {
                          "line": {
                            "color": "#E5ECF6",
                            "width": 0.5
                          },
                          "pattern": {
                            "fillmode": "overlay",
                            "size": 10,
                            "solidity": 0.2
                          }
                        },
                        "type": "barpolar"
                      }
                    ],
                    "carpet": [
                      {
                        "aaxis": {
                          "endlinecolor": "#2a3f5f",
                          "gridcolor": "white",
                          "linecolor": "white",
                          "minorgridcolor": "white",
                          "startlinecolor": "#2a3f5f"
                        },
                        "baxis": {
                          "endlinecolor": "#2a3f5f",
                          "gridcolor": "white",
                          "linecolor": "white",
                          "minorgridcolor": "white",
                          "startlinecolor": "#2a3f5f"
                        },
                        "type": "carpet"
                      }
                    ],
                    "choropleth": [
                      {
                        "colorbar": {
                          "outlinewidth": 0,
                          "ticks": ""
                        },
                        "type": "choropleth"
                      }
                    ],
                    "contour": [
                      {
                        "colorbar": {
                          "outlinewidth": 0,
                          "ticks": ""
                        },
                        "colorscale": [
                          [
                            0,
                            "#0d0887"
                          ],
                          [
                            0.1111111111111111,
                            "#46039f"
                          ],
                          [
                            0.2222222222222222,
                            "#7201a8"
                          ],
                          [
                            0.3333333333333333,
                            "#9c179e"
                          ],
                          [
                            0.4444444444444444,
                            "#bd3786"
                          ],
                          [
                            0.5555555555555556,
                            "#d8576b"
                          ],
                          [
                            0.6666666666666666,
                            "#ed7953"
                          ],
                          [
                            0.7777777777777778,
                            "#fb9f3a"
                          ],
                          [
                            0.8888888888888888,
                            "#fdca26"
                          ],
                          [
                            1,
                            "#f0f921"
                          ]
                        ],
                        "type": "contour"
                      }
                    ],
                    "contourcarpet": [
                      {
                        "colorbar": {
                          "outlinewidth": 0,
                          "ticks": ""
                        },
                        "type": "contourcarpet"
                      }
                    ],
                    "heatmap": [
                      {
                        "colorbar": {
                          "outlinewidth": 0,
                          "ticks": ""
                        },
                        "colorscale": [
                          [
                            0,
                            "#0d0887"
                          ],
                          [
                            0.1111111111111111,
                            "#46039f"
                          ],
                          [
                            0.2222222222222222,
                            "#7201a8"
                          ],
                          [
                            0.3333333333333333,
                            "#9c179e"
                          ],
                          [
                            0.4444444444444444,
                            "#bd3786"
                          ],
                          [
                            0.5555555555555556,
                            "#d8576b"
                          ],
                          [
                            0.6666666666666666,
                            "#ed7953"
                          ],
                          [
                            0.7777777777777778,
                            "#fb9f3a"
                          ],
                          [
                            0.8888888888888888,
                            "#fdca26"
                          ],
                          [
                            1,
                            "#f0f921"
                          ]
                        ],
                        "type": "heatmap"
                      }
                    ],
                    "heatmapgl": [
                      {
                        "colorbar": {
                          "outlinewidth": 0,
                          "ticks": ""
                        },
                        "colorscale": [
                          [
                            0,
                            "#0d0887"
                          ],
                          [
                            0.1111111111111111,
                            "#46039f"
                          ],
                          [
                            0.2222222222222222,
                            "#7201a8"
                          ],
                          [
                            0.3333333333333333,
                            "#9c179e"
                          ],
                          [
                            0.4444444444444444,
                            "#bd3786"
                          ],
                          [
                            0.5555555555555556,
                            "#d8576b"
                          ],
                          [
                            0.6666666666666666,
                            "#ed7953"
                          ],
                          [
                            0.7777777777777778,
                            "#fb9f3a"
                          ],
                          [
                            0.8888888888888888,
                            "#fdca26"
                          ],
                          [
                            1,
                            "#f0f921"
                          ]
                        ],
                        "type": "heatmapgl"
                      }
                    ],
                    "histogram": [
                      {
                        "marker": {
                          "pattern": {
                            "fillmode": "overlay",
                            "size": 10,
                            "solidity": 0.2
                          }
                        },
                        "type": "histogram"
                      }
                    ],
                    "histogram2d": [
                      {
                        "colorbar": {
                          "outlinewidth": 0,
                          "ticks": ""
                        },
                        "colorscale": [
                          [
                            0,
                            "#0d0887"
                          ],
                          [
                            0.1111111111111111,
                            "#46039f"
                          ],
                          [
                            0.2222222222222222,
                            "#7201a8"
                          ],
                          [
                            0.3333333333333333,
                            "#9c179e"
                          ],
                          [
                            0.4444444444444444,
                            "#bd3786"
                          ],
                          [
                            0.5555555555555556,
                            "#d8576b"
                          ],
                          [
                            0.6666666666666666,
                            "#ed7953"
                          ],
                          [
                            0.7777777777777778,
                            "#fb9f3a"
                          ],
                          [
                            0.8888888888888888,
                            "#fdca26"
                          ],
                          [
                            1,
                            "#f0f921"
                          ]
                        ],
                        "type": "histogram2d"
                      }
                    ],
                    "histogram2dcontour": [
                      {
                        "colorbar": {
                          "outlinewidth": 0,
                          "ticks": ""
                        },
                        "colorscale": [
                          [
                            0,
                            "#0d0887"
                          ],
                          [
                            0.1111111111111111,
                            "#46039f"
                          ],
                          [
                            0.2222222222222222,
                            "#7201a8"
                          ],
                          [
                            0.3333333333333333,
                            "#9c179e"
                          ],
                          [
                            0.4444444444444444,
                            "#bd3786"
                          ],
                          [
                            0.5555555555555556,
                            "#d8576b"
                          ],
                          [
                            0.6666666666666666,
                            "#ed7953"
                          ],
                          [
                            0.7777777777777778,
                            "#fb9f3a"
                          ],
                          [
                            0.8888888888888888,
                            "#fdca26"
                          ],
                          [
                            1,
                            "#f0f921"
                          ]
                        ],
                        "type": "histogram2dcontour"
                      }
                    ],
                    "mesh3d": [
                      {
                        "colorbar": {
                          "outlinewidth": 0,
                          "ticks": ""
                        },
                        "type": "mesh3d"
                      }
                    ],
                    "parcoords": [
                      {
                        "line": {
                          "colorbar": {
                            "outlinewidth": 0,
                            "ticks": ""
                          }
                        },
                        "type": "parcoords"
                      }
                    ],
                    "pie": [
                      {
                        "automargin": true,
                        "type": "pie"
                      }
                    ],
                    "scatter": [
                      {
                        "fillpattern": {
                          "fillmode": "overlay",
                          "size": 10,
                          "solidity": 0.2
                        },
                        "type": "scatter"
                      }
                    ],
                    "scatter3d": [
                      {
                        "line": {
                          "colorbar": {
                            "outlinewidth": 0,
                            "ticks": ""
                          }
                        },
                        "marker": {
                          "colorbar": {
                            "outlinewidth": 0,
                            "ticks": ""
                          }
                        },
                        "type": "scatter3d"
                      }
                    ],
                    "scattercarpet": [
                      {
                        "marker": {
                          "colorbar": {
                            "outlinewidth": 0,
                            "ticks": ""
                          }
                        },
                        "type": "scattercarpet"
                      }
                    ],
                    "scattergeo": [
                      {
                        "marker": {
                          "colorbar": {
                            "outlinewidth": 0,
                            "ticks": ""
                          }
                        },
                        "type": "scattergeo"
                      }
                    ],
                    "scattergl": [
                      {
                        "marker": {
                          "colorbar": {
                            "outlinewidth": 0,
                            "ticks": ""
                          }
                        },
                        "type": "scattergl"
                      }
                    ],
                    "scattermapbox": [
                      {
                        "marker": {
                          "colorbar": {
                            "outlinewidth": 0,
                            "ticks": ""
                          }
                        },
                        "type": "scattermapbox"
                      }
                    ],
                    "scatterpolar": [
                      {
                        "marker": {
                          "colorbar": {
                            "outlinewidth": 0,
                            "ticks": ""
                          }
                        },
                        "type": "scatterpolar"
                      }
                    ],
                    "scatterpolargl": [
                      {
                        "marker": {
                          "colorbar": {
                            "outlinewidth": 0,
                            "ticks": ""
                          }
                        },
                        "type": "scatterpolargl"
                      }
                    ],
                    "scatterternary": [
                      {
                        "marker": {
                          "colorbar": {
                            "outlinewidth": 0,
                            "ticks": ""
                          }
                        },
                        "type": "scatterternary"
                      }
                    ],
                    "surface": [
                      {
                        "colorbar": {
                          "outlinewidth": 0,
                          "ticks": ""
                        },
                        "colorscale": [
                          [
                            0,
                            "#0d0887"
                          ],
                          [
                            0.1111111111111111,
                            "#46039f"
                          ],
                          [
                            0.2222222222222222,
                            "#7201a8"
                          ],
                          [
                            0.3333333333333333,
                            "#9c179e"
                          ],
                          [
                            0.4444444444444444,
                            "#bd3786"
                          ],
                          [
                            0.5555555555555556,
                            "#d8576b"
                          ],
                          [
                            0.6666666666666666,
                            "#ed7953"
                          ],
                          [
                            0.7777777777777778,
                            "#fb9f3a"
                          ],
                          [
                            0.8888888888888888,
                            "#fdca26"
                          ],
                          [
                            1,
                            "#f0f921"
                          ]
                        ],
                        "type": "surface"
                      }
                    ],
                    "table": [
                      {
                        "cells": {
                          "fill": {
                            "color": "#EBF0F8"
                          },
                          "line": {
                            "color": "white"
                          }
                        },
                        "header": {
                          "fill": {
                            "color": "#C8D4E3"
                          },
                          "line": {
                            "color": "white"
                          }
                        },
                        "type": "table"
                      }
                    ]
                  },
                  "layout": {
                    "annotationdefaults": {
                      "arrowcolor": "#2a3f5f",
                      "arrowhead": 0,
                      "arrowwidth": 1
                    },
                    "autotypenumbers": "strict",
                    "coloraxis": {
                      "colorbar": {
                        "outlinewidth": 0,
                        "ticks": ""
                      }
                    },
                    "colorscale": {
                      "diverging": [
                        [
                          0,
                          "#8e0152"
                        ],
                        [
                          0.1,
                          "#c51b7d"
                        ],
                        [
                          0.2,
                          "#de77ae"
                        ],
                        [
                          0.3,
                          "#f1b6da"
                        ],
                        [
                          0.4,
                          "#fde0ef"
                        ],
                        [
                          0.5,
                          "#f7f7f7"
                        ],
                        [
                          0.6,
                          "#e6f5d0"
                        ],
                        [
                          0.7,
                          "#b8e186"
                        ],
                        [
                          0.8,
                          "#7fbc41"
                        ],
                        [
                          0.9,
                          "#4d9221"
                        ],
                        [
                          1,
                          "#276419"
                        ]
                      ],
                      "sequential": [
                        [
                          0,
                          "#0d0887"
                        ],
                        [
                          0.1111111111111111,
                          "#46039f"
                        ],
                        [
                          0.2222222222222222,
                          "#7201a8"
                        ],
                        [
                          0.3333333333333333,
                          "#9c179e"
                        ],
                        [
                          0.4444444444444444,
                          "#bd3786"
                        ],
                        [
                          0.5555555555555556,
                          "#d8576b"
                        ],
                        [
                          0.6666666666666666,
                          "#ed7953"
                        ],
                        [
                          0.7777777777777778,
                          "#fb9f3a"
                        ],
                        [
                          0.8888888888888888,
                          "#fdca26"
                        ],
                        [
                          1,
                          "#f0f921"
                        ]
                      ],
                      "sequentialminus": [
                        [
                          0,
                          "#0d0887"
                        ],
                        [
                          0.1111111111111111,
                          "#46039f"
                        ],
                        [
                          0.2222222222222222,
                          "#7201a8"
                        ],
                        [
                          0.3333333333333333,
                          "#9c179e"
                        ],
                        [
                          0.4444444444444444,
                          "#bd3786"
                        ],
                        [
                          0.5555555555555556,
                          "#d8576b"
                        ],
                        [
                          0.6666666666666666,
                          "#ed7953"
                        ],
                        [
                          0.7777777777777778,
                          "#fb9f3a"
                        ],
                        [
                          0.8888888888888888,
                          "#fdca26"
                        ],
                        [
                          1,
                          "#f0f921"
                        ]
                      ]
                    },
                    "colorway": [
                      "#636efa",
                      "#EF553B",
                      "#00cc96",
                      "#ab63fa",
                      "#FFA15A",
                      "#19d3f3",
                      "#FF6692",
                      "#B6E880",
                      "#FF97FF",
                      "#FECB52"
                    ],
                    "font": {
                      "color": "#2a3f5f"
                    },
                    "geo": {
                      "bgcolor": "white",
                      "lakecolor": "white",
                      "landcolor": "#E5ECF6",
                      "showlakes": true,
                      "showland": true,
                      "subunitcolor": "white"
                    },
                    "hoverlabel": {
                      "align": "left"
                    },
                    "hovermode": "closest",
                    "mapbox": {
                      "style": "light"
                    },
                    "paper_bgcolor": "white",
                    "plot_bgcolor": "#E5ECF6",
                    "polar": {
                      "angularaxis": {
                        "gridcolor": "white",
                        "linecolor": "white",
                        "ticks": ""
                      },
                      "bgcolor": "#E5ECF6",
                      "radialaxis": {
                        "gridcolor": "white",
                        "linecolor": "white",
                        "ticks": ""
                      }
                    },
                    "scene": {
                      "xaxis": {
                        "backgroundcolor": "#E5ECF6",
                        "gridcolor": "white",
                        "gridwidth": 2,
                        "linecolor": "white",
                        "showbackground": true,
                        "ticks": "",
                        "zerolinecolor": "white"
                      },
                      "yaxis": {
                        "backgroundcolor": "#E5ECF6",
                        "gridcolor": "white",
                        "gridwidth": 2,
                        "linecolor": "white",
                        "showbackground": true,
                        "ticks": "",
                        "zerolinecolor": "white"
                      },
                      "zaxis": {
                        "backgroundcolor": "#E5ECF6",
                        "gridcolor": "white",
                        "gridwidth": 2,
                        "linecolor": "white",
                        "showbackground": true,
                        "ticks": "",
                        "zerolinecolor": "white"
                      }
                    },
                    "shapedefaults": {
                      "line": {
                        "color": "#2a3f5f"
                      }
                    },
                    "ternary": {
                      "aaxis": {
                        "gridcolor": "white",
                        "linecolor": "white",
                        "ticks": ""
                      },
                      "baxis": {
                        "gridcolor": "white",
                        "linecolor": "white",
                        "ticks": ""
                      },
                      "bgcolor": "#E5ECF6",
                      "caxis": {
                        "gridcolor": "white",
                        "linecolor": "white",
                        "ticks": ""
                      }
                    },
                    "title": {
                      "x": 0.05
                    },
                    "xaxis": {
                      "automargin": true,
                      "gridcolor": "white",
                      "linecolor": "white",
                      "ticks": "",
                      "title": {
                        "standoff": 15
                      },
                      "zerolinecolor": "white",
                      "zerolinewidth": 2
                    },
                    "yaxis": {
                      "automargin": true,
                      "gridcolor": "white",
                      "linecolor": "white",
                      "ticks": "",
                      "title": {
                        "standoff": 15
                      },
                      "zerolinecolor": "white",
                      "zerolinewidth": 2
                    }
                  }
                },
                "title": {
                  "text": "Number of Launches per Organization"
                },
                "xaxis": {
                  "anchor": "y",
                  "domain": [
                    0,
                    1
                  ],
                  "title": {
                    "text": "Number of Launches"
                  }
                },
                "yaxis": {
                  "anchor": "x",
                  "domain": [
                    0,
                    1
                  ],
                  "tickfont": {
                    "size": 10
                  },
                  "title": {
                    "text": "Organisation name"
                  }
                }
              }
            }
          },
          "metadata": {},
          "output_type": "display_data"
        },
        {
          "data": {
            "text/plain": [
              "<Figure size 2800x1600 with 0 Axes>"
            ]
          },
          "metadata": {},
          "output_type": "display_data"
        }
      ],
      "source": [
        "\n",
        "plt.figure(figsize=(14,8),dpi=200)\n",
        "bar= px.bar(launchesorgs, \n",
        "             x=launchesorgs.values, \n",
        "             y=launchesorgs.index, \n",
        "             orientation='h', \n",
        "             title='Number of Launches per Organization',\n",
        "             color=launchesorgs.values,\n",
        "             color_continuous_scale='Electric')\n",
        "bar.update_layout(coloraxis_showscale=False, xaxis_title = \"Number of Launches\", yaxis_title='Organisation name')\n",
        "bar.update_layout(yaxis=dict(tickfont=dict(size=10)))\n",
        "bar.show()\n"
      ]
    },
    {
      "cell_type": "markdown",
      "metadata": {
        "id": "7Gwteht2kR_h"
      },
      "source": [
        "# Number of Active versus Retired Rockets\n",
        "\n",
        "How many rockets are active compared to those that are decomissioned? "
      ]
    },
    {
      "cell_type": "code",
      "execution_count": 183,
      "metadata": {
        "id": "SxmOWS9cmTq6"
      },
      "outputs": [
        {
          "data": {
            "text/plain": [
              "StatusActive      789\n",
              "StatusRetired    3534\n",
              "Name: Rocket_Status, dtype: int64"
            ]
          },
          "execution_count": 183,
          "metadata": {},
          "output_type": "execute_result"
        }
      ],
      "source": [
        "activevsretired= spacedf['Rocket_Status'].value_counts().sort_values()\n",
        "activevsretired"
      ]
    },
    {
      "cell_type": "code",
      "execution_count": 184,
      "metadata": {
        "id": "ydj0-OZ6mToH"
      },
      "outputs": [
        {
          "data": {
            "application/vnd.plotly.v1+json": {
              "config": {
                "plotlyServerURL": "https://plot.ly"
              },
              "data": [
                {
                  "alignmentgroup": "True",
                  "hovertemplate": "index=%{x}<br>y=%{y}<br>color=%{marker.color}<extra></extra>",
                  "legendgroup": "",
                  "marker": {
                    "color": [
                      789,
                      3534
                    ],
                    "coloraxis": "coloraxis",
                    "pattern": {
                      "shape": ""
                    }
                  },
                  "name": "",
                  "offsetgroup": "",
                  "orientation": "v",
                  "showlegend": false,
                  "textposition": "auto",
                  "type": "bar",
                  "x": [
                    "StatusActive",
                    "StatusRetired"
                  ],
                  "xaxis": "x",
                  "y": [
                    789,
                    3534
                  ],
                  "yaxis": "y"
                }
              ],
              "layout": {
                "barmode": "relative",
                "coloraxis": {
                  "colorbar": {
                    "title": {
                      "text": "color"
                    }
                  },
                  "colorscale": [
                    [
                      0,
                      "rgb(12,51,131)"
                    ],
                    [
                      0.25,
                      "rgb(10,136,186)"
                    ],
                    [
                      0.5,
                      "rgb(242,211,56)"
                    ],
                    [
                      0.75,
                      "rgb(242,143,56)"
                    ],
                    [
                      1,
                      "rgb(217,30,30)"
                    ]
                  ],
                  "showscale": false
                },
                "legend": {
                  "tracegroupgap": 0
                },
                "margin": {
                  "t": 60
                },
                "template": {
                  "data": {
                    "bar": [
                      {
                        "error_x": {
                          "color": "#2a3f5f"
                        },
                        "error_y": {
                          "color": "#2a3f5f"
                        },
                        "marker": {
                          "line": {
                            "color": "#E5ECF6",
                            "width": 0.5
                          },
                          "pattern": {
                            "fillmode": "overlay",
                            "size": 10,
                            "solidity": 0.2
                          }
                        },
                        "type": "bar"
                      }
                    ],
                    "barpolar": [
                      {
                        "marker": {
                          "line": {
                            "color": "#E5ECF6",
                            "width": 0.5
                          },
                          "pattern": {
                            "fillmode": "overlay",
                            "size": 10,
                            "solidity": 0.2
                          }
                        },
                        "type": "barpolar"
                      }
                    ],
                    "carpet": [
                      {
                        "aaxis": {
                          "endlinecolor": "#2a3f5f",
                          "gridcolor": "white",
                          "linecolor": "white",
                          "minorgridcolor": "white",
                          "startlinecolor": "#2a3f5f"
                        },
                        "baxis": {
                          "endlinecolor": "#2a3f5f",
                          "gridcolor": "white",
                          "linecolor": "white",
                          "minorgridcolor": "white",
                          "startlinecolor": "#2a3f5f"
                        },
                        "type": "carpet"
                      }
                    ],
                    "choropleth": [
                      {
                        "colorbar": {
                          "outlinewidth": 0,
                          "ticks": ""
                        },
                        "type": "choropleth"
                      }
                    ],
                    "contour": [
                      {
                        "colorbar": {
                          "outlinewidth": 0,
                          "ticks": ""
                        },
                        "colorscale": [
                          [
                            0,
                            "#0d0887"
                          ],
                          [
                            0.1111111111111111,
                            "#46039f"
                          ],
                          [
                            0.2222222222222222,
                            "#7201a8"
                          ],
                          [
                            0.3333333333333333,
                            "#9c179e"
                          ],
                          [
                            0.4444444444444444,
                            "#bd3786"
                          ],
                          [
                            0.5555555555555556,
                            "#d8576b"
                          ],
                          [
                            0.6666666666666666,
                            "#ed7953"
                          ],
                          [
                            0.7777777777777778,
                            "#fb9f3a"
                          ],
                          [
                            0.8888888888888888,
                            "#fdca26"
                          ],
                          [
                            1,
                            "#f0f921"
                          ]
                        ],
                        "type": "contour"
                      }
                    ],
                    "contourcarpet": [
                      {
                        "colorbar": {
                          "outlinewidth": 0,
                          "ticks": ""
                        },
                        "type": "contourcarpet"
                      }
                    ],
                    "heatmap": [
                      {
                        "colorbar": {
                          "outlinewidth": 0,
                          "ticks": ""
                        },
                        "colorscale": [
                          [
                            0,
                            "#0d0887"
                          ],
                          [
                            0.1111111111111111,
                            "#46039f"
                          ],
                          [
                            0.2222222222222222,
                            "#7201a8"
                          ],
                          [
                            0.3333333333333333,
                            "#9c179e"
                          ],
                          [
                            0.4444444444444444,
                            "#bd3786"
                          ],
                          [
                            0.5555555555555556,
                            "#d8576b"
                          ],
                          [
                            0.6666666666666666,
                            "#ed7953"
                          ],
                          [
                            0.7777777777777778,
                            "#fb9f3a"
                          ],
                          [
                            0.8888888888888888,
                            "#fdca26"
                          ],
                          [
                            1,
                            "#f0f921"
                          ]
                        ],
                        "type": "heatmap"
                      }
                    ],
                    "heatmapgl": [
                      {
                        "colorbar": {
                          "outlinewidth": 0,
                          "ticks": ""
                        },
                        "colorscale": [
                          [
                            0,
                            "#0d0887"
                          ],
                          [
                            0.1111111111111111,
                            "#46039f"
                          ],
                          [
                            0.2222222222222222,
                            "#7201a8"
                          ],
                          [
                            0.3333333333333333,
                            "#9c179e"
                          ],
                          [
                            0.4444444444444444,
                            "#bd3786"
                          ],
                          [
                            0.5555555555555556,
                            "#d8576b"
                          ],
                          [
                            0.6666666666666666,
                            "#ed7953"
                          ],
                          [
                            0.7777777777777778,
                            "#fb9f3a"
                          ],
                          [
                            0.8888888888888888,
                            "#fdca26"
                          ],
                          [
                            1,
                            "#f0f921"
                          ]
                        ],
                        "type": "heatmapgl"
                      }
                    ],
                    "histogram": [
                      {
                        "marker": {
                          "pattern": {
                            "fillmode": "overlay",
                            "size": 10,
                            "solidity": 0.2
                          }
                        },
                        "type": "histogram"
                      }
                    ],
                    "histogram2d": [
                      {
                        "colorbar": {
                          "outlinewidth": 0,
                          "ticks": ""
                        },
                        "colorscale": [
                          [
                            0,
                            "#0d0887"
                          ],
                          [
                            0.1111111111111111,
                            "#46039f"
                          ],
                          [
                            0.2222222222222222,
                            "#7201a8"
                          ],
                          [
                            0.3333333333333333,
                            "#9c179e"
                          ],
                          [
                            0.4444444444444444,
                            "#bd3786"
                          ],
                          [
                            0.5555555555555556,
                            "#d8576b"
                          ],
                          [
                            0.6666666666666666,
                            "#ed7953"
                          ],
                          [
                            0.7777777777777778,
                            "#fb9f3a"
                          ],
                          [
                            0.8888888888888888,
                            "#fdca26"
                          ],
                          [
                            1,
                            "#f0f921"
                          ]
                        ],
                        "type": "histogram2d"
                      }
                    ],
                    "histogram2dcontour": [
                      {
                        "colorbar": {
                          "outlinewidth": 0,
                          "ticks": ""
                        },
                        "colorscale": [
                          [
                            0,
                            "#0d0887"
                          ],
                          [
                            0.1111111111111111,
                            "#46039f"
                          ],
                          [
                            0.2222222222222222,
                            "#7201a8"
                          ],
                          [
                            0.3333333333333333,
                            "#9c179e"
                          ],
                          [
                            0.4444444444444444,
                            "#bd3786"
                          ],
                          [
                            0.5555555555555556,
                            "#d8576b"
                          ],
                          [
                            0.6666666666666666,
                            "#ed7953"
                          ],
                          [
                            0.7777777777777778,
                            "#fb9f3a"
                          ],
                          [
                            0.8888888888888888,
                            "#fdca26"
                          ],
                          [
                            1,
                            "#f0f921"
                          ]
                        ],
                        "type": "histogram2dcontour"
                      }
                    ],
                    "mesh3d": [
                      {
                        "colorbar": {
                          "outlinewidth": 0,
                          "ticks": ""
                        },
                        "type": "mesh3d"
                      }
                    ],
                    "parcoords": [
                      {
                        "line": {
                          "colorbar": {
                            "outlinewidth": 0,
                            "ticks": ""
                          }
                        },
                        "type": "parcoords"
                      }
                    ],
                    "pie": [
                      {
                        "automargin": true,
                        "type": "pie"
                      }
                    ],
                    "scatter": [
                      {
                        "fillpattern": {
                          "fillmode": "overlay",
                          "size": 10,
                          "solidity": 0.2
                        },
                        "type": "scatter"
                      }
                    ],
                    "scatter3d": [
                      {
                        "line": {
                          "colorbar": {
                            "outlinewidth": 0,
                            "ticks": ""
                          }
                        },
                        "marker": {
                          "colorbar": {
                            "outlinewidth": 0,
                            "ticks": ""
                          }
                        },
                        "type": "scatter3d"
                      }
                    ],
                    "scattercarpet": [
                      {
                        "marker": {
                          "colorbar": {
                            "outlinewidth": 0,
                            "ticks": ""
                          }
                        },
                        "type": "scattercarpet"
                      }
                    ],
                    "scattergeo": [
                      {
                        "marker": {
                          "colorbar": {
                            "outlinewidth": 0,
                            "ticks": ""
                          }
                        },
                        "type": "scattergeo"
                      }
                    ],
                    "scattergl": [
                      {
                        "marker": {
                          "colorbar": {
                            "outlinewidth": 0,
                            "ticks": ""
                          }
                        },
                        "type": "scattergl"
                      }
                    ],
                    "scattermapbox": [
                      {
                        "marker": {
                          "colorbar": {
                            "outlinewidth": 0,
                            "ticks": ""
                          }
                        },
                        "type": "scattermapbox"
                      }
                    ],
                    "scatterpolar": [
                      {
                        "marker": {
                          "colorbar": {
                            "outlinewidth": 0,
                            "ticks": ""
                          }
                        },
                        "type": "scatterpolar"
                      }
                    ],
                    "scatterpolargl": [
                      {
                        "marker": {
                          "colorbar": {
                            "outlinewidth": 0,
                            "ticks": ""
                          }
                        },
                        "type": "scatterpolargl"
                      }
                    ],
                    "scatterternary": [
                      {
                        "marker": {
                          "colorbar": {
                            "outlinewidth": 0,
                            "ticks": ""
                          }
                        },
                        "type": "scatterternary"
                      }
                    ],
                    "surface": [
                      {
                        "colorbar": {
                          "outlinewidth": 0,
                          "ticks": ""
                        },
                        "colorscale": [
                          [
                            0,
                            "#0d0887"
                          ],
                          [
                            0.1111111111111111,
                            "#46039f"
                          ],
                          [
                            0.2222222222222222,
                            "#7201a8"
                          ],
                          [
                            0.3333333333333333,
                            "#9c179e"
                          ],
                          [
                            0.4444444444444444,
                            "#bd3786"
                          ],
                          [
                            0.5555555555555556,
                            "#d8576b"
                          ],
                          [
                            0.6666666666666666,
                            "#ed7953"
                          ],
                          [
                            0.7777777777777778,
                            "#fb9f3a"
                          ],
                          [
                            0.8888888888888888,
                            "#fdca26"
                          ],
                          [
                            1,
                            "#f0f921"
                          ]
                        ],
                        "type": "surface"
                      }
                    ],
                    "table": [
                      {
                        "cells": {
                          "fill": {
                            "color": "#EBF0F8"
                          },
                          "line": {
                            "color": "white"
                          }
                        },
                        "header": {
                          "fill": {
                            "color": "#C8D4E3"
                          },
                          "line": {
                            "color": "white"
                          }
                        },
                        "type": "table"
                      }
                    ]
                  },
                  "layout": {
                    "annotationdefaults": {
                      "arrowcolor": "#2a3f5f",
                      "arrowhead": 0,
                      "arrowwidth": 1
                    },
                    "autotypenumbers": "strict",
                    "coloraxis": {
                      "colorbar": {
                        "outlinewidth": 0,
                        "ticks": ""
                      }
                    },
                    "colorscale": {
                      "diverging": [
                        [
                          0,
                          "#8e0152"
                        ],
                        [
                          0.1,
                          "#c51b7d"
                        ],
                        [
                          0.2,
                          "#de77ae"
                        ],
                        [
                          0.3,
                          "#f1b6da"
                        ],
                        [
                          0.4,
                          "#fde0ef"
                        ],
                        [
                          0.5,
                          "#f7f7f7"
                        ],
                        [
                          0.6,
                          "#e6f5d0"
                        ],
                        [
                          0.7,
                          "#b8e186"
                        ],
                        [
                          0.8,
                          "#7fbc41"
                        ],
                        [
                          0.9,
                          "#4d9221"
                        ],
                        [
                          1,
                          "#276419"
                        ]
                      ],
                      "sequential": [
                        [
                          0,
                          "#0d0887"
                        ],
                        [
                          0.1111111111111111,
                          "#46039f"
                        ],
                        [
                          0.2222222222222222,
                          "#7201a8"
                        ],
                        [
                          0.3333333333333333,
                          "#9c179e"
                        ],
                        [
                          0.4444444444444444,
                          "#bd3786"
                        ],
                        [
                          0.5555555555555556,
                          "#d8576b"
                        ],
                        [
                          0.6666666666666666,
                          "#ed7953"
                        ],
                        [
                          0.7777777777777778,
                          "#fb9f3a"
                        ],
                        [
                          0.8888888888888888,
                          "#fdca26"
                        ],
                        [
                          1,
                          "#f0f921"
                        ]
                      ],
                      "sequentialminus": [
                        [
                          0,
                          "#0d0887"
                        ],
                        [
                          0.1111111111111111,
                          "#46039f"
                        ],
                        [
                          0.2222222222222222,
                          "#7201a8"
                        ],
                        [
                          0.3333333333333333,
                          "#9c179e"
                        ],
                        [
                          0.4444444444444444,
                          "#bd3786"
                        ],
                        [
                          0.5555555555555556,
                          "#d8576b"
                        ],
                        [
                          0.6666666666666666,
                          "#ed7953"
                        ],
                        [
                          0.7777777777777778,
                          "#fb9f3a"
                        ],
                        [
                          0.8888888888888888,
                          "#fdca26"
                        ],
                        [
                          1,
                          "#f0f921"
                        ]
                      ]
                    },
                    "colorway": [
                      "#636efa",
                      "#EF553B",
                      "#00cc96",
                      "#ab63fa",
                      "#FFA15A",
                      "#19d3f3",
                      "#FF6692",
                      "#B6E880",
                      "#FF97FF",
                      "#FECB52"
                    ],
                    "font": {
                      "color": "#2a3f5f"
                    },
                    "geo": {
                      "bgcolor": "white",
                      "lakecolor": "white",
                      "landcolor": "#E5ECF6",
                      "showlakes": true,
                      "showland": true,
                      "subunitcolor": "white"
                    },
                    "hoverlabel": {
                      "align": "left"
                    },
                    "hovermode": "closest",
                    "mapbox": {
                      "style": "light"
                    },
                    "paper_bgcolor": "white",
                    "plot_bgcolor": "#E5ECF6",
                    "polar": {
                      "angularaxis": {
                        "gridcolor": "white",
                        "linecolor": "white",
                        "ticks": ""
                      },
                      "bgcolor": "#E5ECF6",
                      "radialaxis": {
                        "gridcolor": "white",
                        "linecolor": "white",
                        "ticks": ""
                      }
                    },
                    "scene": {
                      "xaxis": {
                        "backgroundcolor": "#E5ECF6",
                        "gridcolor": "white",
                        "gridwidth": 2,
                        "linecolor": "white",
                        "showbackground": true,
                        "ticks": "",
                        "zerolinecolor": "white"
                      },
                      "yaxis": {
                        "backgroundcolor": "#E5ECF6",
                        "gridcolor": "white",
                        "gridwidth": 2,
                        "linecolor": "white",
                        "showbackground": true,
                        "ticks": "",
                        "zerolinecolor": "white"
                      },
                      "zaxis": {
                        "backgroundcolor": "#E5ECF6",
                        "gridcolor": "white",
                        "gridwidth": 2,
                        "linecolor": "white",
                        "showbackground": true,
                        "ticks": "",
                        "zerolinecolor": "white"
                      }
                    },
                    "shapedefaults": {
                      "line": {
                        "color": "#2a3f5f"
                      }
                    },
                    "ternary": {
                      "aaxis": {
                        "gridcolor": "white",
                        "linecolor": "white",
                        "ticks": ""
                      },
                      "baxis": {
                        "gridcolor": "white",
                        "linecolor": "white",
                        "ticks": ""
                      },
                      "bgcolor": "#E5ECF6",
                      "caxis": {
                        "gridcolor": "white",
                        "linecolor": "white",
                        "ticks": ""
                      }
                    },
                    "title": {
                      "x": 0.05
                    },
                    "xaxis": {
                      "automargin": true,
                      "gridcolor": "white",
                      "linecolor": "white",
                      "ticks": "",
                      "title": {
                        "standoff": 15
                      },
                      "zerolinecolor": "white",
                      "zerolinewidth": 2
                    },
                    "yaxis": {
                      "automargin": true,
                      "gridcolor": "white",
                      "linecolor": "white",
                      "ticks": "",
                      "title": {
                        "standoff": 15
                      },
                      "zerolinecolor": "white",
                      "zerolinewidth": 2
                    }
                  }
                },
                "xaxis": {
                  "anchor": "y",
                  "domain": [
                    0,
                    1
                  ],
                  "ticktext": [
                    "Active",
                    "Retired"
                  ],
                  "tickvals": [
                    0,
                    1
                  ],
                  "title": {
                    "text": "Active vs retired rockets"
                  }
                },
                "yaxis": {
                  "anchor": "x",
                  "domain": [
                    0,
                    1
                  ],
                  "title": {
                    "text": "Number of Rockets"
                  }
                }
              }
            }
          },
          "metadata": {},
          "output_type": "display_data"
        },
        {
          "data": {
            "text/plain": [
              "<Figure size 2800x1600 with 0 Axes>"
            ]
          },
          "metadata": {},
          "output_type": "display_data"
        }
      ],
      "source": [
        "plt.figure(figsize=(14,8),dpi=200)\n",
        "\n",
        "bar = px.bar(data_frame=activevsretired,x=activevsretired.index,\n",
        "             y=activevsretired.values ,\n",
        "             color=activevsretired.values,\n",
        "             color_continuous_scale='portland')\n",
        "bar.update_layout(coloraxis_showscale=False, xaxis_title = \"Active vs retired rockets\", \n",
        "                  yaxis_title='Number of Rockets')\n",
        "\n",
        "bar.update_xaxes(ticktext=['Active', 'Retired'], tickvals=[0, 1])\n",
        "bar.show()\n"
      ]
    },
    {
      "cell_type": "markdown",
      "metadata": {
        "id": "y9WtP5xWkYkp"
      },
      "source": [
        "# Distribution of Mission Status\n",
        "\n",
        "How many missions were successful?\n",
        "How many missions failed?"
      ]
    },
    {
      "cell_type": "code",
      "execution_count": 185,
      "metadata": {
        "id": "83kY1alqmUhb"
      },
      "outputs": [
        {
          "data": {
            "text/plain": [
              "Prelaunch Failure       4\n",
              "Partial Failure       102\n",
              "Failure               339\n",
              "Success              3878\n",
              "Name: Mission_Status, dtype: int64"
            ]
          },
          "execution_count": 185,
          "metadata": {},
          "output_type": "execute_result"
        }
      ],
      "source": [
        "successvsfail = spacedf['Mission_Status'].value_counts().sort_values()\n",
        "successvsfail"
      ]
    },
    {
      "cell_type": "code",
      "execution_count": 186,
      "metadata": {
        "id": "bdmXcaopmUeZ"
      },
      "outputs": [
        {
          "data": {
            "application/vnd.plotly.v1+json": {
              "config": {
                "plotlyServerURL": "https://plot.ly"
              },
              "data": [
                {
                  "alignmentgroup": "True",
                  "hovertemplate": "index=%{x}<br>y=%{y}<br>color=%{marker.color}<extra></extra>",
                  "legendgroup": "",
                  "marker": {
                    "color": [
                      4,
                      102,
                      339,
                      3878
                    ],
                    "coloraxis": "coloraxis",
                    "pattern": {
                      "shape": ""
                    }
                  },
                  "name": "",
                  "offsetgroup": "",
                  "orientation": "v",
                  "showlegend": false,
                  "textposition": "auto",
                  "type": "bar",
                  "x": [
                    "Prelaunch Failure",
                    "Partial Failure",
                    "Failure",
                    "Success"
                  ],
                  "xaxis": "x",
                  "y": [
                    4,
                    102,
                    339,
                    3878
                  ],
                  "yaxis": "y"
                }
              ],
              "layout": {
                "barmode": "relative",
                "coloraxis": {
                  "colorbar": {
                    "title": {
                      "text": "color"
                    }
                  },
                  "colorscale": [
                    [
                      0,
                      "rgb(12,51,131)"
                    ],
                    [
                      0.25,
                      "rgb(10,136,186)"
                    ],
                    [
                      0.5,
                      "rgb(242,211,56)"
                    ],
                    [
                      0.75,
                      "rgb(242,143,56)"
                    ],
                    [
                      1,
                      "rgb(217,30,30)"
                    ]
                  ],
                  "showscale": false
                },
                "legend": {
                  "tracegroupgap": 0
                },
                "margin": {
                  "t": 60
                },
                "template": {
                  "data": {
                    "bar": [
                      {
                        "error_x": {
                          "color": "#2a3f5f"
                        },
                        "error_y": {
                          "color": "#2a3f5f"
                        },
                        "marker": {
                          "line": {
                            "color": "#E5ECF6",
                            "width": 0.5
                          },
                          "pattern": {
                            "fillmode": "overlay",
                            "size": 10,
                            "solidity": 0.2
                          }
                        },
                        "type": "bar"
                      }
                    ],
                    "barpolar": [
                      {
                        "marker": {
                          "line": {
                            "color": "#E5ECF6",
                            "width": 0.5
                          },
                          "pattern": {
                            "fillmode": "overlay",
                            "size": 10,
                            "solidity": 0.2
                          }
                        },
                        "type": "barpolar"
                      }
                    ],
                    "carpet": [
                      {
                        "aaxis": {
                          "endlinecolor": "#2a3f5f",
                          "gridcolor": "white",
                          "linecolor": "white",
                          "minorgridcolor": "white",
                          "startlinecolor": "#2a3f5f"
                        },
                        "baxis": {
                          "endlinecolor": "#2a3f5f",
                          "gridcolor": "white",
                          "linecolor": "white",
                          "minorgridcolor": "white",
                          "startlinecolor": "#2a3f5f"
                        },
                        "type": "carpet"
                      }
                    ],
                    "choropleth": [
                      {
                        "colorbar": {
                          "outlinewidth": 0,
                          "ticks": ""
                        },
                        "type": "choropleth"
                      }
                    ],
                    "contour": [
                      {
                        "colorbar": {
                          "outlinewidth": 0,
                          "ticks": ""
                        },
                        "colorscale": [
                          [
                            0,
                            "#0d0887"
                          ],
                          [
                            0.1111111111111111,
                            "#46039f"
                          ],
                          [
                            0.2222222222222222,
                            "#7201a8"
                          ],
                          [
                            0.3333333333333333,
                            "#9c179e"
                          ],
                          [
                            0.4444444444444444,
                            "#bd3786"
                          ],
                          [
                            0.5555555555555556,
                            "#d8576b"
                          ],
                          [
                            0.6666666666666666,
                            "#ed7953"
                          ],
                          [
                            0.7777777777777778,
                            "#fb9f3a"
                          ],
                          [
                            0.8888888888888888,
                            "#fdca26"
                          ],
                          [
                            1,
                            "#f0f921"
                          ]
                        ],
                        "type": "contour"
                      }
                    ],
                    "contourcarpet": [
                      {
                        "colorbar": {
                          "outlinewidth": 0,
                          "ticks": ""
                        },
                        "type": "contourcarpet"
                      }
                    ],
                    "heatmap": [
                      {
                        "colorbar": {
                          "outlinewidth": 0,
                          "ticks": ""
                        },
                        "colorscale": [
                          [
                            0,
                            "#0d0887"
                          ],
                          [
                            0.1111111111111111,
                            "#46039f"
                          ],
                          [
                            0.2222222222222222,
                            "#7201a8"
                          ],
                          [
                            0.3333333333333333,
                            "#9c179e"
                          ],
                          [
                            0.4444444444444444,
                            "#bd3786"
                          ],
                          [
                            0.5555555555555556,
                            "#d8576b"
                          ],
                          [
                            0.6666666666666666,
                            "#ed7953"
                          ],
                          [
                            0.7777777777777778,
                            "#fb9f3a"
                          ],
                          [
                            0.8888888888888888,
                            "#fdca26"
                          ],
                          [
                            1,
                            "#f0f921"
                          ]
                        ],
                        "type": "heatmap"
                      }
                    ],
                    "heatmapgl": [
                      {
                        "colorbar": {
                          "outlinewidth": 0,
                          "ticks": ""
                        },
                        "colorscale": [
                          [
                            0,
                            "#0d0887"
                          ],
                          [
                            0.1111111111111111,
                            "#46039f"
                          ],
                          [
                            0.2222222222222222,
                            "#7201a8"
                          ],
                          [
                            0.3333333333333333,
                            "#9c179e"
                          ],
                          [
                            0.4444444444444444,
                            "#bd3786"
                          ],
                          [
                            0.5555555555555556,
                            "#d8576b"
                          ],
                          [
                            0.6666666666666666,
                            "#ed7953"
                          ],
                          [
                            0.7777777777777778,
                            "#fb9f3a"
                          ],
                          [
                            0.8888888888888888,
                            "#fdca26"
                          ],
                          [
                            1,
                            "#f0f921"
                          ]
                        ],
                        "type": "heatmapgl"
                      }
                    ],
                    "histogram": [
                      {
                        "marker": {
                          "pattern": {
                            "fillmode": "overlay",
                            "size": 10,
                            "solidity": 0.2
                          }
                        },
                        "type": "histogram"
                      }
                    ],
                    "histogram2d": [
                      {
                        "colorbar": {
                          "outlinewidth": 0,
                          "ticks": ""
                        },
                        "colorscale": [
                          [
                            0,
                            "#0d0887"
                          ],
                          [
                            0.1111111111111111,
                            "#46039f"
                          ],
                          [
                            0.2222222222222222,
                            "#7201a8"
                          ],
                          [
                            0.3333333333333333,
                            "#9c179e"
                          ],
                          [
                            0.4444444444444444,
                            "#bd3786"
                          ],
                          [
                            0.5555555555555556,
                            "#d8576b"
                          ],
                          [
                            0.6666666666666666,
                            "#ed7953"
                          ],
                          [
                            0.7777777777777778,
                            "#fb9f3a"
                          ],
                          [
                            0.8888888888888888,
                            "#fdca26"
                          ],
                          [
                            1,
                            "#f0f921"
                          ]
                        ],
                        "type": "histogram2d"
                      }
                    ],
                    "histogram2dcontour": [
                      {
                        "colorbar": {
                          "outlinewidth": 0,
                          "ticks": ""
                        },
                        "colorscale": [
                          [
                            0,
                            "#0d0887"
                          ],
                          [
                            0.1111111111111111,
                            "#46039f"
                          ],
                          [
                            0.2222222222222222,
                            "#7201a8"
                          ],
                          [
                            0.3333333333333333,
                            "#9c179e"
                          ],
                          [
                            0.4444444444444444,
                            "#bd3786"
                          ],
                          [
                            0.5555555555555556,
                            "#d8576b"
                          ],
                          [
                            0.6666666666666666,
                            "#ed7953"
                          ],
                          [
                            0.7777777777777778,
                            "#fb9f3a"
                          ],
                          [
                            0.8888888888888888,
                            "#fdca26"
                          ],
                          [
                            1,
                            "#f0f921"
                          ]
                        ],
                        "type": "histogram2dcontour"
                      }
                    ],
                    "mesh3d": [
                      {
                        "colorbar": {
                          "outlinewidth": 0,
                          "ticks": ""
                        },
                        "type": "mesh3d"
                      }
                    ],
                    "parcoords": [
                      {
                        "line": {
                          "colorbar": {
                            "outlinewidth": 0,
                            "ticks": ""
                          }
                        },
                        "type": "parcoords"
                      }
                    ],
                    "pie": [
                      {
                        "automargin": true,
                        "type": "pie"
                      }
                    ],
                    "scatter": [
                      {
                        "fillpattern": {
                          "fillmode": "overlay",
                          "size": 10,
                          "solidity": 0.2
                        },
                        "type": "scatter"
                      }
                    ],
                    "scatter3d": [
                      {
                        "line": {
                          "colorbar": {
                            "outlinewidth": 0,
                            "ticks": ""
                          }
                        },
                        "marker": {
                          "colorbar": {
                            "outlinewidth": 0,
                            "ticks": ""
                          }
                        },
                        "type": "scatter3d"
                      }
                    ],
                    "scattercarpet": [
                      {
                        "marker": {
                          "colorbar": {
                            "outlinewidth": 0,
                            "ticks": ""
                          }
                        },
                        "type": "scattercarpet"
                      }
                    ],
                    "scattergeo": [
                      {
                        "marker": {
                          "colorbar": {
                            "outlinewidth": 0,
                            "ticks": ""
                          }
                        },
                        "type": "scattergeo"
                      }
                    ],
                    "scattergl": [
                      {
                        "marker": {
                          "colorbar": {
                            "outlinewidth": 0,
                            "ticks": ""
                          }
                        },
                        "type": "scattergl"
                      }
                    ],
                    "scattermapbox": [
                      {
                        "marker": {
                          "colorbar": {
                            "outlinewidth": 0,
                            "ticks": ""
                          }
                        },
                        "type": "scattermapbox"
                      }
                    ],
                    "scatterpolar": [
                      {
                        "marker": {
                          "colorbar": {
                            "outlinewidth": 0,
                            "ticks": ""
                          }
                        },
                        "type": "scatterpolar"
                      }
                    ],
                    "scatterpolargl": [
                      {
                        "marker": {
                          "colorbar": {
                            "outlinewidth": 0,
                            "ticks": ""
                          }
                        },
                        "type": "scatterpolargl"
                      }
                    ],
                    "scatterternary": [
                      {
                        "marker": {
                          "colorbar": {
                            "outlinewidth": 0,
                            "ticks": ""
                          }
                        },
                        "type": "scatterternary"
                      }
                    ],
                    "surface": [
                      {
                        "colorbar": {
                          "outlinewidth": 0,
                          "ticks": ""
                        },
                        "colorscale": [
                          [
                            0,
                            "#0d0887"
                          ],
                          [
                            0.1111111111111111,
                            "#46039f"
                          ],
                          [
                            0.2222222222222222,
                            "#7201a8"
                          ],
                          [
                            0.3333333333333333,
                            "#9c179e"
                          ],
                          [
                            0.4444444444444444,
                            "#bd3786"
                          ],
                          [
                            0.5555555555555556,
                            "#d8576b"
                          ],
                          [
                            0.6666666666666666,
                            "#ed7953"
                          ],
                          [
                            0.7777777777777778,
                            "#fb9f3a"
                          ],
                          [
                            0.8888888888888888,
                            "#fdca26"
                          ],
                          [
                            1,
                            "#f0f921"
                          ]
                        ],
                        "type": "surface"
                      }
                    ],
                    "table": [
                      {
                        "cells": {
                          "fill": {
                            "color": "#EBF0F8"
                          },
                          "line": {
                            "color": "white"
                          }
                        },
                        "header": {
                          "fill": {
                            "color": "#C8D4E3"
                          },
                          "line": {
                            "color": "white"
                          }
                        },
                        "type": "table"
                      }
                    ]
                  },
                  "layout": {
                    "annotationdefaults": {
                      "arrowcolor": "#2a3f5f",
                      "arrowhead": 0,
                      "arrowwidth": 1
                    },
                    "autotypenumbers": "strict",
                    "coloraxis": {
                      "colorbar": {
                        "outlinewidth": 0,
                        "ticks": ""
                      }
                    },
                    "colorscale": {
                      "diverging": [
                        [
                          0,
                          "#8e0152"
                        ],
                        [
                          0.1,
                          "#c51b7d"
                        ],
                        [
                          0.2,
                          "#de77ae"
                        ],
                        [
                          0.3,
                          "#f1b6da"
                        ],
                        [
                          0.4,
                          "#fde0ef"
                        ],
                        [
                          0.5,
                          "#f7f7f7"
                        ],
                        [
                          0.6,
                          "#e6f5d0"
                        ],
                        [
                          0.7,
                          "#b8e186"
                        ],
                        [
                          0.8,
                          "#7fbc41"
                        ],
                        [
                          0.9,
                          "#4d9221"
                        ],
                        [
                          1,
                          "#276419"
                        ]
                      ],
                      "sequential": [
                        [
                          0,
                          "#0d0887"
                        ],
                        [
                          0.1111111111111111,
                          "#46039f"
                        ],
                        [
                          0.2222222222222222,
                          "#7201a8"
                        ],
                        [
                          0.3333333333333333,
                          "#9c179e"
                        ],
                        [
                          0.4444444444444444,
                          "#bd3786"
                        ],
                        [
                          0.5555555555555556,
                          "#d8576b"
                        ],
                        [
                          0.6666666666666666,
                          "#ed7953"
                        ],
                        [
                          0.7777777777777778,
                          "#fb9f3a"
                        ],
                        [
                          0.8888888888888888,
                          "#fdca26"
                        ],
                        [
                          1,
                          "#f0f921"
                        ]
                      ],
                      "sequentialminus": [
                        [
                          0,
                          "#0d0887"
                        ],
                        [
                          0.1111111111111111,
                          "#46039f"
                        ],
                        [
                          0.2222222222222222,
                          "#7201a8"
                        ],
                        [
                          0.3333333333333333,
                          "#9c179e"
                        ],
                        [
                          0.4444444444444444,
                          "#bd3786"
                        ],
                        [
                          0.5555555555555556,
                          "#d8576b"
                        ],
                        [
                          0.6666666666666666,
                          "#ed7953"
                        ],
                        [
                          0.7777777777777778,
                          "#fb9f3a"
                        ],
                        [
                          0.8888888888888888,
                          "#fdca26"
                        ],
                        [
                          1,
                          "#f0f921"
                        ]
                      ]
                    },
                    "colorway": [
                      "#636efa",
                      "#EF553B",
                      "#00cc96",
                      "#ab63fa",
                      "#FFA15A",
                      "#19d3f3",
                      "#FF6692",
                      "#B6E880",
                      "#FF97FF",
                      "#FECB52"
                    ],
                    "font": {
                      "color": "#2a3f5f"
                    },
                    "geo": {
                      "bgcolor": "white",
                      "lakecolor": "white",
                      "landcolor": "#E5ECF6",
                      "showlakes": true,
                      "showland": true,
                      "subunitcolor": "white"
                    },
                    "hoverlabel": {
                      "align": "left"
                    },
                    "hovermode": "closest",
                    "mapbox": {
                      "style": "light"
                    },
                    "paper_bgcolor": "white",
                    "plot_bgcolor": "#E5ECF6",
                    "polar": {
                      "angularaxis": {
                        "gridcolor": "white",
                        "linecolor": "white",
                        "ticks": ""
                      },
                      "bgcolor": "#E5ECF6",
                      "radialaxis": {
                        "gridcolor": "white",
                        "linecolor": "white",
                        "ticks": ""
                      }
                    },
                    "scene": {
                      "xaxis": {
                        "backgroundcolor": "#E5ECF6",
                        "gridcolor": "white",
                        "gridwidth": 2,
                        "linecolor": "white",
                        "showbackground": true,
                        "ticks": "",
                        "zerolinecolor": "white"
                      },
                      "yaxis": {
                        "backgroundcolor": "#E5ECF6",
                        "gridcolor": "white",
                        "gridwidth": 2,
                        "linecolor": "white",
                        "showbackground": true,
                        "ticks": "",
                        "zerolinecolor": "white"
                      },
                      "zaxis": {
                        "backgroundcolor": "#E5ECF6",
                        "gridcolor": "white",
                        "gridwidth": 2,
                        "linecolor": "white",
                        "showbackground": true,
                        "ticks": "",
                        "zerolinecolor": "white"
                      }
                    },
                    "shapedefaults": {
                      "line": {
                        "color": "#2a3f5f"
                      }
                    },
                    "ternary": {
                      "aaxis": {
                        "gridcolor": "white",
                        "linecolor": "white",
                        "ticks": ""
                      },
                      "baxis": {
                        "gridcolor": "white",
                        "linecolor": "white",
                        "ticks": ""
                      },
                      "bgcolor": "#E5ECF6",
                      "caxis": {
                        "gridcolor": "white",
                        "linecolor": "white",
                        "ticks": ""
                      }
                    },
                    "title": {
                      "x": 0.05
                    },
                    "xaxis": {
                      "automargin": true,
                      "gridcolor": "white",
                      "linecolor": "white",
                      "ticks": "",
                      "title": {
                        "standoff": 15
                      },
                      "zerolinecolor": "white",
                      "zerolinewidth": 2
                    },
                    "yaxis": {
                      "automargin": true,
                      "gridcolor": "white",
                      "linecolor": "white",
                      "ticks": "",
                      "title": {
                        "standoff": 15
                      },
                      "zerolinecolor": "white",
                      "zerolinewidth": 2
                    }
                  }
                },
                "xaxis": {
                  "anchor": "y",
                  "domain": [
                    0,
                    1
                  ],
                  "ticktext": [
                    "Prelaunch Failure",
                    "Partial Failure",
                    "Failure",
                    "Success"
                  ],
                  "tickvals": [
                    0,
                    1,
                    2,
                    3
                  ],
                  "title": {
                    "text": "Active vs retired rockets"
                  }
                },
                "yaxis": {
                  "anchor": "x",
                  "domain": [
                    0,
                    1
                  ],
                  "title": {
                    "text": "Number of Rockets"
                  },
                  "type": "log"
                }
              }
            }
          },
          "metadata": {},
          "output_type": "display_data"
        },
        {
          "data": {
            "text/plain": [
              "<Figure size 2800x1600 with 0 Axes>"
            ]
          },
          "metadata": {},
          "output_type": "display_data"
        }
      ],
      "source": [
        "plt.figure(figsize=(14,8),dpi=200)\n",
        "\n",
        "bar = px.bar(data_frame=successvsfail,x=successvsfail.index,\n",
        "             y=successvsfail.values ,\n",
        "             color=successvsfail.values,\n",
        "             color_continuous_scale='portland',\n",
        "             log_y=True)\n",
        "bar.update_layout(coloraxis_showscale=False, xaxis_title = \"Active vs retired rockets\", \n",
        "                  yaxis_title='Number of Rockets')\n",
        "\n",
        "bar.update_xaxes(ticktext=['Prelaunch Failure', 'Partial Failure', 'Failure', 'Success'], tickvals=[0, 1,2,3])\n",
        "bar.show()"
      ]
    },
    {
      "cell_type": "markdown",
      "metadata": {
        "id": "jgTCihuoa-qH",
        "papermill": {
          "duration": 0.03854,
          "end_time": "2020-10-20T21:34:05.968626",
          "exception": false,
          "start_time": "2020-10-20T21:34:05.930086",
          "status": "completed"
        },
        "tags": []
      },
      "source": [
        "# How Expensive are the Launches? \n",
        "\n",
        "Create a histogram and visualise the distribution. The price column is given in USD millions (careful of missing values). "
      ]
    },
    {
      "cell_type": "code",
      "execution_count": 187,
      "metadata": {
        "id": "PLOMhzZFnSCO"
      },
      "outputs": [
        {
          "data": {
            "text/plain": [
              "3683    1,160.0\n",
              "3149    1,160.0\n",
              "3180    1,160.0\n",
              "3243    1,160.0\n",
              "3384    1,160.0\n",
              "         ...   \n",
              "510        90.0\n",
              "365        90.0\n",
              "146        90.0\n",
              "236        90.0\n",
              "569        90.0\n",
              "Name: Price, Length: 963, dtype: object"
            ]
          },
          "execution_count": 187,
          "metadata": {},
          "output_type": "execute_result"
        }
      ],
      "source": [
        "prices = spacedf['Price'].dropna().sort_values()\n",
        "prices"
      ]
    },
    {
      "cell_type": "code",
      "execution_count": 188,
      "metadata": {
        "id": "ru0IcY4nnSFU"
      },
      "outputs": [
        {
          "data": {
            "application/vnd.plotly.v1+json": {
              "config": {
                "plotlyServerURL": "https://plot.ly"
              },
              "data": [
                {
                  "alignmentgroup": "True",
                  "bingroup": "x",
                  "hovertemplate": "x=%{x}<br>count=%{y}<extra></extra>",
                  "legendgroup": "",
                  "marker": {
                    "color": "#636efa",
                    "pattern": {
                      "shape": ""
                    }
                  },
                  "name": "",
                  "nbinsx": 20,
                  "offsetgroup": "",
                  "orientation": "v",
                  "showlegend": false,
                  "type": "histogram",
                  "x": [
                    "1,160.0",
                    "1,160.0",
                    "1,160.0",
                    "1,160.0",
                    "1,160.0",
                    "1,160.0",
                    "1,160.0",
                    "1,160.0",
                    "1,160.0",
                    "1,160.0",
                    "1,160.0",
                    "1,160.0",
                    "1,160.0",
                    "109.0",
                    "109.0",
                    "109.0",
                    "109.0",
                    "109.0",
                    "109.0",
                    "109.0",
                    "109.0",
                    "109.0",
                    "109.0",
                    "109.0",
                    "109.0",
                    "109.0",
                    "109.0",
                    "109.0",
                    "109.0",
                    "109.0",
                    "109.0",
                    "109.0",
                    "109.0",
                    "109.0",
                    "109.0",
                    "109.0",
                    "109.0",
                    "109.0",
                    "109.0",
                    "109.0",
                    "109.0",
                    "109.0",
                    "109.0",
                    "109.0",
                    "109.0",
                    "109.0",
                    "109.0",
                    "109.0",
                    "109.0",
                    "109.0",
                    "112.5",
                    "112.5",
                    "112.5",
                    "112.5",
                    "112.5",
                    "112.5",
                    "112.5",
                    "112.5",
                    "112.5",
                    "115.0",
                    "115.0",
                    "115.0",
                    "115.0",
                    "115.0",
                    "115.0",
                    "12.0",
                    "120.0",
                    "120.0",
                    "120.0",
                    "120.0",
                    "120.0",
                    "120.0",
                    "120.0",
                    "123.0",
                    "123.0",
                    "123.0",
                    "123.0",
                    "123.0",
                    "123.0",
                    "123.0",
                    "123.0",
                    "130.0",
                    "130.0",
                    "130.0",
                    "133.0",
                    "133.0",
                    "133.0",
                    "135.0",
                    "135.0",
                    "136.6",
                    "136.6",
                    "136.6",
                    "136.6",
                    "140.0",
                    "140.0",
                    "140.0",
                    "145.0",
                    "145.0",
                    "145.0",
                    "145.0",
                    "145.0",
                    "145.0",
                    "145.0",
                    "15.0",
                    "153.0",
                    "153.0",
                    "153.0",
                    "153.0",
                    "153.0",
                    "153.0",
                    "153.0",
                    "153.0",
                    "153.0",
                    "153.0",
                    "153.0",
                    "164.0",
                    "164.0",
                    "164.0",
                    "164.0",
                    "164.0",
                    "164.0",
                    "164.0",
                    "164.0",
                    "164.0",
                    "164.0",
                    "164.0",
                    "164.0",
                    "164.0",
                    "164.0",
                    "164.0",
                    "190.0",
                    "190.0",
                    "190.0",
                    "20.0",
                    "20.14",
                    "200.0",
                    "200.0",
                    "200.0",
                    "200.0",
                    "200.0",
                    "200.0",
                    "200.0",
                    "200.0",
                    "200.0",
                    "200.0",
                    "200.0",
                    "200.0",
                    "200.0",
                    "200.0",
                    "200.0",
                    "200.0",
                    "200.0",
                    "200.0",
                    "200.0",
                    "200.0",
                    "200.0",
                    "200.0",
                    "200.0",
                    "200.0",
                    "200.0",
                    "200.0",
                    "200.0",
                    "200.0",
                    "200.0",
                    "200.0",
                    "200.0",
                    "200.0",
                    "200.0",
                    "200.0",
                    "200.0",
                    "200.0",
                    "200.0",
                    "200.0",
                    "200.0",
                    "200.0",
                    "200.0",
                    "200.0",
                    "200.0",
                    "200.0",
                    "200.0",
                    "200.0",
                    "200.0",
                    "200.0",
                    "200.0",
                    "200.0",
                    "200.0",
                    "200.0",
                    "200.0",
                    "200.0",
                    "200.0",
                    "200.0",
                    "200.0",
                    "200.0",
                    "200.0",
                    "200.0",
                    "200.0",
                    "200.0",
                    "200.0",
                    "200.0",
                    "200.0",
                    "200.0",
                    "200.0",
                    "200.0",
                    "200.0",
                    "200.0",
                    "200.0",
                    "200.0",
                    "200.0",
                    "200.0",
                    "200.0",
                    "21.0",
                    "21.0",
                    "21.0",
                    "21.0",
                    "21.0",
                    "21.0",
                    "21.0",
                    "21.0",
                    "21.0",
                    "21.0",
                    "21.0",
                    "21.0",
                    "21.0",
                    "21.0",
                    "21.0",
                    "21.0",
                    "25.0",
                    "25.0",
                    "25.0",
                    "25.0",
                    "25.0",
                    "25.0",
                    "25.0",
                    "25.0",
                    "25.0",
                    "25.0",
                    "25.0",
                    "25.0",
                    "28.3",
                    "29.0",
                    "29.0",
                    "29.0",
                    "29.0",
                    "29.0",
                    "29.0",
                    "29.0",
                    "29.0",
                    "29.0",
                    "29.0",
                    "29.0",
                    "29.0",
                    "29.0",
                    "29.0",
                    "29.0",
                    "29.0",
                    "29.0",
                    "29.0",
                    "29.0",
                    "29.0",
                    "29.0",
                    "29.0",
                    "29.15",
                    "29.15",
                    "29.15",
                    "29.15",
                    "29.15",
                    "29.15",
                    "29.15",
                    "29.15",
                    "29.15",
                    "29.15",
                    "29.15",
                    "29.15",
                    "29.15",
                    "29.15",
                    "29.15",
                    "29.15",
                    "29.15",
                    "29.15",
                    "29.15",
                    "29.15",
                    "29.15",
                    "29.15",
                    "29.15",
                    "29.15",
                    "29.15",
                    "29.75",
                    "29.75",
                    "29.75",
                    "29.75",
                    "29.75",
                    "29.75",
                    "29.75",
                    "29.75",
                    "29.75",
                    "29.75",
                    "29.75",
                    "29.75",
                    "29.75",
                    "29.75",
                    "29.75",
                    "29.75",
                    "29.75",
                    "29.75",
                    "29.75",
                    "29.75",
                    "29.75",
                    "29.75",
                    "29.75",
                    "29.75",
                    "29.75",
                    "29.75",
                    "29.75",
                    "29.75",
                    "29.75",
                    "29.75",
                    "29.75",
                    "29.75",
                    "30.8",
                    "30.8",
                    "30.8",
                    "30.8",
                    "30.8",
                    "30.8",
                    "30.8",
                    "30.8",
                    "30.8",
                    "30.8",
                    "30.8",
                    "30.8",
                    "30.8",
                    "30.8",
                    "30.8",
                    "30.8",
                    "30.8",
                    "30.8",
                    "30.8",
                    "30.8",
                    "30.8",
                    "30.8",
                    "30.8",
                    "30.8",
                    "30.8",
                    "30.8",
                    "30.8",
                    "30.8",
                    "30.8",
                    "30.8",
                    "30.8",
                    "30.8",
                    "30.8",
                    "30.8",
                    "30.8",
                    "30.8",
                    "30.8",
                    "30.8",
                    "31.0",
                    "31.0",
                    "31.0",
                    "31.0",
                    "31.0",
                    "31.0",
                    "31.0",
                    "31.0",
                    "31.0",
                    "31.0",
                    "31.0",
                    "31.0",
                    "31.0",
                    "31.0",
                    "31.0",
                    "31.0",
                    "31.0",
                    "31.0",
                    "31.0",
                    "31.0",
                    "31.0",
                    "31.0",
                    "35.0",
                    "35.0",
                    "35.0",
                    "35.0",
                    "35.0",
                    "35.0",
                    "35.0",
                    "35.0",
                    "35.0",
                    "35.0",
                    "35.0",
                    "35.0",
                    "35.0",
                    "35.0",
                    "35.0",
                    "35.0",
                    "350.0",
                    "350.0",
                    "350.0",
                    "350.0",
                    "350.0",
                    "350.0",
                    "350.0",
                    "350.0",
                    "350.0",
                    "350.0",
                    "350.0",
                    "37.0",
                    "37.0",
                    "37.0",
                    "37.0",
                    "37.0",
                    "37.0",
                    "37.0",
                    "37.0",
                    "37.0",
                    "37.0",
                    "37.0",
                    "37.0",
                    "37.0",
                    "37.0",
                    "37.0",
                    "39.0",
                    "39.0",
                    "40.0",
                    "40.0",
                    "40.0",
                    "40.0",
                    "40.0",
                    "40.0",
                    "40.0",
                    "40.0",
                    "40.0",
                    "40.0",
                    "40.0",
                    "40.0",
                    "40.0",
                    "40.0",
                    "40.0",
                    "40.0",
                    "40.0",
                    "40.0",
                    "40.0",
                    "40.0",
                    "40.0",
                    "40.0",
                    "40.0",
                    "40.0",
                    "40.0",
                    "40.0",
                    "40.0",
                    "40.0",
                    "40.0",
                    "40.0",
                    "40.0",
                    "40.0",
                    "40.0",
                    "40.0",
                    "40.0",
                    "40.0",
                    "40.0",
                    "40.0",
                    "40.0",
                    "40.0",
                    "40.0",
                    "40.0",
                    "40.0",
                    "40.0",
                    "40.0",
                    "40.0",
                    "40.0",
                    "40.0",
                    "40.0",
                    "40.0",
                    "40.0",
                    "40.0",
                    "40.0",
                    "40.0",
                    "40.0",
                    "41.8",
                    "41.8",
                    "41.8",
                    "41.8",
                    "41.8",
                    "41.8",
                    "41.8",
                    "41.8",
                    "41.8",
                    "41.8",
                    "41.8",
                    "41.8",
                    "41.8",
                    "41.8",
                    "41.8",
                    "41.8",
                    "41.8",
                    "41.8",
                    "41.8",
                    "41.8",
                    "41.8",
                    "41.8",
                    "41.8",
                    "41.8",
                    "41.8",
                    "41.8",
                    "41.8",
                    "41.8",
                    "41.8",
                    "41.8",
                    "41.8",
                    "45.0",
                    "45.0",
                    "45.0",
                    "45.0",
                    "45.0",
                    "45.0",
                    "45.0",
                    "45.0",
                    "45.0",
                    "45.0",
                    "450.0",
                    "450.0",
                    "450.0",
                    "450.0",
                    "450.0",
                    "450.0",
                    "450.0",
                    "450.0",
                    "450.0",
                    "450.0",
                    "450.0",
                    "450.0",
                    "450.0",
                    "450.0",
                    "450.0",
                    "450.0",
                    "450.0",
                    "450.0",
                    "450.0",
                    "450.0",
                    "450.0",
                    "450.0",
                    "450.0",
                    "450.0",
                    "450.0",
                    "450.0",
                    "450.0",
                    "450.0",
                    "450.0",
                    "450.0",
                    "450.0",
                    "450.0",
                    "450.0",
                    "450.0",
                    "450.0",
                    "450.0",
                    "450.0",
                    "450.0",
                    "450.0",
                    "450.0",
                    "450.0",
                    "450.0",
                    "450.0",
                    "450.0",
                    "450.0",
                    "450.0",
                    "450.0",
                    "450.0",
                    "450.0",
                    "450.0",
                    "450.0",
                    "450.0",
                    "450.0",
                    "450.0",
                    "450.0",
                    "450.0",
                    "450.0",
                    "450.0",
                    "450.0",
                    "450.0",
                    "450.0",
                    "450.0",
                    "450.0",
                    "450.0",
                    "450.0",
                    "450.0",
                    "450.0",
                    "450.0",
                    "450.0",
                    "450.0",
                    "450.0",
                    "450.0",
                    "450.0",
                    "450.0",
                    "450.0",
                    "450.0",
                    "450.0",
                    "450.0",
                    "450.0",
                    "450.0",
                    "450.0",
                    "450.0",
                    "450.0",
                    "450.0",
                    "450.0",
                    "450.0",
                    "450.0",
                    "450.0",
                    "450.0",
                    "450.0",
                    "450.0",
                    "450.0",
                    "450.0",
                    "450.0",
                    "450.0",
                    "450.0",
                    "450.0",
                    "450.0",
                    "450.0",
                    "450.0",
                    "450.0",
                    "450.0",
                    "450.0",
                    "450.0",
                    "450.0",
                    "450.0",
                    "450.0",
                    "450.0",
                    "450.0",
                    "450.0",
                    "450.0",
                    "450.0",
                    "450.0",
                    "450.0",
                    "450.0",
                    "450.0",
                    "450.0",
                    "450.0",
                    "450.0",
                    "450.0",
                    "450.0",
                    "450.0",
                    "450.0",
                    "450.0",
                    "450.0",
                    "450.0",
                    "450.0",
                    "450.0",
                    "450.0",
                    "450.0",
                    "450.0",
                    "450.0",
                    "450.0",
                    "450.0",
                    "450.0",
                    "450.0",
                    "46.0",
                    "46.0",
                    "46.0",
                    "46.0",
                    "46.0",
                    "47.0",
                    "47.0",
                    "47.0",
                    "47.0",
                    "47.0",
                    "47.0",
                    "47.0",
                    "47.0",
                    "47.0",
                    "47.0",
                    "47.0",
                    "47.0",
                    "47.0",
                    "48.5",
                    "48.5",
                    "48.5",
                    "48.5",
                    "48.5",
                    "48.5",
                    "48.5",
                    "48.5",
                    "48.5",
                    "48.5",
                    "48.5",
                    "48.5",
                    "48.5",
                    "48.5",
                    "48.5",
                    "48.5",
                    "48.5",
                    "48.5",
                    "48.5",
                    "48.5",
                    "48.5",
                    "48.5",
                    "48.5",
                    "48.5",
                    "48.5",
                    "48.5",
                    "5,000.0",
                    "5,000.0",
                    "5.3",
                    "5.3",
                    "5.3",
                    "5.3",
                    "5.3",
                    "5.3",
                    "5.3",
                    "5.3",
                    "5.3",
                    "50.0",
                    "50.0",
                    "50.0",
                    "50.0",
                    "50.0",
                    "50.0",
                    "50.0",
                    "50.0",
                    "50.0",
                    "50.0",
                    "50.0",
                    "50.0",
                    "50.0",
                    "50.0",
                    "50.0",
                    "50.0",
                    "50.0",
                    "50.0",
                    "50.0",
                    "50.0",
                    "50.0",
                    "50.0",
                    "50.0",
                    "50.0",
                    "50.0",
                    "50.0",
                    "50.0",
                    "50.0",
                    "50.0",
                    "50.0",
                    "50.0",
                    "50.0",
                    "50.0",
                    "50.0",
                    "55.0",
                    "56.5",
                    "56.5",
                    "56.5",
                    "56.5",
                    "56.5",
                    "56.5",
                    "56.5",
                    "56.5",
                    "56.5",
                    "56.5",
                    "56.5",
                    "56.5",
                    "56.5",
                    "56.5",
                    "56.5",
                    "59.0",
                    "59.0",
                    "59.0",
                    "59.0",
                    "59.0",
                    "59.0",
                    "59.0",
                    "59.0",
                    "59.0",
                    "59.0",
                    "59.0",
                    "59.0",
                    "59.0",
                    "59.0",
                    "59.0",
                    "59.0",
                    "59.0",
                    "59.0",
                    "59.0",
                    "59.0",
                    "59.0",
                    "59.0",
                    "59.5",
                    "59.5",
                    "59.5",
                    "59.5",
                    "59.5",
                    "62.0",
                    "62.0",
                    "62.0",
                    "62.0",
                    "62.0",
                    "62.0",
                    "62.0",
                    "62.0",
                    "62.0",
                    "62.0",
                    "62.0",
                    "62.0",
                    "62.0",
                    "62.0",
                    "62.0",
                    "62.0",
                    "62.0",
                    "62.0",
                    "62.0",
                    "62.0",
                    "62.0",
                    "62.0",
                    "62.0",
                    "62.0",
                    "62.0",
                    "62.0",
                    "62.0",
                    "62.0",
                    "62.0",
                    "62.0",
                    "62.0",
                    "62.0",
                    "62.0",
                    "62.0",
                    "62.0",
                    "62.0",
                    "62.0",
                    "62.0",
                    "62.0",
                    "62.0",
                    "62.0",
                    "63.23",
                    "63.23",
                    "63.23",
                    "63.23",
                    "64.68",
                    "64.68",
                    "64.68",
                    "64.68",
                    "64.68",
                    "64.68",
                    "64.68",
                    "64.68",
                    "64.68",
                    "64.68",
                    "64.68",
                    "64.68",
                    "64.68",
                    "64.68",
                    "64.68",
                    "64.68",
                    "64.68",
                    "64.68",
                    "64.68",
                    "64.68",
                    "64.68",
                    "64.68",
                    "64.68",
                    "64.68",
                    "64.68",
                    "64.68",
                    "64.68",
                    "64.68",
                    "64.68",
                    "64.68",
                    "64.68",
                    "64.68",
                    "64.68",
                    "64.68",
                    "65.0",
                    "65.0",
                    "65.0",
                    "65.0",
                    "65.0",
                    "65.0",
                    "65.0",
                    "65.0",
                    "65.0",
                    "65.0",
                    "65.0",
                    "65.0",
                    "65.0",
                    "65.0",
                    "65.0",
                    "65.0",
                    "69.7",
                    "69.7",
                    "69.7",
                    "69.7",
                    "69.7",
                    "69.7",
                    "69.7",
                    "69.7",
                    "69.7",
                    "69.7",
                    "69.7",
                    "69.7",
                    "69.7",
                    "69.7",
                    "69.7",
                    "69.7",
                    "69.7",
                    "7.0",
                    "7.0",
                    "7.0",
                    "7.0",
                    "7.0",
                    "7.5",
                    "7.5",
                    "7.5",
                    "7.5",
                    "7.5",
                    "7.5",
                    "7.5",
                    "7.5",
                    "7.5",
                    "7.5",
                    "7.5",
                    "7.5",
                    "7.5",
                    "7.5",
                    "80.0",
                    "80.0",
                    "80.0",
                    "80.0",
                    "80.0",
                    "80.0",
                    "80.0",
                    "85.0",
                    "85.0",
                    "85.0",
                    "85.0",
                    "85.0",
                    "85.0",
                    "85.0",
                    "90.0",
                    "90.0",
                    "90.0",
                    "90.0",
                    "90.0",
                    "90.0",
                    "90.0",
                    "90.0",
                    "90.0",
                    "90.0",
                    "90.0",
                    "90.0",
                    "90.0",
                    "90.0",
                    "90.0",
                    "90.0",
                    "90.0",
                    "90.0",
                    "90.0",
                    "90.0",
                    "90.0",
                    "90.0",
                    "90.0",
                    "90.0",
                    "90.0",
                    "90.0",
                    "90.0",
                    "90.0",
                    "90.0",
                    "90.0",
                    "90.0",
                    "90.0"
                  ],
                  "xaxis": "x",
                  "yaxis": "y"
                }
              ],
              "layout": {
                "barmode": "relative",
                "legend": {
                  "tracegroupgap": 0
                },
                "template": {
                  "data": {
                    "bar": [
                      {
                        "error_x": {
                          "color": "#2a3f5f"
                        },
                        "error_y": {
                          "color": "#2a3f5f"
                        },
                        "marker": {
                          "line": {
                            "color": "#E5ECF6",
                            "width": 0.5
                          },
                          "pattern": {
                            "fillmode": "overlay",
                            "size": 10,
                            "solidity": 0.2
                          }
                        },
                        "type": "bar"
                      }
                    ],
                    "barpolar": [
                      {
                        "marker": {
                          "line": {
                            "color": "#E5ECF6",
                            "width": 0.5
                          },
                          "pattern": {
                            "fillmode": "overlay",
                            "size": 10,
                            "solidity": 0.2
                          }
                        },
                        "type": "barpolar"
                      }
                    ],
                    "carpet": [
                      {
                        "aaxis": {
                          "endlinecolor": "#2a3f5f",
                          "gridcolor": "white",
                          "linecolor": "white",
                          "minorgridcolor": "white",
                          "startlinecolor": "#2a3f5f"
                        },
                        "baxis": {
                          "endlinecolor": "#2a3f5f",
                          "gridcolor": "white",
                          "linecolor": "white",
                          "minorgridcolor": "white",
                          "startlinecolor": "#2a3f5f"
                        },
                        "type": "carpet"
                      }
                    ],
                    "choropleth": [
                      {
                        "colorbar": {
                          "outlinewidth": 0,
                          "ticks": ""
                        },
                        "type": "choropleth"
                      }
                    ],
                    "contour": [
                      {
                        "colorbar": {
                          "outlinewidth": 0,
                          "ticks": ""
                        },
                        "colorscale": [
                          [
                            0,
                            "#0d0887"
                          ],
                          [
                            0.1111111111111111,
                            "#46039f"
                          ],
                          [
                            0.2222222222222222,
                            "#7201a8"
                          ],
                          [
                            0.3333333333333333,
                            "#9c179e"
                          ],
                          [
                            0.4444444444444444,
                            "#bd3786"
                          ],
                          [
                            0.5555555555555556,
                            "#d8576b"
                          ],
                          [
                            0.6666666666666666,
                            "#ed7953"
                          ],
                          [
                            0.7777777777777778,
                            "#fb9f3a"
                          ],
                          [
                            0.8888888888888888,
                            "#fdca26"
                          ],
                          [
                            1,
                            "#f0f921"
                          ]
                        ],
                        "type": "contour"
                      }
                    ],
                    "contourcarpet": [
                      {
                        "colorbar": {
                          "outlinewidth": 0,
                          "ticks": ""
                        },
                        "type": "contourcarpet"
                      }
                    ],
                    "heatmap": [
                      {
                        "colorbar": {
                          "outlinewidth": 0,
                          "ticks": ""
                        },
                        "colorscale": [
                          [
                            0,
                            "#0d0887"
                          ],
                          [
                            0.1111111111111111,
                            "#46039f"
                          ],
                          [
                            0.2222222222222222,
                            "#7201a8"
                          ],
                          [
                            0.3333333333333333,
                            "#9c179e"
                          ],
                          [
                            0.4444444444444444,
                            "#bd3786"
                          ],
                          [
                            0.5555555555555556,
                            "#d8576b"
                          ],
                          [
                            0.6666666666666666,
                            "#ed7953"
                          ],
                          [
                            0.7777777777777778,
                            "#fb9f3a"
                          ],
                          [
                            0.8888888888888888,
                            "#fdca26"
                          ],
                          [
                            1,
                            "#f0f921"
                          ]
                        ],
                        "type": "heatmap"
                      }
                    ],
                    "heatmapgl": [
                      {
                        "colorbar": {
                          "outlinewidth": 0,
                          "ticks": ""
                        },
                        "colorscale": [
                          [
                            0,
                            "#0d0887"
                          ],
                          [
                            0.1111111111111111,
                            "#46039f"
                          ],
                          [
                            0.2222222222222222,
                            "#7201a8"
                          ],
                          [
                            0.3333333333333333,
                            "#9c179e"
                          ],
                          [
                            0.4444444444444444,
                            "#bd3786"
                          ],
                          [
                            0.5555555555555556,
                            "#d8576b"
                          ],
                          [
                            0.6666666666666666,
                            "#ed7953"
                          ],
                          [
                            0.7777777777777778,
                            "#fb9f3a"
                          ],
                          [
                            0.8888888888888888,
                            "#fdca26"
                          ],
                          [
                            1,
                            "#f0f921"
                          ]
                        ],
                        "type": "heatmapgl"
                      }
                    ],
                    "histogram": [
                      {
                        "marker": {
                          "pattern": {
                            "fillmode": "overlay",
                            "size": 10,
                            "solidity": 0.2
                          }
                        },
                        "type": "histogram"
                      }
                    ],
                    "histogram2d": [
                      {
                        "colorbar": {
                          "outlinewidth": 0,
                          "ticks": ""
                        },
                        "colorscale": [
                          [
                            0,
                            "#0d0887"
                          ],
                          [
                            0.1111111111111111,
                            "#46039f"
                          ],
                          [
                            0.2222222222222222,
                            "#7201a8"
                          ],
                          [
                            0.3333333333333333,
                            "#9c179e"
                          ],
                          [
                            0.4444444444444444,
                            "#bd3786"
                          ],
                          [
                            0.5555555555555556,
                            "#d8576b"
                          ],
                          [
                            0.6666666666666666,
                            "#ed7953"
                          ],
                          [
                            0.7777777777777778,
                            "#fb9f3a"
                          ],
                          [
                            0.8888888888888888,
                            "#fdca26"
                          ],
                          [
                            1,
                            "#f0f921"
                          ]
                        ],
                        "type": "histogram2d"
                      }
                    ],
                    "histogram2dcontour": [
                      {
                        "colorbar": {
                          "outlinewidth": 0,
                          "ticks": ""
                        },
                        "colorscale": [
                          [
                            0,
                            "#0d0887"
                          ],
                          [
                            0.1111111111111111,
                            "#46039f"
                          ],
                          [
                            0.2222222222222222,
                            "#7201a8"
                          ],
                          [
                            0.3333333333333333,
                            "#9c179e"
                          ],
                          [
                            0.4444444444444444,
                            "#bd3786"
                          ],
                          [
                            0.5555555555555556,
                            "#d8576b"
                          ],
                          [
                            0.6666666666666666,
                            "#ed7953"
                          ],
                          [
                            0.7777777777777778,
                            "#fb9f3a"
                          ],
                          [
                            0.8888888888888888,
                            "#fdca26"
                          ],
                          [
                            1,
                            "#f0f921"
                          ]
                        ],
                        "type": "histogram2dcontour"
                      }
                    ],
                    "mesh3d": [
                      {
                        "colorbar": {
                          "outlinewidth": 0,
                          "ticks": ""
                        },
                        "type": "mesh3d"
                      }
                    ],
                    "parcoords": [
                      {
                        "line": {
                          "colorbar": {
                            "outlinewidth": 0,
                            "ticks": ""
                          }
                        },
                        "type": "parcoords"
                      }
                    ],
                    "pie": [
                      {
                        "automargin": true,
                        "type": "pie"
                      }
                    ],
                    "scatter": [
                      {
                        "fillpattern": {
                          "fillmode": "overlay",
                          "size": 10,
                          "solidity": 0.2
                        },
                        "type": "scatter"
                      }
                    ],
                    "scatter3d": [
                      {
                        "line": {
                          "colorbar": {
                            "outlinewidth": 0,
                            "ticks": ""
                          }
                        },
                        "marker": {
                          "colorbar": {
                            "outlinewidth": 0,
                            "ticks": ""
                          }
                        },
                        "type": "scatter3d"
                      }
                    ],
                    "scattercarpet": [
                      {
                        "marker": {
                          "colorbar": {
                            "outlinewidth": 0,
                            "ticks": ""
                          }
                        },
                        "type": "scattercarpet"
                      }
                    ],
                    "scattergeo": [
                      {
                        "marker": {
                          "colorbar": {
                            "outlinewidth": 0,
                            "ticks": ""
                          }
                        },
                        "type": "scattergeo"
                      }
                    ],
                    "scattergl": [
                      {
                        "marker": {
                          "colorbar": {
                            "outlinewidth": 0,
                            "ticks": ""
                          }
                        },
                        "type": "scattergl"
                      }
                    ],
                    "scattermapbox": [
                      {
                        "marker": {
                          "colorbar": {
                            "outlinewidth": 0,
                            "ticks": ""
                          }
                        },
                        "type": "scattermapbox"
                      }
                    ],
                    "scatterpolar": [
                      {
                        "marker": {
                          "colorbar": {
                            "outlinewidth": 0,
                            "ticks": ""
                          }
                        },
                        "type": "scatterpolar"
                      }
                    ],
                    "scatterpolargl": [
                      {
                        "marker": {
                          "colorbar": {
                            "outlinewidth": 0,
                            "ticks": ""
                          }
                        },
                        "type": "scatterpolargl"
                      }
                    ],
                    "scatterternary": [
                      {
                        "marker": {
                          "colorbar": {
                            "outlinewidth": 0,
                            "ticks": ""
                          }
                        },
                        "type": "scatterternary"
                      }
                    ],
                    "surface": [
                      {
                        "colorbar": {
                          "outlinewidth": 0,
                          "ticks": ""
                        },
                        "colorscale": [
                          [
                            0,
                            "#0d0887"
                          ],
                          [
                            0.1111111111111111,
                            "#46039f"
                          ],
                          [
                            0.2222222222222222,
                            "#7201a8"
                          ],
                          [
                            0.3333333333333333,
                            "#9c179e"
                          ],
                          [
                            0.4444444444444444,
                            "#bd3786"
                          ],
                          [
                            0.5555555555555556,
                            "#d8576b"
                          ],
                          [
                            0.6666666666666666,
                            "#ed7953"
                          ],
                          [
                            0.7777777777777778,
                            "#fb9f3a"
                          ],
                          [
                            0.8888888888888888,
                            "#fdca26"
                          ],
                          [
                            1,
                            "#f0f921"
                          ]
                        ],
                        "type": "surface"
                      }
                    ],
                    "table": [
                      {
                        "cells": {
                          "fill": {
                            "color": "#EBF0F8"
                          },
                          "line": {
                            "color": "white"
                          }
                        },
                        "header": {
                          "fill": {
                            "color": "#C8D4E3"
                          },
                          "line": {
                            "color": "white"
                          }
                        },
                        "type": "table"
                      }
                    ]
                  },
                  "layout": {
                    "annotationdefaults": {
                      "arrowcolor": "#2a3f5f",
                      "arrowhead": 0,
                      "arrowwidth": 1
                    },
                    "autotypenumbers": "strict",
                    "coloraxis": {
                      "colorbar": {
                        "outlinewidth": 0,
                        "ticks": ""
                      }
                    },
                    "colorscale": {
                      "diverging": [
                        [
                          0,
                          "#8e0152"
                        ],
                        [
                          0.1,
                          "#c51b7d"
                        ],
                        [
                          0.2,
                          "#de77ae"
                        ],
                        [
                          0.3,
                          "#f1b6da"
                        ],
                        [
                          0.4,
                          "#fde0ef"
                        ],
                        [
                          0.5,
                          "#f7f7f7"
                        ],
                        [
                          0.6,
                          "#e6f5d0"
                        ],
                        [
                          0.7,
                          "#b8e186"
                        ],
                        [
                          0.8,
                          "#7fbc41"
                        ],
                        [
                          0.9,
                          "#4d9221"
                        ],
                        [
                          1,
                          "#276419"
                        ]
                      ],
                      "sequential": [
                        [
                          0,
                          "#0d0887"
                        ],
                        [
                          0.1111111111111111,
                          "#46039f"
                        ],
                        [
                          0.2222222222222222,
                          "#7201a8"
                        ],
                        [
                          0.3333333333333333,
                          "#9c179e"
                        ],
                        [
                          0.4444444444444444,
                          "#bd3786"
                        ],
                        [
                          0.5555555555555556,
                          "#d8576b"
                        ],
                        [
                          0.6666666666666666,
                          "#ed7953"
                        ],
                        [
                          0.7777777777777778,
                          "#fb9f3a"
                        ],
                        [
                          0.8888888888888888,
                          "#fdca26"
                        ],
                        [
                          1,
                          "#f0f921"
                        ]
                      ],
                      "sequentialminus": [
                        [
                          0,
                          "#0d0887"
                        ],
                        [
                          0.1111111111111111,
                          "#46039f"
                        ],
                        [
                          0.2222222222222222,
                          "#7201a8"
                        ],
                        [
                          0.3333333333333333,
                          "#9c179e"
                        ],
                        [
                          0.4444444444444444,
                          "#bd3786"
                        ],
                        [
                          0.5555555555555556,
                          "#d8576b"
                        ],
                        [
                          0.6666666666666666,
                          "#ed7953"
                        ],
                        [
                          0.7777777777777778,
                          "#fb9f3a"
                        ],
                        [
                          0.8888888888888888,
                          "#fdca26"
                        ],
                        [
                          1,
                          "#f0f921"
                        ]
                      ]
                    },
                    "colorway": [
                      "#636efa",
                      "#EF553B",
                      "#00cc96",
                      "#ab63fa",
                      "#FFA15A",
                      "#19d3f3",
                      "#FF6692",
                      "#B6E880",
                      "#FF97FF",
                      "#FECB52"
                    ],
                    "font": {
                      "color": "#2a3f5f"
                    },
                    "geo": {
                      "bgcolor": "white",
                      "lakecolor": "white",
                      "landcolor": "#E5ECF6",
                      "showlakes": true,
                      "showland": true,
                      "subunitcolor": "white"
                    },
                    "hoverlabel": {
                      "align": "left"
                    },
                    "hovermode": "closest",
                    "mapbox": {
                      "style": "light"
                    },
                    "paper_bgcolor": "white",
                    "plot_bgcolor": "#E5ECF6",
                    "polar": {
                      "angularaxis": {
                        "gridcolor": "white",
                        "linecolor": "white",
                        "ticks": ""
                      },
                      "bgcolor": "#E5ECF6",
                      "radialaxis": {
                        "gridcolor": "white",
                        "linecolor": "white",
                        "ticks": ""
                      }
                    },
                    "scene": {
                      "xaxis": {
                        "backgroundcolor": "#E5ECF6",
                        "gridcolor": "white",
                        "gridwidth": 2,
                        "linecolor": "white",
                        "showbackground": true,
                        "ticks": "",
                        "zerolinecolor": "white"
                      },
                      "yaxis": {
                        "backgroundcolor": "#E5ECF6",
                        "gridcolor": "white",
                        "gridwidth": 2,
                        "linecolor": "white",
                        "showbackground": true,
                        "ticks": "",
                        "zerolinecolor": "white"
                      },
                      "zaxis": {
                        "backgroundcolor": "#E5ECF6",
                        "gridcolor": "white",
                        "gridwidth": 2,
                        "linecolor": "white",
                        "showbackground": true,
                        "ticks": "",
                        "zerolinecolor": "white"
                      }
                    },
                    "shapedefaults": {
                      "line": {
                        "color": "#2a3f5f"
                      }
                    },
                    "ternary": {
                      "aaxis": {
                        "gridcolor": "white",
                        "linecolor": "white",
                        "ticks": ""
                      },
                      "baxis": {
                        "gridcolor": "white",
                        "linecolor": "white",
                        "ticks": ""
                      },
                      "bgcolor": "#E5ECF6",
                      "caxis": {
                        "gridcolor": "white",
                        "linecolor": "white",
                        "ticks": ""
                      }
                    },
                    "title": {
                      "x": 0.05
                    },
                    "xaxis": {
                      "automargin": true,
                      "gridcolor": "white",
                      "linecolor": "white",
                      "ticks": "",
                      "title": {
                        "standoff": 15
                      },
                      "zerolinecolor": "white",
                      "zerolinewidth": 2
                    },
                    "yaxis": {
                      "automargin": true,
                      "gridcolor": "white",
                      "linecolor": "white",
                      "ticks": "",
                      "title": {
                        "standoff": 15
                      },
                      "zerolinecolor": "white",
                      "zerolinewidth": 2
                    }
                  }
                },
                "title": {
                  "text": "Distribution of Space Mission Prices"
                },
                "xaxis": {
                  "anchor": "y",
                  "domain": [
                    0,
                    1
                  ],
                  "tickfont": {
                    "size": 10
                  },
                  "title": {
                    "text": "Price"
                  }
                },
                "yaxis": {
                  "anchor": "x",
                  "domain": [
                    0,
                    1
                  ],
                  "tickfont": {
                    "size": 10
                  },
                  "title": {
                    "text": "Frequency"
                  }
                }
              }
            }
          },
          "metadata": {},
          "output_type": "display_data"
        }
      ],
      "source": [
        "fig = px.histogram(prices, x=prices.values, \n",
        "                   nbins=20,\n",
        "                   title='Distribution of Space Mission Prices',\n",
        "                   #histfunc='density'\n",
        "                   )\n",
        "\n",
        "fig.update_xaxes(title_text='Price')\n",
        "fig.update_yaxes(title_text='Frequency')\n",
        "fig.update_layout(xaxis=dict(tickfont=dict(size=10)))\n",
        "fig.update_layout(yaxis=dict(tickfont=dict(size=10)))\n",
        "fig.show()"
      ]
    },
    {
      "cell_type": "markdown",
      "metadata": {
        "id": "QiNtigQDne3E"
      },
      "source": [
        "# Use a Choropleth Map to Show the Number of Launches by Country\n",
        "\n",
        "* Create a choropleth map using [the plotly documentation](https://plotly.com/python/choropleth-maps/)\n",
        "* Experiment with [plotly's available colours](https://plotly.com/python/builtin-colorscales/). I quite like the sequential colour `matter` on this map. \n",
        "* You'll need to extract a `country` feature as well as change the country names that no longer exist.\n",
        "\n",
        "Wrangle the Country Names\n",
        "\n",
        "You'll need to use a 3 letter country code for each country. You might have to change some country names.\n",
        "\n",
        "* Russia is the Russian Federation\n",
        "* New Mexico should be USA\n",
        "* Yellow Sea refers to China\n",
        "* Shahrud Missile Test Site should be Iran\n",
        "* Pacific Missile Range Facility should be USA\n",
        "* Barents Sea should be Russian Federation\n",
        "* Gran Canaria should be USA\n",
        "\n",
        "\n",
        "You can use the iso3166 package to convert the country names to Alpha3 format."
      ]
    },
    {
      "cell_type": "code",
      "execution_count": 189,
      "metadata": {
        "id": "Y46-4GHrozhF"
      },
      "outputs": [
        {
          "name": "stderr",
          "output_type": "stream",
          "text": [
            "C:\\Users\\User\\AppData\\Local\\Temp\\ipykernel_7076\\714557286.py:2: FutureWarning:\n",
            "\n",
            "In a future version of pandas all arguments of StringMethods.rsplit except for the argument 'pat' will be keyword-only.\n",
            "\n"
          ]
        },
        {
          "data": {
            "text/html": [
              "<div>\n",
              "<style scoped>\n",
              "    .dataframe tbody tr th:only-of-type {\n",
              "        vertical-align: middle;\n",
              "    }\n",
              "\n",
              "    .dataframe tbody tr th {\n",
              "        vertical-align: top;\n",
              "    }\n",
              "\n",
              "    .dataframe thead th {\n",
              "        text-align: right;\n",
              "    }\n",
              "</style>\n",
              "<table border=\"1\" class=\"dataframe\">\n",
              "  <thead>\n",
              "    <tr style=\"text-align: right;\">\n",
              "      <th></th>\n",
              "      <th>Organisation</th>\n",
              "      <th>Location</th>\n",
              "      <th>Date</th>\n",
              "      <th>Detail</th>\n",
              "      <th>Rocket_Status</th>\n",
              "      <th>Price</th>\n",
              "      <th>Mission_Status</th>\n",
              "      <th>Country</th>\n",
              "    </tr>\n",
              "  </thead>\n",
              "  <tbody>\n",
              "    <tr>\n",
              "      <th>536</th>\n",
              "      <td>ISRO</td>\n",
              "      <td>First Launch Pad, Satish Dhawan Space Centre, ...</td>\n",
              "      <td>Thu Oct 16, 2014 20:02 UTC</td>\n",
              "      <td>PSLV-XL | IRNSS-1C</td>\n",
              "      <td>StatusActive</td>\n",
              "      <td>31.0</td>\n",
              "      <td>Success</td>\n",
              "      <td>India</td>\n",
              "    </tr>\n",
              "    <tr>\n",
              "      <th>1734</th>\n",
              "      <td>ISAS</td>\n",
              "      <td>Mu Pad, Uchinoura Space Center, Japan</td>\n",
              "      <td>Fri Aug 30, 1991 02:30 UTC</td>\n",
              "      <td>Mu-III S2 | Yohkoh</td>\n",
              "      <td>StatusRetired</td>\n",
              "      <td>NaN</td>\n",
              "      <td>Success</td>\n",
              "      <td>Japan</td>\n",
              "    </tr>\n",
              "    <tr>\n",
              "      <th>2204</th>\n",
              "      <td>RVSN USSR</td>\n",
              "      <td>Site 132/1, Plesetsk Cosmodrome, Russia</td>\n",
              "      <td>Thu May 17, 1984 14:43 UTC</td>\n",
              "      <td>Cosmos-3M (11K65M) | Cosmos 1553</td>\n",
              "      <td>StatusRetired</td>\n",
              "      <td>NaN</td>\n",
              "      <td>Success</td>\n",
              "      <td>Russia</td>\n",
              "    </tr>\n",
              "    <tr>\n",
              "      <th>2968</th>\n",
              "      <td>RVSN USSR</td>\n",
              "      <td>Site 133/3, Plesetsk Cosmodrome, Russia</td>\n",
              "      <td>Tue Jan 28, 1975 12:05 UTC</td>\n",
              "      <td>Cosmos-2I (63SM) | Cosmos 705</td>\n",
              "      <td>StatusRetired</td>\n",
              "      <td>NaN</td>\n",
              "      <td>Success</td>\n",
              "      <td>Russia</td>\n",
              "    </tr>\n",
              "    <tr>\n",
              "      <th>3538</th>\n",
              "      <td>RVSN USSR</td>\n",
              "      <td>Site 132/2, Plesetsk Cosmodrome, Russia</td>\n",
              "      <td>Wed Aug 13, 1969 22:00 UTC</td>\n",
              "      <td>Cosmos-3M (11K65M) | Cosmos 292</td>\n",
              "      <td>StatusRetired</td>\n",
              "      <td>NaN</td>\n",
              "      <td>Success</td>\n",
              "      <td>Russia</td>\n",
              "    </tr>\n",
              "    <tr>\n",
              "      <th>25</th>\n",
              "      <td>SpaceX</td>\n",
              "      <td>LC-39A, Kennedy Space Center, Florida, USA</td>\n",
              "      <td>Sat May 30, 2020 19:22 UTC</td>\n",
              "      <td>Falcon 9 Block 5 | SpaceX Demo-2</td>\n",
              "      <td>StatusActive</td>\n",
              "      <td>50.0</td>\n",
              "      <td>Success</td>\n",
              "      <td>USA</td>\n",
              "    </tr>\n",
              "    <tr>\n",
              "      <th>3831</th>\n",
              "      <td>RVSN USSR</td>\n",
              "      <td>Site 162, Baikonur Cosmodrome, Kazakhstan</td>\n",
              "      <td>Wed Nov 02, 1966 00:45 UTC</td>\n",
              "      <td>Tsyklon | OGTch 2</td>\n",
              "      <td>StatusRetired</td>\n",
              "      <td>NaN</td>\n",
              "      <td>Partial Failure</td>\n",
              "      <td>Kazakhstan</td>\n",
              "    </tr>\n",
              "    <tr>\n",
              "      <th>1272</th>\n",
              "      <td>Arianespace</td>\n",
              "      <td>ELA-2, Guiana Space Centre, French Guiana, France</td>\n",
              "      <td>Tue Dec 22, 1998 01:08 UTC</td>\n",
              "      <td>Ariane 42L | Panamsat-6B</td>\n",
              "      <td>StatusRetired</td>\n",
              "      <td>NaN</td>\n",
              "      <td>Success</td>\n",
              "      <td>France</td>\n",
              "    </tr>\n",
              "    <tr>\n",
              "      <th>1951</th>\n",
              "      <td>RVSN USSR</td>\n",
              "      <td>Site 133/3, Plesetsk Cosmodrome, Russia</td>\n",
              "      <td>Tue Apr 05, 1988 14:31 UTC</td>\n",
              "      <td>Cosmos-3M (11K65M) | Cosmos 1937</td>\n",
              "      <td>StatusRetired</td>\n",
              "      <td>NaN</td>\n",
              "      <td>Success</td>\n",
              "      <td>Russia</td>\n",
              "    </tr>\n",
              "    <tr>\n",
              "      <th>1491</th>\n",
              "      <td>VKS RF</td>\n",
              "      <td>Site 32/2, Plesetsk Cosmodrome, Russia</td>\n",
              "      <td>Thu Aug 31, 1995 06:50 UTC</td>\n",
              "      <td>Tsyklon-3 | Sich 1 &amp; FASat Alfa</td>\n",
              "      <td>StatusRetired</td>\n",
              "      <td>NaN</td>\n",
              "      <td>Success</td>\n",
              "      <td>Russia</td>\n",
              "    </tr>\n",
              "  </tbody>\n",
              "</table>\n",
              "</div>"
            ],
            "text/plain": [
              "     Organisation                                           Location  \\\n",
              "536          ISRO  First Launch Pad, Satish Dhawan Space Centre, ...   \n",
              "1734         ISAS              Mu Pad, Uchinoura Space Center, Japan   \n",
              "2204    RVSN USSR            Site 132/1, Plesetsk Cosmodrome, Russia   \n",
              "2968    RVSN USSR            Site 133/3, Plesetsk Cosmodrome, Russia   \n",
              "3538    RVSN USSR            Site 132/2, Plesetsk Cosmodrome, Russia   \n",
              "25         SpaceX         LC-39A, Kennedy Space Center, Florida, USA   \n",
              "3831    RVSN USSR          Site 162, Baikonur Cosmodrome, Kazakhstan   \n",
              "1272  Arianespace  ELA-2, Guiana Space Centre, French Guiana, France   \n",
              "1951    RVSN USSR            Site 133/3, Plesetsk Cosmodrome, Russia   \n",
              "1491       VKS RF             Site 32/2, Plesetsk Cosmodrome, Russia   \n",
              "\n",
              "                            Date                            Detail  \\\n",
              "536   Thu Oct 16, 2014 20:02 UTC                PSLV-XL | IRNSS-1C   \n",
              "1734  Fri Aug 30, 1991 02:30 UTC                Mu-III S2 | Yohkoh   \n",
              "2204  Thu May 17, 1984 14:43 UTC  Cosmos-3M (11K65M) | Cosmos 1553   \n",
              "2968  Tue Jan 28, 1975 12:05 UTC     Cosmos-2I (63SM) | Cosmos 705   \n",
              "3538  Wed Aug 13, 1969 22:00 UTC   Cosmos-3M (11K65M) | Cosmos 292   \n",
              "25    Sat May 30, 2020 19:22 UTC  Falcon 9 Block 5 | SpaceX Demo-2   \n",
              "3831  Wed Nov 02, 1966 00:45 UTC                 Tsyklon | OGTch 2   \n",
              "1272  Tue Dec 22, 1998 01:08 UTC          Ariane 42L | Panamsat-6B   \n",
              "1951  Tue Apr 05, 1988 14:31 UTC  Cosmos-3M (11K65M) | Cosmos 1937   \n",
              "1491  Thu Aug 31, 1995 06:50 UTC   Tsyklon-3 | Sich 1 & FASat Alfa   \n",
              "\n",
              "      Rocket_Status Price   Mission_Status     Country  \n",
              "536    StatusActive  31.0          Success       India  \n",
              "1734  StatusRetired   NaN          Success       Japan  \n",
              "2204  StatusRetired   NaN          Success      Russia  \n",
              "2968  StatusRetired   NaN          Success      Russia  \n",
              "3538  StatusRetired   NaN          Success      Russia  \n",
              "25     StatusActive  50.0          Success         USA  \n",
              "3831  StatusRetired   NaN  Partial Failure  Kazakhstan  \n",
              "1272  StatusRetired   NaN          Success      France  \n",
              "1951  StatusRetired   NaN          Success      Russia  \n",
              "1491  StatusRetired   NaN          Success      Russia  "
            ]
          },
          "execution_count": 189,
          "metadata": {},
          "output_type": "execute_result"
        }
      ],
      "source": [
        "\n",
        "#spacedf['Location']\n",
        "spacedf['Country'] = spacedf['Location'].str.rsplit(',',1).str[-1].str.strip()\n",
        "#spacedf.drop('Country', axis=1, inplace=True)\n",
        "spacedf.sample(10)"
      ]
    },
    {
      "cell_type": "code",
      "execution_count": 190,
      "metadata": {
        "id": "ESGRWiX6ozZG"
      },
      "outputs": [
        {
          "data": {
            "text/html": [
              "<div>\n",
              "<style scoped>\n",
              "    .dataframe tbody tr th:only-of-type {\n",
              "        vertical-align: middle;\n",
              "    }\n",
              "\n",
              "    .dataframe tbody tr th {\n",
              "        vertical-align: top;\n",
              "    }\n",
              "\n",
              "    .dataframe thead th {\n",
              "        text-align: right;\n",
              "    }\n",
              "</style>\n",
              "<table border=\"1\" class=\"dataframe\">\n",
              "  <thead>\n",
              "    <tr style=\"text-align: right;\">\n",
              "      <th></th>\n",
              "      <th>Country</th>\n",
              "      <th>Organisation</th>\n",
              "      <th>Location</th>\n",
              "      <th>Date</th>\n",
              "      <th>Detail</th>\n",
              "      <th>Rocket_Status</th>\n",
              "      <th>Price</th>\n",
              "      <th>Mission_Status</th>\n",
              "    </tr>\n",
              "  </thead>\n",
              "  <tbody>\n",
              "    <tr>\n",
              "      <th>0</th>\n",
              "      <td>Australia</td>\n",
              "      <td>6</td>\n",
              "      <td>6</td>\n",
              "      <td>6</td>\n",
              "      <td>6</td>\n",
              "      <td>6</td>\n",
              "      <td>0</td>\n",
              "      <td>6</td>\n",
              "    </tr>\n",
              "    <tr>\n",
              "      <th>1</th>\n",
              "      <td>Brazil</td>\n",
              "      <td>3</td>\n",
              "      <td>3</td>\n",
              "      <td>3</td>\n",
              "      <td>3</td>\n",
              "      <td>3</td>\n",
              "      <td>0</td>\n",
              "      <td>3</td>\n",
              "    </tr>\n",
              "    <tr>\n",
              "      <th>2</th>\n",
              "      <td>China</td>\n",
              "      <td>268</td>\n",
              "      <td>268</td>\n",
              "      <td>268</td>\n",
              "      <td>268</td>\n",
              "      <td>268</td>\n",
              "      <td>158</td>\n",
              "      <td>268</td>\n",
              "    </tr>\n",
              "    <tr>\n",
              "      <th>3</th>\n",
              "      <td>France</td>\n",
              "      <td>303</td>\n",
              "      <td>303</td>\n",
              "      <td>303</td>\n",
              "      <td>303</td>\n",
              "      <td>303</td>\n",
              "      <td>95</td>\n",
              "      <td>303</td>\n",
              "    </tr>\n",
              "    <tr>\n",
              "      <th>4</th>\n",
              "      <td>India</td>\n",
              "      <td>76</td>\n",
              "      <td>76</td>\n",
              "      <td>76</td>\n",
              "      <td>76</td>\n",
              "      <td>76</td>\n",
              "      <td>67</td>\n",
              "      <td>76</td>\n",
              "    </tr>\n",
              "    <tr>\n",
              "      <th>5</th>\n",
              "      <td>Iran, Islamic Republic of</td>\n",
              "      <td>14</td>\n",
              "      <td>14</td>\n",
              "      <td>14</td>\n",
              "      <td>14</td>\n",
              "      <td>14</td>\n",
              "      <td>0</td>\n",
              "      <td>14</td>\n",
              "    </tr>\n",
              "    <tr>\n",
              "      <th>6</th>\n",
              "      <td>Israel</td>\n",
              "      <td>11</td>\n",
              "      <td>11</td>\n",
              "      <td>11</td>\n",
              "      <td>11</td>\n",
              "      <td>11</td>\n",
              "      <td>0</td>\n",
              "      <td>11</td>\n",
              "    </tr>\n",
              "    <tr>\n",
              "      <th>7</th>\n",
              "      <td>Japan</td>\n",
              "      <td>126</td>\n",
              "      <td>126</td>\n",
              "      <td>126</td>\n",
              "      <td>126</td>\n",
              "      <td>126</td>\n",
              "      <td>40</td>\n",
              "      <td>126</td>\n",
              "    </tr>\n",
              "    <tr>\n",
              "      <th>8</th>\n",
              "      <td>Kazakhstan</td>\n",
              "      <td>701</td>\n",
              "      <td>701</td>\n",
              "      <td>701</td>\n",
              "      <td>701</td>\n",
              "      <td>701</td>\n",
              "      <td>46</td>\n",
              "      <td>701</td>\n",
              "    </tr>\n",
              "    <tr>\n",
              "      <th>9</th>\n",
              "      <td>Kenya</td>\n",
              "      <td>9</td>\n",
              "      <td>9</td>\n",
              "      <td>9</td>\n",
              "      <td>9</td>\n",
              "      <td>9</td>\n",
              "      <td>0</td>\n",
              "      <td>9</td>\n",
              "    </tr>\n",
              "    <tr>\n",
              "      <th>10</th>\n",
              "      <td>Korea, Democratic People's Republic of</td>\n",
              "      <td>5</td>\n",
              "      <td>5</td>\n",
              "      <td>5</td>\n",
              "      <td>5</td>\n",
              "      <td>5</td>\n",
              "      <td>0</td>\n",
              "      <td>5</td>\n",
              "    </tr>\n",
              "    <tr>\n",
              "      <th>11</th>\n",
              "      <td>Korea, Republic of</td>\n",
              "      <td>3</td>\n",
              "      <td>3</td>\n",
              "      <td>3</td>\n",
              "      <td>3</td>\n",
              "      <td>3</td>\n",
              "      <td>0</td>\n",
              "      <td>3</td>\n",
              "    </tr>\n",
              "    <tr>\n",
              "      <th>12</th>\n",
              "      <td>New Zealand</td>\n",
              "      <td>13</td>\n",
              "      <td>13</td>\n",
              "      <td>13</td>\n",
              "      <td>13</td>\n",
              "      <td>13</td>\n",
              "      <td>13</td>\n",
              "      <td>13</td>\n",
              "    </tr>\n",
              "    <tr>\n",
              "      <th>13</th>\n",
              "      <td>Russian Federation</td>\n",
              "      <td>1398</td>\n",
              "      <td>1398</td>\n",
              "      <td>1398</td>\n",
              "      <td>1398</td>\n",
              "      <td>1398</td>\n",
              "      <td>54</td>\n",
              "      <td>1398</td>\n",
              "    </tr>\n",
              "    <tr>\n",
              "      <th>14</th>\n",
              "      <td>United States of America</td>\n",
              "      <td>1387</td>\n",
              "      <td>1387</td>\n",
              "      <td>1387</td>\n",
              "      <td>1387</td>\n",
              "      <td>1387</td>\n",
              "      <td>490</td>\n",
              "      <td>1387</td>\n",
              "    </tr>\n",
              "  </tbody>\n",
              "</table>\n",
              "</div>"
            ],
            "text/plain": [
              "                                   Country  Organisation  Location  Date  \\\n",
              "0                                Australia             6         6     6   \n",
              "1                                   Brazil             3         3     3   \n",
              "2                                    China           268       268   268   \n",
              "3                                   France           303       303   303   \n",
              "4                                    India            76        76    76   \n",
              "5                Iran, Islamic Republic of            14        14    14   \n",
              "6                                   Israel            11        11    11   \n",
              "7                                    Japan           126       126   126   \n",
              "8                               Kazakhstan           701       701   701   \n",
              "9                                    Kenya             9         9     9   \n",
              "10  Korea, Democratic People's Republic of             5         5     5   \n",
              "11                      Korea, Republic of             3         3     3   \n",
              "12                             New Zealand            13        13    13   \n",
              "13                      Russian Federation          1398      1398  1398   \n",
              "14                United States of America          1387      1387  1387   \n",
              "\n",
              "    Detail  Rocket_Status  Price  Mission_Status  \n",
              "0        6              6      0               6  \n",
              "1        3              3      0               3  \n",
              "2      268            268    158             268  \n",
              "3      303            303     95             303  \n",
              "4       76             76     67              76  \n",
              "5       14             14      0              14  \n",
              "6       11             11      0              11  \n",
              "7      126            126     40             126  \n",
              "8      701            701     46             701  \n",
              "9        9              9      0               9  \n",
              "10       5              5      0               5  \n",
              "11       3              3      0               3  \n",
              "12      13             13     13              13  \n",
              "13    1398           1398     54            1398  \n",
              "14    1387           1387    490            1387  "
            ]
          },
          "execution_count": 190,
          "metadata": {},
          "output_type": "execute_result"
        }
      ],
      "source": [
        "#Renaming countries\n",
        "#The trailing spaces were stopping me from changing before\n",
        "#I removed the trailing spaces and now it works\n",
        "spacedf['Country'].replace({\"Russia\": \"Russian Federation\", \n",
        "                            \"New Mexico\": \"USA\",\n",
        "                            \"Yellow Sea\": \"China\",\n",
        "                            \"Shahrud Missile Test Site\": \"Iran\",\n",
        "                            \"Pacific Missile Range Facility\":\"USA\",\n",
        "                            \"Barents Sea\": \"Russian Federation\",\n",
        "                            \"Gran Canaria\":\"USA\",\n",
        "                            \"Pacific Ocean\":\"USA\"\n",
        "                            }, \n",
        "                           inplace=True)\n",
        "spacedf.replace({'Country': {'USA': 'United States of America', \n",
        "                             'North Korea':'Korea, Democratic People\\'s Republic of',\n",
        "                             \"Iran\":'Iran, Islamic Republic of',\n",
        "                             \"South Korea\":'Korea, Republic of'}}, inplace=True)\n",
        "spacedf.groupby(\"Country\",as_index=False).count()"
      ]
    },
    {
      "cell_type": "markdown",
      "metadata": {
        "id": "F3pwYSUlo_AK"
      },
      "source": [
        "# Use a Choropleth Map to Show the Number of Failures by Country\n"
      ]
    },
    {
      "cell_type": "code",
      "execution_count": 191,
      "metadata": {
        "id": "8BH4ICtro9I0"
      },
      "outputs": [
        {
          "data": {
            "text/html": [
              "<div>\n",
              "<style scoped>\n",
              "    .dataframe tbody tr th:only-of-type {\n",
              "        vertical-align: middle;\n",
              "    }\n",
              "\n",
              "    .dataframe tbody tr th {\n",
              "        vertical-align: top;\n",
              "    }\n",
              "\n",
              "    .dataframe thead th {\n",
              "        text-align: right;\n",
              "    }\n",
              "</style>\n",
              "<table border=\"1\" class=\"dataframe\">\n",
              "  <thead>\n",
              "    <tr style=\"text-align: right;\">\n",
              "      <th></th>\n",
              "      <th>Iso</th>\n",
              "      <th>Location</th>\n",
              "    </tr>\n",
              "  </thead>\n",
              "  <tbody>\n",
              "    <tr>\n",
              "      <th>1</th>\n",
              "      <td>BRA</td>\n",
              "      <td>3</td>\n",
              "    </tr>\n",
              "    <tr>\n",
              "      <th>10</th>\n",
              "      <td>KOR</td>\n",
              "      <td>3</td>\n",
              "    </tr>\n",
              "    <tr>\n",
              "      <th>12</th>\n",
              "      <td>PRK</td>\n",
              "      <td>5</td>\n",
              "    </tr>\n",
              "    <tr>\n",
              "      <th>0</th>\n",
              "      <td>AUS</td>\n",
              "      <td>6</td>\n",
              "    </tr>\n",
              "    <tr>\n",
              "      <th>9</th>\n",
              "      <td>KEN</td>\n",
              "      <td>9</td>\n",
              "    </tr>\n",
              "    <tr>\n",
              "      <th>6</th>\n",
              "      <td>ISR</td>\n",
              "      <td>11</td>\n",
              "    </tr>\n",
              "    <tr>\n",
              "      <th>11</th>\n",
              "      <td>NZL</td>\n",
              "      <td>13</td>\n",
              "    </tr>\n",
              "    <tr>\n",
              "      <th>5</th>\n",
              "      <td>IRN</td>\n",
              "      <td>14</td>\n",
              "    </tr>\n",
              "    <tr>\n",
              "      <th>4</th>\n",
              "      <td>IND</td>\n",
              "      <td>76</td>\n",
              "    </tr>\n",
              "    <tr>\n",
              "      <th>7</th>\n",
              "      <td>JPN</td>\n",
              "      <td>126</td>\n",
              "    </tr>\n",
              "    <tr>\n",
              "      <th>2</th>\n",
              "      <td>CHN</td>\n",
              "      <td>268</td>\n",
              "    </tr>\n",
              "    <tr>\n",
              "      <th>3</th>\n",
              "      <td>FRA</td>\n",
              "      <td>303</td>\n",
              "    </tr>\n",
              "    <tr>\n",
              "      <th>8</th>\n",
              "      <td>KAZ</td>\n",
              "      <td>701</td>\n",
              "    </tr>\n",
              "    <tr>\n",
              "      <th>14</th>\n",
              "      <td>USA</td>\n",
              "      <td>1387</td>\n",
              "    </tr>\n",
              "    <tr>\n",
              "      <th>13</th>\n",
              "      <td>RUS</td>\n",
              "      <td>1398</td>\n",
              "    </tr>\n",
              "  </tbody>\n",
              "</table>\n",
              "</div>"
            ],
            "text/plain": [
              "    Iso  Location\n",
              "1   BRA         3\n",
              "10  KOR         3\n",
              "12  PRK         5\n",
              "0   AUS         6\n",
              "9   KEN         9\n",
              "6   ISR        11\n",
              "11  NZL        13\n",
              "5   IRN        14\n",
              "4   IND        76\n",
              "7   JPN       126\n",
              "2   CHN       268\n",
              "3   FRA       303\n",
              "8   KAZ       701\n",
              "14  USA      1387\n",
              "13  RUS      1398"
            ]
          },
          "execution_count": 191,
          "metadata": {},
          "output_type": "execute_result"
        }
      ],
      "source": [
        "#Missing countries\n",
        "#Iran,North Korea\n",
        "# create a dictionary of country names to 3 letter ISO codes\n",
        "country_codes = {country.name: country.alpha3 for country in countries}\n",
        "country_codes['Korea, Republic of']\n",
        "\n",
        "# use the map function to convert the country names to ISO codes and set a default value for missing countries\n",
        "spacedf['Iso'] = spacedf['Country'].map(country_codes).fillna(\"Missing\")\n",
        "\n",
        "#i am losing 5 countries for some reason\n",
        "prizespercountry = spacedf.groupby(\"Iso\",as_index=False).agg({'Location':pd.Series.count}).sort_values(by='Location',ascending=True)\n",
        "prizespercountry\n"
      ]
    },
    {
      "cell_type": "code",
      "execution_count": 192,
      "metadata": {
        "id": "sfw-q7Obo9GM"
      },
      "outputs": [
        {
          "data": {
            "application/vnd.plotly.v1+json": {
              "config": {
                "plotlyServerURL": "https://plot.ly"
              },
              "data": [
                {
                  "coloraxis": "coloraxis",
                  "geo": "geo",
                  "hovertemplate": "<b>%{hovertext}</b><br><br>Iso=%{location}<br>Location=%{z}<extra></extra>",
                  "hovertext": [
                    "BRA",
                    "KOR",
                    "PRK",
                    "AUS",
                    "KEN",
                    "ISR",
                    "NZL",
                    "IRN",
                    "IND",
                    "JPN",
                    "CHN",
                    "FRA",
                    "KAZ",
                    "USA",
                    "RUS"
                  ],
                  "locations": [
                    "BRA",
                    "KOR",
                    "PRK",
                    "AUS",
                    "KEN",
                    "ISR",
                    "NZL",
                    "IRN",
                    "IND",
                    "JPN",
                    "CHN",
                    "FRA",
                    "KAZ",
                    "USA",
                    "RUS"
                  ],
                  "name": "",
                  "type": "choropleth",
                  "z": [
                    3,
                    3,
                    5,
                    6,
                    9,
                    11,
                    13,
                    14,
                    76,
                    126,
                    268,
                    303,
                    701,
                    1387,
                    1398
                  ]
                }
              ],
              "layout": {
                "coloraxis": {
                  "colorbar": {
                    "title": {
                      "text": "Location"
                    }
                  },
                  "colorscale": [
                    [
                      0,
                      "rgb(253, 237, 176)"
                    ],
                    [
                      0.09090909090909091,
                      "rgb(250, 205, 145)"
                    ],
                    [
                      0.18181818181818182,
                      "rgb(246, 173, 119)"
                    ],
                    [
                      0.2727272727272727,
                      "rgb(240, 142, 98)"
                    ],
                    [
                      0.36363636363636365,
                      "rgb(231, 109, 84)"
                    ],
                    [
                      0.45454545454545453,
                      "rgb(216, 80, 83)"
                    ],
                    [
                      0.5454545454545454,
                      "rgb(195, 56, 90)"
                    ],
                    [
                      0.6363636363636364,
                      "rgb(168, 40, 96)"
                    ],
                    [
                      0.7272727272727273,
                      "rgb(138, 29, 99)"
                    ],
                    [
                      0.8181818181818182,
                      "rgb(107, 24, 93)"
                    ],
                    [
                      0.9090909090909091,
                      "rgb(76, 21, 80)"
                    ],
                    [
                      1,
                      "rgb(47, 15, 61)"
                    ]
                  ]
                },
                "geo": {
                  "center": {},
                  "domain": {
                    "x": [
                      0,
                      1
                    ],
                    "y": [
                      0,
                      1
                    ]
                  }
                },
                "legend": {
                  "tracegroupgap": 0
                },
                "margin": {
                  "t": 60
                },
                "template": {
                  "data": {
                    "bar": [
                      {
                        "error_x": {
                          "color": "#2a3f5f"
                        },
                        "error_y": {
                          "color": "#2a3f5f"
                        },
                        "marker": {
                          "line": {
                            "color": "#E5ECF6",
                            "width": 0.5
                          },
                          "pattern": {
                            "fillmode": "overlay",
                            "size": 10,
                            "solidity": 0.2
                          }
                        },
                        "type": "bar"
                      }
                    ],
                    "barpolar": [
                      {
                        "marker": {
                          "line": {
                            "color": "#E5ECF6",
                            "width": 0.5
                          },
                          "pattern": {
                            "fillmode": "overlay",
                            "size": 10,
                            "solidity": 0.2
                          }
                        },
                        "type": "barpolar"
                      }
                    ],
                    "carpet": [
                      {
                        "aaxis": {
                          "endlinecolor": "#2a3f5f",
                          "gridcolor": "white",
                          "linecolor": "white",
                          "minorgridcolor": "white",
                          "startlinecolor": "#2a3f5f"
                        },
                        "baxis": {
                          "endlinecolor": "#2a3f5f",
                          "gridcolor": "white",
                          "linecolor": "white",
                          "minorgridcolor": "white",
                          "startlinecolor": "#2a3f5f"
                        },
                        "type": "carpet"
                      }
                    ],
                    "choropleth": [
                      {
                        "colorbar": {
                          "outlinewidth": 0,
                          "ticks": ""
                        },
                        "type": "choropleth"
                      }
                    ],
                    "contour": [
                      {
                        "colorbar": {
                          "outlinewidth": 0,
                          "ticks": ""
                        },
                        "colorscale": [
                          [
                            0,
                            "#0d0887"
                          ],
                          [
                            0.1111111111111111,
                            "#46039f"
                          ],
                          [
                            0.2222222222222222,
                            "#7201a8"
                          ],
                          [
                            0.3333333333333333,
                            "#9c179e"
                          ],
                          [
                            0.4444444444444444,
                            "#bd3786"
                          ],
                          [
                            0.5555555555555556,
                            "#d8576b"
                          ],
                          [
                            0.6666666666666666,
                            "#ed7953"
                          ],
                          [
                            0.7777777777777778,
                            "#fb9f3a"
                          ],
                          [
                            0.8888888888888888,
                            "#fdca26"
                          ],
                          [
                            1,
                            "#f0f921"
                          ]
                        ],
                        "type": "contour"
                      }
                    ],
                    "contourcarpet": [
                      {
                        "colorbar": {
                          "outlinewidth": 0,
                          "ticks": ""
                        },
                        "type": "contourcarpet"
                      }
                    ],
                    "heatmap": [
                      {
                        "colorbar": {
                          "outlinewidth": 0,
                          "ticks": ""
                        },
                        "colorscale": [
                          [
                            0,
                            "#0d0887"
                          ],
                          [
                            0.1111111111111111,
                            "#46039f"
                          ],
                          [
                            0.2222222222222222,
                            "#7201a8"
                          ],
                          [
                            0.3333333333333333,
                            "#9c179e"
                          ],
                          [
                            0.4444444444444444,
                            "#bd3786"
                          ],
                          [
                            0.5555555555555556,
                            "#d8576b"
                          ],
                          [
                            0.6666666666666666,
                            "#ed7953"
                          ],
                          [
                            0.7777777777777778,
                            "#fb9f3a"
                          ],
                          [
                            0.8888888888888888,
                            "#fdca26"
                          ],
                          [
                            1,
                            "#f0f921"
                          ]
                        ],
                        "type": "heatmap"
                      }
                    ],
                    "heatmapgl": [
                      {
                        "colorbar": {
                          "outlinewidth": 0,
                          "ticks": ""
                        },
                        "colorscale": [
                          [
                            0,
                            "#0d0887"
                          ],
                          [
                            0.1111111111111111,
                            "#46039f"
                          ],
                          [
                            0.2222222222222222,
                            "#7201a8"
                          ],
                          [
                            0.3333333333333333,
                            "#9c179e"
                          ],
                          [
                            0.4444444444444444,
                            "#bd3786"
                          ],
                          [
                            0.5555555555555556,
                            "#d8576b"
                          ],
                          [
                            0.6666666666666666,
                            "#ed7953"
                          ],
                          [
                            0.7777777777777778,
                            "#fb9f3a"
                          ],
                          [
                            0.8888888888888888,
                            "#fdca26"
                          ],
                          [
                            1,
                            "#f0f921"
                          ]
                        ],
                        "type": "heatmapgl"
                      }
                    ],
                    "histogram": [
                      {
                        "marker": {
                          "pattern": {
                            "fillmode": "overlay",
                            "size": 10,
                            "solidity": 0.2
                          }
                        },
                        "type": "histogram"
                      }
                    ],
                    "histogram2d": [
                      {
                        "colorbar": {
                          "outlinewidth": 0,
                          "ticks": ""
                        },
                        "colorscale": [
                          [
                            0,
                            "#0d0887"
                          ],
                          [
                            0.1111111111111111,
                            "#46039f"
                          ],
                          [
                            0.2222222222222222,
                            "#7201a8"
                          ],
                          [
                            0.3333333333333333,
                            "#9c179e"
                          ],
                          [
                            0.4444444444444444,
                            "#bd3786"
                          ],
                          [
                            0.5555555555555556,
                            "#d8576b"
                          ],
                          [
                            0.6666666666666666,
                            "#ed7953"
                          ],
                          [
                            0.7777777777777778,
                            "#fb9f3a"
                          ],
                          [
                            0.8888888888888888,
                            "#fdca26"
                          ],
                          [
                            1,
                            "#f0f921"
                          ]
                        ],
                        "type": "histogram2d"
                      }
                    ],
                    "histogram2dcontour": [
                      {
                        "colorbar": {
                          "outlinewidth": 0,
                          "ticks": ""
                        },
                        "colorscale": [
                          [
                            0,
                            "#0d0887"
                          ],
                          [
                            0.1111111111111111,
                            "#46039f"
                          ],
                          [
                            0.2222222222222222,
                            "#7201a8"
                          ],
                          [
                            0.3333333333333333,
                            "#9c179e"
                          ],
                          [
                            0.4444444444444444,
                            "#bd3786"
                          ],
                          [
                            0.5555555555555556,
                            "#d8576b"
                          ],
                          [
                            0.6666666666666666,
                            "#ed7953"
                          ],
                          [
                            0.7777777777777778,
                            "#fb9f3a"
                          ],
                          [
                            0.8888888888888888,
                            "#fdca26"
                          ],
                          [
                            1,
                            "#f0f921"
                          ]
                        ],
                        "type": "histogram2dcontour"
                      }
                    ],
                    "mesh3d": [
                      {
                        "colorbar": {
                          "outlinewidth": 0,
                          "ticks": ""
                        },
                        "type": "mesh3d"
                      }
                    ],
                    "parcoords": [
                      {
                        "line": {
                          "colorbar": {
                            "outlinewidth": 0,
                            "ticks": ""
                          }
                        },
                        "type": "parcoords"
                      }
                    ],
                    "pie": [
                      {
                        "automargin": true,
                        "type": "pie"
                      }
                    ],
                    "scatter": [
                      {
                        "fillpattern": {
                          "fillmode": "overlay",
                          "size": 10,
                          "solidity": 0.2
                        },
                        "type": "scatter"
                      }
                    ],
                    "scatter3d": [
                      {
                        "line": {
                          "colorbar": {
                            "outlinewidth": 0,
                            "ticks": ""
                          }
                        },
                        "marker": {
                          "colorbar": {
                            "outlinewidth": 0,
                            "ticks": ""
                          }
                        },
                        "type": "scatter3d"
                      }
                    ],
                    "scattercarpet": [
                      {
                        "marker": {
                          "colorbar": {
                            "outlinewidth": 0,
                            "ticks": ""
                          }
                        },
                        "type": "scattercarpet"
                      }
                    ],
                    "scattergeo": [
                      {
                        "marker": {
                          "colorbar": {
                            "outlinewidth": 0,
                            "ticks": ""
                          }
                        },
                        "type": "scattergeo"
                      }
                    ],
                    "scattergl": [
                      {
                        "marker": {
                          "colorbar": {
                            "outlinewidth": 0,
                            "ticks": ""
                          }
                        },
                        "type": "scattergl"
                      }
                    ],
                    "scattermapbox": [
                      {
                        "marker": {
                          "colorbar": {
                            "outlinewidth": 0,
                            "ticks": ""
                          }
                        },
                        "type": "scattermapbox"
                      }
                    ],
                    "scatterpolar": [
                      {
                        "marker": {
                          "colorbar": {
                            "outlinewidth": 0,
                            "ticks": ""
                          }
                        },
                        "type": "scatterpolar"
                      }
                    ],
                    "scatterpolargl": [
                      {
                        "marker": {
                          "colorbar": {
                            "outlinewidth": 0,
                            "ticks": ""
                          }
                        },
                        "type": "scatterpolargl"
                      }
                    ],
                    "scatterternary": [
                      {
                        "marker": {
                          "colorbar": {
                            "outlinewidth": 0,
                            "ticks": ""
                          }
                        },
                        "type": "scatterternary"
                      }
                    ],
                    "surface": [
                      {
                        "colorbar": {
                          "outlinewidth": 0,
                          "ticks": ""
                        },
                        "colorscale": [
                          [
                            0,
                            "#0d0887"
                          ],
                          [
                            0.1111111111111111,
                            "#46039f"
                          ],
                          [
                            0.2222222222222222,
                            "#7201a8"
                          ],
                          [
                            0.3333333333333333,
                            "#9c179e"
                          ],
                          [
                            0.4444444444444444,
                            "#bd3786"
                          ],
                          [
                            0.5555555555555556,
                            "#d8576b"
                          ],
                          [
                            0.6666666666666666,
                            "#ed7953"
                          ],
                          [
                            0.7777777777777778,
                            "#fb9f3a"
                          ],
                          [
                            0.8888888888888888,
                            "#fdca26"
                          ],
                          [
                            1,
                            "#f0f921"
                          ]
                        ],
                        "type": "surface"
                      }
                    ],
                    "table": [
                      {
                        "cells": {
                          "fill": {
                            "color": "#EBF0F8"
                          },
                          "line": {
                            "color": "white"
                          }
                        },
                        "header": {
                          "fill": {
                            "color": "#C8D4E3"
                          },
                          "line": {
                            "color": "white"
                          }
                        },
                        "type": "table"
                      }
                    ]
                  },
                  "layout": {
                    "annotationdefaults": {
                      "arrowcolor": "#2a3f5f",
                      "arrowhead": 0,
                      "arrowwidth": 1
                    },
                    "autotypenumbers": "strict",
                    "coloraxis": {
                      "colorbar": {
                        "outlinewidth": 0,
                        "ticks": ""
                      }
                    },
                    "colorscale": {
                      "diverging": [
                        [
                          0,
                          "#8e0152"
                        ],
                        [
                          0.1,
                          "#c51b7d"
                        ],
                        [
                          0.2,
                          "#de77ae"
                        ],
                        [
                          0.3,
                          "#f1b6da"
                        ],
                        [
                          0.4,
                          "#fde0ef"
                        ],
                        [
                          0.5,
                          "#f7f7f7"
                        ],
                        [
                          0.6,
                          "#e6f5d0"
                        ],
                        [
                          0.7,
                          "#b8e186"
                        ],
                        [
                          0.8,
                          "#7fbc41"
                        ],
                        [
                          0.9,
                          "#4d9221"
                        ],
                        [
                          1,
                          "#276419"
                        ]
                      ],
                      "sequential": [
                        [
                          0,
                          "#0d0887"
                        ],
                        [
                          0.1111111111111111,
                          "#46039f"
                        ],
                        [
                          0.2222222222222222,
                          "#7201a8"
                        ],
                        [
                          0.3333333333333333,
                          "#9c179e"
                        ],
                        [
                          0.4444444444444444,
                          "#bd3786"
                        ],
                        [
                          0.5555555555555556,
                          "#d8576b"
                        ],
                        [
                          0.6666666666666666,
                          "#ed7953"
                        ],
                        [
                          0.7777777777777778,
                          "#fb9f3a"
                        ],
                        [
                          0.8888888888888888,
                          "#fdca26"
                        ],
                        [
                          1,
                          "#f0f921"
                        ]
                      ],
                      "sequentialminus": [
                        [
                          0,
                          "#0d0887"
                        ],
                        [
                          0.1111111111111111,
                          "#46039f"
                        ],
                        [
                          0.2222222222222222,
                          "#7201a8"
                        ],
                        [
                          0.3333333333333333,
                          "#9c179e"
                        ],
                        [
                          0.4444444444444444,
                          "#bd3786"
                        ],
                        [
                          0.5555555555555556,
                          "#d8576b"
                        ],
                        [
                          0.6666666666666666,
                          "#ed7953"
                        ],
                        [
                          0.7777777777777778,
                          "#fb9f3a"
                        ],
                        [
                          0.8888888888888888,
                          "#fdca26"
                        ],
                        [
                          1,
                          "#f0f921"
                        ]
                      ]
                    },
                    "colorway": [
                      "#636efa",
                      "#EF553B",
                      "#00cc96",
                      "#ab63fa",
                      "#FFA15A",
                      "#19d3f3",
                      "#FF6692",
                      "#B6E880",
                      "#FF97FF",
                      "#FECB52"
                    ],
                    "font": {
                      "color": "#2a3f5f"
                    },
                    "geo": {
                      "bgcolor": "white",
                      "lakecolor": "white",
                      "landcolor": "#E5ECF6",
                      "showlakes": true,
                      "showland": true,
                      "subunitcolor": "white"
                    },
                    "hoverlabel": {
                      "align": "left"
                    },
                    "hovermode": "closest",
                    "mapbox": {
                      "style": "light"
                    },
                    "paper_bgcolor": "white",
                    "plot_bgcolor": "#E5ECF6",
                    "polar": {
                      "angularaxis": {
                        "gridcolor": "white",
                        "linecolor": "white",
                        "ticks": ""
                      },
                      "bgcolor": "#E5ECF6",
                      "radialaxis": {
                        "gridcolor": "white",
                        "linecolor": "white",
                        "ticks": ""
                      }
                    },
                    "scene": {
                      "xaxis": {
                        "backgroundcolor": "#E5ECF6",
                        "gridcolor": "white",
                        "gridwidth": 2,
                        "linecolor": "white",
                        "showbackground": true,
                        "ticks": "",
                        "zerolinecolor": "white"
                      },
                      "yaxis": {
                        "backgroundcolor": "#E5ECF6",
                        "gridcolor": "white",
                        "gridwidth": 2,
                        "linecolor": "white",
                        "showbackground": true,
                        "ticks": "",
                        "zerolinecolor": "white"
                      },
                      "zaxis": {
                        "backgroundcolor": "#E5ECF6",
                        "gridcolor": "white",
                        "gridwidth": 2,
                        "linecolor": "white",
                        "showbackground": true,
                        "ticks": "",
                        "zerolinecolor": "white"
                      }
                    },
                    "shapedefaults": {
                      "line": {
                        "color": "#2a3f5f"
                      }
                    },
                    "ternary": {
                      "aaxis": {
                        "gridcolor": "white",
                        "linecolor": "white",
                        "ticks": ""
                      },
                      "baxis": {
                        "gridcolor": "white",
                        "linecolor": "white",
                        "ticks": ""
                      },
                      "bgcolor": "#E5ECF6",
                      "caxis": {
                        "gridcolor": "white",
                        "linecolor": "white",
                        "ticks": ""
                      }
                    },
                    "title": {
                      "x": 0.05
                    },
                    "xaxis": {
                      "automargin": true,
                      "gridcolor": "white",
                      "linecolor": "white",
                      "ticks": "",
                      "title": {
                        "standoff": 15
                      },
                      "zerolinecolor": "white",
                      "zerolinewidth": 2
                    },
                    "yaxis": {
                      "automargin": true,
                      "gridcolor": "white",
                      "linecolor": "white",
                      "ticks": "",
                      "title": {
                        "standoff": 15
                      },
                      "zerolinecolor": "white",
                      "zerolinewidth": 2
                    }
                  }
                }
              }
            }
          },
          "metadata": {},
          "output_type": "display_data"
        }
      ],
      "source": [
        "fig= px.choropleth(prizespercountry,locations='Iso',color='Location',hover_name='Iso',\n",
        "                   color_continuous_scale=px.colors.sequential.matter )\n",
        "fig.show()\n"
      ]
    },
    {
      "cell_type": "markdown",
      "metadata": {
        "id": "9LqcqSrKa-qN",
        "papermill": {
          "duration": 0.039343,
          "end_time": "2020-10-20T21:34:06.591694",
          "exception": false,
          "start_time": "2020-10-20T21:34:06.552351",
          "status": "completed"
        },
        "tags": []
      },
      "source": [
        "# Create a Plotly Sunburst Chart of the countries, organisations, and mission status. "
      ]
    },
    {
      "cell_type": "code",
      "execution_count": 193,
      "metadata": {
        "id": "MwUfpoByo3_J"
      },
      "outputs": [
        {
          "data": {
            "text/html": [
              "<div>\n",
              "<style scoped>\n",
              "    .dataframe tbody tr th:only-of-type {\n",
              "        vertical-align: middle;\n",
              "    }\n",
              "\n",
              "    .dataframe tbody tr th {\n",
              "        vertical-align: top;\n",
              "    }\n",
              "\n",
              "    .dataframe thead th {\n",
              "        text-align: right;\n",
              "    }\n",
              "</style>\n",
              "<table border=\"1\" class=\"dataframe\">\n",
              "  <thead>\n",
              "    <tr style=\"text-align: right;\">\n",
              "      <th></th>\n",
              "      <th>Country</th>\n",
              "      <th>Organisation</th>\n",
              "      <th>Mission_Status</th>\n",
              "      <th>Location</th>\n",
              "    </tr>\n",
              "  </thead>\n",
              "  <tbody>\n",
              "    <tr>\n",
              "      <th>0</th>\n",
              "      <td>Australia</td>\n",
              "      <td>AMBA</td>\n",
              "      <td>Success</td>\n",
              "      <td>1</td>\n",
              "    </tr>\n",
              "    <tr>\n",
              "      <th>38</th>\n",
              "      <td>Japan</td>\n",
              "      <td>ISAS</td>\n",
              "      <td>Partial Failure</td>\n",
              "      <td>1</td>\n",
              "    </tr>\n",
              "    <tr>\n",
              "      <th>40</th>\n",
              "      <td>Japan</td>\n",
              "      <td>JAXA</td>\n",
              "      <td>Failure</td>\n",
              "      <td>1</td>\n",
              "    </tr>\n",
              "    <tr>\n",
              "      <th>46</th>\n",
              "      <td>Japan</td>\n",
              "      <td>UT</td>\n",
              "      <td>Success</td>\n",
              "      <td>1</td>\n",
              "    </tr>\n",
              "    <tr>\n",
              "      <th>48</th>\n",
              "      <td>Kazakhstan</td>\n",
              "      <td>ILS</td>\n",
              "      <td>Partial Failure</td>\n",
              "      <td>1</td>\n",
              "    </tr>\n",
              "    <tr>\n",
              "      <th>...</th>\n",
              "      <td>...</td>\n",
              "      <td>...</td>\n",
              "      <td>...</td>\n",
              "      <td>...</td>\n",
              "    </tr>\n",
              "    <tr>\n",
              "      <th>103</th>\n",
              "      <td>United States of America</td>\n",
              "      <td>General Dynamics</td>\n",
              "      <td>Success</td>\n",
              "      <td>203</td>\n",
              "    </tr>\n",
              "    <tr>\n",
              "      <th>9</th>\n",
              "      <td>China</td>\n",
              "      <td>CASC</td>\n",
              "      <td>Success</td>\n",
              "      <td>230</td>\n",
              "    </tr>\n",
              "    <tr>\n",
              "      <th>19</th>\n",
              "      <td>France</td>\n",
              "      <td>Arianespace</td>\n",
              "      <td>Success</td>\n",
              "      <td>267</td>\n",
              "    </tr>\n",
              "    <tr>\n",
              "      <th>58</th>\n",
              "      <td>Kazakhstan</td>\n",
              "      <td>RVSN USSR</td>\n",
              "      <td>Success</td>\n",
              "      <td>495</td>\n",
              "    </tr>\n",
              "    <tr>\n",
              "      <th>81</th>\n",
              "      <td>Russian Federation</td>\n",
              "      <td>RVSN USSR</td>\n",
              "      <td>Success</td>\n",
              "      <td>1119</td>\n",
              "    </tr>\n",
              "  </tbody>\n",
              "</table>\n",
              "<p>132 rows × 4 columns</p>\n",
              "</div>"
            ],
            "text/plain": [
              "                      Country      Organisation   Mission_Status  Location\n",
              "0                   Australia              AMBA          Success         1\n",
              "38                      Japan              ISAS  Partial Failure         1\n",
              "40                      Japan              JAXA          Failure         1\n",
              "46                      Japan                UT          Success         1\n",
              "48                 Kazakhstan               ILS  Partial Failure         1\n",
              "..                        ...               ...              ...       ...\n",
              "103  United States of America  General Dynamics          Success       203\n",
              "9                       China              CASC          Success       230\n",
              "19                     France       Arianespace          Success       267\n",
              "58                 Kazakhstan         RVSN USSR          Success       495\n",
              "81         Russian Federation         RVSN USSR          Success      1119\n",
              "\n",
              "[132 rows x 4 columns]"
            ]
          },
          "execution_count": 193,
          "metadata": {},
          "output_type": "execute_result"
        }
      ],
      "source": [
        "top_organizations = spacedf.groupby(['Country', 'Organisation', 'Mission_Status'],as_index=False).agg({'Location':pd.Series.count}).sort_values(by='Location',ascending=True)\n",
        "top_organizations\n"
      ]
    },
    {
      "cell_type": "code",
      "execution_count": 194,
      "metadata": {
        "id": "-ZwZkx1ro4X9"
      },
      "outputs": [
        {
          "data": {
            "application/vnd.plotly.v1+json": {
              "config": {
                "plotlyServerURL": "https://plot.ly"
              },
              "data": [
                {
                  "branchvalues": "total",
                  "customdata": [
                    [
                      2
                    ],
                    [
                      3
                    ],
                    [
                      7
                    ],
                    [
                      3
                    ],
                    [
                      14
                    ],
                    [
                      2
                    ],
                    [
                      2
                    ],
                    [
                      1
                    ],
                    [
                      2
                    ],
                    [
                      1
                    ],
                    [
                      3
                    ],
                    [
                      1
                    ],
                    [
                      1
                    ],
                    [
                      1
                    ],
                    [
                      37
                    ],
                    [
                      2
                    ],
                    [
                      8
                    ],
                    [
                      3
                    ],
                    [
                      8
                    ],
                    [
                      1
                    ],
                    [
                      2
                    ],
                    [
                      3
                    ],
                    [
                      1
                    ],
                    [
                      1
                    ],
                    [
                      5
                    ],
                    [
                      2
                    ],
                    [
                      1
                    ],
                    [
                      11
                    ],
                    [
                      11
                    ],
                    [
                      7
                    ],
                    [
                      1
                    ],
                    [
                      1
                    ],
                    [
                      66
                    ],
                    [
                      55
                    ],
                    [
                      2
                    ],
                    [
                      2
                    ],
                    [
                      1
                    ],
                    [
                      1
                    ],
                    [
                      1
                    ],
                    [
                      3
                    ],
                    [
                      4
                    ],
                    [
                      30
                    ],
                    [
                      14
                    ],
                    [
                      4
                    ],
                    [
                      3
                    ],
                    [
                      4
                    ],
                    [
                      1
                    ],
                    [
                      1
                    ],
                    [
                      3
                    ],
                    [
                      1
                    ],
                    [
                      2
                    ],
                    [
                      6
                    ],
                    [
                      1
                    ],
                    [
                      3
                    ],
                    [
                      11
                    ],
                    [
                      1
                    ],
                    [
                      1
                    ],
                    [
                      5
                    ],
                    [
                      1
                    ],
                    [
                      2
                    ],
                    [
                      3
                    ],
                    [
                      6
                    ],
                    [
                      2
                    ],
                    [
                      17
                    ],
                    [
                      24
                    ],
                    [
                      1
                    ],
                    [
                      1
                    ],
                    [
                      1
                    ],
                    [
                      2
                    ],
                    [
                      1
                    ],
                    [
                      6
                    ],
                    [
                      1
                    ],
                    [
                      1
                    ],
                    [
                      1
                    ],
                    [
                      1
                    ],
                    [
                      1
                    ],
                    [
                      3
                    ],
                    [
                      9
                    ],
                    [
                      267
                    ],
                    [
                      2
                    ],
                    [
                      3
                    ],
                    [
                      12
                    ],
                    [
                      131
                    ],
                    [
                      230
                    ],
                    [
                      3
                    ],
                    [
                      1
                    ],
                    [
                      6
                    ],
                    [
                      1
                    ],
                    [
                      9
                    ],
                    [
                      12
                    ],
                    [
                      9
                    ],
                    [
                      203
                    ],
                    [
                      9
                    ],
                    [
                      5
                    ],
                    [
                      40
                    ],
                    [
                      1
                    ],
                    [
                      4
                    ],
                    [
                      26
                    ],
                    [
                      63
                    ],
                    [
                      6
                    ],
                    [
                      1
                    ],
                    [
                      2
                    ],
                    [
                      1
                    ],
                    [
                      11
                    ],
                    [
                      10
                    ],
                    [
                      6
                    ],
                    [
                      74
                    ],
                    [
                      80
                    ],
                    [
                      6
                    ],
                    [
                      100
                    ],
                    [
                      186
                    ],
                    [
                      74
                    ],
                    [
                      2
                    ],
                    [
                      1
                    ],
                    [
                      495
                    ],
                    [
                      1119
                    ],
                    [
                      11
                    ],
                    [
                      44
                    ],
                    [
                      7
                    ],
                    [
                      2
                    ],
                    [
                      33
                    ],
                    [
                      94
                    ],
                    [
                      1
                    ],
                    [
                      139
                    ],
                    [
                      129
                    ],
                    [
                      2
                    ],
                    [
                      1
                    ],
                    [
                      41
                    ],
                    [
                      147
                    ],
                    [
                      1
                    ],
                    [
                      1
                    ],
                    [
                      1
                    ],
                    [
                      3
                    ],
                    [
                      1
                    ],
                    [
                      7
                    ],
                    [
                      9
                    ],
                    [
                      277
                    ],
                    [
                      2
                    ],
                    [
                      4
                    ],
                    [
                      12
                    ],
                    [
                      136
                    ],
                    [
                      250
                    ],
                    [
                      5
                    ],
                    [
                      3
                    ],
                    [
                      1
                    ],
                    [
                      8
                    ],
                    [
                      1
                    ],
                    [
                      1
                    ],
                    [
                      13
                    ],
                    [
                      13
                    ],
                    [
                      10
                    ],
                    [
                      4
                    ],
                    [
                      251
                    ],
                    [
                      11
                    ],
                    [
                      6
                    ],
                    [
                      40
                    ],
                    [
                      1
                    ],
                    [
                      13
                    ],
                    [
                      30
                    ],
                    [
                      76
                    ],
                    [
                      7
                    ],
                    [
                      3
                    ],
                    [
                      5
                    ],
                    [
                      1
                    ],
                    [
                      12
                    ],
                    [
                      10
                    ],
                    [
                      7
                    ],
                    [
                      1
                    ],
                    [
                      79
                    ],
                    [
                      84
                    ],
                    [
                      7
                    ],
                    [
                      114
                    ],
                    [
                      203
                    ],
                    [
                      83
                    ],
                    [
                      2
                    ],
                    [
                      1
                    ],
                    [
                      2
                    ],
                    [
                      579
                    ],
                    [
                      1198
                    ],
                    [
                      13
                    ],
                    [
                      47
                    ],
                    [
                      8
                    ],
                    [
                      3
                    ],
                    [
                      1
                    ],
                    [
                      36
                    ],
                    [
                      100
                    ],
                    [
                      1
                    ],
                    [
                      140
                    ],
                    [
                      161
                    ],
                    [
                      17
                    ],
                    [
                      5
                    ],
                    [
                      44
                    ],
                    [
                      157
                    ],
                    [
                      1
                    ],
                    [
                      1
                    ],
                    [
                      1
                    ],
                    [
                      1
                    ],
                    [
                      6
                    ],
                    [
                      3
                    ],
                    [
                      268
                    ],
                    [
                      303
                    ],
                    [
                      76
                    ],
                    [
                      14
                    ],
                    [
                      11
                    ],
                    [
                      126
                    ],
                    [
                      701
                    ],
                    [
                      9
                    ],
                    [
                      5
                    ],
                    [
                      3
                    ],
                    [
                      13
                    ],
                    [
                      1398
                    ],
                    [
                      1387
                    ]
                  ],
                  "domain": {
                    "x": [
                      0,
                      1
                    ],
                    "y": [
                      0,
                      1
                    ]
                  },
                  "hovertemplate": "labels=%{label}<br>Location=%{customdata[0]}<br>parent=%{parent}<br>id=%{id}<extra></extra>",
                  "ids": [
                    "Brazil/AEB/Failure",
                    "United States of America/AMBA/Failure",
                    "France/Arianespace/Failure",
                    "United States of America/Boeing/Failure",
                    "China/CASC/Failure",
                    "China/CASIC/Failure",
                    "Australia/CECLES/Failure",
                    "France/CECLES/Failure",
                    "France/CNES/Failure",
                    "United States of America/EER/Failure",
                    "France/ESA/Failure",
                    "Russian Federation/Eurockot/Failure",
                    "China/ExPace/Failure",
                    "United States of America/Exos/Failure",
                    "United States of America/General Dynamics/Failure",
                    "Israel/IAI/Failure",
                    "Iran, Islamic Republic of/ISA/Failure",
                    "Japan/ISAS/Failure",
                    "India/ISRO/Failure",
                    "Japan/JAXA/Failure",
                    "Korea, Republic of/KARI/Failure",
                    "Korea, Democratic People's Republic of/KCST/Failure",
                    "Kazakhstan/Kosmotras/Failure",
                    "China/Landspace/Failure",
                    "United States of America/Lockheed/Failure",
                    "Japan/MHI/Failure",
                    "Russian Federation/MITT/Failure",
                    "United States of America/Martin Marietta/Failure",
                    "United States of America/NASA/Failure",
                    "United States of America/Northrop/Failure",
                    "China/OneSpace/Failure",
                    "Australia/RAE/Failure",
                    "Kazakhstan/RVSN USSR/Failure",
                    "Russian Federation/RVSN USSR/Failure",
                    "New Zealand/Rocket Lab/Failure",
                    "Kazakhstan/Roscosmos/Failure",
                    "Russian Federation/Roscosmos/Failure",
                    "Russian Federation/SRC/Failure",
                    "United States of America/Sandia/Failure",
                    "United States of America/Sea Launch/Failure",
                    "United States of America/SpaceX/Failure",
                    "United States of America/US Air Force/Failure",
                    "United States of America/US Navy/Failure",
                    "Japan/UT/Failure",
                    "Kazakhstan/VKS RF/Failure",
                    "Russian Federation/VKS RF/Failure",
                    "United States of America/Virgin Orbit/Failure",
                    "United States of America/AMBA/Partial Failure",
                    "France/Arianespace/Partial Failure",
                    "France/Arm??e de l'Air/Partial Failure",
                    "United States of America/Boeing/Partial Failure",
                    "China/CASC/Partial Failure",
                    "France/ESA/Partial Failure",
                    "United States of America/Exos/Partial Failure",
                    "United States of America/General Dynamics/Partial Failure",
                    "Kazakhstan/ILS/Partial Failure",
                    "Japan/ISAS/Partial Failure",
                    "India/ISRO/Partial Failure",
                    "Kazakhstan/Land Launch/Partial Failure",
                    "Japan/MHI/Partial Failure",
                    "United States of America/Martin Marietta/Partial Failure",
                    "United States of America/NASA/Partial Failure",
                    "United States of America/Northrop/Partial Failure",
                    "Kazakhstan/RVSN USSR/Partial Failure",
                    "Russian Federation/RVSN USSR/Partial Failure",
                    "Kazakhstan/Roscosmos/Partial Failure",
                    "United States of America/SpaceX/Partial Failure",
                    "United States of America/ULA/Partial Failure",
                    "United States of America/US Air Force/Partial Failure",
                    "United States of America/US Navy/Partial Failure",
                    "Russian Federation/VKS RF/Partial Failure",
                    "Brazil/AEB/Prelaunch Failure",
                    "Iran, Islamic Republic of/ISA/Prelaunch Failure",
                    "Kazakhstan/RVSN USSR/Prelaunch Failure",
                    "United States of America/SpaceX/Prelaunch Failure",
                    "Australia/AMBA/Success",
                    "United States of America/AMBA/Success",
                    "Kenya/ASI/Success",
                    "France/Arianespace/Success",
                    "Kazakhstan/Arianespace/Success",
                    "France/Arm??e de l'Air/Success",
                    "United States of America/Blue Origin/Success",
                    "United States of America/Boeing/Success",
                    "China/CASC/Success",
                    "China/CASIC/Success",
                    "Australia/CECLES/Success",
                    "France/CNES/Success",
                    "United States of America/Douglas/Success",
                    "France/ESA/Success",
                    "Russian Federation/Eurockot/Success",
                    "China/ExPace/Success",
                    "United States of America/General Dynamics/Success",
                    "Israel/IAI/Success",
                    "Kazakhstan/ILS/Success",
                    "United States of America/ILS/Success",
                    "Iran, Islamic Republic of/IRGC/Success",
                    "Iran, Islamic Republic of/ISA/Success",
                    "Japan/ISAS/Success",
                    "India/ISRO/Success",
                    "Japan/JAXA/Success",
                    "Korea, Republic of/KARI/Success",
                    "Korea, Democratic People's Republic of/KCST/Success",
                    "Russian Federation/Khrunichev/Success",
                    "Kazakhstan/Kosmotras/Success",
                    "Russian Federation/Kosmotras/Success",
                    "Kazakhstan/Land Launch/Success",
                    "United States of America/Lockheed/Success",
                    "Japan/MHI/Success",
                    "Russian Federation/MITT/Success",
                    "United States of America/Martin Marietta/Success",
                    "United States of America/NASA/Success",
                    "United States of America/Northrop/Success",
                    "Kazakhstan/OKB-586/Success",
                    "Australia/RAE/Success",
                    "Kazakhstan/RVSN USSR/Success",
                    "Russian Federation/RVSN USSR/Success",
                    "New Zealand/Rocket Lab/Success",
                    "Kazakhstan/Roscosmos/Success",
                    "Russian Federation/Roscosmos/Success",
                    "Russian Federation/SRC/Success",
                    "United States of America/Sea Launch/Success",
                    "United States of America/SpaceX/Success",
                    "Kazakhstan/Starsem/Success",
                    "United States of America/ULA/Success",
                    "United States of America/US Air Force/Success",
                    "United States of America/US Navy/Success",
                    "Japan/UT/Success",
                    "Kazakhstan/VKS RF/Success",
                    "Russian Federation/VKS RF/Success",
                    "Kazakhstan/Yuzhmash/Success",
                    "Russian Federation/Yuzhmash/Success",
                    "China/i-Space/Success",
                    "Brazil/AEB",
                    "Australia/AMBA",
                    "United States of America/AMBA",
                    "Kenya/ASI",
                    "France/Arianespace",
                    "Kazakhstan/Arianespace",
                    "France/Arm??e de l'Air",
                    "United States of America/Blue Origin",
                    "United States of America/Boeing",
                    "China/CASC",
                    "China/CASIC",
                    "Australia/CECLES",
                    "France/CECLES",
                    "France/CNES",
                    "United States of America/Douglas",
                    "United States of America/EER",
                    "France/ESA",
                    "Russian Federation/Eurockot",
                    "China/ExPace",
                    "United States of America/Exos",
                    "United States of America/General Dynamics",
                    "Israel/IAI",
                    "Kazakhstan/ILS",
                    "United States of America/ILS",
                    "Iran, Islamic Republic of/IRGC",
                    "Iran, Islamic Republic of/ISA",
                    "Japan/ISAS",
                    "India/ISRO",
                    "Japan/JAXA",
                    "Korea, Republic of/KARI",
                    "Korea, Democratic People's Republic of/KCST",
                    "Russian Federation/Khrunichev",
                    "Kazakhstan/Kosmotras",
                    "Russian Federation/Kosmotras",
                    "Kazakhstan/Land Launch",
                    "China/Landspace",
                    "United States of America/Lockheed",
                    "Japan/MHI",
                    "Russian Federation/MITT",
                    "United States of America/Martin Marietta",
                    "United States of America/NASA",
                    "United States of America/Northrop",
                    "Kazakhstan/OKB-586",
                    "China/OneSpace",
                    "Australia/RAE",
                    "Kazakhstan/RVSN USSR",
                    "Russian Federation/RVSN USSR",
                    "New Zealand/Rocket Lab",
                    "Kazakhstan/Roscosmos",
                    "Russian Federation/Roscosmos",
                    "Russian Federation/SRC",
                    "United States of America/Sandia",
                    "United States of America/Sea Launch",
                    "United States of America/SpaceX",
                    "Kazakhstan/Starsem",
                    "United States of America/ULA",
                    "United States of America/US Air Force",
                    "United States of America/US Navy",
                    "Japan/UT",
                    "Kazakhstan/VKS RF",
                    "Russian Federation/VKS RF",
                    "United States of America/Virgin Orbit",
                    "Kazakhstan/Yuzhmash",
                    "Russian Federation/Yuzhmash",
                    "China/i-Space",
                    "Australia",
                    "Brazil",
                    "China",
                    "France",
                    "India",
                    "Iran, Islamic Republic of",
                    "Israel",
                    "Japan",
                    "Kazakhstan",
                    "Kenya",
                    "Korea, Democratic People's Republic of",
                    "Korea, Republic of",
                    "New Zealand",
                    "Russian Federation",
                    "United States of America"
                  ],
                  "labels": [
                    "Failure",
                    "Failure",
                    "Failure",
                    "Failure",
                    "Failure",
                    "Failure",
                    "Failure",
                    "Failure",
                    "Failure",
                    "Failure",
                    "Failure",
                    "Failure",
                    "Failure",
                    "Failure",
                    "Failure",
                    "Failure",
                    "Failure",
                    "Failure",
                    "Failure",
                    "Failure",
                    "Failure",
                    "Failure",
                    "Failure",
                    "Failure",
                    "Failure",
                    "Failure",
                    "Failure",
                    "Failure",
                    "Failure",
                    "Failure",
                    "Failure",
                    "Failure",
                    "Failure",
                    "Failure",
                    "Failure",
                    "Failure",
                    "Failure",
                    "Failure",
                    "Failure",
                    "Failure",
                    "Failure",
                    "Failure",
                    "Failure",
                    "Failure",
                    "Failure",
                    "Failure",
                    "Failure",
                    "Partial Failure",
                    "Partial Failure",
                    "Partial Failure",
                    "Partial Failure",
                    "Partial Failure",
                    "Partial Failure",
                    "Partial Failure",
                    "Partial Failure",
                    "Partial Failure",
                    "Partial Failure",
                    "Partial Failure",
                    "Partial Failure",
                    "Partial Failure",
                    "Partial Failure",
                    "Partial Failure",
                    "Partial Failure",
                    "Partial Failure",
                    "Partial Failure",
                    "Partial Failure",
                    "Partial Failure",
                    "Partial Failure",
                    "Partial Failure",
                    "Partial Failure",
                    "Partial Failure",
                    "Prelaunch Failure",
                    "Prelaunch Failure",
                    "Prelaunch Failure",
                    "Prelaunch Failure",
                    "Success",
                    "Success",
                    "Success",
                    "Success",
                    "Success",
                    "Success",
                    "Success",
                    "Success",
                    "Success",
                    "Success",
                    "Success",
                    "Success",
                    "Success",
                    "Success",
                    "Success",
                    "Success",
                    "Success",
                    "Success",
                    "Success",
                    "Success",
                    "Success",
                    "Success",
                    "Success",
                    "Success",
                    "Success",
                    "Success",
                    "Success",
                    "Success",
                    "Success",
                    "Success",
                    "Success",
                    "Success",
                    "Success",
                    "Success",
                    "Success",
                    "Success",
                    "Success",
                    "Success",
                    "Success",
                    "Success",
                    "Success",
                    "Success",
                    "Success",
                    "Success",
                    "Success",
                    "Success",
                    "Success",
                    "Success",
                    "Success",
                    "Success",
                    "Success",
                    "Success",
                    "Success",
                    "Success",
                    "Success",
                    "Success",
                    "Success",
                    "AEB",
                    "AMBA",
                    "AMBA",
                    "ASI",
                    "Arianespace",
                    "Arianespace",
                    "Arm??e de l'Air",
                    "Blue Origin",
                    "Boeing",
                    "CASC",
                    "CASIC",
                    "CECLES",
                    "CECLES",
                    "CNES",
                    "Douglas",
                    "EER",
                    "ESA",
                    "Eurockot",
                    "ExPace",
                    "Exos",
                    "General Dynamics",
                    "IAI",
                    "ILS",
                    "ILS",
                    "IRGC",
                    "ISA",
                    "ISAS",
                    "ISRO",
                    "JAXA",
                    "KARI",
                    "KCST",
                    "Khrunichev",
                    "Kosmotras",
                    "Kosmotras",
                    "Land Launch",
                    "Landspace",
                    "Lockheed",
                    "MHI",
                    "MITT",
                    "Martin Marietta",
                    "NASA",
                    "Northrop",
                    "OKB-586",
                    "OneSpace",
                    "RAE",
                    "RVSN USSR",
                    "RVSN USSR",
                    "Rocket Lab",
                    "Roscosmos",
                    "Roscosmos",
                    "SRC",
                    "Sandia",
                    "Sea Launch",
                    "SpaceX",
                    "Starsem",
                    "ULA",
                    "US Air Force",
                    "US Navy",
                    "UT",
                    "VKS RF",
                    "VKS RF",
                    "Virgin Orbit",
                    "Yuzhmash",
                    "Yuzhmash",
                    "i-Space",
                    "Australia",
                    "Brazil",
                    "China",
                    "France",
                    "India",
                    "Iran, Islamic Republic of",
                    "Israel",
                    "Japan",
                    "Kazakhstan",
                    "Kenya",
                    "Korea, Democratic People's Republic of",
                    "Korea, Republic of",
                    "New Zealand",
                    "Russian Federation",
                    "United States of America"
                  ],
                  "name": "",
                  "parents": [
                    "Brazil/AEB",
                    "United States of America/AMBA",
                    "France/Arianespace",
                    "United States of America/Boeing",
                    "China/CASC",
                    "China/CASIC",
                    "Australia/CECLES",
                    "France/CECLES",
                    "France/CNES",
                    "United States of America/EER",
                    "France/ESA",
                    "Russian Federation/Eurockot",
                    "China/ExPace",
                    "United States of America/Exos",
                    "United States of America/General Dynamics",
                    "Israel/IAI",
                    "Iran, Islamic Republic of/ISA",
                    "Japan/ISAS",
                    "India/ISRO",
                    "Japan/JAXA",
                    "Korea, Republic of/KARI",
                    "Korea, Democratic People's Republic of/KCST",
                    "Kazakhstan/Kosmotras",
                    "China/Landspace",
                    "United States of America/Lockheed",
                    "Japan/MHI",
                    "Russian Federation/MITT",
                    "United States of America/Martin Marietta",
                    "United States of America/NASA",
                    "United States of America/Northrop",
                    "China/OneSpace",
                    "Australia/RAE",
                    "Kazakhstan/RVSN USSR",
                    "Russian Federation/RVSN USSR",
                    "New Zealand/Rocket Lab",
                    "Kazakhstan/Roscosmos",
                    "Russian Federation/Roscosmos",
                    "Russian Federation/SRC",
                    "United States of America/Sandia",
                    "United States of America/Sea Launch",
                    "United States of America/SpaceX",
                    "United States of America/US Air Force",
                    "United States of America/US Navy",
                    "Japan/UT",
                    "Kazakhstan/VKS RF",
                    "Russian Federation/VKS RF",
                    "United States of America/Virgin Orbit",
                    "United States of America/AMBA",
                    "France/Arianespace",
                    "France/Arm??e de l'Air",
                    "United States of America/Boeing",
                    "China/CASC",
                    "France/ESA",
                    "United States of America/Exos",
                    "United States of America/General Dynamics",
                    "Kazakhstan/ILS",
                    "Japan/ISAS",
                    "India/ISRO",
                    "Kazakhstan/Land Launch",
                    "Japan/MHI",
                    "United States of America/Martin Marietta",
                    "United States of America/NASA",
                    "United States of America/Northrop",
                    "Kazakhstan/RVSN USSR",
                    "Russian Federation/RVSN USSR",
                    "Kazakhstan/Roscosmos",
                    "United States of America/SpaceX",
                    "United States of America/ULA",
                    "United States of America/US Air Force",
                    "United States of America/US Navy",
                    "Russian Federation/VKS RF",
                    "Brazil/AEB",
                    "Iran, Islamic Republic of/ISA",
                    "Kazakhstan/RVSN USSR",
                    "United States of America/SpaceX",
                    "Australia/AMBA",
                    "United States of America/AMBA",
                    "Kenya/ASI",
                    "France/Arianespace",
                    "Kazakhstan/Arianespace",
                    "France/Arm??e de l'Air",
                    "United States of America/Blue Origin",
                    "United States of America/Boeing",
                    "China/CASC",
                    "China/CASIC",
                    "Australia/CECLES",
                    "France/CNES",
                    "United States of America/Douglas",
                    "France/ESA",
                    "Russian Federation/Eurockot",
                    "China/ExPace",
                    "United States of America/General Dynamics",
                    "Israel/IAI",
                    "Kazakhstan/ILS",
                    "United States of America/ILS",
                    "Iran, Islamic Republic of/IRGC",
                    "Iran, Islamic Republic of/ISA",
                    "Japan/ISAS",
                    "India/ISRO",
                    "Japan/JAXA",
                    "Korea, Republic of/KARI",
                    "Korea, Democratic People's Republic of/KCST",
                    "Russian Federation/Khrunichev",
                    "Kazakhstan/Kosmotras",
                    "Russian Federation/Kosmotras",
                    "Kazakhstan/Land Launch",
                    "United States of America/Lockheed",
                    "Japan/MHI",
                    "Russian Federation/MITT",
                    "United States of America/Martin Marietta",
                    "United States of America/NASA",
                    "United States of America/Northrop",
                    "Kazakhstan/OKB-586",
                    "Australia/RAE",
                    "Kazakhstan/RVSN USSR",
                    "Russian Federation/RVSN USSR",
                    "New Zealand/Rocket Lab",
                    "Kazakhstan/Roscosmos",
                    "Russian Federation/Roscosmos",
                    "Russian Federation/SRC",
                    "United States of America/Sea Launch",
                    "United States of America/SpaceX",
                    "Kazakhstan/Starsem",
                    "United States of America/ULA",
                    "United States of America/US Air Force",
                    "United States of America/US Navy",
                    "Japan/UT",
                    "Kazakhstan/VKS RF",
                    "Russian Federation/VKS RF",
                    "Kazakhstan/Yuzhmash",
                    "Russian Federation/Yuzhmash",
                    "China/i-Space",
                    "Brazil",
                    "Australia",
                    "United States of America",
                    "Kenya",
                    "France",
                    "Kazakhstan",
                    "France",
                    "United States of America",
                    "United States of America",
                    "China",
                    "China",
                    "Australia",
                    "France",
                    "France",
                    "United States of America",
                    "United States of America",
                    "France",
                    "Russian Federation",
                    "China",
                    "United States of America",
                    "United States of America",
                    "Israel",
                    "Kazakhstan",
                    "United States of America",
                    "Iran, Islamic Republic of",
                    "Iran, Islamic Republic of",
                    "Japan",
                    "India",
                    "Japan",
                    "Korea, Republic of",
                    "Korea, Democratic People's Republic of",
                    "Russian Federation",
                    "Kazakhstan",
                    "Russian Federation",
                    "Kazakhstan",
                    "China",
                    "United States of America",
                    "Japan",
                    "Russian Federation",
                    "United States of America",
                    "United States of America",
                    "United States of America",
                    "Kazakhstan",
                    "China",
                    "Australia",
                    "Kazakhstan",
                    "Russian Federation",
                    "New Zealand",
                    "Kazakhstan",
                    "Russian Federation",
                    "Russian Federation",
                    "United States of America",
                    "United States of America",
                    "United States of America",
                    "Kazakhstan",
                    "United States of America",
                    "United States of America",
                    "United States of America",
                    "Japan",
                    "Kazakhstan",
                    "Russian Federation",
                    "United States of America",
                    "Kazakhstan",
                    "Russian Federation",
                    "China",
                    "",
                    "",
                    "",
                    "",
                    "",
                    "",
                    "",
                    "",
                    "",
                    "",
                    "",
                    "",
                    "",
                    "",
                    ""
                  ],
                  "type": "sunburst",
                  "values": [
                    2,
                    3,
                    7,
                    3,
                    14,
                    2,
                    2,
                    1,
                    2,
                    1,
                    3,
                    1,
                    1,
                    1,
                    37,
                    2,
                    8,
                    3,
                    8,
                    1,
                    2,
                    3,
                    1,
                    1,
                    5,
                    2,
                    1,
                    11,
                    11,
                    7,
                    1,
                    1,
                    66,
                    55,
                    2,
                    2,
                    1,
                    1,
                    1,
                    3,
                    4,
                    30,
                    14,
                    4,
                    3,
                    4,
                    1,
                    1,
                    3,
                    1,
                    2,
                    6,
                    1,
                    3,
                    11,
                    1,
                    1,
                    5,
                    1,
                    2,
                    3,
                    6,
                    2,
                    17,
                    24,
                    1,
                    1,
                    1,
                    2,
                    1,
                    6,
                    1,
                    1,
                    1,
                    1,
                    1,
                    3,
                    9,
                    267,
                    2,
                    3,
                    12,
                    131,
                    230,
                    3,
                    1,
                    6,
                    1,
                    9,
                    12,
                    9,
                    203,
                    9,
                    5,
                    40,
                    1,
                    4,
                    26,
                    63,
                    6,
                    1,
                    2,
                    1,
                    11,
                    10,
                    6,
                    74,
                    80,
                    6,
                    100,
                    186,
                    74,
                    2,
                    1,
                    495,
                    1119,
                    11,
                    44,
                    7,
                    2,
                    33,
                    94,
                    1,
                    139,
                    129,
                    2,
                    1,
                    41,
                    147,
                    1,
                    1,
                    1,
                    3,
                    1,
                    7,
                    9,
                    277,
                    2,
                    4,
                    12,
                    136,
                    250,
                    5,
                    3,
                    1,
                    8,
                    1,
                    1,
                    13,
                    13,
                    10,
                    4,
                    251,
                    11,
                    6,
                    40,
                    1,
                    13,
                    30,
                    76,
                    7,
                    3,
                    5,
                    1,
                    12,
                    10,
                    7,
                    1,
                    79,
                    84,
                    7,
                    114,
                    203,
                    83,
                    2,
                    1,
                    2,
                    579,
                    1198,
                    13,
                    47,
                    8,
                    3,
                    1,
                    36,
                    100,
                    1,
                    140,
                    161,
                    17,
                    5,
                    44,
                    157,
                    1,
                    1,
                    1,
                    1,
                    6,
                    3,
                    268,
                    303,
                    76,
                    14,
                    11,
                    126,
                    701,
                    9,
                    5,
                    3,
                    13,
                    1398,
                    1387
                  ]
                }
              ],
              "layout": {
                "coloraxis": {
                  "showscale": false
                },
                "legend": {
                  "tracegroupgap": 0
                },
                "template": {
                  "data": {
                    "bar": [
                      {
                        "error_x": {
                          "color": "#2a3f5f"
                        },
                        "error_y": {
                          "color": "#2a3f5f"
                        },
                        "marker": {
                          "line": {
                            "color": "#E5ECF6",
                            "width": 0.5
                          },
                          "pattern": {
                            "fillmode": "overlay",
                            "size": 10,
                            "solidity": 0.2
                          }
                        },
                        "type": "bar"
                      }
                    ],
                    "barpolar": [
                      {
                        "marker": {
                          "line": {
                            "color": "#E5ECF6",
                            "width": 0.5
                          },
                          "pattern": {
                            "fillmode": "overlay",
                            "size": 10,
                            "solidity": 0.2
                          }
                        },
                        "type": "barpolar"
                      }
                    ],
                    "carpet": [
                      {
                        "aaxis": {
                          "endlinecolor": "#2a3f5f",
                          "gridcolor": "white",
                          "linecolor": "white",
                          "minorgridcolor": "white",
                          "startlinecolor": "#2a3f5f"
                        },
                        "baxis": {
                          "endlinecolor": "#2a3f5f",
                          "gridcolor": "white",
                          "linecolor": "white",
                          "minorgridcolor": "white",
                          "startlinecolor": "#2a3f5f"
                        },
                        "type": "carpet"
                      }
                    ],
                    "choropleth": [
                      {
                        "colorbar": {
                          "outlinewidth": 0,
                          "ticks": ""
                        },
                        "type": "choropleth"
                      }
                    ],
                    "contour": [
                      {
                        "colorbar": {
                          "outlinewidth": 0,
                          "ticks": ""
                        },
                        "colorscale": [
                          [
                            0,
                            "#0d0887"
                          ],
                          [
                            0.1111111111111111,
                            "#46039f"
                          ],
                          [
                            0.2222222222222222,
                            "#7201a8"
                          ],
                          [
                            0.3333333333333333,
                            "#9c179e"
                          ],
                          [
                            0.4444444444444444,
                            "#bd3786"
                          ],
                          [
                            0.5555555555555556,
                            "#d8576b"
                          ],
                          [
                            0.6666666666666666,
                            "#ed7953"
                          ],
                          [
                            0.7777777777777778,
                            "#fb9f3a"
                          ],
                          [
                            0.8888888888888888,
                            "#fdca26"
                          ],
                          [
                            1,
                            "#f0f921"
                          ]
                        ],
                        "type": "contour"
                      }
                    ],
                    "contourcarpet": [
                      {
                        "colorbar": {
                          "outlinewidth": 0,
                          "ticks": ""
                        },
                        "type": "contourcarpet"
                      }
                    ],
                    "heatmap": [
                      {
                        "colorbar": {
                          "outlinewidth": 0,
                          "ticks": ""
                        },
                        "colorscale": [
                          [
                            0,
                            "#0d0887"
                          ],
                          [
                            0.1111111111111111,
                            "#46039f"
                          ],
                          [
                            0.2222222222222222,
                            "#7201a8"
                          ],
                          [
                            0.3333333333333333,
                            "#9c179e"
                          ],
                          [
                            0.4444444444444444,
                            "#bd3786"
                          ],
                          [
                            0.5555555555555556,
                            "#d8576b"
                          ],
                          [
                            0.6666666666666666,
                            "#ed7953"
                          ],
                          [
                            0.7777777777777778,
                            "#fb9f3a"
                          ],
                          [
                            0.8888888888888888,
                            "#fdca26"
                          ],
                          [
                            1,
                            "#f0f921"
                          ]
                        ],
                        "type": "heatmap"
                      }
                    ],
                    "heatmapgl": [
                      {
                        "colorbar": {
                          "outlinewidth": 0,
                          "ticks": ""
                        },
                        "colorscale": [
                          [
                            0,
                            "#0d0887"
                          ],
                          [
                            0.1111111111111111,
                            "#46039f"
                          ],
                          [
                            0.2222222222222222,
                            "#7201a8"
                          ],
                          [
                            0.3333333333333333,
                            "#9c179e"
                          ],
                          [
                            0.4444444444444444,
                            "#bd3786"
                          ],
                          [
                            0.5555555555555556,
                            "#d8576b"
                          ],
                          [
                            0.6666666666666666,
                            "#ed7953"
                          ],
                          [
                            0.7777777777777778,
                            "#fb9f3a"
                          ],
                          [
                            0.8888888888888888,
                            "#fdca26"
                          ],
                          [
                            1,
                            "#f0f921"
                          ]
                        ],
                        "type": "heatmapgl"
                      }
                    ],
                    "histogram": [
                      {
                        "marker": {
                          "pattern": {
                            "fillmode": "overlay",
                            "size": 10,
                            "solidity": 0.2
                          }
                        },
                        "type": "histogram"
                      }
                    ],
                    "histogram2d": [
                      {
                        "colorbar": {
                          "outlinewidth": 0,
                          "ticks": ""
                        },
                        "colorscale": [
                          [
                            0,
                            "#0d0887"
                          ],
                          [
                            0.1111111111111111,
                            "#46039f"
                          ],
                          [
                            0.2222222222222222,
                            "#7201a8"
                          ],
                          [
                            0.3333333333333333,
                            "#9c179e"
                          ],
                          [
                            0.4444444444444444,
                            "#bd3786"
                          ],
                          [
                            0.5555555555555556,
                            "#d8576b"
                          ],
                          [
                            0.6666666666666666,
                            "#ed7953"
                          ],
                          [
                            0.7777777777777778,
                            "#fb9f3a"
                          ],
                          [
                            0.8888888888888888,
                            "#fdca26"
                          ],
                          [
                            1,
                            "#f0f921"
                          ]
                        ],
                        "type": "histogram2d"
                      }
                    ],
                    "histogram2dcontour": [
                      {
                        "colorbar": {
                          "outlinewidth": 0,
                          "ticks": ""
                        },
                        "colorscale": [
                          [
                            0,
                            "#0d0887"
                          ],
                          [
                            0.1111111111111111,
                            "#46039f"
                          ],
                          [
                            0.2222222222222222,
                            "#7201a8"
                          ],
                          [
                            0.3333333333333333,
                            "#9c179e"
                          ],
                          [
                            0.4444444444444444,
                            "#bd3786"
                          ],
                          [
                            0.5555555555555556,
                            "#d8576b"
                          ],
                          [
                            0.6666666666666666,
                            "#ed7953"
                          ],
                          [
                            0.7777777777777778,
                            "#fb9f3a"
                          ],
                          [
                            0.8888888888888888,
                            "#fdca26"
                          ],
                          [
                            1,
                            "#f0f921"
                          ]
                        ],
                        "type": "histogram2dcontour"
                      }
                    ],
                    "mesh3d": [
                      {
                        "colorbar": {
                          "outlinewidth": 0,
                          "ticks": ""
                        },
                        "type": "mesh3d"
                      }
                    ],
                    "parcoords": [
                      {
                        "line": {
                          "colorbar": {
                            "outlinewidth": 0,
                            "ticks": ""
                          }
                        },
                        "type": "parcoords"
                      }
                    ],
                    "pie": [
                      {
                        "automargin": true,
                        "type": "pie"
                      }
                    ],
                    "scatter": [
                      {
                        "fillpattern": {
                          "fillmode": "overlay",
                          "size": 10,
                          "solidity": 0.2
                        },
                        "type": "scatter"
                      }
                    ],
                    "scatter3d": [
                      {
                        "line": {
                          "colorbar": {
                            "outlinewidth": 0,
                            "ticks": ""
                          }
                        },
                        "marker": {
                          "colorbar": {
                            "outlinewidth": 0,
                            "ticks": ""
                          }
                        },
                        "type": "scatter3d"
                      }
                    ],
                    "scattercarpet": [
                      {
                        "marker": {
                          "colorbar": {
                            "outlinewidth": 0,
                            "ticks": ""
                          }
                        },
                        "type": "scattercarpet"
                      }
                    ],
                    "scattergeo": [
                      {
                        "marker": {
                          "colorbar": {
                            "outlinewidth": 0,
                            "ticks": ""
                          }
                        },
                        "type": "scattergeo"
                      }
                    ],
                    "scattergl": [
                      {
                        "marker": {
                          "colorbar": {
                            "outlinewidth": 0,
                            "ticks": ""
                          }
                        },
                        "type": "scattergl"
                      }
                    ],
                    "scattermapbox": [
                      {
                        "marker": {
                          "colorbar": {
                            "outlinewidth": 0,
                            "ticks": ""
                          }
                        },
                        "type": "scattermapbox"
                      }
                    ],
                    "scatterpolar": [
                      {
                        "marker": {
                          "colorbar": {
                            "outlinewidth": 0,
                            "ticks": ""
                          }
                        },
                        "type": "scatterpolar"
                      }
                    ],
                    "scatterpolargl": [
                      {
                        "marker": {
                          "colorbar": {
                            "outlinewidth": 0,
                            "ticks": ""
                          }
                        },
                        "type": "scatterpolargl"
                      }
                    ],
                    "scatterternary": [
                      {
                        "marker": {
                          "colorbar": {
                            "outlinewidth": 0,
                            "ticks": ""
                          }
                        },
                        "type": "scatterternary"
                      }
                    ],
                    "surface": [
                      {
                        "colorbar": {
                          "outlinewidth": 0,
                          "ticks": ""
                        },
                        "colorscale": [
                          [
                            0,
                            "#0d0887"
                          ],
                          [
                            0.1111111111111111,
                            "#46039f"
                          ],
                          [
                            0.2222222222222222,
                            "#7201a8"
                          ],
                          [
                            0.3333333333333333,
                            "#9c179e"
                          ],
                          [
                            0.4444444444444444,
                            "#bd3786"
                          ],
                          [
                            0.5555555555555556,
                            "#d8576b"
                          ],
                          [
                            0.6666666666666666,
                            "#ed7953"
                          ],
                          [
                            0.7777777777777778,
                            "#fb9f3a"
                          ],
                          [
                            0.8888888888888888,
                            "#fdca26"
                          ],
                          [
                            1,
                            "#f0f921"
                          ]
                        ],
                        "type": "surface"
                      }
                    ],
                    "table": [
                      {
                        "cells": {
                          "fill": {
                            "color": "#EBF0F8"
                          },
                          "line": {
                            "color": "white"
                          }
                        },
                        "header": {
                          "fill": {
                            "color": "#C8D4E3"
                          },
                          "line": {
                            "color": "white"
                          }
                        },
                        "type": "table"
                      }
                    ]
                  },
                  "layout": {
                    "annotationdefaults": {
                      "arrowcolor": "#2a3f5f",
                      "arrowhead": 0,
                      "arrowwidth": 1
                    },
                    "autotypenumbers": "strict",
                    "coloraxis": {
                      "colorbar": {
                        "outlinewidth": 0,
                        "ticks": ""
                      }
                    },
                    "colorscale": {
                      "diverging": [
                        [
                          0,
                          "#8e0152"
                        ],
                        [
                          0.1,
                          "#c51b7d"
                        ],
                        [
                          0.2,
                          "#de77ae"
                        ],
                        [
                          0.3,
                          "#f1b6da"
                        ],
                        [
                          0.4,
                          "#fde0ef"
                        ],
                        [
                          0.5,
                          "#f7f7f7"
                        ],
                        [
                          0.6,
                          "#e6f5d0"
                        ],
                        [
                          0.7,
                          "#b8e186"
                        ],
                        [
                          0.8,
                          "#7fbc41"
                        ],
                        [
                          0.9,
                          "#4d9221"
                        ],
                        [
                          1,
                          "#276419"
                        ]
                      ],
                      "sequential": [
                        [
                          0,
                          "#0d0887"
                        ],
                        [
                          0.1111111111111111,
                          "#46039f"
                        ],
                        [
                          0.2222222222222222,
                          "#7201a8"
                        ],
                        [
                          0.3333333333333333,
                          "#9c179e"
                        ],
                        [
                          0.4444444444444444,
                          "#bd3786"
                        ],
                        [
                          0.5555555555555556,
                          "#d8576b"
                        ],
                        [
                          0.6666666666666666,
                          "#ed7953"
                        ],
                        [
                          0.7777777777777778,
                          "#fb9f3a"
                        ],
                        [
                          0.8888888888888888,
                          "#fdca26"
                        ],
                        [
                          1,
                          "#f0f921"
                        ]
                      ],
                      "sequentialminus": [
                        [
                          0,
                          "#0d0887"
                        ],
                        [
                          0.1111111111111111,
                          "#46039f"
                        ],
                        [
                          0.2222222222222222,
                          "#7201a8"
                        ],
                        [
                          0.3333333333333333,
                          "#9c179e"
                        ],
                        [
                          0.4444444444444444,
                          "#bd3786"
                        ],
                        [
                          0.5555555555555556,
                          "#d8576b"
                        ],
                        [
                          0.6666666666666666,
                          "#ed7953"
                        ],
                        [
                          0.7777777777777778,
                          "#fb9f3a"
                        ],
                        [
                          0.8888888888888888,
                          "#fdca26"
                        ],
                        [
                          1,
                          "#f0f921"
                        ]
                      ]
                    },
                    "colorway": [
                      "#636efa",
                      "#EF553B",
                      "#00cc96",
                      "#ab63fa",
                      "#FFA15A",
                      "#19d3f3",
                      "#FF6692",
                      "#B6E880",
                      "#FF97FF",
                      "#FECB52"
                    ],
                    "font": {
                      "color": "#2a3f5f"
                    },
                    "geo": {
                      "bgcolor": "white",
                      "lakecolor": "white",
                      "landcolor": "#E5ECF6",
                      "showlakes": true,
                      "showland": true,
                      "subunitcolor": "white"
                    },
                    "hoverlabel": {
                      "align": "left"
                    },
                    "hovermode": "closest",
                    "mapbox": {
                      "style": "light"
                    },
                    "paper_bgcolor": "white",
                    "plot_bgcolor": "#E5ECF6",
                    "polar": {
                      "angularaxis": {
                        "gridcolor": "white",
                        "linecolor": "white",
                        "ticks": ""
                      },
                      "bgcolor": "#E5ECF6",
                      "radialaxis": {
                        "gridcolor": "white",
                        "linecolor": "white",
                        "ticks": ""
                      }
                    },
                    "scene": {
                      "xaxis": {
                        "backgroundcolor": "#E5ECF6",
                        "gridcolor": "white",
                        "gridwidth": 2,
                        "linecolor": "white",
                        "showbackground": true,
                        "ticks": "",
                        "zerolinecolor": "white"
                      },
                      "yaxis": {
                        "backgroundcolor": "#E5ECF6",
                        "gridcolor": "white",
                        "gridwidth": 2,
                        "linecolor": "white",
                        "showbackground": true,
                        "ticks": "",
                        "zerolinecolor": "white"
                      },
                      "zaxis": {
                        "backgroundcolor": "#E5ECF6",
                        "gridcolor": "white",
                        "gridwidth": 2,
                        "linecolor": "white",
                        "showbackground": true,
                        "ticks": "",
                        "zerolinecolor": "white"
                      }
                    },
                    "shapedefaults": {
                      "line": {
                        "color": "#2a3f5f"
                      }
                    },
                    "ternary": {
                      "aaxis": {
                        "gridcolor": "white",
                        "linecolor": "white",
                        "ticks": ""
                      },
                      "baxis": {
                        "gridcolor": "white",
                        "linecolor": "white",
                        "ticks": ""
                      },
                      "bgcolor": "#E5ECF6",
                      "caxis": {
                        "gridcolor": "white",
                        "linecolor": "white",
                        "ticks": ""
                      }
                    },
                    "title": {
                      "x": 0.05
                    },
                    "xaxis": {
                      "automargin": true,
                      "gridcolor": "white",
                      "linecolor": "white",
                      "ticks": "",
                      "title": {
                        "standoff": 15
                      },
                      "zerolinecolor": "white",
                      "zerolinewidth": 2
                    },
                    "yaxis": {
                      "automargin": true,
                      "gridcolor": "white",
                      "linecolor": "white",
                      "ticks": "",
                      "title": {
                        "standoff": 15
                      },
                      "zerolinecolor": "white",
                      "zerolinewidth": 2
                    }
                  }
                },
                "title": {
                  "text": "Which organisations are doing the heavy lifting"
                },
                "xaxis": {
                  "title": {
                    "text": "Number of Missions"
                  }
                },
                "yaxis": {
                  "title": {
                    "text": "Organisation"
                  }
                }
              }
            }
          },
          "metadata": {},
          "output_type": "display_data"
        }
      ],
      "source": [
        "fig = px.sunburst(top_organizations, path=['Country', 'Organisation','Mission_Status'], \n",
        "                  values='Location',\n",
        "                   hover_data=['Location'],\n",
        "                   title=\"Which organisations are doing the heavy lifting\")\n",
        "fig.update_layout(coloraxis_showscale = False,xaxis_title='Number of Missions', \n",
        "                    yaxis_title='Organisation')\n",
        "fig.show()"
      ]
    },
    {
      "cell_type": "code",
      "execution_count": null,
      "metadata": {
        "id": "VfTGp2hLo4Ok"
      },
      "outputs": [],
      "source": []
    },
    {
      "cell_type": "markdown",
      "metadata": {
        "id": "70pG1BCZa-qY",
        "papermill": {
          "duration": 0.062712,
          "end_time": "2020-10-20T21:34:07.951200",
          "exception": false,
          "start_time": "2020-10-20T21:34:07.888488",
          "status": "completed"
        },
        "tags": []
      },
      "source": [
        "# Analyse the Total Amount of Money Spent by Organisation on Space Missions"
      ]
    },
    {
      "cell_type": "code",
      "execution_count": 195,
      "metadata": {
        "id": "IaJYxwEVpKHy"
      },
      "outputs": [
        {
          "name": "stderr",
          "output_type": "stream",
          "text": [
            "C:\\Users\\User\\AppData\\Local\\Temp\\ipykernel_7076\\1940947634.py:5: SettingWithCopyWarning:\n",
            "\n",
            "\n",
            "A value is trying to be set on a copy of a slice from a DataFrame.\n",
            "Try using .loc[row_indexer,col_indexer] = value instead\n",
            "\n",
            "See the caveats in the documentation: https://pandas.pydata.org/pandas-docs/stable/user_guide/indexing.html#returning-a-view-versus-a-copy\n",
            "\n"
          ]
        }
      ],
      "source": [
        "## Continue here\n",
        "removednoprice = spacedf.dropna(subset=['Price'])\n",
        "\n",
        "removednoprice.groupby('Organisation').count()\n",
        "removednoprice['Price'] = pd.to_numeric(removednoprice['Price'], errors='coerce')\n",
        "\n"
      ]
    },
    {
      "cell_type": "code",
      "execution_count": 196,
      "metadata": {
        "id": "orIFf-appPDL"
      },
      "outputs": [
        {
          "data": {
            "text/html": [
              "<div>\n",
              "<style scoped>\n",
              "    .dataframe tbody tr th:only-of-type {\n",
              "        vertical-align: middle;\n",
              "    }\n",
              "\n",
              "    .dataframe tbody tr th {\n",
              "        vertical-align: top;\n",
              "    }\n",
              "\n",
              "    .dataframe thead th {\n",
              "        text-align: right;\n",
              "    }\n",
              "</style>\n",
              "<table border=\"1\" class=\"dataframe\">\n",
              "  <thead>\n",
              "    <tr style=\"text-align: right;\">\n",
              "      <th></th>\n",
              "      <th>Organisation</th>\n",
              "      <th>Price</th>\n",
              "    </tr>\n",
              "  </thead>\n",
              "  <tbody>\n",
              "    <tr>\n",
              "      <th>16</th>\n",
              "      <td>RVSN USSR</td>\n",
              "      <td>0.00</td>\n",
              "    </tr>\n",
              "    <tr>\n",
              "      <th>24</th>\n",
              "      <td>Virgin Orbit</td>\n",
              "      <td>12.00</td>\n",
              "    </tr>\n",
              "    <tr>\n",
              "      <th>19</th>\n",
              "      <td>Sandia</td>\n",
              "      <td>15.00</td>\n",
              "    </tr>\n",
              "    <tr>\n",
              "      <th>3</th>\n",
              "      <td>EER</td>\n",
              "      <td>20.00</td>\n",
              "    </tr>\n",
              "    <tr>\n",
              "      <th>6</th>\n",
              "      <td>ExPace</td>\n",
              "      <td>28.30</td>\n",
              "    </tr>\n",
              "    <tr>\n",
              "      <th>4</th>\n",
              "      <td>ESA</td>\n",
              "      <td>37.00</td>\n",
              "    </tr>\n",
              "    <tr>\n",
              "      <th>17</th>\n",
              "      <td>Rocket Lab</td>\n",
              "      <td>97.50</td>\n",
              "    </tr>\n",
              "    <tr>\n",
              "      <th>9</th>\n",
              "      <td>JAXA</td>\n",
              "      <td>168.00</td>\n",
              "    </tr>\n",
              "    <tr>\n",
              "      <th>11</th>\n",
              "      <td>Lockheed</td>\n",
              "      <td>280.00</td>\n",
              "    </tr>\n",
              "    <tr>\n",
              "      <th>5</th>\n",
              "      <td>Eurockot</td>\n",
              "      <td>543.40</td>\n",
              "    </tr>\n",
              "    <tr>\n",
              "      <th>10</th>\n",
              "      <td>Kosmotras</td>\n",
              "      <td>638.00</td>\n",
              "    </tr>\n",
              "    <tr>\n",
              "      <th>13</th>\n",
              "      <td>Martin Marietta</td>\n",
              "      <td>721.40</td>\n",
              "    </tr>\n",
              "    <tr>\n",
              "      <th>18</th>\n",
              "      <td>Roscosmos</td>\n",
              "      <td>1,187.50</td>\n",
              "    </tr>\n",
              "    <tr>\n",
              "      <th>1</th>\n",
              "      <td>Boeing</td>\n",
              "      <td>1,241.00</td>\n",
              "    </tr>\n",
              "    <tr>\n",
              "      <th>7</th>\n",
              "      <td>ILS</td>\n",
              "      <td>1,320.00</td>\n",
              "    </tr>\n",
              "    <tr>\n",
              "      <th>23</th>\n",
              "      <td>VKS RF</td>\n",
              "      <td>1,548.90</td>\n",
              "    </tr>\n",
              "    <tr>\n",
              "      <th>22</th>\n",
              "      <td>US Air Force</td>\n",
              "      <td>1,550.92</td>\n",
              "    </tr>\n",
              "    <tr>\n",
              "      <th>8</th>\n",
              "      <td>ISRO</td>\n",
              "      <td>2,177.00</td>\n",
              "    </tr>\n",
              "    <tr>\n",
              "      <th>12</th>\n",
              "      <td>MHI</td>\n",
              "      <td>3,532.50</td>\n",
              "    </tr>\n",
              "    <tr>\n",
              "      <th>15</th>\n",
              "      <td>Northrop</td>\n",
              "      <td>3,930.00</td>\n",
              "    </tr>\n",
              "    <tr>\n",
              "      <th>20</th>\n",
              "      <td>SpaceX</td>\n",
              "      <td>5,444.00</td>\n",
              "    </tr>\n",
              "    <tr>\n",
              "      <th>2</th>\n",
              "      <td>CASC</td>\n",
              "      <td>6,310.51</td>\n",
              "    </tr>\n",
              "    <tr>\n",
              "      <th>21</th>\n",
              "      <td>ULA</td>\n",
              "      <td>14,798.00</td>\n",
              "    </tr>\n",
              "    <tr>\n",
              "      <th>0</th>\n",
              "      <td>Arianespace</td>\n",
              "      <td>16,345.00</td>\n",
              "    </tr>\n",
              "    <tr>\n",
              "      <th>14</th>\n",
              "      <td>NASA</td>\n",
              "      <td>61,200.00</td>\n",
              "    </tr>\n",
              "  </tbody>\n",
              "</table>\n",
              "</div>"
            ],
            "text/plain": [
              "       Organisation     Price\n",
              "16        RVSN USSR      0.00\n",
              "24     Virgin Orbit     12.00\n",
              "19           Sandia     15.00\n",
              "3               EER     20.00\n",
              "6            ExPace     28.30\n",
              "4               ESA     37.00\n",
              "17       Rocket Lab     97.50\n",
              "9              JAXA    168.00\n",
              "11         Lockheed    280.00\n",
              "5          Eurockot    543.40\n",
              "10        Kosmotras    638.00\n",
              "13  Martin Marietta    721.40\n",
              "18        Roscosmos  1,187.50\n",
              "1            Boeing  1,241.00\n",
              "7               ILS  1,320.00\n",
              "23           VKS RF  1,548.90\n",
              "22     US Air Force  1,550.92\n",
              "8              ISRO  2,177.00\n",
              "12              MHI  3,532.50\n",
              "15         Northrop  3,930.00\n",
              "20           SpaceX  5,444.00\n",
              "2              CASC  6,310.51\n",
              "21              ULA 14,798.00\n",
              "0       Arianespace 16,345.00\n",
              "14             NASA 61,200.00"
            ]
          },
          "execution_count": 196,
          "metadata": {},
          "output_type": "execute_result"
        }
      ],
      "source": [
        "priceperorg = removednoprice.groupby(\"Organisation\",as_index=False).agg({'Price':pd.Series.sum}).sort_values(by='Price',ascending=True)\n",
        "priceperorg.dropna()\n",
        "#priceperorg['Price'] = priceperorg['Price'].apply(lambda x: x.replace('.', ','))\n",
        "#priceperorg['Price'] = pd.to_numeric(removednoprice['Price'], errors='coerce')\n",
        "priceperorg\n"
      ]
    },
    {
      "cell_type": "code",
      "execution_count": 197,
      "metadata": {
        "id": "86OMPfpEpO7R"
      },
      "outputs": [
        {
          "data": {
            "application/vnd.plotly.v1+json": {
              "config": {
                "plotlyServerURL": "https://plot.ly"
              },
              "data": [
                {
                  "domain": {
                    "x": [
                      0,
                      1
                    ],
                    "y": [
                      0,
                      1
                    ]
                  },
                  "hovertemplate": "label=%{label}<br>value=%{value}<extra></extra>",
                  "labels": [
                    "RVSN USSR",
                    "Virgin Orbit",
                    "Sandia",
                    "EER",
                    "ExPace",
                    "ESA",
                    "Rocket Lab",
                    "JAXA",
                    "Lockheed",
                    "Eurockot",
                    "Kosmotras",
                    "Martin Marietta",
                    "Roscosmos",
                    "Boeing",
                    "ILS",
                    "VKS RF",
                    "US Air Force",
                    "ISRO",
                    "MHI",
                    "Northrop",
                    "SpaceX",
                    "CASC",
                    "ULA",
                    "Arianespace",
                    "NASA"
                  ],
                  "legendgroup": "",
                  "name": "",
                  "showlegend": true,
                  "type": "pie",
                  "values": [
                    0,
                    12,
                    15,
                    20,
                    28.3,
                    37,
                    97.5,
                    168,
                    280,
                    543.4,
                    638,
                    721.4,
                    1187.5,
                    1241,
                    1320,
                    1548.9,
                    1550.92,
                    2177,
                    3532.5,
                    3930,
                    5444,
                    6310.510000000002,
                    14798,
                    16345,
                    61200
                  ]
                }
              ],
              "layout": {
                "legend": {
                  "tracegroupgap": 0
                },
                "margin": {
                  "t": 60
                },
                "showlegend": true,
                "template": {
                  "data": {
                    "bar": [
                      {
                        "error_x": {
                          "color": "#2a3f5f"
                        },
                        "error_y": {
                          "color": "#2a3f5f"
                        },
                        "marker": {
                          "line": {
                            "color": "#E5ECF6",
                            "width": 0.5
                          },
                          "pattern": {
                            "fillmode": "overlay",
                            "size": 10,
                            "solidity": 0.2
                          }
                        },
                        "type": "bar"
                      }
                    ],
                    "barpolar": [
                      {
                        "marker": {
                          "line": {
                            "color": "#E5ECF6",
                            "width": 0.5
                          },
                          "pattern": {
                            "fillmode": "overlay",
                            "size": 10,
                            "solidity": 0.2
                          }
                        },
                        "type": "barpolar"
                      }
                    ],
                    "carpet": [
                      {
                        "aaxis": {
                          "endlinecolor": "#2a3f5f",
                          "gridcolor": "white",
                          "linecolor": "white",
                          "minorgridcolor": "white",
                          "startlinecolor": "#2a3f5f"
                        },
                        "baxis": {
                          "endlinecolor": "#2a3f5f",
                          "gridcolor": "white",
                          "linecolor": "white",
                          "minorgridcolor": "white",
                          "startlinecolor": "#2a3f5f"
                        },
                        "type": "carpet"
                      }
                    ],
                    "choropleth": [
                      {
                        "colorbar": {
                          "outlinewidth": 0,
                          "ticks": ""
                        },
                        "type": "choropleth"
                      }
                    ],
                    "contour": [
                      {
                        "colorbar": {
                          "outlinewidth": 0,
                          "ticks": ""
                        },
                        "colorscale": [
                          [
                            0,
                            "#0d0887"
                          ],
                          [
                            0.1111111111111111,
                            "#46039f"
                          ],
                          [
                            0.2222222222222222,
                            "#7201a8"
                          ],
                          [
                            0.3333333333333333,
                            "#9c179e"
                          ],
                          [
                            0.4444444444444444,
                            "#bd3786"
                          ],
                          [
                            0.5555555555555556,
                            "#d8576b"
                          ],
                          [
                            0.6666666666666666,
                            "#ed7953"
                          ],
                          [
                            0.7777777777777778,
                            "#fb9f3a"
                          ],
                          [
                            0.8888888888888888,
                            "#fdca26"
                          ],
                          [
                            1,
                            "#f0f921"
                          ]
                        ],
                        "type": "contour"
                      }
                    ],
                    "contourcarpet": [
                      {
                        "colorbar": {
                          "outlinewidth": 0,
                          "ticks": ""
                        },
                        "type": "contourcarpet"
                      }
                    ],
                    "heatmap": [
                      {
                        "colorbar": {
                          "outlinewidth": 0,
                          "ticks": ""
                        },
                        "colorscale": [
                          [
                            0,
                            "#0d0887"
                          ],
                          [
                            0.1111111111111111,
                            "#46039f"
                          ],
                          [
                            0.2222222222222222,
                            "#7201a8"
                          ],
                          [
                            0.3333333333333333,
                            "#9c179e"
                          ],
                          [
                            0.4444444444444444,
                            "#bd3786"
                          ],
                          [
                            0.5555555555555556,
                            "#d8576b"
                          ],
                          [
                            0.6666666666666666,
                            "#ed7953"
                          ],
                          [
                            0.7777777777777778,
                            "#fb9f3a"
                          ],
                          [
                            0.8888888888888888,
                            "#fdca26"
                          ],
                          [
                            1,
                            "#f0f921"
                          ]
                        ],
                        "type": "heatmap"
                      }
                    ],
                    "heatmapgl": [
                      {
                        "colorbar": {
                          "outlinewidth": 0,
                          "ticks": ""
                        },
                        "colorscale": [
                          [
                            0,
                            "#0d0887"
                          ],
                          [
                            0.1111111111111111,
                            "#46039f"
                          ],
                          [
                            0.2222222222222222,
                            "#7201a8"
                          ],
                          [
                            0.3333333333333333,
                            "#9c179e"
                          ],
                          [
                            0.4444444444444444,
                            "#bd3786"
                          ],
                          [
                            0.5555555555555556,
                            "#d8576b"
                          ],
                          [
                            0.6666666666666666,
                            "#ed7953"
                          ],
                          [
                            0.7777777777777778,
                            "#fb9f3a"
                          ],
                          [
                            0.8888888888888888,
                            "#fdca26"
                          ],
                          [
                            1,
                            "#f0f921"
                          ]
                        ],
                        "type": "heatmapgl"
                      }
                    ],
                    "histogram": [
                      {
                        "marker": {
                          "pattern": {
                            "fillmode": "overlay",
                            "size": 10,
                            "solidity": 0.2
                          }
                        },
                        "type": "histogram"
                      }
                    ],
                    "histogram2d": [
                      {
                        "colorbar": {
                          "outlinewidth": 0,
                          "ticks": ""
                        },
                        "colorscale": [
                          [
                            0,
                            "#0d0887"
                          ],
                          [
                            0.1111111111111111,
                            "#46039f"
                          ],
                          [
                            0.2222222222222222,
                            "#7201a8"
                          ],
                          [
                            0.3333333333333333,
                            "#9c179e"
                          ],
                          [
                            0.4444444444444444,
                            "#bd3786"
                          ],
                          [
                            0.5555555555555556,
                            "#d8576b"
                          ],
                          [
                            0.6666666666666666,
                            "#ed7953"
                          ],
                          [
                            0.7777777777777778,
                            "#fb9f3a"
                          ],
                          [
                            0.8888888888888888,
                            "#fdca26"
                          ],
                          [
                            1,
                            "#f0f921"
                          ]
                        ],
                        "type": "histogram2d"
                      }
                    ],
                    "histogram2dcontour": [
                      {
                        "colorbar": {
                          "outlinewidth": 0,
                          "ticks": ""
                        },
                        "colorscale": [
                          [
                            0,
                            "#0d0887"
                          ],
                          [
                            0.1111111111111111,
                            "#46039f"
                          ],
                          [
                            0.2222222222222222,
                            "#7201a8"
                          ],
                          [
                            0.3333333333333333,
                            "#9c179e"
                          ],
                          [
                            0.4444444444444444,
                            "#bd3786"
                          ],
                          [
                            0.5555555555555556,
                            "#d8576b"
                          ],
                          [
                            0.6666666666666666,
                            "#ed7953"
                          ],
                          [
                            0.7777777777777778,
                            "#fb9f3a"
                          ],
                          [
                            0.8888888888888888,
                            "#fdca26"
                          ],
                          [
                            1,
                            "#f0f921"
                          ]
                        ],
                        "type": "histogram2dcontour"
                      }
                    ],
                    "mesh3d": [
                      {
                        "colorbar": {
                          "outlinewidth": 0,
                          "ticks": ""
                        },
                        "type": "mesh3d"
                      }
                    ],
                    "parcoords": [
                      {
                        "line": {
                          "colorbar": {
                            "outlinewidth": 0,
                            "ticks": ""
                          }
                        },
                        "type": "parcoords"
                      }
                    ],
                    "pie": [
                      {
                        "automargin": true,
                        "type": "pie"
                      }
                    ],
                    "scatter": [
                      {
                        "fillpattern": {
                          "fillmode": "overlay",
                          "size": 10,
                          "solidity": 0.2
                        },
                        "type": "scatter"
                      }
                    ],
                    "scatter3d": [
                      {
                        "line": {
                          "colorbar": {
                            "outlinewidth": 0,
                            "ticks": ""
                          }
                        },
                        "marker": {
                          "colorbar": {
                            "outlinewidth": 0,
                            "ticks": ""
                          }
                        },
                        "type": "scatter3d"
                      }
                    ],
                    "scattercarpet": [
                      {
                        "marker": {
                          "colorbar": {
                            "outlinewidth": 0,
                            "ticks": ""
                          }
                        },
                        "type": "scattercarpet"
                      }
                    ],
                    "scattergeo": [
                      {
                        "marker": {
                          "colorbar": {
                            "outlinewidth": 0,
                            "ticks": ""
                          }
                        },
                        "type": "scattergeo"
                      }
                    ],
                    "scattergl": [
                      {
                        "marker": {
                          "colorbar": {
                            "outlinewidth": 0,
                            "ticks": ""
                          }
                        },
                        "type": "scattergl"
                      }
                    ],
                    "scattermapbox": [
                      {
                        "marker": {
                          "colorbar": {
                            "outlinewidth": 0,
                            "ticks": ""
                          }
                        },
                        "type": "scattermapbox"
                      }
                    ],
                    "scatterpolar": [
                      {
                        "marker": {
                          "colorbar": {
                            "outlinewidth": 0,
                            "ticks": ""
                          }
                        },
                        "type": "scatterpolar"
                      }
                    ],
                    "scatterpolargl": [
                      {
                        "marker": {
                          "colorbar": {
                            "outlinewidth": 0,
                            "ticks": ""
                          }
                        },
                        "type": "scatterpolargl"
                      }
                    ],
                    "scatterternary": [
                      {
                        "marker": {
                          "colorbar": {
                            "outlinewidth": 0,
                            "ticks": ""
                          }
                        },
                        "type": "scatterternary"
                      }
                    ],
                    "surface": [
                      {
                        "colorbar": {
                          "outlinewidth": 0,
                          "ticks": ""
                        },
                        "colorscale": [
                          [
                            0,
                            "#0d0887"
                          ],
                          [
                            0.1111111111111111,
                            "#46039f"
                          ],
                          [
                            0.2222222222222222,
                            "#7201a8"
                          ],
                          [
                            0.3333333333333333,
                            "#9c179e"
                          ],
                          [
                            0.4444444444444444,
                            "#bd3786"
                          ],
                          [
                            0.5555555555555556,
                            "#d8576b"
                          ],
                          [
                            0.6666666666666666,
                            "#ed7953"
                          ],
                          [
                            0.7777777777777778,
                            "#fb9f3a"
                          ],
                          [
                            0.8888888888888888,
                            "#fdca26"
                          ],
                          [
                            1,
                            "#f0f921"
                          ]
                        ],
                        "type": "surface"
                      }
                    ],
                    "table": [
                      {
                        "cells": {
                          "fill": {
                            "color": "#EBF0F8"
                          },
                          "line": {
                            "color": "white"
                          }
                        },
                        "header": {
                          "fill": {
                            "color": "#C8D4E3"
                          },
                          "line": {
                            "color": "white"
                          }
                        },
                        "type": "table"
                      }
                    ]
                  },
                  "layout": {
                    "annotationdefaults": {
                      "arrowcolor": "#2a3f5f",
                      "arrowhead": 0,
                      "arrowwidth": 1
                    },
                    "autotypenumbers": "strict",
                    "coloraxis": {
                      "colorbar": {
                        "outlinewidth": 0,
                        "ticks": ""
                      }
                    },
                    "colorscale": {
                      "diverging": [
                        [
                          0,
                          "#8e0152"
                        ],
                        [
                          0.1,
                          "#c51b7d"
                        ],
                        [
                          0.2,
                          "#de77ae"
                        ],
                        [
                          0.3,
                          "#f1b6da"
                        ],
                        [
                          0.4,
                          "#fde0ef"
                        ],
                        [
                          0.5,
                          "#f7f7f7"
                        ],
                        [
                          0.6,
                          "#e6f5d0"
                        ],
                        [
                          0.7,
                          "#b8e186"
                        ],
                        [
                          0.8,
                          "#7fbc41"
                        ],
                        [
                          0.9,
                          "#4d9221"
                        ],
                        [
                          1,
                          "#276419"
                        ]
                      ],
                      "sequential": [
                        [
                          0,
                          "#0d0887"
                        ],
                        [
                          0.1111111111111111,
                          "#46039f"
                        ],
                        [
                          0.2222222222222222,
                          "#7201a8"
                        ],
                        [
                          0.3333333333333333,
                          "#9c179e"
                        ],
                        [
                          0.4444444444444444,
                          "#bd3786"
                        ],
                        [
                          0.5555555555555556,
                          "#d8576b"
                        ],
                        [
                          0.6666666666666666,
                          "#ed7953"
                        ],
                        [
                          0.7777777777777778,
                          "#fb9f3a"
                        ],
                        [
                          0.8888888888888888,
                          "#fdca26"
                        ],
                        [
                          1,
                          "#f0f921"
                        ]
                      ],
                      "sequentialminus": [
                        [
                          0,
                          "#0d0887"
                        ],
                        [
                          0.1111111111111111,
                          "#46039f"
                        ],
                        [
                          0.2222222222222222,
                          "#7201a8"
                        ],
                        [
                          0.3333333333333333,
                          "#9c179e"
                        ],
                        [
                          0.4444444444444444,
                          "#bd3786"
                        ],
                        [
                          0.5555555555555556,
                          "#d8576b"
                        ],
                        [
                          0.6666666666666666,
                          "#ed7953"
                        ],
                        [
                          0.7777777777777778,
                          "#fb9f3a"
                        ],
                        [
                          0.8888888888888888,
                          "#fdca26"
                        ],
                        [
                          1,
                          "#f0f921"
                        ]
                      ]
                    },
                    "colorway": [
                      "#636efa",
                      "#EF553B",
                      "#00cc96",
                      "#ab63fa",
                      "#FFA15A",
                      "#19d3f3",
                      "#FF6692",
                      "#B6E880",
                      "#FF97FF",
                      "#FECB52"
                    ],
                    "font": {
                      "color": "#2a3f5f"
                    },
                    "geo": {
                      "bgcolor": "white",
                      "lakecolor": "white",
                      "landcolor": "#E5ECF6",
                      "showlakes": true,
                      "showland": true,
                      "subunitcolor": "white"
                    },
                    "hoverlabel": {
                      "align": "left"
                    },
                    "hovermode": "closest",
                    "mapbox": {
                      "style": "light"
                    },
                    "paper_bgcolor": "white",
                    "plot_bgcolor": "#E5ECF6",
                    "polar": {
                      "angularaxis": {
                        "gridcolor": "white",
                        "linecolor": "white",
                        "ticks": ""
                      },
                      "bgcolor": "#E5ECF6",
                      "radialaxis": {
                        "gridcolor": "white",
                        "linecolor": "white",
                        "ticks": ""
                      }
                    },
                    "scene": {
                      "xaxis": {
                        "backgroundcolor": "#E5ECF6",
                        "gridcolor": "white",
                        "gridwidth": 2,
                        "linecolor": "white",
                        "showbackground": true,
                        "ticks": "",
                        "zerolinecolor": "white"
                      },
                      "yaxis": {
                        "backgroundcolor": "#E5ECF6",
                        "gridcolor": "white",
                        "gridwidth": 2,
                        "linecolor": "white",
                        "showbackground": true,
                        "ticks": "",
                        "zerolinecolor": "white"
                      },
                      "zaxis": {
                        "backgroundcolor": "#E5ECF6",
                        "gridcolor": "white",
                        "gridwidth": 2,
                        "linecolor": "white",
                        "showbackground": true,
                        "ticks": "",
                        "zerolinecolor": "white"
                      }
                    },
                    "shapedefaults": {
                      "line": {
                        "color": "#2a3f5f"
                      }
                    },
                    "ternary": {
                      "aaxis": {
                        "gridcolor": "white",
                        "linecolor": "white",
                        "ticks": ""
                      },
                      "baxis": {
                        "gridcolor": "white",
                        "linecolor": "white",
                        "ticks": ""
                      },
                      "bgcolor": "#E5ECF6",
                      "caxis": {
                        "gridcolor": "white",
                        "linecolor": "white",
                        "ticks": ""
                      }
                    },
                    "title": {
                      "x": 0.05
                    },
                    "xaxis": {
                      "automargin": true,
                      "gridcolor": "white",
                      "linecolor": "white",
                      "ticks": "",
                      "title": {
                        "standoff": 15
                      },
                      "zerolinecolor": "white",
                      "zerolinewidth": 2
                    },
                    "yaxis": {
                      "automargin": true,
                      "gridcolor": "white",
                      "linecolor": "white",
                      "ticks": "",
                      "title": {
                        "standoff": 15
                      },
                      "zerolinecolor": "white",
                      "zerolinewidth": 2
                    }
                  }
                }
              }
            }
          },
          "metadata": {},
          "output_type": "display_data"
        }
      ],
      "source": [
        "fig = px.pie(values = priceperorg['Price'], labels=priceperorg['Organisation'],names=priceperorg['Organisation'])\n",
        "fig.update_layout(showlegend = True)\n",
        "fig.show()"
      ]
    },
    {
      "cell_type": "markdown",
      "metadata": {
        "id": "DpsWkPxzpPXs"
      },
      "source": [
        "# Analyse the Amount of Money Spent by Organisation per Launch"
      ]
    },
    {
      "cell_type": "code",
      "execution_count": 198,
      "metadata": {
        "id": "opYJ6GiRpTk5"
      },
      "outputs": [
        {
          "name": "stderr",
          "output_type": "stream",
          "text": [
            "C:\\Users\\User\\AppData\\Local\\Temp\\ipykernel_7076\\484918129.py:1: SettingWithCopyWarning:\n",
            "\n",
            "\n",
            "A value is trying to be set on a copy of a slice from a DataFrame.\n",
            "Try using .loc[row_indexer,col_indexer] = value instead\n",
            "\n",
            "See the caveats in the documentation: https://pandas.pydata.org/pandas-docs/stable/user_guide/indexing.html#returning-a-view-versus-a-copy\n",
            "\n"
          ]
        },
        {
          "data": {
            "text/html": [
              "<div>\n",
              "<style scoped>\n",
              "    .dataframe tbody tr th:only-of-type {\n",
              "        vertical-align: middle;\n",
              "    }\n",
              "\n",
              "    .dataframe tbody tr th {\n",
              "        vertical-align: top;\n",
              "    }\n",
              "\n",
              "    .dataframe thead th {\n",
              "        text-align: right;\n",
              "    }\n",
              "</style>\n",
              "<table border=\"1\" class=\"dataframe\">\n",
              "  <thead>\n",
              "    <tr style=\"text-align: right;\">\n",
              "      <th></th>\n",
              "      <th>Organisation</th>\n",
              "      <th>Price</th>\n",
              "    </tr>\n",
              "  </thead>\n",
              "  <tbody>\n",
              "    <tr>\n",
              "      <th>17</th>\n",
              "      <td>Rocket Lab</td>\n",
              "      <td>7.50</td>\n",
              "    </tr>\n",
              "    <tr>\n",
              "      <th>24</th>\n",
              "      <td>Virgin Orbit</td>\n",
              "      <td>12.00</td>\n",
              "    </tr>\n",
              "    <tr>\n",
              "      <th>19</th>\n",
              "      <td>Sandia</td>\n",
              "      <td>15.00</td>\n",
              "    </tr>\n",
              "    <tr>\n",
              "      <th>3</th>\n",
              "      <td>EER</td>\n",
              "      <td>20.00</td>\n",
              "    </tr>\n",
              "    <tr>\n",
              "      <th>6</th>\n",
              "      <td>ExPace</td>\n",
              "      <td>28.30</td>\n",
              "    </tr>\n",
              "    <tr>\n",
              "      <th>10</th>\n",
              "      <td>Kosmotras</td>\n",
              "      <td>29.00</td>\n",
              "    </tr>\n",
              "    <tr>\n",
              "      <th>8</th>\n",
              "      <td>ISRO</td>\n",
              "      <td>32.49</td>\n",
              "    </tr>\n",
              "    <tr>\n",
              "      <th>11</th>\n",
              "      <td>Lockheed</td>\n",
              "      <td>35.00</td>\n",
              "    </tr>\n",
              "    <tr>\n",
              "      <th>4</th>\n",
              "      <td>ESA</td>\n",
              "      <td>37.00</td>\n",
              "    </tr>\n",
              "    <tr>\n",
              "      <th>2</th>\n",
              "      <td>CASC</td>\n",
              "      <td>40.19</td>\n",
              "    </tr>\n",
              "    <tr>\n",
              "      <th>5</th>\n",
              "      <td>Eurockot</td>\n",
              "      <td>41.80</td>\n",
              "    </tr>\n",
              "    <tr>\n",
              "      <th>23</th>\n",
              "      <td>VKS RF</td>\n",
              "      <td>46.94</td>\n",
              "    </tr>\n",
              "    <tr>\n",
              "      <th>15</th>\n",
              "      <td>Northrop</td>\n",
              "      <td>47.35</td>\n",
              "    </tr>\n",
              "    <tr>\n",
              "      <th>18</th>\n",
              "      <td>Roscosmos</td>\n",
              "      <td>51.63</td>\n",
              "    </tr>\n",
              "    <tr>\n",
              "      <th>20</th>\n",
              "      <td>SpaceX</td>\n",
              "      <td>54.99</td>\n",
              "    </tr>\n",
              "    <tr>\n",
              "      <th>9</th>\n",
              "      <td>JAXA</td>\n",
              "      <td>56.00</td>\n",
              "    </tr>\n",
              "    <tr>\n",
              "      <th>22</th>\n",
              "      <td>US Air Force</td>\n",
              "      <td>59.65</td>\n",
              "    </tr>\n",
              "    <tr>\n",
              "      <th>13</th>\n",
              "      <td>Martin Marietta</td>\n",
              "      <td>80.16</td>\n",
              "    </tr>\n",
              "    <tr>\n",
              "      <th>12</th>\n",
              "      <td>MHI</td>\n",
              "      <td>95.47</td>\n",
              "    </tr>\n",
              "    <tr>\n",
              "      <th>7</th>\n",
              "      <td>ILS</td>\n",
              "      <td>101.54</td>\n",
              "    </tr>\n",
              "    <tr>\n",
              "      <th>21</th>\n",
              "      <td>ULA</td>\n",
              "      <td>151.00</td>\n",
              "    </tr>\n",
              "    <tr>\n",
              "      <th>0</th>\n",
              "      <td>Arianespace</td>\n",
              "      <td>170.26</td>\n",
              "    </tr>\n",
              "    <tr>\n",
              "      <th>1</th>\n",
              "      <td>Boeing</td>\n",
              "      <td>177.29</td>\n",
              "    </tr>\n",
              "    <tr>\n",
              "      <th>14</th>\n",
              "      <td>NASA</td>\n",
              "      <td>450.00</td>\n",
              "    </tr>\n",
              "  </tbody>\n",
              "</table>\n",
              "</div>"
            ],
            "text/plain": [
              "       Organisation  Price\n",
              "17       Rocket Lab   7.50\n",
              "24     Virgin Orbit  12.00\n",
              "19           Sandia  15.00\n",
              "3               EER  20.00\n",
              "6            ExPace  28.30\n",
              "10        Kosmotras  29.00\n",
              "8              ISRO  32.49\n",
              "11         Lockheed  35.00\n",
              "4               ESA  37.00\n",
              "2              CASC  40.19\n",
              "5          Eurockot  41.80\n",
              "23           VKS RF  46.94\n",
              "15         Northrop  47.35\n",
              "18        Roscosmos  51.63\n",
              "20           SpaceX  54.99\n",
              "9              JAXA  56.00\n",
              "22     US Air Force  59.65\n",
              "13  Martin Marietta  80.16\n",
              "12              MHI  95.47\n",
              "7               ILS 101.54\n",
              "21              ULA 151.00\n",
              "0       Arianespace 170.26\n",
              "1            Boeing 177.29\n",
              "14             NASA 450.00"
            ]
          },
          "execution_count": 198,
          "metadata": {},
          "output_type": "execute_result"
        }
      ],
      "source": [
        "\n",
        "removednoprice['Price'] = pd.to_numeric(removednoprice['Price'], errors='coerce')\n",
        "priceperlaunch = removednoprice.groupby(\"Organisation\",as_index=False).agg({'Price': pd.Series.mean}).sort_values(by='Price',ascending=True)\n",
        "\n",
        "priceperlaunch.dropna()"
      ]
    },
    {
      "cell_type": "code",
      "execution_count": 199,
      "metadata": {
        "id": "VEkHzAk2pTvj"
      },
      "outputs": [
        {
          "data": {
            "application/vnd.plotly.v1+json": {
              "config": {
                "plotlyServerURL": "https://plot.ly"
              },
              "data": [
                {
                  "marker": {
                    "color": [
                      7.5,
                      12,
                      15,
                      20,
                      28.3,
                      29,
                      32.492537313432834,
                      35,
                      37,
                      40.194331210191095,
                      41.8,
                      46.93636363636364,
                      47.34939759036145,
                      51.630434782608695,
                      54.98989898989899,
                      56,
                      59.650769230769235,
                      80.15555555555555,
                      95.47297297297297,
                      101.53846153846153,
                      151,
                      170.26041666666666,
                      177.28571428571428,
                      450,
                      null
                    ],
                    "colorscale": [
                      [
                        0,
                        "rgb(12,51,131)"
                      ],
                      [
                        0.25,
                        "rgb(10,136,186)"
                      ],
                      [
                        0.5,
                        "rgb(242,211,56)"
                      ],
                      [
                        0.75,
                        "rgb(242,143,56)"
                      ],
                      [
                        1,
                        "rgb(217,30,30)"
                      ]
                    ],
                    "showscale": true
                  },
                  "type": "bar",
                  "x": [
                    "Rocket Lab",
                    "Virgin Orbit",
                    "Sandia",
                    "EER",
                    "ExPace",
                    "Kosmotras",
                    "ISRO",
                    "Lockheed",
                    "ESA",
                    "CASC",
                    "Eurockot",
                    "VKS RF",
                    "Northrop",
                    "Roscosmos",
                    "SpaceX",
                    "JAXA",
                    "US Air Force",
                    "Martin Marietta",
                    "MHI",
                    "ILS",
                    "ULA",
                    "Arianespace",
                    "Boeing",
                    "NASA"
                  ],
                  "y": [
                    7.5,
                    12,
                    15,
                    20,
                    28.3,
                    29,
                    32.492537313432834,
                    35,
                    37,
                    40.194331210191095,
                    41.8,
                    46.93636363636364,
                    47.34939759036145,
                    51.630434782608695,
                    54.98989898989899,
                    56,
                    59.650769230769235,
                    80.15555555555555,
                    95.47297297297297,
                    101.53846153846153,
                    151,
                    170.26041666666666,
                    177.28571428571428,
                    450
                  ]
                }
              ],
              "layout": {
                "template": {
                  "data": {
                    "bar": [
                      {
                        "error_x": {
                          "color": "#2a3f5f"
                        },
                        "error_y": {
                          "color": "#2a3f5f"
                        },
                        "marker": {
                          "line": {
                            "color": "#E5ECF6",
                            "width": 0.5
                          },
                          "pattern": {
                            "fillmode": "overlay",
                            "size": 10,
                            "solidity": 0.2
                          }
                        },
                        "type": "bar"
                      }
                    ],
                    "barpolar": [
                      {
                        "marker": {
                          "line": {
                            "color": "#E5ECF6",
                            "width": 0.5
                          },
                          "pattern": {
                            "fillmode": "overlay",
                            "size": 10,
                            "solidity": 0.2
                          }
                        },
                        "type": "barpolar"
                      }
                    ],
                    "carpet": [
                      {
                        "aaxis": {
                          "endlinecolor": "#2a3f5f",
                          "gridcolor": "white",
                          "linecolor": "white",
                          "minorgridcolor": "white",
                          "startlinecolor": "#2a3f5f"
                        },
                        "baxis": {
                          "endlinecolor": "#2a3f5f",
                          "gridcolor": "white",
                          "linecolor": "white",
                          "minorgridcolor": "white",
                          "startlinecolor": "#2a3f5f"
                        },
                        "type": "carpet"
                      }
                    ],
                    "choropleth": [
                      {
                        "colorbar": {
                          "outlinewidth": 0,
                          "ticks": ""
                        },
                        "type": "choropleth"
                      }
                    ],
                    "contour": [
                      {
                        "colorbar": {
                          "outlinewidth": 0,
                          "ticks": ""
                        },
                        "colorscale": [
                          [
                            0,
                            "#0d0887"
                          ],
                          [
                            0.1111111111111111,
                            "#46039f"
                          ],
                          [
                            0.2222222222222222,
                            "#7201a8"
                          ],
                          [
                            0.3333333333333333,
                            "#9c179e"
                          ],
                          [
                            0.4444444444444444,
                            "#bd3786"
                          ],
                          [
                            0.5555555555555556,
                            "#d8576b"
                          ],
                          [
                            0.6666666666666666,
                            "#ed7953"
                          ],
                          [
                            0.7777777777777778,
                            "#fb9f3a"
                          ],
                          [
                            0.8888888888888888,
                            "#fdca26"
                          ],
                          [
                            1,
                            "#f0f921"
                          ]
                        ],
                        "type": "contour"
                      }
                    ],
                    "contourcarpet": [
                      {
                        "colorbar": {
                          "outlinewidth": 0,
                          "ticks": ""
                        },
                        "type": "contourcarpet"
                      }
                    ],
                    "heatmap": [
                      {
                        "colorbar": {
                          "outlinewidth": 0,
                          "ticks": ""
                        },
                        "colorscale": [
                          [
                            0,
                            "#0d0887"
                          ],
                          [
                            0.1111111111111111,
                            "#46039f"
                          ],
                          [
                            0.2222222222222222,
                            "#7201a8"
                          ],
                          [
                            0.3333333333333333,
                            "#9c179e"
                          ],
                          [
                            0.4444444444444444,
                            "#bd3786"
                          ],
                          [
                            0.5555555555555556,
                            "#d8576b"
                          ],
                          [
                            0.6666666666666666,
                            "#ed7953"
                          ],
                          [
                            0.7777777777777778,
                            "#fb9f3a"
                          ],
                          [
                            0.8888888888888888,
                            "#fdca26"
                          ],
                          [
                            1,
                            "#f0f921"
                          ]
                        ],
                        "type": "heatmap"
                      }
                    ],
                    "heatmapgl": [
                      {
                        "colorbar": {
                          "outlinewidth": 0,
                          "ticks": ""
                        },
                        "colorscale": [
                          [
                            0,
                            "#0d0887"
                          ],
                          [
                            0.1111111111111111,
                            "#46039f"
                          ],
                          [
                            0.2222222222222222,
                            "#7201a8"
                          ],
                          [
                            0.3333333333333333,
                            "#9c179e"
                          ],
                          [
                            0.4444444444444444,
                            "#bd3786"
                          ],
                          [
                            0.5555555555555556,
                            "#d8576b"
                          ],
                          [
                            0.6666666666666666,
                            "#ed7953"
                          ],
                          [
                            0.7777777777777778,
                            "#fb9f3a"
                          ],
                          [
                            0.8888888888888888,
                            "#fdca26"
                          ],
                          [
                            1,
                            "#f0f921"
                          ]
                        ],
                        "type": "heatmapgl"
                      }
                    ],
                    "histogram": [
                      {
                        "marker": {
                          "pattern": {
                            "fillmode": "overlay",
                            "size": 10,
                            "solidity": 0.2
                          }
                        },
                        "type": "histogram"
                      }
                    ],
                    "histogram2d": [
                      {
                        "colorbar": {
                          "outlinewidth": 0,
                          "ticks": ""
                        },
                        "colorscale": [
                          [
                            0,
                            "#0d0887"
                          ],
                          [
                            0.1111111111111111,
                            "#46039f"
                          ],
                          [
                            0.2222222222222222,
                            "#7201a8"
                          ],
                          [
                            0.3333333333333333,
                            "#9c179e"
                          ],
                          [
                            0.4444444444444444,
                            "#bd3786"
                          ],
                          [
                            0.5555555555555556,
                            "#d8576b"
                          ],
                          [
                            0.6666666666666666,
                            "#ed7953"
                          ],
                          [
                            0.7777777777777778,
                            "#fb9f3a"
                          ],
                          [
                            0.8888888888888888,
                            "#fdca26"
                          ],
                          [
                            1,
                            "#f0f921"
                          ]
                        ],
                        "type": "histogram2d"
                      }
                    ],
                    "histogram2dcontour": [
                      {
                        "colorbar": {
                          "outlinewidth": 0,
                          "ticks": ""
                        },
                        "colorscale": [
                          [
                            0,
                            "#0d0887"
                          ],
                          [
                            0.1111111111111111,
                            "#46039f"
                          ],
                          [
                            0.2222222222222222,
                            "#7201a8"
                          ],
                          [
                            0.3333333333333333,
                            "#9c179e"
                          ],
                          [
                            0.4444444444444444,
                            "#bd3786"
                          ],
                          [
                            0.5555555555555556,
                            "#d8576b"
                          ],
                          [
                            0.6666666666666666,
                            "#ed7953"
                          ],
                          [
                            0.7777777777777778,
                            "#fb9f3a"
                          ],
                          [
                            0.8888888888888888,
                            "#fdca26"
                          ],
                          [
                            1,
                            "#f0f921"
                          ]
                        ],
                        "type": "histogram2dcontour"
                      }
                    ],
                    "mesh3d": [
                      {
                        "colorbar": {
                          "outlinewidth": 0,
                          "ticks": ""
                        },
                        "type": "mesh3d"
                      }
                    ],
                    "parcoords": [
                      {
                        "line": {
                          "colorbar": {
                            "outlinewidth": 0,
                            "ticks": ""
                          }
                        },
                        "type": "parcoords"
                      }
                    ],
                    "pie": [
                      {
                        "automargin": true,
                        "type": "pie"
                      }
                    ],
                    "scatter": [
                      {
                        "fillpattern": {
                          "fillmode": "overlay",
                          "size": 10,
                          "solidity": 0.2
                        },
                        "type": "scatter"
                      }
                    ],
                    "scatter3d": [
                      {
                        "line": {
                          "colorbar": {
                            "outlinewidth": 0,
                            "ticks": ""
                          }
                        },
                        "marker": {
                          "colorbar": {
                            "outlinewidth": 0,
                            "ticks": ""
                          }
                        },
                        "type": "scatter3d"
                      }
                    ],
                    "scattercarpet": [
                      {
                        "marker": {
                          "colorbar": {
                            "outlinewidth": 0,
                            "ticks": ""
                          }
                        },
                        "type": "scattercarpet"
                      }
                    ],
                    "scattergeo": [
                      {
                        "marker": {
                          "colorbar": {
                            "outlinewidth": 0,
                            "ticks": ""
                          }
                        },
                        "type": "scattergeo"
                      }
                    ],
                    "scattergl": [
                      {
                        "marker": {
                          "colorbar": {
                            "outlinewidth": 0,
                            "ticks": ""
                          }
                        },
                        "type": "scattergl"
                      }
                    ],
                    "scattermapbox": [
                      {
                        "marker": {
                          "colorbar": {
                            "outlinewidth": 0,
                            "ticks": ""
                          }
                        },
                        "type": "scattermapbox"
                      }
                    ],
                    "scatterpolar": [
                      {
                        "marker": {
                          "colorbar": {
                            "outlinewidth": 0,
                            "ticks": ""
                          }
                        },
                        "type": "scatterpolar"
                      }
                    ],
                    "scatterpolargl": [
                      {
                        "marker": {
                          "colorbar": {
                            "outlinewidth": 0,
                            "ticks": ""
                          }
                        },
                        "type": "scatterpolargl"
                      }
                    ],
                    "scatterternary": [
                      {
                        "marker": {
                          "colorbar": {
                            "outlinewidth": 0,
                            "ticks": ""
                          }
                        },
                        "type": "scatterternary"
                      }
                    ],
                    "surface": [
                      {
                        "colorbar": {
                          "outlinewidth": 0,
                          "ticks": ""
                        },
                        "colorscale": [
                          [
                            0,
                            "#0d0887"
                          ],
                          [
                            0.1111111111111111,
                            "#46039f"
                          ],
                          [
                            0.2222222222222222,
                            "#7201a8"
                          ],
                          [
                            0.3333333333333333,
                            "#9c179e"
                          ],
                          [
                            0.4444444444444444,
                            "#bd3786"
                          ],
                          [
                            0.5555555555555556,
                            "#d8576b"
                          ],
                          [
                            0.6666666666666666,
                            "#ed7953"
                          ],
                          [
                            0.7777777777777778,
                            "#fb9f3a"
                          ],
                          [
                            0.8888888888888888,
                            "#fdca26"
                          ],
                          [
                            1,
                            "#f0f921"
                          ]
                        ],
                        "type": "surface"
                      }
                    ],
                    "table": [
                      {
                        "cells": {
                          "fill": {
                            "color": "#EBF0F8"
                          },
                          "line": {
                            "color": "white"
                          }
                        },
                        "header": {
                          "fill": {
                            "color": "#C8D4E3"
                          },
                          "line": {
                            "color": "white"
                          }
                        },
                        "type": "table"
                      }
                    ]
                  },
                  "layout": {
                    "annotationdefaults": {
                      "arrowcolor": "#2a3f5f",
                      "arrowhead": 0,
                      "arrowwidth": 1
                    },
                    "autotypenumbers": "strict",
                    "coloraxis": {
                      "colorbar": {
                        "outlinewidth": 0,
                        "ticks": ""
                      }
                    },
                    "colorscale": {
                      "diverging": [
                        [
                          0,
                          "#8e0152"
                        ],
                        [
                          0.1,
                          "#c51b7d"
                        ],
                        [
                          0.2,
                          "#de77ae"
                        ],
                        [
                          0.3,
                          "#f1b6da"
                        ],
                        [
                          0.4,
                          "#fde0ef"
                        ],
                        [
                          0.5,
                          "#f7f7f7"
                        ],
                        [
                          0.6,
                          "#e6f5d0"
                        ],
                        [
                          0.7,
                          "#b8e186"
                        ],
                        [
                          0.8,
                          "#7fbc41"
                        ],
                        [
                          0.9,
                          "#4d9221"
                        ],
                        [
                          1,
                          "#276419"
                        ]
                      ],
                      "sequential": [
                        [
                          0,
                          "#0d0887"
                        ],
                        [
                          0.1111111111111111,
                          "#46039f"
                        ],
                        [
                          0.2222222222222222,
                          "#7201a8"
                        ],
                        [
                          0.3333333333333333,
                          "#9c179e"
                        ],
                        [
                          0.4444444444444444,
                          "#bd3786"
                        ],
                        [
                          0.5555555555555556,
                          "#d8576b"
                        ],
                        [
                          0.6666666666666666,
                          "#ed7953"
                        ],
                        [
                          0.7777777777777778,
                          "#fb9f3a"
                        ],
                        [
                          0.8888888888888888,
                          "#fdca26"
                        ],
                        [
                          1,
                          "#f0f921"
                        ]
                      ],
                      "sequentialminus": [
                        [
                          0,
                          "#0d0887"
                        ],
                        [
                          0.1111111111111111,
                          "#46039f"
                        ],
                        [
                          0.2222222222222222,
                          "#7201a8"
                        ],
                        [
                          0.3333333333333333,
                          "#9c179e"
                        ],
                        [
                          0.4444444444444444,
                          "#bd3786"
                        ],
                        [
                          0.5555555555555556,
                          "#d8576b"
                        ],
                        [
                          0.6666666666666666,
                          "#ed7953"
                        ],
                        [
                          0.7777777777777778,
                          "#fb9f3a"
                        ],
                        [
                          0.8888888888888888,
                          "#fdca26"
                        ],
                        [
                          1,
                          "#f0f921"
                        ]
                      ]
                    },
                    "colorway": [
                      "#636efa",
                      "#EF553B",
                      "#00cc96",
                      "#ab63fa",
                      "#FFA15A",
                      "#19d3f3",
                      "#FF6692",
                      "#B6E880",
                      "#FF97FF",
                      "#FECB52"
                    ],
                    "font": {
                      "color": "#2a3f5f"
                    },
                    "geo": {
                      "bgcolor": "white",
                      "lakecolor": "white",
                      "landcolor": "#E5ECF6",
                      "showlakes": true,
                      "showland": true,
                      "subunitcolor": "white"
                    },
                    "hoverlabel": {
                      "align": "left"
                    },
                    "hovermode": "closest",
                    "mapbox": {
                      "style": "light"
                    },
                    "paper_bgcolor": "white",
                    "plot_bgcolor": "#E5ECF6",
                    "polar": {
                      "angularaxis": {
                        "gridcolor": "white",
                        "linecolor": "white",
                        "ticks": ""
                      },
                      "bgcolor": "#E5ECF6",
                      "radialaxis": {
                        "gridcolor": "white",
                        "linecolor": "white",
                        "ticks": ""
                      }
                    },
                    "scene": {
                      "xaxis": {
                        "backgroundcolor": "#E5ECF6",
                        "gridcolor": "white",
                        "gridwidth": 2,
                        "linecolor": "white",
                        "showbackground": true,
                        "ticks": "",
                        "zerolinecolor": "white"
                      },
                      "yaxis": {
                        "backgroundcolor": "#E5ECF6",
                        "gridcolor": "white",
                        "gridwidth": 2,
                        "linecolor": "white",
                        "showbackground": true,
                        "ticks": "",
                        "zerolinecolor": "white"
                      },
                      "zaxis": {
                        "backgroundcolor": "#E5ECF6",
                        "gridcolor": "white",
                        "gridwidth": 2,
                        "linecolor": "white",
                        "showbackground": true,
                        "ticks": "",
                        "zerolinecolor": "white"
                      }
                    },
                    "shapedefaults": {
                      "line": {
                        "color": "#2a3f5f"
                      }
                    },
                    "ternary": {
                      "aaxis": {
                        "gridcolor": "white",
                        "linecolor": "white",
                        "ticks": ""
                      },
                      "baxis": {
                        "gridcolor": "white",
                        "linecolor": "white",
                        "ticks": ""
                      },
                      "bgcolor": "#E5ECF6",
                      "caxis": {
                        "gridcolor": "white",
                        "linecolor": "white",
                        "ticks": ""
                      }
                    },
                    "title": {
                      "x": 0.05
                    },
                    "xaxis": {
                      "automargin": true,
                      "gridcolor": "white",
                      "linecolor": "white",
                      "ticks": "",
                      "title": {
                        "standoff": 15
                      },
                      "zerolinecolor": "white",
                      "zerolinewidth": 2
                    },
                    "yaxis": {
                      "automargin": true,
                      "gridcolor": "white",
                      "linecolor": "white",
                      "ticks": "",
                      "title": {
                        "standoff": 15
                      },
                      "zerolinecolor": "white",
                      "zerolinewidth": 2
                    }
                  }
                },
                "title": {
                  "text": "Average cost of a space launch per organization"
                },
                "xaxis": {
                  "title": {
                    "text": "Organization"
                  }
                },
                "yaxis": {
                  "title": {
                    "text": "Average cost"
                  }
                }
              }
            }
          },
          "metadata": {},
          "output_type": "display_data"
        }
      ],
      "source": [
        "trace = go.Bar(x=priceperlaunch['Organisation'].iloc[:-1], y=priceperlaunch['Price'].iloc[:-1],\n",
        "               marker=dict(color=priceperlaunch['Price'],\n",
        "                           colorscale='portland', showscale=True))\n",
        "\n",
        "data = [trace]\n",
        "layout = go.Layout(title='Average cost of a space launch per organization',\n",
        "                   xaxis=dict(title='Organization'),\n",
        "                   yaxis=dict(title='Average cost'))\n",
        "fig = go.Figure(data=data, layout=layout)\n",
        "fig.show()\n"
      ]
    },
    {
      "cell_type": "code",
      "execution_count": null,
      "metadata": {
        "id": "R5rFf501pKXD"
      },
      "outputs": [],
      "source": []
    },
    {
      "cell_type": "markdown",
      "metadata": {
        "id": "yRa1BbPoa-qf",
        "papermill": {
          "duration": 0.042662,
          "end_time": "2020-10-20T21:34:09.943196",
          "exception": false,
          "start_time": "2020-10-20T21:34:09.900534",
          "status": "completed"
        },
        "tags": []
      },
      "source": [
        "# Chart the Number of Launches per Year"
      ]
    },
    {
      "cell_type": "code",
      "execution_count": 200,
      "metadata": {
        "id": "_9FohVh3pcAJ"
      },
      "outputs": [
        {
          "data": {
            "text/html": [
              "<div>\n",
              "<style scoped>\n",
              "    .dataframe tbody tr th:only-of-type {\n",
              "        vertical-align: middle;\n",
              "    }\n",
              "\n",
              "    .dataframe tbody tr th {\n",
              "        vertical-align: top;\n",
              "    }\n",
              "\n",
              "    .dataframe thead th {\n",
              "        text-align: right;\n",
              "    }\n",
              "</style>\n",
              "<table border=\"1\" class=\"dataframe\">\n",
              "  <thead>\n",
              "    <tr style=\"text-align: right;\">\n",
              "      <th></th>\n",
              "      <th>Organisation</th>\n",
              "      <th>Location</th>\n",
              "      <th>Date</th>\n",
              "      <th>Detail</th>\n",
              "      <th>Rocket_Status</th>\n",
              "      <th>Price</th>\n",
              "      <th>Mission_Status</th>\n",
              "      <th>Country</th>\n",
              "      <th>Iso</th>\n",
              "      <th>Year</th>\n",
              "    </tr>\n",
              "  </thead>\n",
              "  <tbody>\n",
              "    <tr>\n",
              "      <th>367</th>\n",
              "      <td>Arianespace</td>\n",
              "      <td>ELV-1 (SLV), Guiana Space Centre, French Guian...</td>\n",
              "      <td>2017-03-07 01:49:00+00:00</td>\n",
              "      <td>Vega | Sentinel 2B</td>\n",
              "      <td>StatusActive</td>\n",
              "      <td>37.0</td>\n",
              "      <td>Success</td>\n",
              "      <td>France</td>\n",
              "      <td>FRA</td>\n",
              "      <td>2017</td>\n",
              "    </tr>\n",
              "    <tr>\n",
              "      <th>411</th>\n",
              "      <td>ULA</td>\n",
              "      <td>SLC-41, Cape Canaveral AFS, Florida, USA</td>\n",
              "      <td>2016-09-08 23:05:00+00:00</td>\n",
              "      <td>Atlas V 411 | OSIRIS-REx</td>\n",
              "      <td>StatusActive</td>\n",
              "      <td>115.0</td>\n",
              "      <td>Success</td>\n",
              "      <td>United States of America</td>\n",
              "      <td>USA</td>\n",
              "      <td>2016</td>\n",
              "    </tr>\n",
              "    <tr>\n",
              "      <th>3708</th>\n",
              "      <td>RVSN USSR</td>\n",
              "      <td>Site 41/1, Plesetsk Cosmodrome, Russia</td>\n",
              "      <td>1967-12-16 12:00:00+00:00</td>\n",
              "      <td>Voskhod | Cosmos 195</td>\n",
              "      <td>StatusRetired</td>\n",
              "      <td>NaN</td>\n",
              "      <td>Success</td>\n",
              "      <td>Russian Federation</td>\n",
              "      <td>RUS</td>\n",
              "      <td>1967</td>\n",
              "    </tr>\n",
              "    <tr>\n",
              "      <th>3735</th>\n",
              "      <td>RVSN USSR</td>\n",
              "      <td>Site 41/1, Plesetsk Cosmodrome, Russia</td>\n",
              "      <td>1967-09-26 10:20:00+00:00</td>\n",
              "      <td>Voskhod | Cosmos 180</td>\n",
              "      <td>StatusRetired</td>\n",
              "      <td>NaN</td>\n",
              "      <td>Success</td>\n",
              "      <td>Russian Federation</td>\n",
              "      <td>RUS</td>\n",
              "      <td>1967</td>\n",
              "    </tr>\n",
              "    <tr>\n",
              "      <th>1228</th>\n",
              "      <td>Arianespace</td>\n",
              "      <td>ELA-2, Guiana Space Centre, French Guiana, France</td>\n",
              "      <td>1999-11-13 22:54:00+00:00</td>\n",
              "      <td>Ariane 44LP | GE-4</td>\n",
              "      <td>StatusRetired</td>\n",
              "      <td>NaN</td>\n",
              "      <td>Success</td>\n",
              "      <td>France</td>\n",
              "      <td>FRA</td>\n",
              "      <td>1999</td>\n",
              "    </tr>\n",
              "    <tr>\n",
              "      <th>2185</th>\n",
              "      <td>RVSN USSR</td>\n",
              "      <td>Site 32/2, Plesetsk Cosmodrome, Russia</td>\n",
              "      <td>1984-08-08 12:08:00+00:00</td>\n",
              "      <td>Tsyklon-3 | Cosmos 1589</td>\n",
              "      <td>StatusRetired</td>\n",
              "      <td>NaN</td>\n",
              "      <td>Success</td>\n",
              "      <td>Russian Federation</td>\n",
              "      <td>RUS</td>\n",
              "      <td>1984</td>\n",
              "    </tr>\n",
              "    <tr>\n",
              "      <th>1839</th>\n",
              "      <td>RVSN USSR</td>\n",
              "      <td>Site 32/2, Plesetsk Cosmodrome, Russia</td>\n",
              "      <td>1990-02-28 00:55:00+00:00</td>\n",
              "      <td>Tsyklon-3 | Okean 2</td>\n",
              "      <td>StatusRetired</td>\n",
              "      <td>NaN</td>\n",
              "      <td>Success</td>\n",
              "      <td>Russian Federation</td>\n",
              "      <td>RUS</td>\n",
              "      <td>1990</td>\n",
              "    </tr>\n",
              "    <tr>\n",
              "      <th>3795</th>\n",
              "      <td>RVSN USSR</td>\n",
              "      <td>Site 81/23, Baikonur Cosmodrome, Kazakhstan</td>\n",
              "      <td>1967-03-10 11:30:00+00:00</td>\n",
              "      <td>Proton K/Block D | Cosmos 146</td>\n",
              "      <td>StatusRetired</td>\n",
              "      <td>NaN</td>\n",
              "      <td>Success</td>\n",
              "      <td>Kazakhstan</td>\n",
              "      <td>KAZ</td>\n",
              "      <td>1967</td>\n",
              "    </tr>\n",
              "    <tr>\n",
              "      <th>3137</th>\n",
              "      <td>RVSN USSR</td>\n",
              "      <td>Site 43/4, Plesetsk Cosmodrome, Russia</td>\n",
              "      <td>1973-06-06 11:30:00+00:00</td>\n",
              "      <td>Voskhod | Cosmos 563</td>\n",
              "      <td>StatusRetired</td>\n",
              "      <td>NaN</td>\n",
              "      <td>Success</td>\n",
              "      <td>Russian Federation</td>\n",
              "      <td>RUS</td>\n",
              "      <td>1973</td>\n",
              "    </tr>\n",
              "    <tr>\n",
              "      <th>3755</th>\n",
              "      <td>RVSN USSR</td>\n",
              "      <td>Site 31/6, Baikonur Cosmodrome, Kazakhstan</td>\n",
              "      <td>1967-07-04 05:59:00+00:00</td>\n",
              "      <td>Voskhod | Cosmos 168</td>\n",
              "      <td>StatusRetired</td>\n",
              "      <td>NaN</td>\n",
              "      <td>Success</td>\n",
              "      <td>Kazakhstan</td>\n",
              "      <td>KAZ</td>\n",
              "      <td>1967</td>\n",
              "    </tr>\n",
              "  </tbody>\n",
              "</table>\n",
              "</div>"
            ],
            "text/plain": [
              "     Organisation                                           Location  \\\n",
              "367   Arianespace  ELV-1 (SLV), Guiana Space Centre, French Guian...   \n",
              "411           ULA           SLC-41, Cape Canaveral AFS, Florida, USA   \n",
              "3708    RVSN USSR             Site 41/1, Plesetsk Cosmodrome, Russia   \n",
              "3735    RVSN USSR             Site 41/1, Plesetsk Cosmodrome, Russia   \n",
              "1228  Arianespace  ELA-2, Guiana Space Centre, French Guiana, France   \n",
              "2185    RVSN USSR             Site 32/2, Plesetsk Cosmodrome, Russia   \n",
              "1839    RVSN USSR             Site 32/2, Plesetsk Cosmodrome, Russia   \n",
              "3795    RVSN USSR        Site 81/23, Baikonur Cosmodrome, Kazakhstan   \n",
              "3137    RVSN USSR             Site 43/4, Plesetsk Cosmodrome, Russia   \n",
              "3755    RVSN USSR         Site 31/6, Baikonur Cosmodrome, Kazakhstan   \n",
              "\n",
              "                          Date                         Detail  Rocket_Status  \\\n",
              "367  2017-03-07 01:49:00+00:00             Vega | Sentinel 2B   StatusActive   \n",
              "411  2016-09-08 23:05:00+00:00       Atlas V 411 | OSIRIS-REx   StatusActive   \n",
              "3708 1967-12-16 12:00:00+00:00           Voskhod | Cosmos 195  StatusRetired   \n",
              "3735 1967-09-26 10:20:00+00:00           Voskhod | Cosmos 180  StatusRetired   \n",
              "1228 1999-11-13 22:54:00+00:00             Ariane 44LP | GE-4  StatusRetired   \n",
              "2185 1984-08-08 12:08:00+00:00        Tsyklon-3 | Cosmos 1589  StatusRetired   \n",
              "1839 1990-02-28 00:55:00+00:00            Tsyklon-3 | Okean 2  StatusRetired   \n",
              "3795 1967-03-10 11:30:00+00:00  Proton K/Block D | Cosmos 146  StatusRetired   \n",
              "3137 1973-06-06 11:30:00+00:00           Voskhod | Cosmos 563  StatusRetired   \n",
              "3755 1967-07-04 05:59:00+00:00           Voskhod | Cosmos 168  StatusRetired   \n",
              "\n",
              "      Price Mission_Status                   Country  Iso  Year  \n",
              "367    37.0        Success                    France  FRA  2017  \n",
              "411   115.0        Success  United States of America  USA  2016  \n",
              "3708    NaN        Success        Russian Federation  RUS  1967  \n",
              "3735    NaN        Success        Russian Federation  RUS  1967  \n",
              "1228    NaN        Success                    France  FRA  1999  \n",
              "2185    NaN        Success        Russian Federation  RUS  1984  \n",
              "1839    NaN        Success        Russian Federation  RUS  1990  \n",
              "3795    NaN        Success                Kazakhstan  KAZ  1967  \n",
              "3137    NaN        Success        Russian Federation  RUS  1973  \n",
              "3755    NaN        Success                Kazakhstan  KAZ  1967  "
            ]
          },
          "execution_count": 200,
          "metadata": {},
          "output_type": "execute_result"
        }
      ],
      "source": [
        "spacedf[\"Date\"] = pd.to_datetime(spacedf[\"Date\"],utc=True)\n",
        "spacedf['Date']\n",
        "spacedf['Year'] = spacedf['Date'].dt.year\n",
        "spacedf.sample(10)"
      ]
    },
    {
      "cell_type": "code",
      "execution_count": 201,
      "metadata": {
        "id": "b2pggcZBpb4x"
      },
      "outputs": [
        {
          "data": {
            "text/html": [
              "<div>\n",
              "<style scoped>\n",
              "    .dataframe tbody tr th:only-of-type {\n",
              "        vertical-align: middle;\n",
              "    }\n",
              "\n",
              "    .dataframe tbody tr th {\n",
              "        vertical-align: top;\n",
              "    }\n",
              "\n",
              "    .dataframe thead th {\n",
              "        text-align: right;\n",
              "    }\n",
              "</style>\n",
              "<table border=\"1\" class=\"dataframe\">\n",
              "  <thead>\n",
              "    <tr style=\"text-align: right;\">\n",
              "      <th></th>\n",
              "      <th>Year</th>\n",
              "      <th>Rocket_Status</th>\n",
              "    </tr>\n",
              "  </thead>\n",
              "  <tbody>\n",
              "    <tr>\n",
              "      <th>0</th>\n",
              "      <td>1957</td>\n",
              "      <td>3</td>\n",
              "    </tr>\n",
              "    <tr>\n",
              "      <th>1</th>\n",
              "      <td>1958</td>\n",
              "      <td>28</td>\n",
              "    </tr>\n",
              "    <tr>\n",
              "      <th>2</th>\n",
              "      <td>1959</td>\n",
              "      <td>20</td>\n",
              "    </tr>\n",
              "    <tr>\n",
              "      <th>3</th>\n",
              "      <td>1960</td>\n",
              "      <td>39</td>\n",
              "    </tr>\n",
              "    <tr>\n",
              "      <th>4</th>\n",
              "      <td>1961</td>\n",
              "      <td>52</td>\n",
              "    </tr>\n",
              "    <tr>\n",
              "      <th>...</th>\n",
              "      <td>...</td>\n",
              "      <td>...</td>\n",
              "    </tr>\n",
              "    <tr>\n",
              "      <th>59</th>\n",
              "      <td>2016</td>\n",
              "      <td>90</td>\n",
              "    </tr>\n",
              "    <tr>\n",
              "      <th>60</th>\n",
              "      <td>2017</td>\n",
              "      <td>92</td>\n",
              "    </tr>\n",
              "    <tr>\n",
              "      <th>61</th>\n",
              "      <td>2018</td>\n",
              "      <td>117</td>\n",
              "    </tr>\n",
              "    <tr>\n",
              "      <th>62</th>\n",
              "      <td>2019</td>\n",
              "      <td>109</td>\n",
              "    </tr>\n",
              "    <tr>\n",
              "      <th>63</th>\n",
              "      <td>2020</td>\n",
              "      <td>63</td>\n",
              "    </tr>\n",
              "  </tbody>\n",
              "</table>\n",
              "<p>64 rows × 2 columns</p>\n",
              "</div>"
            ],
            "text/plain": [
              "    Year  Rocket_Status\n",
              "0   1957              3\n",
              "1   1958             28\n",
              "2   1959             20\n",
              "3   1960             39\n",
              "4   1961             52\n",
              "..   ...            ...\n",
              "59  2016             90\n",
              "60  2017             92\n",
              "61  2018            117\n",
              "62  2019            109\n",
              "63  2020             63\n",
              "\n",
              "[64 rows x 2 columns]"
            ]
          },
          "execution_count": 201,
          "metadata": {},
          "output_type": "execute_result"
        }
      ],
      "source": [
        "launchesperyear = spacedf.groupby(\"Year\",as_index=False).agg({'Rocket_Status': pd.Series.count})\n",
        "launchesperyear\n"
      ]
    },
    {
      "cell_type": "code",
      "execution_count": 202,
      "metadata": {},
      "outputs": [
        {
          "data": {
            "application/vnd.plotly.v1+json": {
              "config": {
                "plotlyServerURL": "https://plot.ly"
              },
              "data": [
                {
                  "hovertemplate": "Year=%{x}<br>Number of Launches=%{y}<extra></extra>",
                  "legendgroup": "",
                  "line": {
                    "color": "#636efa",
                    "dash": "solid"
                  },
                  "marker": {
                    "symbol": "circle"
                  },
                  "mode": "lines",
                  "name": "",
                  "orientation": "v",
                  "showlegend": false,
                  "type": "scatter",
                  "x": [
                    1957,
                    1958,
                    1959,
                    1960,
                    1961,
                    1962,
                    1963,
                    1964,
                    1965,
                    1966,
                    1967,
                    1968,
                    1969,
                    1970,
                    1971,
                    1972,
                    1973,
                    1974,
                    1975,
                    1976,
                    1977,
                    1978,
                    1979,
                    1980,
                    1981,
                    1982,
                    1983,
                    1984,
                    1985,
                    1986,
                    1987,
                    1988,
                    1989,
                    1990,
                    1991,
                    1992,
                    1993,
                    1994,
                    1995,
                    1996,
                    1997,
                    1998,
                    1999,
                    2000,
                    2001,
                    2002,
                    2003,
                    2004,
                    2005,
                    2006,
                    2007,
                    2008,
                    2009,
                    2010,
                    2011,
                    2012,
                    2013,
                    2014,
                    2015,
                    2016,
                    2017,
                    2018,
                    2019
                  ],
                  "xaxis": "x",
                  "y": [
                    3,
                    28,
                    20,
                    39,
                    52,
                    82,
                    41,
                    60,
                    87,
                    101,
                    106,
                    103,
                    103,
                    107,
                    119,
                    99,
                    103,
                    98,
                    113,
                    113,
                    114,
                    97,
                    49,
                    55,
                    71,
                    67,
                    66,
                    69,
                    74,
                    62,
                    56,
                    59,
                    52,
                    80,
                    59,
                    62,
                    61,
                    64,
                    61,
                    60,
                    70,
                    68,
                    57,
                    57,
                    43,
                    49,
                    52,
                    40,
                    37,
                    49,
                    50,
                    47,
                    50,
                    37,
                    42,
                    38,
                    46,
                    53,
                    52,
                    90,
                    92,
                    117,
                    109
                  ],
                  "yaxis": "y"
                }
              ],
              "layout": {
                "legend": {
                  "tracegroupgap": 0
                },
                "template": {
                  "data": {
                    "bar": [
                      {
                        "error_x": {
                          "color": "#f2f5fa"
                        },
                        "error_y": {
                          "color": "#f2f5fa"
                        },
                        "marker": {
                          "line": {
                            "color": "rgb(17,17,17)",
                            "width": 0.5
                          },
                          "pattern": {
                            "fillmode": "overlay",
                            "size": 10,
                            "solidity": 0.2
                          }
                        },
                        "type": "bar"
                      }
                    ],
                    "barpolar": [
                      {
                        "marker": {
                          "line": {
                            "color": "rgb(17,17,17)",
                            "width": 0.5
                          },
                          "pattern": {
                            "fillmode": "overlay",
                            "size": 10,
                            "solidity": 0.2
                          }
                        },
                        "type": "barpolar"
                      }
                    ],
                    "carpet": [
                      {
                        "aaxis": {
                          "endlinecolor": "#A2B1C6",
                          "gridcolor": "#506784",
                          "linecolor": "#506784",
                          "minorgridcolor": "#506784",
                          "startlinecolor": "#A2B1C6"
                        },
                        "baxis": {
                          "endlinecolor": "#A2B1C6",
                          "gridcolor": "#506784",
                          "linecolor": "#506784",
                          "minorgridcolor": "#506784",
                          "startlinecolor": "#A2B1C6"
                        },
                        "type": "carpet"
                      }
                    ],
                    "choropleth": [
                      {
                        "colorbar": {
                          "outlinewidth": 0,
                          "ticks": ""
                        },
                        "type": "choropleth"
                      }
                    ],
                    "contour": [
                      {
                        "colorbar": {
                          "outlinewidth": 0,
                          "ticks": ""
                        },
                        "colorscale": [
                          [
                            0,
                            "#0d0887"
                          ],
                          [
                            0.1111111111111111,
                            "#46039f"
                          ],
                          [
                            0.2222222222222222,
                            "#7201a8"
                          ],
                          [
                            0.3333333333333333,
                            "#9c179e"
                          ],
                          [
                            0.4444444444444444,
                            "#bd3786"
                          ],
                          [
                            0.5555555555555556,
                            "#d8576b"
                          ],
                          [
                            0.6666666666666666,
                            "#ed7953"
                          ],
                          [
                            0.7777777777777778,
                            "#fb9f3a"
                          ],
                          [
                            0.8888888888888888,
                            "#fdca26"
                          ],
                          [
                            1,
                            "#f0f921"
                          ]
                        ],
                        "type": "contour"
                      }
                    ],
                    "contourcarpet": [
                      {
                        "colorbar": {
                          "outlinewidth": 0,
                          "ticks": ""
                        },
                        "type": "contourcarpet"
                      }
                    ],
                    "heatmap": [
                      {
                        "colorbar": {
                          "outlinewidth": 0,
                          "ticks": ""
                        },
                        "colorscale": [
                          [
                            0,
                            "#0d0887"
                          ],
                          [
                            0.1111111111111111,
                            "#46039f"
                          ],
                          [
                            0.2222222222222222,
                            "#7201a8"
                          ],
                          [
                            0.3333333333333333,
                            "#9c179e"
                          ],
                          [
                            0.4444444444444444,
                            "#bd3786"
                          ],
                          [
                            0.5555555555555556,
                            "#d8576b"
                          ],
                          [
                            0.6666666666666666,
                            "#ed7953"
                          ],
                          [
                            0.7777777777777778,
                            "#fb9f3a"
                          ],
                          [
                            0.8888888888888888,
                            "#fdca26"
                          ],
                          [
                            1,
                            "#f0f921"
                          ]
                        ],
                        "type": "heatmap"
                      }
                    ],
                    "heatmapgl": [
                      {
                        "colorbar": {
                          "outlinewidth": 0,
                          "ticks": ""
                        },
                        "colorscale": [
                          [
                            0,
                            "#0d0887"
                          ],
                          [
                            0.1111111111111111,
                            "#46039f"
                          ],
                          [
                            0.2222222222222222,
                            "#7201a8"
                          ],
                          [
                            0.3333333333333333,
                            "#9c179e"
                          ],
                          [
                            0.4444444444444444,
                            "#bd3786"
                          ],
                          [
                            0.5555555555555556,
                            "#d8576b"
                          ],
                          [
                            0.6666666666666666,
                            "#ed7953"
                          ],
                          [
                            0.7777777777777778,
                            "#fb9f3a"
                          ],
                          [
                            0.8888888888888888,
                            "#fdca26"
                          ],
                          [
                            1,
                            "#f0f921"
                          ]
                        ],
                        "type": "heatmapgl"
                      }
                    ],
                    "histogram": [
                      {
                        "marker": {
                          "pattern": {
                            "fillmode": "overlay",
                            "size": 10,
                            "solidity": 0.2
                          }
                        },
                        "type": "histogram"
                      }
                    ],
                    "histogram2d": [
                      {
                        "colorbar": {
                          "outlinewidth": 0,
                          "ticks": ""
                        },
                        "colorscale": [
                          [
                            0,
                            "#0d0887"
                          ],
                          [
                            0.1111111111111111,
                            "#46039f"
                          ],
                          [
                            0.2222222222222222,
                            "#7201a8"
                          ],
                          [
                            0.3333333333333333,
                            "#9c179e"
                          ],
                          [
                            0.4444444444444444,
                            "#bd3786"
                          ],
                          [
                            0.5555555555555556,
                            "#d8576b"
                          ],
                          [
                            0.6666666666666666,
                            "#ed7953"
                          ],
                          [
                            0.7777777777777778,
                            "#fb9f3a"
                          ],
                          [
                            0.8888888888888888,
                            "#fdca26"
                          ],
                          [
                            1,
                            "#f0f921"
                          ]
                        ],
                        "type": "histogram2d"
                      }
                    ],
                    "histogram2dcontour": [
                      {
                        "colorbar": {
                          "outlinewidth": 0,
                          "ticks": ""
                        },
                        "colorscale": [
                          [
                            0,
                            "#0d0887"
                          ],
                          [
                            0.1111111111111111,
                            "#46039f"
                          ],
                          [
                            0.2222222222222222,
                            "#7201a8"
                          ],
                          [
                            0.3333333333333333,
                            "#9c179e"
                          ],
                          [
                            0.4444444444444444,
                            "#bd3786"
                          ],
                          [
                            0.5555555555555556,
                            "#d8576b"
                          ],
                          [
                            0.6666666666666666,
                            "#ed7953"
                          ],
                          [
                            0.7777777777777778,
                            "#fb9f3a"
                          ],
                          [
                            0.8888888888888888,
                            "#fdca26"
                          ],
                          [
                            1,
                            "#f0f921"
                          ]
                        ],
                        "type": "histogram2dcontour"
                      }
                    ],
                    "mesh3d": [
                      {
                        "colorbar": {
                          "outlinewidth": 0,
                          "ticks": ""
                        },
                        "type": "mesh3d"
                      }
                    ],
                    "parcoords": [
                      {
                        "line": {
                          "colorbar": {
                            "outlinewidth": 0,
                            "ticks": ""
                          }
                        },
                        "type": "parcoords"
                      }
                    ],
                    "pie": [
                      {
                        "automargin": true,
                        "type": "pie"
                      }
                    ],
                    "scatter": [
                      {
                        "marker": {
                          "line": {
                            "color": "#283442"
                          }
                        },
                        "type": "scatter"
                      }
                    ],
                    "scatter3d": [
                      {
                        "line": {
                          "colorbar": {
                            "outlinewidth": 0,
                            "ticks": ""
                          }
                        },
                        "marker": {
                          "colorbar": {
                            "outlinewidth": 0,
                            "ticks": ""
                          }
                        },
                        "type": "scatter3d"
                      }
                    ],
                    "scattercarpet": [
                      {
                        "marker": {
                          "colorbar": {
                            "outlinewidth": 0,
                            "ticks": ""
                          }
                        },
                        "type": "scattercarpet"
                      }
                    ],
                    "scattergeo": [
                      {
                        "marker": {
                          "colorbar": {
                            "outlinewidth": 0,
                            "ticks": ""
                          }
                        },
                        "type": "scattergeo"
                      }
                    ],
                    "scattergl": [
                      {
                        "marker": {
                          "line": {
                            "color": "#283442"
                          }
                        },
                        "type": "scattergl"
                      }
                    ],
                    "scattermapbox": [
                      {
                        "marker": {
                          "colorbar": {
                            "outlinewidth": 0,
                            "ticks": ""
                          }
                        },
                        "type": "scattermapbox"
                      }
                    ],
                    "scatterpolar": [
                      {
                        "marker": {
                          "colorbar": {
                            "outlinewidth": 0,
                            "ticks": ""
                          }
                        },
                        "type": "scatterpolar"
                      }
                    ],
                    "scatterpolargl": [
                      {
                        "marker": {
                          "colorbar": {
                            "outlinewidth": 0,
                            "ticks": ""
                          }
                        },
                        "type": "scatterpolargl"
                      }
                    ],
                    "scatterternary": [
                      {
                        "marker": {
                          "colorbar": {
                            "outlinewidth": 0,
                            "ticks": ""
                          }
                        },
                        "type": "scatterternary"
                      }
                    ],
                    "surface": [
                      {
                        "colorbar": {
                          "outlinewidth": 0,
                          "ticks": ""
                        },
                        "colorscale": [
                          [
                            0,
                            "#0d0887"
                          ],
                          [
                            0.1111111111111111,
                            "#46039f"
                          ],
                          [
                            0.2222222222222222,
                            "#7201a8"
                          ],
                          [
                            0.3333333333333333,
                            "#9c179e"
                          ],
                          [
                            0.4444444444444444,
                            "#bd3786"
                          ],
                          [
                            0.5555555555555556,
                            "#d8576b"
                          ],
                          [
                            0.6666666666666666,
                            "#ed7953"
                          ],
                          [
                            0.7777777777777778,
                            "#fb9f3a"
                          ],
                          [
                            0.8888888888888888,
                            "#fdca26"
                          ],
                          [
                            1,
                            "#f0f921"
                          ]
                        ],
                        "type": "surface"
                      }
                    ],
                    "table": [
                      {
                        "cells": {
                          "fill": {
                            "color": "#506784"
                          },
                          "line": {
                            "color": "rgb(17,17,17)"
                          }
                        },
                        "header": {
                          "fill": {
                            "color": "#2a3f5f"
                          },
                          "line": {
                            "color": "rgb(17,17,17)"
                          }
                        },
                        "type": "table"
                      }
                    ]
                  },
                  "layout": {
                    "annotationdefaults": {
                      "arrowcolor": "#f2f5fa",
                      "arrowhead": 0,
                      "arrowwidth": 1
                    },
                    "autotypenumbers": "strict",
                    "coloraxis": {
                      "colorbar": {
                        "outlinewidth": 0,
                        "ticks": ""
                      }
                    },
                    "colorscale": {
                      "diverging": [
                        [
                          0,
                          "#8e0152"
                        ],
                        [
                          0.1,
                          "#c51b7d"
                        ],
                        [
                          0.2,
                          "#de77ae"
                        ],
                        [
                          0.3,
                          "#f1b6da"
                        ],
                        [
                          0.4,
                          "#fde0ef"
                        ],
                        [
                          0.5,
                          "#f7f7f7"
                        ],
                        [
                          0.6,
                          "#e6f5d0"
                        ],
                        [
                          0.7,
                          "#b8e186"
                        ],
                        [
                          0.8,
                          "#7fbc41"
                        ],
                        [
                          0.9,
                          "#4d9221"
                        ],
                        [
                          1,
                          "#276419"
                        ]
                      ],
                      "sequential": [
                        [
                          0,
                          "#0d0887"
                        ],
                        [
                          0.1111111111111111,
                          "#46039f"
                        ],
                        [
                          0.2222222222222222,
                          "#7201a8"
                        ],
                        [
                          0.3333333333333333,
                          "#9c179e"
                        ],
                        [
                          0.4444444444444444,
                          "#bd3786"
                        ],
                        [
                          0.5555555555555556,
                          "#d8576b"
                        ],
                        [
                          0.6666666666666666,
                          "#ed7953"
                        ],
                        [
                          0.7777777777777778,
                          "#fb9f3a"
                        ],
                        [
                          0.8888888888888888,
                          "#fdca26"
                        ],
                        [
                          1,
                          "#f0f921"
                        ]
                      ],
                      "sequentialminus": [
                        [
                          0,
                          "#0d0887"
                        ],
                        [
                          0.1111111111111111,
                          "#46039f"
                        ],
                        [
                          0.2222222222222222,
                          "#7201a8"
                        ],
                        [
                          0.3333333333333333,
                          "#9c179e"
                        ],
                        [
                          0.4444444444444444,
                          "#bd3786"
                        ],
                        [
                          0.5555555555555556,
                          "#d8576b"
                        ],
                        [
                          0.6666666666666666,
                          "#ed7953"
                        ],
                        [
                          0.7777777777777778,
                          "#fb9f3a"
                        ],
                        [
                          0.8888888888888888,
                          "#fdca26"
                        ],
                        [
                          1,
                          "#f0f921"
                        ]
                      ]
                    },
                    "colorway": [
                      "#636efa",
                      "#EF553B",
                      "#00cc96",
                      "#ab63fa",
                      "#FFA15A",
                      "#19d3f3",
                      "#FF6692",
                      "#B6E880",
                      "#FF97FF",
                      "#FECB52"
                    ],
                    "font": {
                      "color": "#f2f5fa"
                    },
                    "geo": {
                      "bgcolor": "rgb(17,17,17)",
                      "lakecolor": "rgb(17,17,17)",
                      "landcolor": "rgb(17,17,17)",
                      "showlakes": true,
                      "showland": true,
                      "subunitcolor": "#506784"
                    },
                    "hoverlabel": {
                      "align": "left"
                    },
                    "hovermode": "closest",
                    "mapbox": {
                      "style": "dark"
                    },
                    "paper_bgcolor": "rgb(17,17,17)",
                    "plot_bgcolor": "rgb(17,17,17)",
                    "polar": {
                      "angularaxis": {
                        "gridcolor": "#506784",
                        "linecolor": "#506784",
                        "ticks": ""
                      },
                      "bgcolor": "rgb(17,17,17)",
                      "radialaxis": {
                        "gridcolor": "#506784",
                        "linecolor": "#506784",
                        "ticks": ""
                      }
                    },
                    "scene": {
                      "xaxis": {
                        "backgroundcolor": "rgb(17,17,17)",
                        "gridcolor": "#506784",
                        "gridwidth": 2,
                        "linecolor": "#506784",
                        "showbackground": true,
                        "ticks": "",
                        "zerolinecolor": "#C8D4E3"
                      },
                      "yaxis": {
                        "backgroundcolor": "rgb(17,17,17)",
                        "gridcolor": "#506784",
                        "gridwidth": 2,
                        "linecolor": "#506784",
                        "showbackground": true,
                        "ticks": "",
                        "zerolinecolor": "#C8D4E3"
                      },
                      "zaxis": {
                        "backgroundcolor": "rgb(17,17,17)",
                        "gridcolor": "#506784",
                        "gridwidth": 2,
                        "linecolor": "#506784",
                        "showbackground": true,
                        "ticks": "",
                        "zerolinecolor": "#C8D4E3"
                      }
                    },
                    "shapedefaults": {
                      "line": {
                        "color": "#f2f5fa"
                      }
                    },
                    "sliderdefaults": {
                      "bgcolor": "#C8D4E3",
                      "bordercolor": "rgb(17,17,17)",
                      "borderwidth": 1,
                      "tickwidth": 0
                    },
                    "ternary": {
                      "aaxis": {
                        "gridcolor": "#506784",
                        "linecolor": "#506784",
                        "ticks": ""
                      },
                      "baxis": {
                        "gridcolor": "#506784",
                        "linecolor": "#506784",
                        "ticks": ""
                      },
                      "bgcolor": "rgb(17,17,17)",
                      "caxis": {
                        "gridcolor": "#506784",
                        "linecolor": "#506784",
                        "ticks": ""
                      }
                    },
                    "title": {
                      "x": 0.05
                    },
                    "updatemenudefaults": {
                      "bgcolor": "#506784",
                      "borderwidth": 0
                    },
                    "xaxis": {
                      "automargin": true,
                      "gridcolor": "#283442",
                      "linecolor": "#506784",
                      "ticks": "",
                      "title": {
                        "standoff": 15
                      },
                      "zerolinecolor": "#283442",
                      "zerolinewidth": 2
                    },
                    "yaxis": {
                      "automargin": true,
                      "gridcolor": "#283442",
                      "linecolor": "#506784",
                      "ticks": "",
                      "title": {
                        "standoff": 15
                      },
                      "zerolinecolor": "#283442",
                      "zerolinewidth": 2
                    }
                  }
                },
                "title": {
                  "text": "Number of Launches per Year"
                },
                "xaxis": {
                  "anchor": "y",
                  "domain": [
                    0,
                    1
                  ],
                  "title": {
                    "text": "Year"
                  }
                },
                "yaxis": {
                  "anchor": "x",
                  "domain": [
                    0,
                    1
                  ],
                  "title": {
                    "text": "Number of Launches"
                  }
                }
              }
            }
          },
          "metadata": {},
          "output_type": "display_data"
        }
      ],
      "source": [
        "fig = px.line(launchesperyear[:-1], \n",
        "              x='Year', \n",
        "              y='Rocket_Status', \n",
        "              labels={'Year':'Year',\n",
        "                      'Rocket_Status':'Number of Launches'},\n",
        "              title='Number of Launches per Year', \n",
        "              template='plotly_dark')\n",
        "fig.write_image(\"LaunchesPerYear.png\", format='png')\n",
        "fig.show()\n"
      ]
    },
    {
      "cell_type": "markdown",
      "metadata": {
        "id": "NomJVLi3tIaM"
      },
      "source": [
        "# Chart the Number of Launches Month-on-Month until the Present\n",
        "\n",
        "Which month has seen the highest number of launches in all time? Superimpose a rolling average on the month on month time series chart. "
      ]
    },
    {
      "cell_type": "code",
      "execution_count": 203,
      "metadata": {
        "id": "H1N2aBs5tH9z"
      },
      "outputs": [
        {
          "name": "stderr",
          "output_type": "stream",
          "text": [
            "C:\\Users\\User\\AppData\\Local\\Temp\\ipykernel_7076\\188656817.py:1: UserWarning:\n",
            "\n",
            "Converting to PeriodArray/Index representation will drop timezone information.\n",
            "\n"
          ]
        }
      ],
      "source": [
        "spacedf['Month'] = spacedf['Date'].dt.to_period(\"M\")\n",
        "launchpermonth = spacedf.groupby([\"Month\"],as_index=False).agg({'Rocket_Status': pd.Series.count}).astype(str)\n",
        "\n",
        "launchpermonth['Rocket_Status'] = pd.to_numeric(launchpermonth['Rocket_Status'])\n",
        "#launchpermonth.describe()\n",
        "#launchpermonth['Rocket_Status'].idxmax()\n",
        "#launchpermonth.loc[164]\n",
        "#18 launches in one day in 1971-12"
      ]
    },
    {
      "cell_type": "code",
      "execution_count": 204,
      "metadata": {
        "id": "pfw0aX1lpdRv"
      },
      "outputs": [
        {
          "data": {
            "application/vnd.plotly.v1+json": {
              "config": {
                "plotlyServerURL": "https://plot.ly"
              },
              "data": [
                {
                  "hovertemplate": "Month=%{x}<br>Number of Launches=%{y}<extra></extra>",
                  "legendgroup": "",
                  "line": {
                    "color": "#636efa",
                    "dash": "solid"
                  },
                  "marker": {
                    "symbol": "circle"
                  },
                  "mode": "lines",
                  "name": "",
                  "orientation": "v",
                  "showlegend": false,
                  "type": "scatter",
                  "x": [
                    "1957-10",
                    "1957-11",
                    "1957-12",
                    "1958-02",
                    "1958-03",
                    "1958-04",
                    "1958-05",
                    "1958-06",
                    "1958-07",
                    "1958-08",
                    "1958-09",
                    "1958-10",
                    "1958-11",
                    "1958-12",
                    "1959-01",
                    "1959-02",
                    "1959-04",
                    "1959-06",
                    "1959-08",
                    "1959-09",
                    "1959-10",
                    "1959-11",
                    "1960-02",
                    "1960-03",
                    "1960-04",
                    "1960-05",
                    "1960-06",
                    "1960-07",
                    "1960-08",
                    "1960-09",
                    "1960-10",
                    "1960-11",
                    "1960-12",
                    "1961-01",
                    "1961-02",
                    "1961-03",
                    "1961-04",
                    "1961-05",
                    "1961-06",
                    "1961-07",
                    "1961-08",
                    "1961-09",
                    "1961-10",
                    "1961-11",
                    "1961-12",
                    "1962-01",
                    "1962-02",
                    "1962-03",
                    "1962-04",
                    "1962-05",
                    "1962-06",
                    "1962-07",
                    "1962-08",
                    "1962-09",
                    "1962-10",
                    "1962-11",
                    "1962-12",
                    "1963-01",
                    "1963-02",
                    "1963-03",
                    "1963-04",
                    "1963-05",
                    "1963-06",
                    "1963-07",
                    "1963-08",
                    "1963-09",
                    "1963-10",
                    "1963-11",
                    "1963-12",
                    "1964-01",
                    "1964-02",
                    "1964-03",
                    "1964-04",
                    "1964-05",
                    "1964-06",
                    "1964-07",
                    "1964-08",
                    "1964-09",
                    "1964-10",
                    "1964-11",
                    "1964-12",
                    "1965-01",
                    "1965-02",
                    "1965-03",
                    "1965-04",
                    "1965-05",
                    "1965-06",
                    "1965-07",
                    "1965-08",
                    "1965-09",
                    "1965-10",
                    "1965-11",
                    "1965-12",
                    "1966-01",
                    "1966-02",
                    "1966-03",
                    "1966-04",
                    "1966-05",
                    "1966-06",
                    "1966-07",
                    "1966-08",
                    "1966-09",
                    "1966-10",
                    "1966-11",
                    "1966-12",
                    "1967-01",
                    "1967-02",
                    "1967-03",
                    "1967-04",
                    "1967-05",
                    "1967-06",
                    "1967-07",
                    "1967-08",
                    "1967-09",
                    "1967-10",
                    "1967-11",
                    "1967-12",
                    "1968-01",
                    "1968-02",
                    "1968-03",
                    "1968-04",
                    "1968-05",
                    "1968-06",
                    "1968-07",
                    "1968-08",
                    "1968-09",
                    "1968-10",
                    "1968-11",
                    "1968-12",
                    "1969-01",
                    "1969-02",
                    "1969-03",
                    "1969-04",
                    "1969-05",
                    "1969-06",
                    "1969-07",
                    "1969-08",
                    "1969-09",
                    "1969-10",
                    "1969-11",
                    "1969-12",
                    "1970-01",
                    "1970-02",
                    "1970-03",
                    "1970-04",
                    "1970-05",
                    "1970-06",
                    "1970-07",
                    "1970-08",
                    "1970-09",
                    "1970-10",
                    "1970-11",
                    "1970-12",
                    "1971-01",
                    "1971-02",
                    "1971-03",
                    "1971-04",
                    "1971-05",
                    "1971-06",
                    "1971-07",
                    "1971-08",
                    "1971-09",
                    "1971-10",
                    "1971-11",
                    "1971-12",
                    "1972-01",
                    "1972-02",
                    "1972-03",
                    "1972-04",
                    "1972-05",
                    "1972-06",
                    "1972-07",
                    "1972-08",
                    "1972-09",
                    "1972-10",
                    "1972-11",
                    "1972-12",
                    "1973-01",
                    "1973-02",
                    "1973-03",
                    "1973-04",
                    "1973-05",
                    "1973-06",
                    "1973-07",
                    "1973-08",
                    "1973-09",
                    "1973-10",
                    "1973-11",
                    "1973-12",
                    "1974-01",
                    "1974-02",
                    "1974-03",
                    "1974-04",
                    "1974-05",
                    "1974-06",
                    "1974-07",
                    "1974-08",
                    "1974-09",
                    "1974-10",
                    "1974-11",
                    "1974-12",
                    "1975-01",
                    "1975-02",
                    "1975-03",
                    "1975-04",
                    "1975-05",
                    "1975-06",
                    "1975-07",
                    "1975-08",
                    "1975-09",
                    "1975-10",
                    "1975-11",
                    "1975-12",
                    "1976-01",
                    "1976-02",
                    "1976-03",
                    "1976-04",
                    "1976-05",
                    "1976-06",
                    "1976-07",
                    "1976-08",
                    "1976-09",
                    "1976-10",
                    "1976-11",
                    "1976-12",
                    "1977-01",
                    "1977-02",
                    "1977-03",
                    "1977-04",
                    "1977-05",
                    "1977-06",
                    "1977-07",
                    "1977-08",
                    "1977-09",
                    "1977-10",
                    "1977-11",
                    "1977-12",
                    "1978-01",
                    "1978-02",
                    "1978-03",
                    "1978-04",
                    "1978-05",
                    "1978-06",
                    "1978-07",
                    "1978-08",
                    "1978-09",
                    "1978-10",
                    "1978-11",
                    "1978-12",
                    "1979-01",
                    "1979-02",
                    "1979-03",
                    "1979-04",
                    "1979-05",
                    "1979-06",
                    "1979-07",
                    "1979-08",
                    "1979-09",
                    "1979-10",
                    "1979-11",
                    "1979-12",
                    "1980-01",
                    "1980-02",
                    "1980-03",
                    "1980-04",
                    "1980-05",
                    "1980-06",
                    "1980-07",
                    "1980-08",
                    "1980-09",
                    "1980-10",
                    "1980-11",
                    "1980-12",
                    "1981-01",
                    "1981-02",
                    "1981-03",
                    "1981-04",
                    "1981-05",
                    "1981-06",
                    "1981-07",
                    "1981-08",
                    "1981-09",
                    "1981-10",
                    "1981-11",
                    "1981-12",
                    "1982-01",
                    "1982-02",
                    "1982-03",
                    "1982-04",
                    "1982-05",
                    "1982-06",
                    "1982-07",
                    "1982-08",
                    "1982-09",
                    "1982-10",
                    "1982-11",
                    "1982-12",
                    "1983-01",
                    "1983-02",
                    "1983-03",
                    "1983-04",
                    "1983-05",
                    "1983-06",
                    "1983-07",
                    "1983-08",
                    "1983-09",
                    "1983-10",
                    "1983-11",
                    "1983-12",
                    "1984-01",
                    "1984-02",
                    "1984-03",
                    "1984-04",
                    "1984-05",
                    "1984-06",
                    "1984-07",
                    "1984-08",
                    "1984-09",
                    "1984-10",
                    "1984-11",
                    "1984-12",
                    "1985-01",
                    "1985-02",
                    "1985-03",
                    "1985-04",
                    "1985-05",
                    "1985-06",
                    "1985-07",
                    "1985-08",
                    "1985-09",
                    "1985-10",
                    "1985-11",
                    "1985-12",
                    "1986-01",
                    "1986-02",
                    "1986-03",
                    "1986-04",
                    "1986-05",
                    "1986-06",
                    "1986-07",
                    "1986-08",
                    "1986-09",
                    "1986-10",
                    "1986-11",
                    "1986-12",
                    "1987-01",
                    "1987-02",
                    "1987-03",
                    "1987-04",
                    "1987-05",
                    "1987-06",
                    "1987-07",
                    "1987-08",
                    "1987-09",
                    "1987-10",
                    "1987-11",
                    "1987-12",
                    "1988-01",
                    "1988-02",
                    "1988-03",
                    "1988-04",
                    "1988-05",
                    "1988-06",
                    "1988-07",
                    "1988-08",
                    "1988-09",
                    "1988-10",
                    "1988-11",
                    "1988-12",
                    "1989-01",
                    "1989-02",
                    "1989-03",
                    "1989-04",
                    "1989-05",
                    "1989-06",
                    "1989-07",
                    "1989-08",
                    "1989-09",
                    "1989-10",
                    "1989-11",
                    "1989-12",
                    "1990-01",
                    "1990-02",
                    "1990-03",
                    "1990-04",
                    "1990-05",
                    "1990-06",
                    "1990-07",
                    "1990-08",
                    "1990-09",
                    "1990-10",
                    "1990-11",
                    "1990-12",
                    "1991-01",
                    "1991-02",
                    "1991-03",
                    "1991-04",
                    "1991-05",
                    "1991-06",
                    "1991-07",
                    "1991-08",
                    "1991-09",
                    "1991-10",
                    "1991-11",
                    "1991-12",
                    "1992-01",
                    "1992-02",
                    "1992-03",
                    "1992-04",
                    "1992-05",
                    "1992-06",
                    "1992-07",
                    "1992-08",
                    "1992-09",
                    "1992-10",
                    "1992-11",
                    "1992-12",
                    "1993-01",
                    "1993-02",
                    "1993-03",
                    "1993-04",
                    "1993-05",
                    "1993-06",
                    "1993-07",
                    "1993-08",
                    "1993-09",
                    "1993-10",
                    "1993-11",
                    "1993-12",
                    "1994-01",
                    "1994-02",
                    "1994-03",
                    "1994-04",
                    "1994-05",
                    "1994-06",
                    "1994-07",
                    "1994-08",
                    "1994-09",
                    "1994-10",
                    "1994-11",
                    "1994-12",
                    "1995-01",
                    "1995-02",
                    "1995-03",
                    "1995-04",
                    "1995-05",
                    "1995-06",
                    "1995-07",
                    "1995-08",
                    "1995-09",
                    "1995-10",
                    "1995-11",
                    "1995-12",
                    "1996-01",
                    "1996-02",
                    "1996-03",
                    "1996-04",
                    "1996-05",
                    "1996-06",
                    "1996-07",
                    "1996-08",
                    "1996-09",
                    "1996-10",
                    "1996-11",
                    "1996-12",
                    "1997-01",
                    "1997-02",
                    "1997-03",
                    "1997-04",
                    "1997-05",
                    "1997-06",
                    "1997-07",
                    "1997-08",
                    "1997-09",
                    "1997-10",
                    "1997-11",
                    "1997-12",
                    "1998-01",
                    "1998-02",
                    "1998-03",
                    "1998-04",
                    "1998-05",
                    "1998-06",
                    "1998-07",
                    "1998-08",
                    "1998-09",
                    "1998-10",
                    "1998-11",
                    "1998-12",
                    "1999-01",
                    "1999-02",
                    "1999-03",
                    "1999-04",
                    "1999-05",
                    "1999-06",
                    "1999-07",
                    "1999-08",
                    "1999-09",
                    "1999-10",
                    "1999-11",
                    "1999-12",
                    "2000-01",
                    "2000-02",
                    "2000-03",
                    "2000-04",
                    "2000-05",
                    "2000-06",
                    "2000-07",
                    "2000-08",
                    "2000-09",
                    "2000-10",
                    "2000-11",
                    "2000-12",
                    "2001-01",
                    "2001-02",
                    "2001-03",
                    "2001-04",
                    "2001-05",
                    "2001-06",
                    "2001-07",
                    "2001-08",
                    "2001-09",
                    "2001-10",
                    "2001-11",
                    "2001-12",
                    "2002-01",
                    "2002-02",
                    "2002-03",
                    "2002-04",
                    "2002-05",
                    "2002-06",
                    "2002-07",
                    "2002-08",
                    "2002-09",
                    "2002-10",
                    "2002-11",
                    "2002-12",
                    "2003-01",
                    "2003-02",
                    "2003-03",
                    "2003-04",
                    "2003-05",
                    "2003-06",
                    "2003-07",
                    "2003-08",
                    "2003-09",
                    "2003-10",
                    "2003-11",
                    "2003-12",
                    "2004-01",
                    "2004-02",
                    "2004-03",
                    "2004-04",
                    "2004-05",
                    "2004-06",
                    "2004-07",
                    "2004-08",
                    "2004-09",
                    "2004-10",
                    "2004-11",
                    "2004-12",
                    "2005-01",
                    "2005-02",
                    "2005-03",
                    "2005-04",
                    "2005-05",
                    "2005-06",
                    "2005-07",
                    "2005-08",
                    "2005-09",
                    "2005-10",
                    "2005-11",
                    "2005-12",
                    "2006-01",
                    "2006-02",
                    "2006-03",
                    "2006-04",
                    "2006-05",
                    "2006-06",
                    "2006-07",
                    "2006-08",
                    "2006-09",
                    "2006-10",
                    "2006-11",
                    "2006-12",
                    "2007-01",
                    "2007-02",
                    "2007-03",
                    "2007-04",
                    "2007-05",
                    "2007-06",
                    "2007-07",
                    "2007-08",
                    "2007-09",
                    "2007-10",
                    "2007-11",
                    "2007-12",
                    "2008-01",
                    "2008-02",
                    "2008-03",
                    "2008-04",
                    "2008-05",
                    "2008-06",
                    "2008-07",
                    "2008-08",
                    "2008-09",
                    "2008-10",
                    "2008-11",
                    "2008-12",
                    "2009-01",
                    "2009-02",
                    "2009-03",
                    "2009-04",
                    "2009-05",
                    "2009-06",
                    "2009-07",
                    "2009-08",
                    "2009-09",
                    "2009-10",
                    "2009-11",
                    "2009-12",
                    "2010-02",
                    "2010-03",
                    "2010-04",
                    "2010-05",
                    "2010-06",
                    "2010-07",
                    "2010-08",
                    "2010-09",
                    "2010-10",
                    "2010-11",
                    "2010-12",
                    "2011-01",
                    "2011-02",
                    "2011-03",
                    "2011-04",
                    "2011-05",
                    "2011-06",
                    "2011-07",
                    "2011-08",
                    "2011-09",
                    "2011-10",
                    "2011-11",
                    "2011-12",
                    "2012-01",
                    "2012-02",
                    "2012-03",
                    "2012-04",
                    "2012-05",
                    "2012-06",
                    "2012-07",
                    "2012-08",
                    "2012-09",
                    "2012-10",
                    "2012-11",
                    "2012-12",
                    "2013-01",
                    "2013-02",
                    "2013-03",
                    "2013-04",
                    "2013-05",
                    "2013-06",
                    "2013-07",
                    "2013-08",
                    "2013-09",
                    "2013-11",
                    "2013-12",
                    "2014-01",
                    "2014-02",
                    "2014-03",
                    "2014-04",
                    "2014-05",
                    "2014-06",
                    "2014-07",
                    "2014-08",
                    "2014-09",
                    "2014-10",
                    "2014-11",
                    "2014-12",
                    "2015-01",
                    "2015-02",
                    "2015-03",
                    "2015-04",
                    "2015-05",
                    "2015-06",
                    "2015-07",
                    "2015-08",
                    "2015-09",
                    "2015-10",
                    "2015-11",
                    "2015-12",
                    "2016-01",
                    "2016-02",
                    "2016-03",
                    "2016-04",
                    "2016-05",
                    "2016-06",
                    "2016-07",
                    "2016-08",
                    "2016-09",
                    "2016-10",
                    "2016-11",
                    "2016-12",
                    "2017-01",
                    "2017-02",
                    "2017-03",
                    "2017-04",
                    "2017-05",
                    "2017-06",
                    "2017-07",
                    "2017-08",
                    "2017-09",
                    "2017-10",
                    "2017-11",
                    "2017-12",
                    "2018-01",
                    "2018-02",
                    "2018-03",
                    "2018-04",
                    "2018-05",
                    "2018-06",
                    "2018-07",
                    "2018-08",
                    "2018-09",
                    "2018-10",
                    "2018-11",
                    "2018-12",
                    "2019-01",
                    "2019-02",
                    "2019-03",
                    "2019-04",
                    "2019-05",
                    "2019-06",
                    "2019-07",
                    "2019-08",
                    "2019-09",
                    "2019-10",
                    "2019-11",
                    "2019-12",
                    "2020-01",
                    "2020-02",
                    "2020-03",
                    "2020-04",
                    "2020-05",
                    "2020-06",
                    "2020-07",
                    "2020-08"
                  ],
                  "xaxis": "x",
                  "y": [
                    1,
                    1,
                    1,
                    2,
                    3,
                    2,
                    2,
                    1,
                    2,
                    7,
                    2,
                    3,
                    1,
                    3,
                    1,
                    2,
                    2,
                    4,
                    3,
                    4,
                    1,
                    3,
                    3,
                    1,
                    5,
                    3,
                    2,
                    2,
                    5,
                    2,
                    5,
                    4,
                    7,
                    2,
                    7,
                    5,
                    3,
                    1,
                    4,
                    5,
                    6,
                    4,
                    4,
                    7,
                    4,
                    3,
                    4,
                    3,
                    10,
                    7,
                    8,
                    6,
                    9,
                    8,
                    11,
                    5,
                    8,
                    1,
                    2,
                    1,
                    7,
                    4,
                    6,
                    3,
                    2,
                    2,
                    4,
                    5,
                    4,
                    3,
                    3,
                    4,
                    7,
                    3,
                    5,
                    7,
                    6,
                    6,
                    8,
                    3,
                    5,
                    5,
                    8,
                    9,
                    5,
                    7,
                    6,
                    9,
                    6,
                    5,
                    8,
                    9,
                    10,
                    5,
                    8,
                    9,
                    7,
                    8,
                    9,
                    11,
                    8,
                    8,
                    7,
                    10,
                    11,
                    4,
                    10,
                    9,
                    11,
                    8,
                    12,
                    7,
                    6,
                    11,
                    13,
                    9,
                    6,
                    5,
                    4,
                    11,
                    16,
                    3,
                    11,
                    7,
                    9,
                    7,
                    12,
                    9,
                    9,
                    9,
                    8,
                    14,
                    9,
                    6,
                    7,
                    7,
                    9,
                    6,
                    12,
                    9,
                    7,
                    7,
                    5,
                    6,
                    13,
                    3,
                    13,
                    5,
                    9,
                    9,
                    15,
                    9,
                    13,
                    8,
                    7,
                    9,
                    13,
                    14,
                    8,
                    8,
                    7,
                    10,
                    6,
                    11,
                    18,
                    4,
                    6,
                    12,
                    10,
                    6,
                    8,
                    10,
                    9,
                    7,
                    11,
                    6,
                    10,
                    4,
                    5,
                    6,
                    8,
                    12,
                    11,
                    5,
                    9,
                    7,
                    13,
                    12,
                    11,
                    4,
                    7,
                    6,
                    10,
                    11,
                    9,
                    11,
                    9,
                    4,
                    10,
                    8,
                    9,
                    6,
                    9,
                    6,
                    15,
                    10,
                    10,
                    11,
                    5,
                    16,
                    4,
                    9,
                    12,
                    9,
                    8,
                    11,
                    6,
                    9,
                    10,
                    15,
                    8,
                    8,
                    9,
                    7,
                    13,
                    4,
                    11,
                    7,
                    8,
                    11,
                    13,
                    12,
                    9,
                    16,
                    7,
                    2,
                    14,
                    10,
                    9,
                    11,
                    4,
                    10,
                    11,
                    2,
                    5,
                    4,
                    11,
                    6,
                    14,
                    3,
                    6,
                    4,
                    6,
                    3,
                    6,
                    5,
                    3,
                    2,
                    6,
                    3,
                    2,
                    6,
                    6,
                    4,
                    6,
                    4,
                    6,
                    6,
                    1,
                    1,
                    3,
                    4,
                    8,
                    6,
                    8,
                    8,
                    3,
                    5,
                    6,
                    1,
                    10,
                    9,
                    4,
                    4,
                    7,
                    4,
                    4,
                    10,
                    5,
                    6,
                    10,
                    4,
                    5,
                    8,
                    3,
                    4,
                    4,
                    4,
                    4,
                    6,
                    9,
                    7,
                    5,
                    7,
                    5,
                    3,
                    6,
                    5,
                    5,
                    6,
                    6,
                    4,
                    5,
                    6,
                    9,
                    2,
                    10,
                    6,
                    5,
                    4,
                    6,
                    6,
                    6,
                    5,
                    5,
                    4,
                    8,
                    4,
                    7,
                    6,
                    13,
                    5,
                    5,
                    6,
                    8,
                    3,
                    3,
                    4,
                    4,
                    5,
                    4,
                    5,
                    7,
                    5,
                    8,
                    6,
                    7,
                    5,
                    2,
                    3,
                    7,
                    5,
                    6,
                    3,
                    4,
                    2,
                    6,
                    2,
                    3,
                    10,
                    2,
                    5,
                    5,
                    7,
                    2,
                    9,
                    4,
                    4,
                    6,
                    1,
                    9,
                    4,
                    2,
                    3,
                    7,
                    4,
                    5,
                    8,
                    3,
                    4,
                    2,
                    9,
                    9,
                    5,
                    11,
                    1,
                    7,
                    5,
                    8,
                    4,
                    7,
                    9,
                    5,
                    4,
                    4,
                    6,
                    7,
                    3,
                    6,
                    3,
                    10,
                    4,
                    2,
                    5,
                    5,
                    2,
                    5,
                    5,
                    4,
                    2,
                    4,
                    9,
                    6,
                    4,
                    7,
                    6,
                    8,
                    4,
                    4,
                    6,
                    9,
                    4,
                    5,
                    3,
                    6,
                    6,
                    6,
                    3,
                    5,
                    3,
                    5,
                    5,
                    4,
                    4,
                    3,
                    5,
                    10,
                    5,
                    4,
                    9,
                    7,
                    5,
                    1,
                    8,
                    4,
                    5,
                    4,
                    5,
                    7,
                    3,
                    6,
                    5,
                    8,
                    4,
                    7,
                    5,
                    6,
                    5,
                    3,
                    6,
                    6,
                    6,
                    2,
                    4,
                    6,
                    3,
                    5,
                    3,
                    6,
                    6,
                    3,
                    4,
                    8,
                    9,
                    7,
                    6,
                    10,
                    5,
                    8,
                    4,
                    4,
                    6,
                    5,
                    5,
                    8,
                    5,
                    8,
                    2,
                    8,
                    2,
                    4,
                    2,
                    8,
                    6,
                    4,
                    5,
                    4,
                    4,
                    3,
                    4,
                    11,
                    4,
                    5,
                    5,
                    1,
                    6,
                    4,
                    5,
                    3,
                    6,
                    7,
                    6,
                    5,
                    3,
                    4,
                    3,
                    3,
                    2,
                    4,
                    4,
                    5,
                    4,
                    5,
                    1,
                    5,
                    2,
                    5,
                    6,
                    3,
                    4,
                    5,
                    4,
                    2,
                    6,
                    2,
                    3,
                    7,
                    5,
                    1,
                    3,
                    5,
                    4,
                    8,
                    2,
                    6,
                    4,
                    6,
                    3,
                    5,
                    1,
                    3,
                    3,
                    4,
                    3,
                    4,
                    4,
                    3,
                    5,
                    1,
                    5,
                    4,
                    2,
                    3,
                    2,
                    5,
                    2,
                    3,
                    3,
                    6,
                    2,
                    5,
                    2,
                    2,
                    2,
                    3,
                    3,
                    6,
                    3,
                    4,
                    6,
                    2,
                    6,
                    5,
                    2,
                    7,
                    2,
                    3,
                    3,
                    6,
                    4,
                    7,
                    2,
                    3,
                    6,
                    6,
                    4,
                    4,
                    2,
                    2,
                    6,
                    6,
                    4,
                    5,
                    3,
                    4,
                    5,
                    6,
                    2,
                    2,
                    3,
                    5,
                    4,
                    4,
                    4,
                    3,
                    6,
                    4,
                    4,
                    5,
                    5,
                    3,
                    3,
                    1,
                    7,
                    4,
                    7,
                    1,
                    2,
                    4,
                    1,
                    4,
                    3,
                    3,
                    4,
                    3,
                    3,
                    3,
                    3,
                    4,
                    3,
                    7,
                    5,
                    2,
                    2,
                    1,
                    3,
                    1,
                    4,
                    5,
                    5,
                    3,
                    3,
                    4,
                    3,
                    1,
                    5,
                    4,
                    4,
                    2,
                    1,
                    3,
                    5,
                    4,
                    6,
                    7,
                    5,
                    5,
                    4,
                    3,
                    1,
                    7,
                    5,
                    2,
                    8,
                    4,
                    4,
                    5,
                    2,
                    8,
                    3,
                    5,
                    8,
                    4,
                    2,
                    2,
                    4,
                    3,
                    7,
                    3,
                    4,
                    7,
                    6,
                    7,
                    10,
                    6,
                    6,
                    11,
                    4,
                    7,
                    7,
                    5,
                    9,
                    12,
                    7,
                    4,
                    7,
                    4,
                    7,
                    13,
                    5,
                    10,
                    6,
                    9,
                    8,
                    12,
                    13,
                    8,
                    10,
                    10,
                    7,
                    8,
                    9,
                    5,
                    8,
                    11,
                    13,
                    15,
                    8,
                    5,
                    9,
                    7,
                    9,
                    7,
                    11,
                    12,
                    7,
                    6,
                    12,
                    16,
                    8,
                    9,
                    8,
                    5,
                    9,
                    7,
                    14,
                    3
                  ],
                  "yaxis": "y"
                }
              ],
              "layout": {
                "legend": {
                  "tracegroupgap": 0
                },
                "template": {
                  "data": {
                    "bar": [
                      {
                        "error_x": {
                          "color": "#2a3f5f"
                        },
                        "error_y": {
                          "color": "#2a3f5f"
                        },
                        "marker": {
                          "line": {
                            "color": "#E5ECF6",
                            "width": 0.5
                          },
                          "pattern": {
                            "fillmode": "overlay",
                            "size": 10,
                            "solidity": 0.2
                          }
                        },
                        "type": "bar"
                      }
                    ],
                    "barpolar": [
                      {
                        "marker": {
                          "line": {
                            "color": "#E5ECF6",
                            "width": 0.5
                          },
                          "pattern": {
                            "fillmode": "overlay",
                            "size": 10,
                            "solidity": 0.2
                          }
                        },
                        "type": "barpolar"
                      }
                    ],
                    "carpet": [
                      {
                        "aaxis": {
                          "endlinecolor": "#2a3f5f",
                          "gridcolor": "white",
                          "linecolor": "white",
                          "minorgridcolor": "white",
                          "startlinecolor": "#2a3f5f"
                        },
                        "baxis": {
                          "endlinecolor": "#2a3f5f",
                          "gridcolor": "white",
                          "linecolor": "white",
                          "minorgridcolor": "white",
                          "startlinecolor": "#2a3f5f"
                        },
                        "type": "carpet"
                      }
                    ],
                    "choropleth": [
                      {
                        "colorbar": {
                          "outlinewidth": 0,
                          "ticks": ""
                        },
                        "type": "choropleth"
                      }
                    ],
                    "contour": [
                      {
                        "colorbar": {
                          "outlinewidth": 0,
                          "ticks": ""
                        },
                        "colorscale": [
                          [
                            0,
                            "#0d0887"
                          ],
                          [
                            0.1111111111111111,
                            "#46039f"
                          ],
                          [
                            0.2222222222222222,
                            "#7201a8"
                          ],
                          [
                            0.3333333333333333,
                            "#9c179e"
                          ],
                          [
                            0.4444444444444444,
                            "#bd3786"
                          ],
                          [
                            0.5555555555555556,
                            "#d8576b"
                          ],
                          [
                            0.6666666666666666,
                            "#ed7953"
                          ],
                          [
                            0.7777777777777778,
                            "#fb9f3a"
                          ],
                          [
                            0.8888888888888888,
                            "#fdca26"
                          ],
                          [
                            1,
                            "#f0f921"
                          ]
                        ],
                        "type": "contour"
                      }
                    ],
                    "contourcarpet": [
                      {
                        "colorbar": {
                          "outlinewidth": 0,
                          "ticks": ""
                        },
                        "type": "contourcarpet"
                      }
                    ],
                    "heatmap": [
                      {
                        "colorbar": {
                          "outlinewidth": 0,
                          "ticks": ""
                        },
                        "colorscale": [
                          [
                            0,
                            "#0d0887"
                          ],
                          [
                            0.1111111111111111,
                            "#46039f"
                          ],
                          [
                            0.2222222222222222,
                            "#7201a8"
                          ],
                          [
                            0.3333333333333333,
                            "#9c179e"
                          ],
                          [
                            0.4444444444444444,
                            "#bd3786"
                          ],
                          [
                            0.5555555555555556,
                            "#d8576b"
                          ],
                          [
                            0.6666666666666666,
                            "#ed7953"
                          ],
                          [
                            0.7777777777777778,
                            "#fb9f3a"
                          ],
                          [
                            0.8888888888888888,
                            "#fdca26"
                          ],
                          [
                            1,
                            "#f0f921"
                          ]
                        ],
                        "type": "heatmap"
                      }
                    ],
                    "heatmapgl": [
                      {
                        "colorbar": {
                          "outlinewidth": 0,
                          "ticks": ""
                        },
                        "colorscale": [
                          [
                            0,
                            "#0d0887"
                          ],
                          [
                            0.1111111111111111,
                            "#46039f"
                          ],
                          [
                            0.2222222222222222,
                            "#7201a8"
                          ],
                          [
                            0.3333333333333333,
                            "#9c179e"
                          ],
                          [
                            0.4444444444444444,
                            "#bd3786"
                          ],
                          [
                            0.5555555555555556,
                            "#d8576b"
                          ],
                          [
                            0.6666666666666666,
                            "#ed7953"
                          ],
                          [
                            0.7777777777777778,
                            "#fb9f3a"
                          ],
                          [
                            0.8888888888888888,
                            "#fdca26"
                          ],
                          [
                            1,
                            "#f0f921"
                          ]
                        ],
                        "type": "heatmapgl"
                      }
                    ],
                    "histogram": [
                      {
                        "marker": {
                          "pattern": {
                            "fillmode": "overlay",
                            "size": 10,
                            "solidity": 0.2
                          }
                        },
                        "type": "histogram"
                      }
                    ],
                    "histogram2d": [
                      {
                        "colorbar": {
                          "outlinewidth": 0,
                          "ticks": ""
                        },
                        "colorscale": [
                          [
                            0,
                            "#0d0887"
                          ],
                          [
                            0.1111111111111111,
                            "#46039f"
                          ],
                          [
                            0.2222222222222222,
                            "#7201a8"
                          ],
                          [
                            0.3333333333333333,
                            "#9c179e"
                          ],
                          [
                            0.4444444444444444,
                            "#bd3786"
                          ],
                          [
                            0.5555555555555556,
                            "#d8576b"
                          ],
                          [
                            0.6666666666666666,
                            "#ed7953"
                          ],
                          [
                            0.7777777777777778,
                            "#fb9f3a"
                          ],
                          [
                            0.8888888888888888,
                            "#fdca26"
                          ],
                          [
                            1,
                            "#f0f921"
                          ]
                        ],
                        "type": "histogram2d"
                      }
                    ],
                    "histogram2dcontour": [
                      {
                        "colorbar": {
                          "outlinewidth": 0,
                          "ticks": ""
                        },
                        "colorscale": [
                          [
                            0,
                            "#0d0887"
                          ],
                          [
                            0.1111111111111111,
                            "#46039f"
                          ],
                          [
                            0.2222222222222222,
                            "#7201a8"
                          ],
                          [
                            0.3333333333333333,
                            "#9c179e"
                          ],
                          [
                            0.4444444444444444,
                            "#bd3786"
                          ],
                          [
                            0.5555555555555556,
                            "#d8576b"
                          ],
                          [
                            0.6666666666666666,
                            "#ed7953"
                          ],
                          [
                            0.7777777777777778,
                            "#fb9f3a"
                          ],
                          [
                            0.8888888888888888,
                            "#fdca26"
                          ],
                          [
                            1,
                            "#f0f921"
                          ]
                        ],
                        "type": "histogram2dcontour"
                      }
                    ],
                    "mesh3d": [
                      {
                        "colorbar": {
                          "outlinewidth": 0,
                          "ticks": ""
                        },
                        "type": "mesh3d"
                      }
                    ],
                    "parcoords": [
                      {
                        "line": {
                          "colorbar": {
                            "outlinewidth": 0,
                            "ticks": ""
                          }
                        },
                        "type": "parcoords"
                      }
                    ],
                    "pie": [
                      {
                        "automargin": true,
                        "type": "pie"
                      }
                    ],
                    "scatter": [
                      {
                        "fillpattern": {
                          "fillmode": "overlay",
                          "size": 10,
                          "solidity": 0.2
                        },
                        "type": "scatter"
                      }
                    ],
                    "scatter3d": [
                      {
                        "line": {
                          "colorbar": {
                            "outlinewidth": 0,
                            "ticks": ""
                          }
                        },
                        "marker": {
                          "colorbar": {
                            "outlinewidth": 0,
                            "ticks": ""
                          }
                        },
                        "type": "scatter3d"
                      }
                    ],
                    "scattercarpet": [
                      {
                        "marker": {
                          "colorbar": {
                            "outlinewidth": 0,
                            "ticks": ""
                          }
                        },
                        "type": "scattercarpet"
                      }
                    ],
                    "scattergeo": [
                      {
                        "marker": {
                          "colorbar": {
                            "outlinewidth": 0,
                            "ticks": ""
                          }
                        },
                        "type": "scattergeo"
                      }
                    ],
                    "scattergl": [
                      {
                        "marker": {
                          "colorbar": {
                            "outlinewidth": 0,
                            "ticks": ""
                          }
                        },
                        "type": "scattergl"
                      }
                    ],
                    "scattermapbox": [
                      {
                        "marker": {
                          "colorbar": {
                            "outlinewidth": 0,
                            "ticks": ""
                          }
                        },
                        "type": "scattermapbox"
                      }
                    ],
                    "scatterpolar": [
                      {
                        "marker": {
                          "colorbar": {
                            "outlinewidth": 0,
                            "ticks": ""
                          }
                        },
                        "type": "scatterpolar"
                      }
                    ],
                    "scatterpolargl": [
                      {
                        "marker": {
                          "colorbar": {
                            "outlinewidth": 0,
                            "ticks": ""
                          }
                        },
                        "type": "scatterpolargl"
                      }
                    ],
                    "scatterternary": [
                      {
                        "marker": {
                          "colorbar": {
                            "outlinewidth": 0,
                            "ticks": ""
                          }
                        },
                        "type": "scatterternary"
                      }
                    ],
                    "surface": [
                      {
                        "colorbar": {
                          "outlinewidth": 0,
                          "ticks": ""
                        },
                        "colorscale": [
                          [
                            0,
                            "#0d0887"
                          ],
                          [
                            0.1111111111111111,
                            "#46039f"
                          ],
                          [
                            0.2222222222222222,
                            "#7201a8"
                          ],
                          [
                            0.3333333333333333,
                            "#9c179e"
                          ],
                          [
                            0.4444444444444444,
                            "#bd3786"
                          ],
                          [
                            0.5555555555555556,
                            "#d8576b"
                          ],
                          [
                            0.6666666666666666,
                            "#ed7953"
                          ],
                          [
                            0.7777777777777778,
                            "#fb9f3a"
                          ],
                          [
                            0.8888888888888888,
                            "#fdca26"
                          ],
                          [
                            1,
                            "#f0f921"
                          ]
                        ],
                        "type": "surface"
                      }
                    ],
                    "table": [
                      {
                        "cells": {
                          "fill": {
                            "color": "#EBF0F8"
                          },
                          "line": {
                            "color": "white"
                          }
                        },
                        "header": {
                          "fill": {
                            "color": "#C8D4E3"
                          },
                          "line": {
                            "color": "white"
                          }
                        },
                        "type": "table"
                      }
                    ]
                  },
                  "layout": {
                    "annotationdefaults": {
                      "arrowcolor": "#2a3f5f",
                      "arrowhead": 0,
                      "arrowwidth": 1
                    },
                    "autotypenumbers": "strict",
                    "coloraxis": {
                      "colorbar": {
                        "outlinewidth": 0,
                        "ticks": ""
                      }
                    },
                    "colorscale": {
                      "diverging": [
                        [
                          0,
                          "#8e0152"
                        ],
                        [
                          0.1,
                          "#c51b7d"
                        ],
                        [
                          0.2,
                          "#de77ae"
                        ],
                        [
                          0.3,
                          "#f1b6da"
                        ],
                        [
                          0.4,
                          "#fde0ef"
                        ],
                        [
                          0.5,
                          "#f7f7f7"
                        ],
                        [
                          0.6,
                          "#e6f5d0"
                        ],
                        [
                          0.7,
                          "#b8e186"
                        ],
                        [
                          0.8,
                          "#7fbc41"
                        ],
                        [
                          0.9,
                          "#4d9221"
                        ],
                        [
                          1,
                          "#276419"
                        ]
                      ],
                      "sequential": [
                        [
                          0,
                          "#0d0887"
                        ],
                        [
                          0.1111111111111111,
                          "#46039f"
                        ],
                        [
                          0.2222222222222222,
                          "#7201a8"
                        ],
                        [
                          0.3333333333333333,
                          "#9c179e"
                        ],
                        [
                          0.4444444444444444,
                          "#bd3786"
                        ],
                        [
                          0.5555555555555556,
                          "#d8576b"
                        ],
                        [
                          0.6666666666666666,
                          "#ed7953"
                        ],
                        [
                          0.7777777777777778,
                          "#fb9f3a"
                        ],
                        [
                          0.8888888888888888,
                          "#fdca26"
                        ],
                        [
                          1,
                          "#f0f921"
                        ]
                      ],
                      "sequentialminus": [
                        [
                          0,
                          "#0d0887"
                        ],
                        [
                          0.1111111111111111,
                          "#46039f"
                        ],
                        [
                          0.2222222222222222,
                          "#7201a8"
                        ],
                        [
                          0.3333333333333333,
                          "#9c179e"
                        ],
                        [
                          0.4444444444444444,
                          "#bd3786"
                        ],
                        [
                          0.5555555555555556,
                          "#d8576b"
                        ],
                        [
                          0.6666666666666666,
                          "#ed7953"
                        ],
                        [
                          0.7777777777777778,
                          "#fb9f3a"
                        ],
                        [
                          0.8888888888888888,
                          "#fdca26"
                        ],
                        [
                          1,
                          "#f0f921"
                        ]
                      ]
                    },
                    "colorway": [
                      "#636efa",
                      "#EF553B",
                      "#00cc96",
                      "#ab63fa",
                      "#FFA15A",
                      "#19d3f3",
                      "#FF6692",
                      "#B6E880",
                      "#FF97FF",
                      "#FECB52"
                    ],
                    "font": {
                      "color": "#2a3f5f"
                    },
                    "geo": {
                      "bgcolor": "white",
                      "lakecolor": "white",
                      "landcolor": "#E5ECF6",
                      "showlakes": true,
                      "showland": true,
                      "subunitcolor": "white"
                    },
                    "hoverlabel": {
                      "align": "left"
                    },
                    "hovermode": "closest",
                    "mapbox": {
                      "style": "light"
                    },
                    "paper_bgcolor": "white",
                    "plot_bgcolor": "#E5ECF6",
                    "polar": {
                      "angularaxis": {
                        "gridcolor": "white",
                        "linecolor": "white",
                        "ticks": ""
                      },
                      "bgcolor": "#E5ECF6",
                      "radialaxis": {
                        "gridcolor": "white",
                        "linecolor": "white",
                        "ticks": ""
                      }
                    },
                    "scene": {
                      "xaxis": {
                        "backgroundcolor": "#E5ECF6",
                        "gridcolor": "white",
                        "gridwidth": 2,
                        "linecolor": "white",
                        "showbackground": true,
                        "ticks": "",
                        "zerolinecolor": "white"
                      },
                      "yaxis": {
                        "backgroundcolor": "#E5ECF6",
                        "gridcolor": "white",
                        "gridwidth": 2,
                        "linecolor": "white",
                        "showbackground": true,
                        "ticks": "",
                        "zerolinecolor": "white"
                      },
                      "zaxis": {
                        "backgroundcolor": "#E5ECF6",
                        "gridcolor": "white",
                        "gridwidth": 2,
                        "linecolor": "white",
                        "showbackground": true,
                        "ticks": "",
                        "zerolinecolor": "white"
                      }
                    },
                    "shapedefaults": {
                      "line": {
                        "color": "#2a3f5f"
                      }
                    },
                    "ternary": {
                      "aaxis": {
                        "gridcolor": "white",
                        "linecolor": "white",
                        "ticks": ""
                      },
                      "baxis": {
                        "gridcolor": "white",
                        "linecolor": "white",
                        "ticks": ""
                      },
                      "bgcolor": "#E5ECF6",
                      "caxis": {
                        "gridcolor": "white",
                        "linecolor": "white",
                        "ticks": ""
                      }
                    },
                    "title": {
                      "x": 0.05
                    },
                    "xaxis": {
                      "automargin": true,
                      "gridcolor": "white",
                      "linecolor": "white",
                      "ticks": "",
                      "title": {
                        "standoff": 15
                      },
                      "zerolinecolor": "white",
                      "zerolinewidth": 2
                    },
                    "yaxis": {
                      "automargin": true,
                      "gridcolor": "white",
                      "linecolor": "white",
                      "ticks": "",
                      "title": {
                        "standoff": 15
                      },
                      "zerolinecolor": "white",
                      "zerolinewidth": 2
                    }
                  }
                },
                "title": {
                  "text": "Number of Launches per Month"
                },
                "xaxis": {
                  "anchor": "y",
                  "domain": [
                    0,
                    1
                  ],
                  "title": {
                    "text": "Month"
                  }
                },
                "yaxis": {
                  "anchor": "x",
                  "domain": [
                    0,
                    1
                  ],
                  "title": {
                    "text": "Number of Launches"
                  }
                }
              }
            }
          },
          "metadata": {},
          "output_type": "display_data"
        }
      ],
      "source": [
        "fig = px.line(launchpermonth, x='Month', y='Rocket_Status', \n",
        "              labels={'Month':'Month','Rocket_Status':'Number of Launches'},\n",
        "              title='Number of Launches per Month')\n",
        "fig.show()\n",
        "#fig.write_image(\"LaunchesPerYear.png\", format='png')\n",
        "\n"
      ]
    },
    {
      "cell_type": "code",
      "execution_count": 205,
      "metadata": {},
      "outputs": [
        {
          "data": {
            "application/vnd.plotly.v1+json": {
              "config": {
                "plotlyServerURL": "https://plot.ly"
              },
              "data": [
                {
                  "hovertemplate": "Month=%{x}<br>Number of Launches=%{y}<extra></extra>",
                  "legendgroup": "",
                  "line": {
                    "color": "#636efa",
                    "dash": "solid"
                  },
                  "marker": {
                    "symbol": "circle"
                  },
                  "mode": "lines",
                  "name": "",
                  "orientation": "v",
                  "showlegend": false,
                  "type": "scatter",
                  "x": [
                    "1957-10",
                    "1957-11",
                    "1957-12",
                    "1958-02",
                    "1958-03",
                    "1958-04",
                    "1958-05",
                    "1958-06",
                    "1958-07",
                    "1958-08",
                    "1958-09",
                    "1958-10",
                    "1958-11",
                    "1958-12",
                    "1959-01",
                    "1959-02",
                    "1959-04",
                    "1959-06",
                    "1959-08",
                    "1959-09",
                    "1959-10",
                    "1959-11",
                    "1960-02",
                    "1960-03",
                    "1960-04",
                    "1960-05",
                    "1960-06",
                    "1960-07",
                    "1960-08",
                    "1960-09",
                    "1960-10",
                    "1960-11",
                    "1960-12",
                    "1961-01",
                    "1961-02",
                    "1961-03",
                    "1961-04",
                    "1961-05",
                    "1961-06",
                    "1961-07",
                    "1961-08",
                    "1961-09",
                    "1961-10",
                    "1961-11",
                    "1961-12",
                    "1962-01",
                    "1962-02",
                    "1962-03",
                    "1962-04",
                    "1962-05",
                    "1962-06",
                    "1962-07",
                    "1962-08",
                    "1962-09",
                    "1962-10",
                    "1962-11",
                    "1962-12",
                    "1963-01",
                    "1963-02",
                    "1963-03",
                    "1963-04",
                    "1963-05",
                    "1963-06",
                    "1963-07",
                    "1963-08",
                    "1963-09",
                    "1963-10",
                    "1963-11",
                    "1963-12",
                    "1964-01",
                    "1964-02",
                    "1964-03",
                    "1964-04",
                    "1964-05",
                    "1964-06",
                    "1964-07",
                    "1964-08",
                    "1964-09",
                    "1964-10",
                    "1964-11",
                    "1964-12",
                    "1965-01",
                    "1965-02",
                    "1965-03",
                    "1965-04",
                    "1965-05",
                    "1965-06",
                    "1965-07",
                    "1965-08",
                    "1965-09",
                    "1965-10",
                    "1965-11",
                    "1965-12",
                    "1966-01",
                    "1966-02",
                    "1966-03",
                    "1966-04",
                    "1966-05",
                    "1966-06",
                    "1966-07",
                    "1966-08",
                    "1966-09",
                    "1966-10",
                    "1966-11",
                    "1966-12",
                    "1967-01",
                    "1967-02",
                    "1967-03",
                    "1967-04",
                    "1967-05",
                    "1967-06",
                    "1967-07",
                    "1967-08",
                    "1967-09",
                    "1967-10",
                    "1967-11",
                    "1967-12",
                    "1968-01",
                    "1968-02",
                    "1968-03",
                    "1968-04",
                    "1968-05",
                    "1968-06",
                    "1968-07",
                    "1968-08",
                    "1968-09",
                    "1968-10",
                    "1968-11",
                    "1968-12",
                    "1969-01",
                    "1969-02",
                    "1969-03",
                    "1969-04",
                    "1969-05",
                    "1969-06",
                    "1969-07",
                    "1969-08",
                    "1969-09",
                    "1969-10",
                    "1969-11",
                    "1969-12",
                    "1970-01",
                    "1970-02",
                    "1970-03",
                    "1970-04",
                    "1970-05",
                    "1970-06",
                    "1970-07",
                    "1970-08",
                    "1970-09",
                    "1970-10",
                    "1970-11",
                    "1970-12",
                    "1971-01",
                    "1971-02",
                    "1971-03",
                    "1971-04",
                    "1971-05",
                    "1971-06",
                    "1971-07",
                    "1971-08",
                    "1971-09",
                    "1971-10",
                    "1971-11",
                    "1971-12",
                    "1972-01",
                    "1972-02",
                    "1972-03",
                    "1972-04",
                    "1972-05",
                    "1972-06",
                    "1972-07",
                    "1972-08",
                    "1972-09",
                    "1972-10",
                    "1972-11",
                    "1972-12",
                    "1973-01",
                    "1973-02",
                    "1973-03",
                    "1973-04",
                    "1973-05",
                    "1973-06",
                    "1973-07",
                    "1973-08",
                    "1973-09",
                    "1973-10",
                    "1973-11",
                    "1973-12",
                    "1974-01",
                    "1974-02",
                    "1974-03",
                    "1974-04",
                    "1974-05",
                    "1974-06",
                    "1974-07",
                    "1974-08",
                    "1974-09",
                    "1974-10",
                    "1974-11",
                    "1974-12",
                    "1975-01",
                    "1975-02",
                    "1975-03",
                    "1975-04",
                    "1975-05",
                    "1975-06",
                    "1975-07",
                    "1975-08",
                    "1975-09",
                    "1975-10",
                    "1975-11",
                    "1975-12",
                    "1976-01",
                    "1976-02",
                    "1976-03",
                    "1976-04",
                    "1976-05",
                    "1976-06",
                    "1976-07",
                    "1976-08",
                    "1976-09",
                    "1976-10",
                    "1976-11",
                    "1976-12",
                    "1977-01",
                    "1977-02",
                    "1977-03",
                    "1977-04",
                    "1977-05",
                    "1977-06",
                    "1977-07",
                    "1977-08",
                    "1977-09",
                    "1977-10",
                    "1977-11",
                    "1977-12",
                    "1978-01",
                    "1978-02",
                    "1978-03",
                    "1978-04",
                    "1978-05",
                    "1978-06",
                    "1978-07",
                    "1978-08",
                    "1978-09",
                    "1978-10",
                    "1978-11",
                    "1978-12",
                    "1979-01",
                    "1979-02",
                    "1979-03",
                    "1979-04",
                    "1979-05",
                    "1979-06",
                    "1979-07",
                    "1979-08",
                    "1979-09",
                    "1979-10",
                    "1979-11",
                    "1979-12",
                    "1980-01",
                    "1980-02",
                    "1980-03",
                    "1980-04",
                    "1980-05",
                    "1980-06",
                    "1980-07",
                    "1980-08",
                    "1980-09",
                    "1980-10",
                    "1980-11",
                    "1980-12",
                    "1981-01",
                    "1981-02",
                    "1981-03",
                    "1981-04",
                    "1981-05",
                    "1981-06",
                    "1981-07",
                    "1981-08",
                    "1981-09",
                    "1981-10",
                    "1981-11",
                    "1981-12",
                    "1982-01",
                    "1982-02",
                    "1982-03",
                    "1982-04",
                    "1982-05",
                    "1982-06",
                    "1982-07",
                    "1982-08",
                    "1982-09",
                    "1982-10",
                    "1982-11",
                    "1982-12",
                    "1983-01",
                    "1983-02",
                    "1983-03",
                    "1983-04",
                    "1983-05",
                    "1983-06",
                    "1983-07",
                    "1983-08",
                    "1983-09",
                    "1983-10",
                    "1983-11",
                    "1983-12",
                    "1984-01",
                    "1984-02",
                    "1984-03",
                    "1984-04",
                    "1984-05",
                    "1984-06",
                    "1984-07",
                    "1984-08",
                    "1984-09",
                    "1984-10",
                    "1984-11",
                    "1984-12",
                    "1985-01",
                    "1985-02",
                    "1985-03",
                    "1985-04",
                    "1985-05",
                    "1985-06",
                    "1985-07",
                    "1985-08",
                    "1985-09",
                    "1985-10",
                    "1985-11",
                    "1985-12",
                    "1986-01",
                    "1986-02",
                    "1986-03",
                    "1986-04",
                    "1986-05",
                    "1986-06",
                    "1986-07",
                    "1986-08",
                    "1986-09",
                    "1986-10",
                    "1986-11",
                    "1986-12",
                    "1987-01",
                    "1987-02",
                    "1987-03",
                    "1987-04",
                    "1987-05",
                    "1987-06",
                    "1987-07",
                    "1987-08",
                    "1987-09",
                    "1987-10",
                    "1987-11",
                    "1987-12",
                    "1988-01",
                    "1988-02",
                    "1988-03",
                    "1988-04",
                    "1988-05",
                    "1988-06",
                    "1988-07",
                    "1988-08",
                    "1988-09",
                    "1988-10",
                    "1988-11",
                    "1988-12",
                    "1989-01",
                    "1989-02",
                    "1989-03",
                    "1989-04",
                    "1989-05",
                    "1989-06",
                    "1989-07",
                    "1989-08",
                    "1989-09",
                    "1989-10",
                    "1989-11",
                    "1989-12",
                    "1990-01",
                    "1990-02",
                    "1990-03",
                    "1990-04",
                    "1990-05",
                    "1990-06",
                    "1990-07",
                    "1990-08",
                    "1990-09",
                    "1990-10",
                    "1990-11",
                    "1990-12",
                    "1991-01",
                    "1991-02",
                    "1991-03",
                    "1991-04",
                    "1991-05",
                    "1991-06",
                    "1991-07",
                    "1991-08",
                    "1991-09",
                    "1991-10",
                    "1991-11",
                    "1991-12",
                    "1992-01",
                    "1992-02",
                    "1992-03",
                    "1992-04",
                    "1992-05",
                    "1992-06",
                    "1992-07",
                    "1992-08",
                    "1992-09",
                    "1992-10",
                    "1992-11",
                    "1992-12",
                    "1993-01",
                    "1993-02",
                    "1993-03",
                    "1993-04",
                    "1993-05",
                    "1993-06",
                    "1993-07",
                    "1993-08",
                    "1993-09",
                    "1993-10",
                    "1993-11",
                    "1993-12",
                    "1994-01",
                    "1994-02",
                    "1994-03",
                    "1994-04",
                    "1994-05",
                    "1994-06",
                    "1994-07",
                    "1994-08",
                    "1994-09",
                    "1994-10",
                    "1994-11",
                    "1994-12",
                    "1995-01",
                    "1995-02",
                    "1995-03",
                    "1995-04",
                    "1995-05",
                    "1995-06",
                    "1995-07",
                    "1995-08",
                    "1995-09",
                    "1995-10",
                    "1995-11",
                    "1995-12",
                    "1996-01",
                    "1996-02",
                    "1996-03",
                    "1996-04",
                    "1996-05",
                    "1996-06",
                    "1996-07",
                    "1996-08",
                    "1996-09",
                    "1996-10",
                    "1996-11",
                    "1996-12",
                    "1997-01",
                    "1997-02",
                    "1997-03",
                    "1997-04",
                    "1997-05",
                    "1997-06",
                    "1997-07",
                    "1997-08",
                    "1997-09",
                    "1997-10",
                    "1997-11",
                    "1997-12",
                    "1998-01",
                    "1998-02",
                    "1998-03",
                    "1998-04",
                    "1998-05",
                    "1998-06",
                    "1998-07",
                    "1998-08",
                    "1998-09",
                    "1998-10",
                    "1998-11",
                    "1998-12",
                    "1999-01",
                    "1999-02",
                    "1999-03",
                    "1999-04",
                    "1999-05",
                    "1999-06",
                    "1999-07",
                    "1999-08",
                    "1999-09",
                    "1999-10",
                    "1999-11",
                    "1999-12",
                    "2000-01",
                    "2000-02",
                    "2000-03",
                    "2000-04",
                    "2000-05",
                    "2000-06",
                    "2000-07",
                    "2000-08",
                    "2000-09",
                    "2000-10",
                    "2000-11",
                    "2000-12",
                    "2001-01",
                    "2001-02",
                    "2001-03",
                    "2001-04",
                    "2001-05",
                    "2001-06",
                    "2001-07",
                    "2001-08",
                    "2001-09",
                    "2001-10",
                    "2001-11",
                    "2001-12",
                    "2002-01",
                    "2002-02",
                    "2002-03",
                    "2002-04",
                    "2002-05",
                    "2002-06",
                    "2002-07",
                    "2002-08",
                    "2002-09",
                    "2002-10",
                    "2002-11",
                    "2002-12",
                    "2003-01",
                    "2003-02",
                    "2003-03",
                    "2003-04",
                    "2003-05",
                    "2003-06",
                    "2003-07",
                    "2003-08",
                    "2003-09",
                    "2003-10",
                    "2003-11",
                    "2003-12",
                    "2004-01",
                    "2004-02",
                    "2004-03",
                    "2004-04",
                    "2004-05",
                    "2004-06",
                    "2004-07",
                    "2004-08",
                    "2004-09",
                    "2004-10",
                    "2004-11",
                    "2004-12",
                    "2005-01",
                    "2005-02",
                    "2005-03",
                    "2005-04",
                    "2005-05",
                    "2005-06",
                    "2005-07",
                    "2005-08",
                    "2005-09",
                    "2005-10",
                    "2005-11",
                    "2005-12",
                    "2006-01",
                    "2006-02",
                    "2006-03",
                    "2006-04",
                    "2006-05",
                    "2006-06",
                    "2006-07",
                    "2006-08",
                    "2006-09",
                    "2006-10",
                    "2006-11",
                    "2006-12",
                    "2007-01",
                    "2007-02",
                    "2007-03",
                    "2007-04",
                    "2007-05",
                    "2007-06",
                    "2007-07",
                    "2007-08",
                    "2007-09",
                    "2007-10",
                    "2007-11",
                    "2007-12",
                    "2008-01",
                    "2008-02",
                    "2008-03",
                    "2008-04",
                    "2008-05",
                    "2008-06",
                    "2008-07",
                    "2008-08",
                    "2008-09",
                    "2008-10",
                    "2008-11",
                    "2008-12",
                    "2009-01",
                    "2009-02",
                    "2009-03",
                    "2009-04",
                    "2009-05",
                    "2009-06",
                    "2009-07",
                    "2009-08",
                    "2009-09",
                    "2009-10",
                    "2009-11",
                    "2009-12",
                    "2010-02",
                    "2010-03",
                    "2010-04",
                    "2010-05",
                    "2010-06",
                    "2010-07",
                    "2010-08",
                    "2010-09",
                    "2010-10",
                    "2010-11",
                    "2010-12",
                    "2011-01",
                    "2011-02",
                    "2011-03",
                    "2011-04",
                    "2011-05",
                    "2011-06",
                    "2011-07",
                    "2011-08",
                    "2011-09",
                    "2011-10",
                    "2011-11",
                    "2011-12",
                    "2012-01",
                    "2012-02",
                    "2012-03",
                    "2012-04",
                    "2012-05",
                    "2012-06",
                    "2012-07",
                    "2012-08",
                    "2012-09",
                    "2012-10",
                    "2012-11",
                    "2012-12",
                    "2013-01",
                    "2013-02",
                    "2013-03",
                    "2013-04",
                    "2013-05",
                    "2013-06",
                    "2013-07",
                    "2013-08",
                    "2013-09",
                    "2013-11",
                    "2013-12",
                    "2014-01",
                    "2014-02",
                    "2014-03",
                    "2014-04",
                    "2014-05",
                    "2014-06",
                    "2014-07",
                    "2014-08",
                    "2014-09",
                    "2014-10",
                    "2014-11",
                    "2014-12",
                    "2015-01",
                    "2015-02",
                    "2015-03",
                    "2015-04",
                    "2015-05",
                    "2015-06",
                    "2015-07",
                    "2015-08",
                    "2015-09",
                    "2015-10",
                    "2015-11",
                    "2015-12",
                    "2016-01",
                    "2016-02",
                    "2016-03",
                    "2016-04",
                    "2016-05",
                    "2016-06",
                    "2016-07",
                    "2016-08",
                    "2016-09",
                    "2016-10",
                    "2016-11",
                    "2016-12",
                    "2017-01",
                    "2017-02",
                    "2017-03",
                    "2017-04",
                    "2017-05",
                    "2017-06",
                    "2017-07",
                    "2017-08",
                    "2017-09",
                    "2017-10",
                    "2017-11",
                    "2017-12",
                    "2018-01",
                    "2018-02",
                    "2018-03",
                    "2018-04",
                    "2018-05",
                    "2018-06",
                    "2018-07",
                    "2018-08",
                    "2018-09",
                    "2018-10",
                    "2018-11",
                    "2018-12",
                    "2019-01",
                    "2019-02",
                    "2019-03",
                    "2019-04",
                    "2019-05",
                    "2019-06",
                    "2019-07",
                    "2019-08",
                    "2019-09",
                    "2019-10",
                    "2019-11",
                    "2019-12",
                    "2020-01",
                    "2020-02",
                    "2020-03",
                    "2020-04",
                    "2020-05",
                    "2020-06",
                    "2020-07",
                    "2020-08"
                  ],
                  "xaxis": "x",
                  "y": [
                    1,
                    1,
                    1,
                    2,
                    3,
                    2,
                    2,
                    1,
                    2,
                    7,
                    2,
                    3,
                    1,
                    3,
                    1,
                    2,
                    2,
                    4,
                    3,
                    4,
                    1,
                    3,
                    3,
                    1,
                    5,
                    3,
                    2,
                    2,
                    5,
                    2,
                    5,
                    4,
                    7,
                    2,
                    7,
                    5,
                    3,
                    1,
                    4,
                    5,
                    6,
                    4,
                    4,
                    7,
                    4,
                    3,
                    4,
                    3,
                    10,
                    7,
                    8,
                    6,
                    9,
                    8,
                    11,
                    5,
                    8,
                    1,
                    2,
                    1,
                    7,
                    4,
                    6,
                    3,
                    2,
                    2,
                    4,
                    5,
                    4,
                    3,
                    3,
                    4,
                    7,
                    3,
                    5,
                    7,
                    6,
                    6,
                    8,
                    3,
                    5,
                    5,
                    8,
                    9,
                    5,
                    7,
                    6,
                    9,
                    6,
                    5,
                    8,
                    9,
                    10,
                    5,
                    8,
                    9,
                    7,
                    8,
                    9,
                    11,
                    8,
                    8,
                    7,
                    10,
                    11,
                    4,
                    10,
                    9,
                    11,
                    8,
                    12,
                    7,
                    6,
                    11,
                    13,
                    9,
                    6,
                    5,
                    4,
                    11,
                    16,
                    3,
                    11,
                    7,
                    9,
                    7,
                    12,
                    9,
                    9,
                    9,
                    8,
                    14,
                    9,
                    6,
                    7,
                    7,
                    9,
                    6,
                    12,
                    9,
                    7,
                    7,
                    5,
                    6,
                    13,
                    3,
                    13,
                    5,
                    9,
                    9,
                    15,
                    9,
                    13,
                    8,
                    7,
                    9,
                    13,
                    14,
                    8,
                    8,
                    7,
                    10,
                    6,
                    11,
                    18,
                    4,
                    6,
                    12,
                    10,
                    6,
                    8,
                    10,
                    9,
                    7,
                    11,
                    6,
                    10,
                    4,
                    5,
                    6,
                    8,
                    12,
                    11,
                    5,
                    9,
                    7,
                    13,
                    12,
                    11,
                    4,
                    7,
                    6,
                    10,
                    11,
                    9,
                    11,
                    9,
                    4,
                    10,
                    8,
                    9,
                    6,
                    9,
                    6,
                    15,
                    10,
                    10,
                    11,
                    5,
                    16,
                    4,
                    9,
                    12,
                    9,
                    8,
                    11,
                    6,
                    9,
                    10,
                    15,
                    8,
                    8,
                    9,
                    7,
                    13,
                    4,
                    11,
                    7,
                    8,
                    11,
                    13,
                    12,
                    9,
                    16,
                    7,
                    2,
                    14,
                    10,
                    9,
                    11,
                    4,
                    10,
                    11,
                    2,
                    5,
                    4,
                    11,
                    6,
                    14,
                    3,
                    6,
                    4,
                    6,
                    3,
                    6,
                    5,
                    3,
                    2,
                    6,
                    3,
                    2,
                    6,
                    6,
                    4,
                    6,
                    4,
                    6,
                    6,
                    1,
                    1,
                    3,
                    4,
                    8,
                    6,
                    8,
                    8,
                    3,
                    5,
                    6,
                    1,
                    10,
                    9,
                    4,
                    4,
                    7,
                    4,
                    4,
                    10,
                    5,
                    6,
                    10,
                    4,
                    5,
                    8,
                    3,
                    4,
                    4,
                    4,
                    4,
                    6,
                    9,
                    7,
                    5,
                    7,
                    5,
                    3,
                    6,
                    5,
                    5,
                    6,
                    6,
                    4,
                    5,
                    6,
                    9,
                    2,
                    10,
                    6,
                    5,
                    4,
                    6,
                    6,
                    6,
                    5,
                    5,
                    4,
                    8,
                    4,
                    7,
                    6,
                    13,
                    5,
                    5,
                    6,
                    8,
                    3,
                    3,
                    4,
                    4,
                    5,
                    4,
                    5,
                    7,
                    5,
                    8,
                    6,
                    7,
                    5,
                    2,
                    3,
                    7,
                    5,
                    6,
                    3,
                    4,
                    2,
                    6,
                    2,
                    3,
                    10,
                    2,
                    5,
                    5,
                    7,
                    2,
                    9,
                    4,
                    4,
                    6,
                    1,
                    9,
                    4,
                    2,
                    3,
                    7,
                    4,
                    5,
                    8,
                    3,
                    4,
                    2,
                    9,
                    9,
                    5,
                    11,
                    1,
                    7,
                    5,
                    8,
                    4,
                    7,
                    9,
                    5,
                    4,
                    4,
                    6,
                    7,
                    3,
                    6,
                    3,
                    10,
                    4,
                    2,
                    5,
                    5,
                    2,
                    5,
                    5,
                    4,
                    2,
                    4,
                    9,
                    6,
                    4,
                    7,
                    6,
                    8,
                    4,
                    4,
                    6,
                    9,
                    4,
                    5,
                    3,
                    6,
                    6,
                    6,
                    3,
                    5,
                    3,
                    5,
                    5,
                    4,
                    4,
                    3,
                    5,
                    10,
                    5,
                    4,
                    9,
                    7,
                    5,
                    1,
                    8,
                    4,
                    5,
                    4,
                    5,
                    7,
                    3,
                    6,
                    5,
                    8,
                    4,
                    7,
                    5,
                    6,
                    5,
                    3,
                    6,
                    6,
                    6,
                    2,
                    4,
                    6,
                    3,
                    5,
                    3,
                    6,
                    6,
                    3,
                    4,
                    8,
                    9,
                    7,
                    6,
                    10,
                    5,
                    8,
                    4,
                    4,
                    6,
                    5,
                    5,
                    8,
                    5,
                    8,
                    2,
                    8,
                    2,
                    4,
                    2,
                    8,
                    6,
                    4,
                    5,
                    4,
                    4,
                    3,
                    4,
                    11,
                    4,
                    5,
                    5,
                    1,
                    6,
                    4,
                    5,
                    3,
                    6,
                    7,
                    6,
                    5,
                    3,
                    4,
                    3,
                    3,
                    2,
                    4,
                    4,
                    5,
                    4,
                    5,
                    1,
                    5,
                    2,
                    5,
                    6,
                    3,
                    4,
                    5,
                    4,
                    2,
                    6,
                    2,
                    3,
                    7,
                    5,
                    1,
                    3,
                    5,
                    4,
                    8,
                    2,
                    6,
                    4,
                    6,
                    3,
                    5,
                    1,
                    3,
                    3,
                    4,
                    3,
                    4,
                    4,
                    3,
                    5,
                    1,
                    5,
                    4,
                    2,
                    3,
                    2,
                    5,
                    2,
                    3,
                    3,
                    6,
                    2,
                    5,
                    2,
                    2,
                    2,
                    3,
                    3,
                    6,
                    3,
                    4,
                    6,
                    2,
                    6,
                    5,
                    2,
                    7,
                    2,
                    3,
                    3,
                    6,
                    4,
                    7,
                    2,
                    3,
                    6,
                    6,
                    4,
                    4,
                    2,
                    2,
                    6,
                    6,
                    4,
                    5,
                    3,
                    4,
                    5,
                    6,
                    2,
                    2,
                    3,
                    5,
                    4,
                    4,
                    4,
                    3,
                    6,
                    4,
                    4,
                    5,
                    5,
                    3,
                    3,
                    1,
                    7,
                    4,
                    7,
                    1,
                    2,
                    4,
                    1,
                    4,
                    3,
                    3,
                    4,
                    3,
                    3,
                    3,
                    3,
                    4,
                    3,
                    7,
                    5,
                    2,
                    2,
                    1,
                    3,
                    1,
                    4,
                    5,
                    5,
                    3,
                    3,
                    4,
                    3,
                    1,
                    5,
                    4,
                    4,
                    2,
                    1,
                    3,
                    5,
                    4,
                    6,
                    7,
                    5,
                    5,
                    4,
                    3,
                    1,
                    7,
                    5,
                    2,
                    8,
                    4,
                    4,
                    5,
                    2,
                    8,
                    3,
                    5,
                    8,
                    4,
                    2,
                    2,
                    4,
                    3,
                    7,
                    3,
                    4,
                    7,
                    6,
                    7,
                    10,
                    6,
                    6,
                    11,
                    4,
                    7,
                    7,
                    5,
                    9,
                    12,
                    7,
                    4,
                    7,
                    4,
                    7,
                    13,
                    5,
                    10,
                    6,
                    9,
                    8,
                    12,
                    13,
                    8,
                    10,
                    10,
                    7,
                    8,
                    9,
                    5,
                    8,
                    11,
                    13,
                    15,
                    8,
                    5,
                    9,
                    7,
                    9,
                    7,
                    11,
                    12,
                    7,
                    6,
                    12,
                    16,
                    8,
                    9,
                    8,
                    5,
                    9,
                    7,
                    14,
                    3
                  ],
                  "yaxis": "y"
                },
                {
                  "line": {
                    "color": "black",
                    "width": 2
                  },
                  "mode": "lines",
                  "type": "scatter",
                  "x": [
                    "1957-10",
                    "1957-11",
                    "1957-12",
                    "1958-02",
                    "1958-03",
                    "1958-04",
                    "1958-05",
                    "1958-06",
                    "1958-07",
                    "1958-08",
                    "1958-09",
                    "1958-10",
                    "1958-11",
                    "1958-12",
                    "1959-01",
                    "1959-02",
                    "1959-04",
                    "1959-06",
                    "1959-08",
                    "1959-09",
                    "1959-10",
                    "1959-11",
                    "1960-02",
                    "1960-03",
                    "1960-04",
                    "1960-05",
                    "1960-06",
                    "1960-07",
                    "1960-08",
                    "1960-09",
                    "1960-10",
                    "1960-11",
                    "1960-12",
                    "1961-01",
                    "1961-02",
                    "1961-03",
                    "1961-04",
                    "1961-05",
                    "1961-06",
                    "1961-07",
                    "1961-08",
                    "1961-09",
                    "1961-10",
                    "1961-11",
                    "1961-12",
                    "1962-01",
                    "1962-02",
                    "1962-03",
                    "1962-04",
                    "1962-05",
                    "1962-06",
                    "1962-07",
                    "1962-08",
                    "1962-09",
                    "1962-10",
                    "1962-11",
                    "1962-12",
                    "1963-01",
                    "1963-02",
                    "1963-03",
                    "1963-04",
                    "1963-05",
                    "1963-06",
                    "1963-07",
                    "1963-08",
                    "1963-09",
                    "1963-10",
                    "1963-11",
                    "1963-12",
                    "1964-01",
                    "1964-02",
                    "1964-03",
                    "1964-04",
                    "1964-05",
                    "1964-06",
                    "1964-07",
                    "1964-08",
                    "1964-09",
                    "1964-10",
                    "1964-11",
                    "1964-12",
                    "1965-01",
                    "1965-02",
                    "1965-03",
                    "1965-04",
                    "1965-05",
                    "1965-06",
                    "1965-07",
                    "1965-08",
                    "1965-09",
                    "1965-10",
                    "1965-11",
                    "1965-12",
                    "1966-01",
                    "1966-02",
                    "1966-03",
                    "1966-04",
                    "1966-05",
                    "1966-06",
                    "1966-07",
                    "1966-08",
                    "1966-09",
                    "1966-10",
                    "1966-11",
                    "1966-12",
                    "1967-01",
                    "1967-02",
                    "1967-03",
                    "1967-04",
                    "1967-05",
                    "1967-06",
                    "1967-07",
                    "1967-08",
                    "1967-09",
                    "1967-10",
                    "1967-11",
                    "1967-12",
                    "1968-01",
                    "1968-02",
                    "1968-03",
                    "1968-04",
                    "1968-05",
                    "1968-06",
                    "1968-07",
                    "1968-08",
                    "1968-09",
                    "1968-10",
                    "1968-11",
                    "1968-12",
                    "1969-01",
                    "1969-02",
                    "1969-03",
                    "1969-04",
                    "1969-05",
                    "1969-06",
                    "1969-07",
                    "1969-08",
                    "1969-09",
                    "1969-10",
                    "1969-11",
                    "1969-12",
                    "1970-01",
                    "1970-02",
                    "1970-03",
                    "1970-04",
                    "1970-05",
                    "1970-06",
                    "1970-07",
                    "1970-08",
                    "1970-09",
                    "1970-10",
                    "1970-11",
                    "1970-12",
                    "1971-01",
                    "1971-02",
                    "1971-03",
                    "1971-04",
                    "1971-05",
                    "1971-06",
                    "1971-07",
                    "1971-08",
                    "1971-09",
                    "1971-10",
                    "1971-11",
                    "1971-12",
                    "1972-01",
                    "1972-02",
                    "1972-03",
                    "1972-04",
                    "1972-05",
                    "1972-06",
                    "1972-07",
                    "1972-08",
                    "1972-09",
                    "1972-10",
                    "1972-11",
                    "1972-12",
                    "1973-01",
                    "1973-02",
                    "1973-03",
                    "1973-04",
                    "1973-05",
                    "1973-06",
                    "1973-07",
                    "1973-08",
                    "1973-09",
                    "1973-10",
                    "1973-11",
                    "1973-12",
                    "1974-01",
                    "1974-02",
                    "1974-03",
                    "1974-04",
                    "1974-05",
                    "1974-06",
                    "1974-07",
                    "1974-08",
                    "1974-09",
                    "1974-10",
                    "1974-11",
                    "1974-12",
                    "1975-01",
                    "1975-02",
                    "1975-03",
                    "1975-04",
                    "1975-05",
                    "1975-06",
                    "1975-07",
                    "1975-08",
                    "1975-09",
                    "1975-10",
                    "1975-11",
                    "1975-12",
                    "1976-01",
                    "1976-02",
                    "1976-03",
                    "1976-04",
                    "1976-05",
                    "1976-06",
                    "1976-07",
                    "1976-08",
                    "1976-09",
                    "1976-10",
                    "1976-11",
                    "1976-12",
                    "1977-01",
                    "1977-02",
                    "1977-03",
                    "1977-04",
                    "1977-05",
                    "1977-06",
                    "1977-07",
                    "1977-08",
                    "1977-09",
                    "1977-10",
                    "1977-11",
                    "1977-12",
                    "1978-01",
                    "1978-02",
                    "1978-03",
                    "1978-04",
                    "1978-05",
                    "1978-06",
                    "1978-07",
                    "1978-08",
                    "1978-09",
                    "1978-10",
                    "1978-11",
                    "1978-12",
                    "1979-01",
                    "1979-02",
                    "1979-03",
                    "1979-04",
                    "1979-05",
                    "1979-06",
                    "1979-07",
                    "1979-08",
                    "1979-09",
                    "1979-10",
                    "1979-11",
                    "1979-12",
                    "1980-01",
                    "1980-02",
                    "1980-03",
                    "1980-04",
                    "1980-05",
                    "1980-06",
                    "1980-07",
                    "1980-08",
                    "1980-09",
                    "1980-10",
                    "1980-11",
                    "1980-12",
                    "1981-01",
                    "1981-02",
                    "1981-03",
                    "1981-04",
                    "1981-05",
                    "1981-06",
                    "1981-07",
                    "1981-08",
                    "1981-09",
                    "1981-10",
                    "1981-11",
                    "1981-12",
                    "1982-01",
                    "1982-02",
                    "1982-03",
                    "1982-04",
                    "1982-05",
                    "1982-06",
                    "1982-07",
                    "1982-08",
                    "1982-09",
                    "1982-10",
                    "1982-11",
                    "1982-12",
                    "1983-01",
                    "1983-02",
                    "1983-03",
                    "1983-04",
                    "1983-05",
                    "1983-06",
                    "1983-07",
                    "1983-08",
                    "1983-09",
                    "1983-10",
                    "1983-11",
                    "1983-12",
                    "1984-01",
                    "1984-02",
                    "1984-03",
                    "1984-04",
                    "1984-05",
                    "1984-06",
                    "1984-07",
                    "1984-08",
                    "1984-09",
                    "1984-10",
                    "1984-11",
                    "1984-12",
                    "1985-01",
                    "1985-02",
                    "1985-03",
                    "1985-04",
                    "1985-05",
                    "1985-06",
                    "1985-07",
                    "1985-08",
                    "1985-09",
                    "1985-10",
                    "1985-11",
                    "1985-12",
                    "1986-01",
                    "1986-02",
                    "1986-03",
                    "1986-04",
                    "1986-05",
                    "1986-06",
                    "1986-07",
                    "1986-08",
                    "1986-09",
                    "1986-10",
                    "1986-11",
                    "1986-12",
                    "1987-01",
                    "1987-02",
                    "1987-03",
                    "1987-04",
                    "1987-05",
                    "1987-06",
                    "1987-07",
                    "1987-08",
                    "1987-09",
                    "1987-10",
                    "1987-11",
                    "1987-12",
                    "1988-01",
                    "1988-02",
                    "1988-03",
                    "1988-04",
                    "1988-05",
                    "1988-06",
                    "1988-07",
                    "1988-08",
                    "1988-09",
                    "1988-10",
                    "1988-11",
                    "1988-12",
                    "1989-01",
                    "1989-02",
                    "1989-03",
                    "1989-04",
                    "1989-05",
                    "1989-06",
                    "1989-07",
                    "1989-08",
                    "1989-09",
                    "1989-10",
                    "1989-11",
                    "1989-12",
                    "1990-01",
                    "1990-02",
                    "1990-03",
                    "1990-04",
                    "1990-05",
                    "1990-06",
                    "1990-07",
                    "1990-08",
                    "1990-09",
                    "1990-10",
                    "1990-11",
                    "1990-12",
                    "1991-01",
                    "1991-02",
                    "1991-03",
                    "1991-04",
                    "1991-05",
                    "1991-06",
                    "1991-07",
                    "1991-08",
                    "1991-09",
                    "1991-10",
                    "1991-11",
                    "1991-12",
                    "1992-01",
                    "1992-02",
                    "1992-03",
                    "1992-04",
                    "1992-05",
                    "1992-06",
                    "1992-07",
                    "1992-08",
                    "1992-09",
                    "1992-10",
                    "1992-11",
                    "1992-12",
                    "1993-01",
                    "1993-02",
                    "1993-03",
                    "1993-04",
                    "1993-05",
                    "1993-06",
                    "1993-07",
                    "1993-08",
                    "1993-09",
                    "1993-10",
                    "1993-11",
                    "1993-12",
                    "1994-01",
                    "1994-02",
                    "1994-03",
                    "1994-04",
                    "1994-05",
                    "1994-06",
                    "1994-07",
                    "1994-08",
                    "1994-09",
                    "1994-10",
                    "1994-11",
                    "1994-12",
                    "1995-01",
                    "1995-02",
                    "1995-03",
                    "1995-04",
                    "1995-05",
                    "1995-06",
                    "1995-07",
                    "1995-08",
                    "1995-09",
                    "1995-10",
                    "1995-11",
                    "1995-12",
                    "1996-01",
                    "1996-02",
                    "1996-03",
                    "1996-04",
                    "1996-05",
                    "1996-06",
                    "1996-07",
                    "1996-08",
                    "1996-09",
                    "1996-10",
                    "1996-11",
                    "1996-12",
                    "1997-01",
                    "1997-02",
                    "1997-03",
                    "1997-04",
                    "1997-05",
                    "1997-06",
                    "1997-07",
                    "1997-08",
                    "1997-09",
                    "1997-10",
                    "1997-11",
                    "1997-12",
                    "1998-01",
                    "1998-02",
                    "1998-03",
                    "1998-04",
                    "1998-05",
                    "1998-06",
                    "1998-07",
                    "1998-08",
                    "1998-09",
                    "1998-10",
                    "1998-11",
                    "1998-12",
                    "1999-01",
                    "1999-02",
                    "1999-03",
                    "1999-04",
                    "1999-05",
                    "1999-06",
                    "1999-07",
                    "1999-08",
                    "1999-09",
                    "1999-10",
                    "1999-11",
                    "1999-12",
                    "2000-01",
                    "2000-02",
                    "2000-03",
                    "2000-04",
                    "2000-05",
                    "2000-06",
                    "2000-07",
                    "2000-08",
                    "2000-09",
                    "2000-10",
                    "2000-11",
                    "2000-12",
                    "2001-01",
                    "2001-02",
                    "2001-03",
                    "2001-04",
                    "2001-05",
                    "2001-06",
                    "2001-07",
                    "2001-08",
                    "2001-09",
                    "2001-10",
                    "2001-11",
                    "2001-12",
                    "2002-01",
                    "2002-02",
                    "2002-03",
                    "2002-04",
                    "2002-05",
                    "2002-06",
                    "2002-07",
                    "2002-08",
                    "2002-09",
                    "2002-10",
                    "2002-11",
                    "2002-12",
                    "2003-01",
                    "2003-02",
                    "2003-03",
                    "2003-04",
                    "2003-05",
                    "2003-06",
                    "2003-07",
                    "2003-08",
                    "2003-09",
                    "2003-10",
                    "2003-11",
                    "2003-12",
                    "2004-01",
                    "2004-02",
                    "2004-03",
                    "2004-04",
                    "2004-05",
                    "2004-06",
                    "2004-07",
                    "2004-08",
                    "2004-09",
                    "2004-10",
                    "2004-11",
                    "2004-12",
                    "2005-01",
                    "2005-02",
                    "2005-03",
                    "2005-04",
                    "2005-05",
                    "2005-06",
                    "2005-07",
                    "2005-08",
                    "2005-09",
                    "2005-10",
                    "2005-11",
                    "2005-12",
                    "2006-01",
                    "2006-02",
                    "2006-03",
                    "2006-04",
                    "2006-05",
                    "2006-06",
                    "2006-07",
                    "2006-08",
                    "2006-09",
                    "2006-10",
                    "2006-11",
                    "2006-12",
                    "2007-01",
                    "2007-02",
                    "2007-03",
                    "2007-04",
                    "2007-05",
                    "2007-06",
                    "2007-07",
                    "2007-08",
                    "2007-09",
                    "2007-10",
                    "2007-11",
                    "2007-12",
                    "2008-01",
                    "2008-02",
                    "2008-03",
                    "2008-04",
                    "2008-05",
                    "2008-06",
                    "2008-07",
                    "2008-08",
                    "2008-09",
                    "2008-10",
                    "2008-11",
                    "2008-12",
                    "2009-01",
                    "2009-02",
                    "2009-03",
                    "2009-04",
                    "2009-05",
                    "2009-06",
                    "2009-07",
                    "2009-08",
                    "2009-09",
                    "2009-10",
                    "2009-11",
                    "2009-12",
                    "2010-02",
                    "2010-03",
                    "2010-04",
                    "2010-05",
                    "2010-06",
                    "2010-07",
                    "2010-08",
                    "2010-09",
                    "2010-10",
                    "2010-11",
                    "2010-12",
                    "2011-01",
                    "2011-02",
                    "2011-03",
                    "2011-04",
                    "2011-05",
                    "2011-06",
                    "2011-07",
                    "2011-08",
                    "2011-09",
                    "2011-10",
                    "2011-11",
                    "2011-12",
                    "2012-01",
                    "2012-02",
                    "2012-03",
                    "2012-04",
                    "2012-05",
                    "2012-06",
                    "2012-07",
                    "2012-08",
                    "2012-09",
                    "2012-10",
                    "2012-11",
                    "2012-12",
                    "2013-01",
                    "2013-02",
                    "2013-03",
                    "2013-04",
                    "2013-05",
                    "2013-06",
                    "2013-07",
                    "2013-08",
                    "2013-09",
                    "2013-11",
                    "2013-12",
                    "2014-01",
                    "2014-02",
                    "2014-03",
                    "2014-04",
                    "2014-05",
                    "2014-06",
                    "2014-07",
                    "2014-08",
                    "2014-09",
                    "2014-10",
                    "2014-11",
                    "2014-12",
                    "2015-01",
                    "2015-02",
                    "2015-03",
                    "2015-04",
                    "2015-05",
                    "2015-06",
                    "2015-07",
                    "2015-08",
                    "2015-09",
                    "2015-10",
                    "2015-11",
                    "2015-12",
                    "2016-01",
                    "2016-02",
                    "2016-03",
                    "2016-04",
                    "2016-05",
                    "2016-06",
                    "2016-07",
                    "2016-08",
                    "2016-09",
                    "2016-10",
                    "2016-11",
                    "2016-12",
                    "2017-01",
                    "2017-02",
                    "2017-03",
                    "2017-04",
                    "2017-05",
                    "2017-06",
                    "2017-07",
                    "2017-08",
                    "2017-09",
                    "2017-10",
                    "2017-11",
                    "2017-12",
                    "2018-01",
                    "2018-02",
                    "2018-03",
                    "2018-04",
                    "2018-05",
                    "2018-06",
                    "2018-07",
                    "2018-08",
                    "2018-09",
                    "2018-10",
                    "2018-11",
                    "2018-12",
                    "2019-01",
                    "2019-02",
                    "2019-03",
                    "2019-04",
                    "2019-05",
                    "2019-06",
                    "2019-07",
                    "2019-08",
                    "2019-09",
                    "2019-10",
                    "2019-11",
                    "2019-12",
                    "2020-01",
                    "2020-02",
                    "2020-03",
                    "2020-04",
                    "2020-05",
                    "2020-06",
                    "2020-07",
                    "2020-08"
                  ],
                  "y": [
                    null,
                    null,
                    null,
                    null,
                    null,
                    1.6666666666666667,
                    1.8333333333333333,
                    1.8333333333333333,
                    2,
                    2.8333333333333335,
                    2.6666666666666665,
                    2.8333333333333335,
                    2.6666666666666665,
                    3,
                    2.8333333333333335,
                    2,
                    2,
                    2.1666666666666665,
                    2.5,
                    2.6666666666666665,
                    2.6666666666666665,
                    2.8333333333333335,
                    3,
                    2.5,
                    2.8333333333333335,
                    2.6666666666666665,
                    2.8333333333333335,
                    2.6666666666666665,
                    3,
                    3.1666666666666665,
                    3.1666666666666665,
                    3.3333333333333335,
                    4.166666666666667,
                    4.166666666666667,
                    4.5,
                    5,
                    4.666666666666667,
                    4.166666666666667,
                    3.6666666666666665,
                    4.166666666666667,
                    4,
                    3.8333333333333335,
                    4,
                    5,
                    5,
                    4.666666666666667,
                    4.333333333333333,
                    4.166666666666667,
                    5.166666666666667,
                    5.166666666666667,
                    5.833333333333333,
                    6.333333333333333,
                    7.166666666666667,
                    8,
                    8.166666666666666,
                    7.833333333333333,
                    7.833333333333333,
                    7,
                    5.833333333333333,
                    4.666666666666667,
                    4,
                    3.8333333333333335,
                    3.5,
                    3.8333333333333335,
                    3.8333333333333335,
                    4,
                    3.5,
                    3.6666666666666665,
                    3.3333333333333335,
                    3.3333333333333335,
                    3.5,
                    3.8333333333333335,
                    4.333333333333333,
                    4,
                    4.166666666666667,
                    4.833333333333333,
                    5.333333333333333,
                    5.666666666666667,
                    5.833333333333333,
                    5.833333333333333,
                    5.833333333333333,
                    5.5,
                    5.833333333333333,
                    6.333333333333333,
                    5.833333333333333,
                    6.5,
                    6.666666666666667,
                    7.333333333333333,
                    7,
                    6.333333333333333,
                    6.833333333333333,
                    7.166666666666667,
                    7.833333333333333,
                    7.166666666666667,
                    7.5,
                    8.166666666666666,
                    8,
                    7.833333333333333,
                    7.666666666666667,
                    8.666666666666666,
                    8.666666666666666,
                    8.5,
                    8.5,
                    8.833333333333334,
                    9.166666666666666,
                    8,
                    8.333333333333334,
                    8.5,
                    9.166666666666666,
                    8.833333333333334,
                    9,
                    9.5,
                    8.833333333333334,
                    9.166666666666666,
                    9.5,
                    9.666666666666666,
                    8.666666666666666,
                    8.333333333333334,
                    8,
                    8,
                    8.5,
                    7.5,
                    8.333333333333334,
                    8.666666666666666,
                    9.5,
                    8.833333333333334,
                    8.166666666666666,
                    9.166666666666666,
                    8.833333333333334,
                    9.166666666666666,
                    9,
                    10.166666666666666,
                    9.666666666666666,
                    9.166666666666666,
                    8.833333333333334,
                    8.5,
                    8.666666666666666,
                    7.333333333333333,
                    7.833333333333333,
                    8.333333333333334,
                    8.333333333333334,
                    8.333333333333334,
                    7.666666666666667,
                    7.666666666666667,
                    7.833333333333333,
                    6.833333333333333,
                    7.833333333333333,
                    7.5,
                    8.166666666666666,
                    8.666666666666666,
                    9,
                    10,
                    10,
                    10.5,
                    10.166666666666666,
                    10.166666666666666,
                    9.833333333333334,
                    10.666666666666666,
                    9.833333333333334,
                    9.833333333333334,
                    9.833333333333334,
                    10,
                    8.833333333333334,
                    8.333333333333334,
                    10,
                    9.333333333333334,
                    9.166666666666666,
                    9.5,
                    10.166666666666666,
                    9.333333333333334,
                    7.666666666666667,
                    8.666666666666666,
                    9.166666666666666,
                    8.333333333333334,
                    8.5,
                    8.5,
                    8.833333333333334,
                    7.833333333333333,
                    7.166666666666667,
                    7,
                    6.5,
                    7.5,
                    7.666666666666667,
                    7.833333333333333,
                    8.5,
                    8.666666666666666,
                    9.5,
                    9.5,
                    9.5,
                    9.333333333333334,
                    9,
                    8.833333333333334,
                    8.333333333333334,
                    8.166666666666666,
                    7.833333333333333,
                    9,
                    9.333333333333334,
                    9,
                    9,
                    8.5,
                    8.5,
                    7.666666666666667,
                    7.666666666666667,
                    8,
                    8.833333333333334,
                    9.166666666666666,
                    9.333333333333334,
                    10.166666666666666,
                    9.5,
                    11.166666666666666,
                    9.333333333333334,
                    9.166666666666666,
                    9.5,
                    9.166666666666666,
                    9.666666666666666,
                    8.833333333333334,
                    9.166666666666666,
                    9.166666666666666,
                    8.833333333333334,
                    9.833333333333334,
                    9.833333333333334,
                    9.333333333333334,
                    9.833333333333334,
                    9.5,
                    10,
                    8.166666666666666,
                    8.666666666666666,
                    8.5,
                    8.333333333333334,
                    9,
                    9,
                    10.333333333333334,
                    10,
                    11.5,
                    11.333333333333334,
                    9.833333333333334,
                    10,
                    9.666666666666666,
                    9.666666666666666,
                    8.833333333333334,
                    8.333333333333334,
                    9.666666666666666,
                    9.166666666666666,
                    7.833333333333333,
                    7.166666666666667,
                    6,
                    7.166666666666667,
                    6.5,
                    7,
                    7.166666666666667,
                    7.333333333333333,
                    7.333333333333333,
                    6.5,
                    6,
                    4.666666666666667,
                    5,
                    4.5,
                    4.166666666666667,
                    4.166666666666667,
                    4.166666666666667,
                    3.5,
                    3.6666666666666665,
                    4.166666666666667,
                    4.5,
                    4.5,
                    4.666666666666667,
                    5.333333333333333,
                    5.333333333333333,
                    4.5,
                    4,
                    3.5,
                    3.5,
                    3.8333333333333335,
                    3.8333333333333335,
                    5,
                    6.166666666666667,
                    6.166666666666667,
                    6.333333333333333,
                    6,
                    5.166666666666667,
                    5.5,
                    5.666666666666667,
                    5.833333333333333,
                    5.666666666666667,
                    5.833333333333333,
                    6.333333333333333,
                    5.333333333333333,
                    5.5,
                    5.666666666666667,
                    6,
                    6.5,
                    6.5,
                    6.666666666666667,
                    6.333333333333333,
                    6,
                    5.666666666666667,
                    4.666666666666667,
                    4.666666666666667,
                    4.5,
                    4.166666666666667,
                    5.166666666666667,
                    5.666666666666667,
                    5.833333333333333,
                    6.333333333333333,
                    6.5,
                    6,
                    5.5,
                    5.166666666666667,
                    5.166666666666667,
                    5,
                    5.166666666666667,
                    5.333333333333333,
                    5.166666666666667,
                    5.333333333333333,
                    6,
                    5.333333333333333,
                    6,
                    6.333333333333333,
                    6.333333333333333,
                    6,
                    5.5,
                    6.166666666666667,
                    5.5,
                    5.333333333333333,
                    5.333333333333333,
                    5.333333333333333,
                    5.666666666666667,
                    5.333333333333333,
                    5.5,
                    5.666666666666667,
                    7,
                    7.166666666666667,
                    6.666666666666667,
                    7,
                    7.166666666666667,
                    6.666666666666667,
                    5,
                    4.833333333333333,
                    4.666666666666667,
                    4.5,
                    3.8333333333333335,
                    4.166666666666667,
                    4.833333333333333,
                    5,
                    5.666666666666667,
                    5.833333333333333,
                    6.333333333333333,
                    6.333333333333333,
                    5.5,
                    5.166666666666667,
                    5,
                    4.833333333333333,
                    4.666666666666667,
                    4.333333333333333,
                    4.666666666666667,
                    4.5,
                    4.333333333333333,
                    3.8333333333333335,
                    3.3333333333333335,
                    4.5,
                    4.166666666666667,
                    4.666666666666667,
                    4.5,
                    5.333333333333333,
                    5.166666666666667,
                    5,
                    5.333333333333333,
                    5.166666666666667,
                    5.333333333333333,
                    4.333333333333333,
                    5.5,
                    4.666666666666667,
                    4.333333333333333,
                    4.166666666666667,
                    4.333333333333333,
                    4.833333333333333,
                    4.166666666666667,
                    4.833333333333333,
                    5,
                    5.166666666666667,
                    4.333333333333333,
                    5.166666666666667,
                    5.833333333333333,
                    5.333333333333333,
                    6.666666666666667,
                    6.166666666666667,
                    7,
                    6.333333333333333,
                    6.166666666666667,
                    6,
                    5.333333333333333,
                    6.666666666666667,
                    6.333333333333333,
                    6.166666666666667,
                    5.5,
                    5.833333333333333,
                    5.833333333333333,
                    4.833333333333333,
                    5,
                    4.833333333333333,
                    5.833333333333333,
                    5.5,
                    4.666666666666667,
                    5,
                    4.833333333333333,
                    4.666666666666667,
                    3.8333333333333335,
                    4,
                    4.333333333333333,
                    3.8333333333333335,
                    3.6666666666666665,
                    4.833333333333333,
                    5,
                    4.833333333333333,
                    5.333333333333333,
                    6,
                    6.666666666666667,
                    5.833333333333333,
                    5.5,
                    5.833333333333333,
                    6.166666666666667,
                    5.833333333333333,
                    5.333333333333333,
                    5.166666666666667,
                    5.5,
                    5.5,
                    5,
                    4.833333333333333,
                    4.833333333333333,
                    4.833333333333333,
                    4.666666666666667,
                    4.5,
                    4.166666666666667,
                    4.333333333333333,
                    4,
                    4.333333333333333,
                    5.166666666666667,
                    5.166666666666667,
                    5.166666666666667,
                    6,
                    6.666666666666667,
                    6.666666666666667,
                    5.166666666666667,
                    5.666666666666667,
                    5.666666666666667,
                    5,
                    4.5,
                    4.5,
                    5.5,
                    4.666666666666667,
                    5,
                    5,
                    5.666666666666667,
                    5.5,
                    5.5,
                    5.833333333333333,
                    5.833333333333333,
                    5.833333333333333,
                    5,
                    5.333333333333333,
                    5.166666666666667,
                    5.333333333333333,
                    4.666666666666667,
                    4.5,
                    5,
                    4.5,
                    4.333333333333333,
                    3.8333333333333335,
                    4.5,
                    4.833333333333333,
                    4.333333333333333,
                    4.5,
                    5,
                    6,
                    6.166666666666667,
                    6.166666666666667,
                    7.333333333333333,
                    7.5,
                    7.5,
                    6.666666666666667,
                    6.166666666666667,
                    6.166666666666667,
                    5.333333333333333,
                    5.333333333333333,
                    5.333333333333333,
                    5.5,
                    6.166666666666667,
                    5.5,
                    6,
                    5.5,
                    4.833333333333333,
                    4.333333333333333,
                    4.333333333333333,
                    5,
                    4.333333333333333,
                    4.833333333333333,
                    4.833333333333333,
                    5.166666666666667,
                    4.333333333333333,
                    4,
                    5.166666666666667,
                    5,
                    5.166666666666667,
                    5.333333333333333,
                    5,
                    5.333333333333333,
                    4.166666666666667,
                    4.333333333333333,
                    4,
                    4.166666666666667,
                    5.166666666666667,
                    5.166666666666667,
                    5.333333333333333,
                    5,
                    5.166666666666667,
                    4.666666666666667,
                    4,
                    3.3333333333333335,
                    3.1666666666666665,
                    3.3333333333333335,
                    3.5,
                    3.6666666666666665,
                    4,
                    3.8333333333333335,
                    4,
                    3.6666666666666665,
                    3.6666666666666665,
                    4,
                    3.6666666666666665,
                    4.166666666666667,
                    4.166666666666667,
                    4.5,
                    4,
                    4,
                    3.8333333333333335,
                    3.6666666666666665,
                    4,
                    4.166666666666667,
                    4,
                    3.5,
                    4,
                    4.166666666666667,
                    4.333333333333333,
                    3.8333333333333335,
                    4.666666666666667,
                    4.833333333333333,
                    5,
                    4.833333333333333,
                    4.333333333333333,
                    4.166666666666667,
                    3.6666666666666665,
                    3.5,
                    3.1666666666666665,
                    3.1666666666666665,
                    3,
                    3.5,
                    3.5,
                    3.8333333333333335,
                    3.3333333333333335,
                    3.6666666666666665,
                    3.6666666666666665,
                    3.3333333333333335,
                    3.3333333333333335,
                    2.8333333333333335,
                    3.5,
                    3,
                    2.8333333333333335,
                    3,
                    3.5,
                    3.5,
                    3.5,
                    3.5,
                    3.3333333333333335,
                    3.1666666666666665,
                    2.6666666666666665,
                    2.8333333333333335,
                    3,
                    3.1666666666666665,
                    3.5,
                    4.166666666666667,
                    4,
                    4.5,
                    4.333333333333333,
                    4.166666666666667,
                    4.666666666666667,
                    4,
                    4.166666666666667,
                    3.6666666666666665,
                    3.8333333333333335,
                    4.166666666666667,
                    4.166666666666667,
                    4.166666666666667,
                    4.166666666666667,
                    4.666666666666667,
                    4.666666666666667,
                    4.666666666666667,
                    4.166666666666667,
                    4.166666666666667,
                    4,
                    4,
                    4,
                    4,
                    4.166666666666667,
                    4.333333333333333,
                    4.666666666666667,
                    4.5,
                    4.5,
                    4.166666666666667,
                    3.6666666666666665,
                    3.6666666666666665,
                    3.8333333333333335,
                    3.6666666666666665,
                    3.3333333333333335,
                    3.6666666666666665,
                    3.8333333333333335,
                    4.333333333333333,
                    4.166666666666667,
                    4.166666666666667,
                    4.333333333333333,
                    4.5,
                    4.5,
                    4,
                    3.5,
                    4,
                    3.8333333333333335,
                    4.166666666666667,
                    3.8333333333333335,
                    3.6666666666666665,
                    4.166666666666667,
                    3.1666666666666665,
                    3.1666666666666665,
                    2.5,
                    2.8333333333333335,
                    3.1666666666666665,
                    3,
                    3.3333333333333335,
                    3.1666666666666665,
                    3.1666666666666665,
                    3.3333333333333335,
                    3.1666666666666665,
                    3.8333333333333335,
                    4.166666666666667,
                    4,
                    3.8333333333333335,
                    3.3333333333333335,
                    3.3333333333333335,
                    2.3333333333333335,
                    2.1666666666666665,
                    2.6666666666666665,
                    3.1666666666666665,
                    3.5,
                    3.5,
                    4,
                    3.8333333333333335,
                    3.1666666666666665,
                    3.1666666666666665,
                    3.3333333333333335,
                    3.5,
                    3.1666666666666665,
                    2.8333333333333335,
                    3.1666666666666665,
                    3.1666666666666665,
                    3.1666666666666665,
                    3.5,
                    4.333333333333333,
                    5,
                    5.333333333333333,
                    5.166666666666667,
                    5,
                    4.166666666666667,
                    4.166666666666667,
                    4.166666666666667,
                    3.6666666666666665,
                    4.333333333333333,
                    4.5,
                    5,
                    4.666666666666667,
                    4.166666666666667,
                    5.166666666666667,
                    4.333333333333333,
                    4.5,
                    5.166666666666667,
                    5,
                    5,
                    4,
                    4.166666666666667,
                    3.8333333333333335,
                    3.6666666666666665,
                    3.5,
                    3.8333333333333335,
                    4.666666666666667,
                    5,
                    5.666666666666667,
                    6.166666666666667,
                    6.666666666666667,
                    7,
                    7.666666666666667,
                    7.333333333333333,
                    7.333333333333333,
                    6.833333333333333,
                    6.666666666666667,
                    7.166666666666667,
                    7.333333333333333,
                    7.833333333333333,
                    7.333333333333333,
                    7.333333333333333,
                    7.166666666666667,
                    6.833333333333333,
                    7,
                    6.666666666666667,
                    7.666666666666667,
                    7.5,
                    8.333333333333334,
                    8.5,
                    8.333333333333334,
                    9.666666666666666,
                    9.333333333333334,
                    10,
                    10.166666666666666,
                    10,
                    9.333333333333334,
                    8.666666666666666,
                    8.166666666666666,
                    7.833333333333333,
                    8,
                    9,
                    10.166666666666666,
                    10,
                    10,
                    10.166666666666666,
                    9.5,
                    8.833333333333334,
                    7.5,
                    8,
                    9.166666666666666,
                    8.833333333333334,
                    8.666666666666666,
                    9.166666666666666,
                    10.666666666666666,
                    10.166666666666666,
                    9.666666666666666,
                    9.833333333333334,
                    9.666666666666666,
                    9.166666666666666,
                    7.666666666666667,
                    8.666666666666666,
                    7.666666666666667
                  ]
                }
              ],
              "layout": {
                "legend": {
                  "tracegroupgap": 0
                },
                "template": {
                  "data": {
                    "bar": [
                      {
                        "error_x": {
                          "color": "#2a3f5f"
                        },
                        "error_y": {
                          "color": "#2a3f5f"
                        },
                        "marker": {
                          "line": {
                            "color": "#E5ECF6",
                            "width": 0.5
                          },
                          "pattern": {
                            "fillmode": "overlay",
                            "size": 10,
                            "solidity": 0.2
                          }
                        },
                        "type": "bar"
                      }
                    ],
                    "barpolar": [
                      {
                        "marker": {
                          "line": {
                            "color": "#E5ECF6",
                            "width": 0.5
                          },
                          "pattern": {
                            "fillmode": "overlay",
                            "size": 10,
                            "solidity": 0.2
                          }
                        },
                        "type": "barpolar"
                      }
                    ],
                    "carpet": [
                      {
                        "aaxis": {
                          "endlinecolor": "#2a3f5f",
                          "gridcolor": "white",
                          "linecolor": "white",
                          "minorgridcolor": "white",
                          "startlinecolor": "#2a3f5f"
                        },
                        "baxis": {
                          "endlinecolor": "#2a3f5f",
                          "gridcolor": "white",
                          "linecolor": "white",
                          "minorgridcolor": "white",
                          "startlinecolor": "#2a3f5f"
                        },
                        "type": "carpet"
                      }
                    ],
                    "choropleth": [
                      {
                        "colorbar": {
                          "outlinewidth": 0,
                          "ticks": ""
                        },
                        "type": "choropleth"
                      }
                    ],
                    "contour": [
                      {
                        "colorbar": {
                          "outlinewidth": 0,
                          "ticks": ""
                        },
                        "colorscale": [
                          [
                            0,
                            "#0d0887"
                          ],
                          [
                            0.1111111111111111,
                            "#46039f"
                          ],
                          [
                            0.2222222222222222,
                            "#7201a8"
                          ],
                          [
                            0.3333333333333333,
                            "#9c179e"
                          ],
                          [
                            0.4444444444444444,
                            "#bd3786"
                          ],
                          [
                            0.5555555555555556,
                            "#d8576b"
                          ],
                          [
                            0.6666666666666666,
                            "#ed7953"
                          ],
                          [
                            0.7777777777777778,
                            "#fb9f3a"
                          ],
                          [
                            0.8888888888888888,
                            "#fdca26"
                          ],
                          [
                            1,
                            "#f0f921"
                          ]
                        ],
                        "type": "contour"
                      }
                    ],
                    "contourcarpet": [
                      {
                        "colorbar": {
                          "outlinewidth": 0,
                          "ticks": ""
                        },
                        "type": "contourcarpet"
                      }
                    ],
                    "heatmap": [
                      {
                        "colorbar": {
                          "outlinewidth": 0,
                          "ticks": ""
                        },
                        "colorscale": [
                          [
                            0,
                            "#0d0887"
                          ],
                          [
                            0.1111111111111111,
                            "#46039f"
                          ],
                          [
                            0.2222222222222222,
                            "#7201a8"
                          ],
                          [
                            0.3333333333333333,
                            "#9c179e"
                          ],
                          [
                            0.4444444444444444,
                            "#bd3786"
                          ],
                          [
                            0.5555555555555556,
                            "#d8576b"
                          ],
                          [
                            0.6666666666666666,
                            "#ed7953"
                          ],
                          [
                            0.7777777777777778,
                            "#fb9f3a"
                          ],
                          [
                            0.8888888888888888,
                            "#fdca26"
                          ],
                          [
                            1,
                            "#f0f921"
                          ]
                        ],
                        "type": "heatmap"
                      }
                    ],
                    "heatmapgl": [
                      {
                        "colorbar": {
                          "outlinewidth": 0,
                          "ticks": ""
                        },
                        "colorscale": [
                          [
                            0,
                            "#0d0887"
                          ],
                          [
                            0.1111111111111111,
                            "#46039f"
                          ],
                          [
                            0.2222222222222222,
                            "#7201a8"
                          ],
                          [
                            0.3333333333333333,
                            "#9c179e"
                          ],
                          [
                            0.4444444444444444,
                            "#bd3786"
                          ],
                          [
                            0.5555555555555556,
                            "#d8576b"
                          ],
                          [
                            0.6666666666666666,
                            "#ed7953"
                          ],
                          [
                            0.7777777777777778,
                            "#fb9f3a"
                          ],
                          [
                            0.8888888888888888,
                            "#fdca26"
                          ],
                          [
                            1,
                            "#f0f921"
                          ]
                        ],
                        "type": "heatmapgl"
                      }
                    ],
                    "histogram": [
                      {
                        "marker": {
                          "pattern": {
                            "fillmode": "overlay",
                            "size": 10,
                            "solidity": 0.2
                          }
                        },
                        "type": "histogram"
                      }
                    ],
                    "histogram2d": [
                      {
                        "colorbar": {
                          "outlinewidth": 0,
                          "ticks": ""
                        },
                        "colorscale": [
                          [
                            0,
                            "#0d0887"
                          ],
                          [
                            0.1111111111111111,
                            "#46039f"
                          ],
                          [
                            0.2222222222222222,
                            "#7201a8"
                          ],
                          [
                            0.3333333333333333,
                            "#9c179e"
                          ],
                          [
                            0.4444444444444444,
                            "#bd3786"
                          ],
                          [
                            0.5555555555555556,
                            "#d8576b"
                          ],
                          [
                            0.6666666666666666,
                            "#ed7953"
                          ],
                          [
                            0.7777777777777778,
                            "#fb9f3a"
                          ],
                          [
                            0.8888888888888888,
                            "#fdca26"
                          ],
                          [
                            1,
                            "#f0f921"
                          ]
                        ],
                        "type": "histogram2d"
                      }
                    ],
                    "histogram2dcontour": [
                      {
                        "colorbar": {
                          "outlinewidth": 0,
                          "ticks": ""
                        },
                        "colorscale": [
                          [
                            0,
                            "#0d0887"
                          ],
                          [
                            0.1111111111111111,
                            "#46039f"
                          ],
                          [
                            0.2222222222222222,
                            "#7201a8"
                          ],
                          [
                            0.3333333333333333,
                            "#9c179e"
                          ],
                          [
                            0.4444444444444444,
                            "#bd3786"
                          ],
                          [
                            0.5555555555555556,
                            "#d8576b"
                          ],
                          [
                            0.6666666666666666,
                            "#ed7953"
                          ],
                          [
                            0.7777777777777778,
                            "#fb9f3a"
                          ],
                          [
                            0.8888888888888888,
                            "#fdca26"
                          ],
                          [
                            1,
                            "#f0f921"
                          ]
                        ],
                        "type": "histogram2dcontour"
                      }
                    ],
                    "mesh3d": [
                      {
                        "colorbar": {
                          "outlinewidth": 0,
                          "ticks": ""
                        },
                        "type": "mesh3d"
                      }
                    ],
                    "parcoords": [
                      {
                        "line": {
                          "colorbar": {
                            "outlinewidth": 0,
                            "ticks": ""
                          }
                        },
                        "type": "parcoords"
                      }
                    ],
                    "pie": [
                      {
                        "automargin": true,
                        "type": "pie"
                      }
                    ],
                    "scatter": [
                      {
                        "fillpattern": {
                          "fillmode": "overlay",
                          "size": 10,
                          "solidity": 0.2
                        },
                        "type": "scatter"
                      }
                    ],
                    "scatter3d": [
                      {
                        "line": {
                          "colorbar": {
                            "outlinewidth": 0,
                            "ticks": ""
                          }
                        },
                        "marker": {
                          "colorbar": {
                            "outlinewidth": 0,
                            "ticks": ""
                          }
                        },
                        "type": "scatter3d"
                      }
                    ],
                    "scattercarpet": [
                      {
                        "marker": {
                          "colorbar": {
                            "outlinewidth": 0,
                            "ticks": ""
                          }
                        },
                        "type": "scattercarpet"
                      }
                    ],
                    "scattergeo": [
                      {
                        "marker": {
                          "colorbar": {
                            "outlinewidth": 0,
                            "ticks": ""
                          }
                        },
                        "type": "scattergeo"
                      }
                    ],
                    "scattergl": [
                      {
                        "marker": {
                          "colorbar": {
                            "outlinewidth": 0,
                            "ticks": ""
                          }
                        },
                        "type": "scattergl"
                      }
                    ],
                    "scattermapbox": [
                      {
                        "marker": {
                          "colorbar": {
                            "outlinewidth": 0,
                            "ticks": ""
                          }
                        },
                        "type": "scattermapbox"
                      }
                    ],
                    "scatterpolar": [
                      {
                        "marker": {
                          "colorbar": {
                            "outlinewidth": 0,
                            "ticks": ""
                          }
                        },
                        "type": "scatterpolar"
                      }
                    ],
                    "scatterpolargl": [
                      {
                        "marker": {
                          "colorbar": {
                            "outlinewidth": 0,
                            "ticks": ""
                          }
                        },
                        "type": "scatterpolargl"
                      }
                    ],
                    "scatterternary": [
                      {
                        "marker": {
                          "colorbar": {
                            "outlinewidth": 0,
                            "ticks": ""
                          }
                        },
                        "type": "scatterternary"
                      }
                    ],
                    "surface": [
                      {
                        "colorbar": {
                          "outlinewidth": 0,
                          "ticks": ""
                        },
                        "colorscale": [
                          [
                            0,
                            "#0d0887"
                          ],
                          [
                            0.1111111111111111,
                            "#46039f"
                          ],
                          [
                            0.2222222222222222,
                            "#7201a8"
                          ],
                          [
                            0.3333333333333333,
                            "#9c179e"
                          ],
                          [
                            0.4444444444444444,
                            "#bd3786"
                          ],
                          [
                            0.5555555555555556,
                            "#d8576b"
                          ],
                          [
                            0.6666666666666666,
                            "#ed7953"
                          ],
                          [
                            0.7777777777777778,
                            "#fb9f3a"
                          ],
                          [
                            0.8888888888888888,
                            "#fdca26"
                          ],
                          [
                            1,
                            "#f0f921"
                          ]
                        ],
                        "type": "surface"
                      }
                    ],
                    "table": [
                      {
                        "cells": {
                          "fill": {
                            "color": "#EBF0F8"
                          },
                          "line": {
                            "color": "white"
                          }
                        },
                        "header": {
                          "fill": {
                            "color": "#C8D4E3"
                          },
                          "line": {
                            "color": "white"
                          }
                        },
                        "type": "table"
                      }
                    ]
                  },
                  "layout": {
                    "annotationdefaults": {
                      "arrowcolor": "#2a3f5f",
                      "arrowhead": 0,
                      "arrowwidth": 1
                    },
                    "autotypenumbers": "strict",
                    "coloraxis": {
                      "colorbar": {
                        "outlinewidth": 0,
                        "ticks": ""
                      }
                    },
                    "colorscale": {
                      "diverging": [
                        [
                          0,
                          "#8e0152"
                        ],
                        [
                          0.1,
                          "#c51b7d"
                        ],
                        [
                          0.2,
                          "#de77ae"
                        ],
                        [
                          0.3,
                          "#f1b6da"
                        ],
                        [
                          0.4,
                          "#fde0ef"
                        ],
                        [
                          0.5,
                          "#f7f7f7"
                        ],
                        [
                          0.6,
                          "#e6f5d0"
                        ],
                        [
                          0.7,
                          "#b8e186"
                        ],
                        [
                          0.8,
                          "#7fbc41"
                        ],
                        [
                          0.9,
                          "#4d9221"
                        ],
                        [
                          1,
                          "#276419"
                        ]
                      ],
                      "sequential": [
                        [
                          0,
                          "#0d0887"
                        ],
                        [
                          0.1111111111111111,
                          "#46039f"
                        ],
                        [
                          0.2222222222222222,
                          "#7201a8"
                        ],
                        [
                          0.3333333333333333,
                          "#9c179e"
                        ],
                        [
                          0.4444444444444444,
                          "#bd3786"
                        ],
                        [
                          0.5555555555555556,
                          "#d8576b"
                        ],
                        [
                          0.6666666666666666,
                          "#ed7953"
                        ],
                        [
                          0.7777777777777778,
                          "#fb9f3a"
                        ],
                        [
                          0.8888888888888888,
                          "#fdca26"
                        ],
                        [
                          1,
                          "#f0f921"
                        ]
                      ],
                      "sequentialminus": [
                        [
                          0,
                          "#0d0887"
                        ],
                        [
                          0.1111111111111111,
                          "#46039f"
                        ],
                        [
                          0.2222222222222222,
                          "#7201a8"
                        ],
                        [
                          0.3333333333333333,
                          "#9c179e"
                        ],
                        [
                          0.4444444444444444,
                          "#bd3786"
                        ],
                        [
                          0.5555555555555556,
                          "#d8576b"
                        ],
                        [
                          0.6666666666666666,
                          "#ed7953"
                        ],
                        [
                          0.7777777777777778,
                          "#fb9f3a"
                        ],
                        [
                          0.8888888888888888,
                          "#fdca26"
                        ],
                        [
                          1,
                          "#f0f921"
                        ]
                      ]
                    },
                    "colorway": [
                      "#636efa",
                      "#EF553B",
                      "#00cc96",
                      "#ab63fa",
                      "#FFA15A",
                      "#19d3f3",
                      "#FF6692",
                      "#B6E880",
                      "#FF97FF",
                      "#FECB52"
                    ],
                    "font": {
                      "color": "#2a3f5f"
                    },
                    "geo": {
                      "bgcolor": "white",
                      "lakecolor": "white",
                      "landcolor": "#E5ECF6",
                      "showlakes": true,
                      "showland": true,
                      "subunitcolor": "white"
                    },
                    "hoverlabel": {
                      "align": "left"
                    },
                    "hovermode": "closest",
                    "mapbox": {
                      "style": "light"
                    },
                    "paper_bgcolor": "white",
                    "plot_bgcolor": "#E5ECF6",
                    "polar": {
                      "angularaxis": {
                        "gridcolor": "white",
                        "linecolor": "white",
                        "ticks": ""
                      },
                      "bgcolor": "#E5ECF6",
                      "radialaxis": {
                        "gridcolor": "white",
                        "linecolor": "white",
                        "ticks": ""
                      }
                    },
                    "scene": {
                      "xaxis": {
                        "backgroundcolor": "#E5ECF6",
                        "gridcolor": "white",
                        "gridwidth": 2,
                        "linecolor": "white",
                        "showbackground": true,
                        "ticks": "",
                        "zerolinecolor": "white"
                      },
                      "yaxis": {
                        "backgroundcolor": "#E5ECF6",
                        "gridcolor": "white",
                        "gridwidth": 2,
                        "linecolor": "white",
                        "showbackground": true,
                        "ticks": "",
                        "zerolinecolor": "white"
                      },
                      "zaxis": {
                        "backgroundcolor": "#E5ECF6",
                        "gridcolor": "white",
                        "gridwidth": 2,
                        "linecolor": "white",
                        "showbackground": true,
                        "ticks": "",
                        "zerolinecolor": "white"
                      }
                    },
                    "shapedefaults": {
                      "line": {
                        "color": "#2a3f5f"
                      }
                    },
                    "ternary": {
                      "aaxis": {
                        "gridcolor": "white",
                        "linecolor": "white",
                        "ticks": ""
                      },
                      "baxis": {
                        "gridcolor": "white",
                        "linecolor": "white",
                        "ticks": ""
                      },
                      "bgcolor": "#E5ECF6",
                      "caxis": {
                        "gridcolor": "white",
                        "linecolor": "white",
                        "ticks": ""
                      }
                    },
                    "title": {
                      "x": 0.05
                    },
                    "xaxis": {
                      "automargin": true,
                      "gridcolor": "white",
                      "linecolor": "white",
                      "ticks": "",
                      "title": {
                        "standoff": 15
                      },
                      "zerolinecolor": "white",
                      "zerolinewidth": 2
                    },
                    "yaxis": {
                      "automargin": true,
                      "gridcolor": "white",
                      "linecolor": "white",
                      "ticks": "",
                      "title": {
                        "standoff": 15
                      },
                      "zerolinecolor": "white",
                      "zerolinewidth": 2
                    }
                  }
                },
                "title": {
                  "text": "Number of Launches per Month"
                },
                "xaxis": {
                  "anchor": "y",
                  "domain": [
                    0,
                    1
                  ],
                  "title": {
                    "text": "Month"
                  }
                },
                "yaxis": {
                  "anchor": "x",
                  "domain": [
                    0,
                    1
                  ],
                  "title": {
                    "text": "Number of Launches"
                  }
                }
              }
            }
          },
          "metadata": {},
          "output_type": "display_data"
        }
      ],
      "source": [
        "\n",
        "launchpermonth['rolling_average'] = launchpermonth['Rocket_Status'].rolling(window=6).mean()\n",
        "fig = px.line(launchpermonth, \n",
        "              x='Month', \n",
        "              y='Rocket_Status', \n",
        "              labels={'Month':'Month','Rocket_Status':'Number of Launches'},\n",
        "              title='Number of Launches per Month')\n",
        "rolling_average_trace = go.Scatter(x=launchpermonth['Month'], \n",
        "                                   y=launchpermonth['rolling_average'],\n",
        "                                   mode='lines',\n",
        "                                   line=dict(color='black', width=2))\n",
        "fig.add_trace(rolling_average_trace)\n",
        "fig.show()"
      ]
    },
    {
      "cell_type": "code",
      "execution_count": null,
      "metadata": {},
      "outputs": [],
      "source": []
    },
    {
      "cell_type": "markdown",
      "metadata": {
        "id": "t-avMIZoa-qh",
        "papermill": {
          "duration": 0.044409,
          "end_time": "2020-10-20T21:34:10.162592",
          "exception": false,
          "start_time": "2020-10-20T21:34:10.118183",
          "status": "completed"
        },
        "tags": []
      },
      "source": [
        "# Launches per Month: Which months are most popular and least popular for launches?\n",
        "\n",
        "Some months have better weather than others. Which time of year seems to be best for space missions?"
      ]
    },
    {
      "cell_type": "code",
      "execution_count": 206,
      "metadata": {
        "id": "zmtp5uBHppFG"
      },
      "outputs": [
        {
          "data": {
            "text/html": [
              "<div>\n",
              "<style scoped>\n",
              "    .dataframe tbody tr th:only-of-type {\n",
              "        vertical-align: middle;\n",
              "    }\n",
              "\n",
              "    .dataframe tbody tr th {\n",
              "        vertical-align: top;\n",
              "    }\n",
              "\n",
              "    .dataframe thead th {\n",
              "        text-align: right;\n",
              "    }\n",
              "</style>\n",
              "<table border=\"1\" class=\"dataframe\">\n",
              "  <thead>\n",
              "    <tr style=\"text-align: right;\">\n",
              "      <th></th>\n",
              "      <th>justmonth</th>\n",
              "      <th>Rocket_Status</th>\n",
              "    </tr>\n",
              "  </thead>\n",
              "  <tbody>\n",
              "    <tr>\n",
              "      <th>0</th>\n",
              "      <td>1</td>\n",
              "      <td>268</td>\n",
              "    </tr>\n",
              "    <tr>\n",
              "      <th>4</th>\n",
              "      <td>5</td>\n",
              "      <td>326</td>\n",
              "    </tr>\n",
              "    <tr>\n",
              "      <th>10</th>\n",
              "      <td>11</td>\n",
              "      <td>335</td>\n",
              "    </tr>\n",
              "    <tr>\n",
              "      <th>1</th>\n",
              "      <td>2</td>\n",
              "      <td>336</td>\n",
              "    </tr>\n",
              "    <tr>\n",
              "      <th>6</th>\n",
              "      <td>7</td>\n",
              "      <td>351</td>\n",
              "    </tr>\n",
              "    <tr>\n",
              "      <th>2</th>\n",
              "      <td>3</td>\n",
              "      <td>353</td>\n",
              "    </tr>\n",
              "    <tr>\n",
              "      <th>8</th>\n",
              "      <td>9</td>\n",
              "      <td>365</td>\n",
              "    </tr>\n",
              "    <tr>\n",
              "      <th>7</th>\n",
              "      <td>8</td>\n",
              "      <td>373</td>\n",
              "    </tr>\n",
              "    <tr>\n",
              "      <th>9</th>\n",
              "      <td>10</td>\n",
              "      <td>381</td>\n",
              "    </tr>\n",
              "    <tr>\n",
              "      <th>3</th>\n",
              "      <td>4</td>\n",
              "      <td>383</td>\n",
              "    </tr>\n",
              "    <tr>\n",
              "      <th>5</th>\n",
              "      <td>6</td>\n",
              "      <td>402</td>\n",
              "    </tr>\n",
              "    <tr>\n",
              "      <th>11</th>\n",
              "      <td>12</td>\n",
              "      <td>450</td>\n",
              "    </tr>\n",
              "  </tbody>\n",
              "</table>\n",
              "</div>"
            ],
            "text/plain": [
              "    justmonth  Rocket_Status\n",
              "0           1            268\n",
              "4           5            326\n",
              "10         11            335\n",
              "1           2            336\n",
              "6           7            351\n",
              "2           3            353\n",
              "8           9            365\n",
              "7           8            373\n",
              "9          10            381\n",
              "3           4            383\n",
              "5           6            402\n",
              "11         12            450"
            ]
          },
          "execution_count": 206,
          "metadata": {},
          "output_type": "execute_result"
        }
      ],
      "source": [
        "spacedf['justmonth'] = spacedf['Date'].dt.month\n",
        "monthpopularity = spacedf.groupby([\"justmonth\"],as_index=False).agg({'Rocket_Status': pd.Series.count}).sort_values(by='Rocket_Status', ascending=True)\n",
        "monthpopularity\n"
      ]
    },
    {
      "cell_type": "code",
      "execution_count": 207,
      "metadata": {
        "id": "fnk2m_cpppJo"
      },
      "outputs": [
        {
          "data": {
            "application/vnd.plotly.v1+json": {
              "config": {
                "plotlyServerURL": "https://plot.ly"
              },
              "data": [
                {
                  "domain": {
                    "x": [
                      0,
                      1
                    ],
                    "y": [
                      0,
                      1
                    ]
                  },
                  "hovertemplate": "label=%{label}<br>value=%{value}<extra></extra>",
                  "labels": [
                    1,
                    5,
                    11,
                    2,
                    7,
                    3,
                    9,
                    8,
                    10,
                    4,
                    6,
                    12
                  ],
                  "legendgroup": "",
                  "name": "",
                  "showlegend": true,
                  "type": "pie",
                  "values": [
                    268,
                    326,
                    335,
                    336,
                    351,
                    353,
                    365,
                    373,
                    381,
                    383,
                    402,
                    450
                  ]
                }
              ],
              "layout": {
                "legend": {
                  "tracegroupgap": 0
                },
                "margin": {
                  "t": 60
                },
                "showlegend": true,
                "template": {
                  "data": {
                    "bar": [
                      {
                        "error_x": {
                          "color": "#2a3f5f"
                        },
                        "error_y": {
                          "color": "#2a3f5f"
                        },
                        "marker": {
                          "line": {
                            "color": "#E5ECF6",
                            "width": 0.5
                          },
                          "pattern": {
                            "fillmode": "overlay",
                            "size": 10,
                            "solidity": 0.2
                          }
                        },
                        "type": "bar"
                      }
                    ],
                    "barpolar": [
                      {
                        "marker": {
                          "line": {
                            "color": "#E5ECF6",
                            "width": 0.5
                          },
                          "pattern": {
                            "fillmode": "overlay",
                            "size": 10,
                            "solidity": 0.2
                          }
                        },
                        "type": "barpolar"
                      }
                    ],
                    "carpet": [
                      {
                        "aaxis": {
                          "endlinecolor": "#2a3f5f",
                          "gridcolor": "white",
                          "linecolor": "white",
                          "minorgridcolor": "white",
                          "startlinecolor": "#2a3f5f"
                        },
                        "baxis": {
                          "endlinecolor": "#2a3f5f",
                          "gridcolor": "white",
                          "linecolor": "white",
                          "minorgridcolor": "white",
                          "startlinecolor": "#2a3f5f"
                        },
                        "type": "carpet"
                      }
                    ],
                    "choropleth": [
                      {
                        "colorbar": {
                          "outlinewidth": 0,
                          "ticks": ""
                        },
                        "type": "choropleth"
                      }
                    ],
                    "contour": [
                      {
                        "colorbar": {
                          "outlinewidth": 0,
                          "ticks": ""
                        },
                        "colorscale": [
                          [
                            0,
                            "#0d0887"
                          ],
                          [
                            0.1111111111111111,
                            "#46039f"
                          ],
                          [
                            0.2222222222222222,
                            "#7201a8"
                          ],
                          [
                            0.3333333333333333,
                            "#9c179e"
                          ],
                          [
                            0.4444444444444444,
                            "#bd3786"
                          ],
                          [
                            0.5555555555555556,
                            "#d8576b"
                          ],
                          [
                            0.6666666666666666,
                            "#ed7953"
                          ],
                          [
                            0.7777777777777778,
                            "#fb9f3a"
                          ],
                          [
                            0.8888888888888888,
                            "#fdca26"
                          ],
                          [
                            1,
                            "#f0f921"
                          ]
                        ],
                        "type": "contour"
                      }
                    ],
                    "contourcarpet": [
                      {
                        "colorbar": {
                          "outlinewidth": 0,
                          "ticks": ""
                        },
                        "type": "contourcarpet"
                      }
                    ],
                    "heatmap": [
                      {
                        "colorbar": {
                          "outlinewidth": 0,
                          "ticks": ""
                        },
                        "colorscale": [
                          [
                            0,
                            "#0d0887"
                          ],
                          [
                            0.1111111111111111,
                            "#46039f"
                          ],
                          [
                            0.2222222222222222,
                            "#7201a8"
                          ],
                          [
                            0.3333333333333333,
                            "#9c179e"
                          ],
                          [
                            0.4444444444444444,
                            "#bd3786"
                          ],
                          [
                            0.5555555555555556,
                            "#d8576b"
                          ],
                          [
                            0.6666666666666666,
                            "#ed7953"
                          ],
                          [
                            0.7777777777777778,
                            "#fb9f3a"
                          ],
                          [
                            0.8888888888888888,
                            "#fdca26"
                          ],
                          [
                            1,
                            "#f0f921"
                          ]
                        ],
                        "type": "heatmap"
                      }
                    ],
                    "heatmapgl": [
                      {
                        "colorbar": {
                          "outlinewidth": 0,
                          "ticks": ""
                        },
                        "colorscale": [
                          [
                            0,
                            "#0d0887"
                          ],
                          [
                            0.1111111111111111,
                            "#46039f"
                          ],
                          [
                            0.2222222222222222,
                            "#7201a8"
                          ],
                          [
                            0.3333333333333333,
                            "#9c179e"
                          ],
                          [
                            0.4444444444444444,
                            "#bd3786"
                          ],
                          [
                            0.5555555555555556,
                            "#d8576b"
                          ],
                          [
                            0.6666666666666666,
                            "#ed7953"
                          ],
                          [
                            0.7777777777777778,
                            "#fb9f3a"
                          ],
                          [
                            0.8888888888888888,
                            "#fdca26"
                          ],
                          [
                            1,
                            "#f0f921"
                          ]
                        ],
                        "type": "heatmapgl"
                      }
                    ],
                    "histogram": [
                      {
                        "marker": {
                          "pattern": {
                            "fillmode": "overlay",
                            "size": 10,
                            "solidity": 0.2
                          }
                        },
                        "type": "histogram"
                      }
                    ],
                    "histogram2d": [
                      {
                        "colorbar": {
                          "outlinewidth": 0,
                          "ticks": ""
                        },
                        "colorscale": [
                          [
                            0,
                            "#0d0887"
                          ],
                          [
                            0.1111111111111111,
                            "#46039f"
                          ],
                          [
                            0.2222222222222222,
                            "#7201a8"
                          ],
                          [
                            0.3333333333333333,
                            "#9c179e"
                          ],
                          [
                            0.4444444444444444,
                            "#bd3786"
                          ],
                          [
                            0.5555555555555556,
                            "#d8576b"
                          ],
                          [
                            0.6666666666666666,
                            "#ed7953"
                          ],
                          [
                            0.7777777777777778,
                            "#fb9f3a"
                          ],
                          [
                            0.8888888888888888,
                            "#fdca26"
                          ],
                          [
                            1,
                            "#f0f921"
                          ]
                        ],
                        "type": "histogram2d"
                      }
                    ],
                    "histogram2dcontour": [
                      {
                        "colorbar": {
                          "outlinewidth": 0,
                          "ticks": ""
                        },
                        "colorscale": [
                          [
                            0,
                            "#0d0887"
                          ],
                          [
                            0.1111111111111111,
                            "#46039f"
                          ],
                          [
                            0.2222222222222222,
                            "#7201a8"
                          ],
                          [
                            0.3333333333333333,
                            "#9c179e"
                          ],
                          [
                            0.4444444444444444,
                            "#bd3786"
                          ],
                          [
                            0.5555555555555556,
                            "#d8576b"
                          ],
                          [
                            0.6666666666666666,
                            "#ed7953"
                          ],
                          [
                            0.7777777777777778,
                            "#fb9f3a"
                          ],
                          [
                            0.8888888888888888,
                            "#fdca26"
                          ],
                          [
                            1,
                            "#f0f921"
                          ]
                        ],
                        "type": "histogram2dcontour"
                      }
                    ],
                    "mesh3d": [
                      {
                        "colorbar": {
                          "outlinewidth": 0,
                          "ticks": ""
                        },
                        "type": "mesh3d"
                      }
                    ],
                    "parcoords": [
                      {
                        "line": {
                          "colorbar": {
                            "outlinewidth": 0,
                            "ticks": ""
                          }
                        },
                        "type": "parcoords"
                      }
                    ],
                    "pie": [
                      {
                        "automargin": true,
                        "type": "pie"
                      }
                    ],
                    "scatter": [
                      {
                        "fillpattern": {
                          "fillmode": "overlay",
                          "size": 10,
                          "solidity": 0.2
                        },
                        "type": "scatter"
                      }
                    ],
                    "scatter3d": [
                      {
                        "line": {
                          "colorbar": {
                            "outlinewidth": 0,
                            "ticks": ""
                          }
                        },
                        "marker": {
                          "colorbar": {
                            "outlinewidth": 0,
                            "ticks": ""
                          }
                        },
                        "type": "scatter3d"
                      }
                    ],
                    "scattercarpet": [
                      {
                        "marker": {
                          "colorbar": {
                            "outlinewidth": 0,
                            "ticks": ""
                          }
                        },
                        "type": "scattercarpet"
                      }
                    ],
                    "scattergeo": [
                      {
                        "marker": {
                          "colorbar": {
                            "outlinewidth": 0,
                            "ticks": ""
                          }
                        },
                        "type": "scattergeo"
                      }
                    ],
                    "scattergl": [
                      {
                        "marker": {
                          "colorbar": {
                            "outlinewidth": 0,
                            "ticks": ""
                          }
                        },
                        "type": "scattergl"
                      }
                    ],
                    "scattermapbox": [
                      {
                        "marker": {
                          "colorbar": {
                            "outlinewidth": 0,
                            "ticks": ""
                          }
                        },
                        "type": "scattermapbox"
                      }
                    ],
                    "scatterpolar": [
                      {
                        "marker": {
                          "colorbar": {
                            "outlinewidth": 0,
                            "ticks": ""
                          }
                        },
                        "type": "scatterpolar"
                      }
                    ],
                    "scatterpolargl": [
                      {
                        "marker": {
                          "colorbar": {
                            "outlinewidth": 0,
                            "ticks": ""
                          }
                        },
                        "type": "scatterpolargl"
                      }
                    ],
                    "scatterternary": [
                      {
                        "marker": {
                          "colorbar": {
                            "outlinewidth": 0,
                            "ticks": ""
                          }
                        },
                        "type": "scatterternary"
                      }
                    ],
                    "surface": [
                      {
                        "colorbar": {
                          "outlinewidth": 0,
                          "ticks": ""
                        },
                        "colorscale": [
                          [
                            0,
                            "#0d0887"
                          ],
                          [
                            0.1111111111111111,
                            "#46039f"
                          ],
                          [
                            0.2222222222222222,
                            "#7201a8"
                          ],
                          [
                            0.3333333333333333,
                            "#9c179e"
                          ],
                          [
                            0.4444444444444444,
                            "#bd3786"
                          ],
                          [
                            0.5555555555555556,
                            "#d8576b"
                          ],
                          [
                            0.6666666666666666,
                            "#ed7953"
                          ],
                          [
                            0.7777777777777778,
                            "#fb9f3a"
                          ],
                          [
                            0.8888888888888888,
                            "#fdca26"
                          ],
                          [
                            1,
                            "#f0f921"
                          ]
                        ],
                        "type": "surface"
                      }
                    ],
                    "table": [
                      {
                        "cells": {
                          "fill": {
                            "color": "#EBF0F8"
                          },
                          "line": {
                            "color": "white"
                          }
                        },
                        "header": {
                          "fill": {
                            "color": "#C8D4E3"
                          },
                          "line": {
                            "color": "white"
                          }
                        },
                        "type": "table"
                      }
                    ]
                  },
                  "layout": {
                    "annotationdefaults": {
                      "arrowcolor": "#2a3f5f",
                      "arrowhead": 0,
                      "arrowwidth": 1
                    },
                    "autotypenumbers": "strict",
                    "coloraxis": {
                      "colorbar": {
                        "outlinewidth": 0,
                        "ticks": ""
                      }
                    },
                    "colorscale": {
                      "diverging": [
                        [
                          0,
                          "#8e0152"
                        ],
                        [
                          0.1,
                          "#c51b7d"
                        ],
                        [
                          0.2,
                          "#de77ae"
                        ],
                        [
                          0.3,
                          "#f1b6da"
                        ],
                        [
                          0.4,
                          "#fde0ef"
                        ],
                        [
                          0.5,
                          "#f7f7f7"
                        ],
                        [
                          0.6,
                          "#e6f5d0"
                        ],
                        [
                          0.7,
                          "#b8e186"
                        ],
                        [
                          0.8,
                          "#7fbc41"
                        ],
                        [
                          0.9,
                          "#4d9221"
                        ],
                        [
                          1,
                          "#276419"
                        ]
                      ],
                      "sequential": [
                        [
                          0,
                          "#0d0887"
                        ],
                        [
                          0.1111111111111111,
                          "#46039f"
                        ],
                        [
                          0.2222222222222222,
                          "#7201a8"
                        ],
                        [
                          0.3333333333333333,
                          "#9c179e"
                        ],
                        [
                          0.4444444444444444,
                          "#bd3786"
                        ],
                        [
                          0.5555555555555556,
                          "#d8576b"
                        ],
                        [
                          0.6666666666666666,
                          "#ed7953"
                        ],
                        [
                          0.7777777777777778,
                          "#fb9f3a"
                        ],
                        [
                          0.8888888888888888,
                          "#fdca26"
                        ],
                        [
                          1,
                          "#f0f921"
                        ]
                      ],
                      "sequentialminus": [
                        [
                          0,
                          "#0d0887"
                        ],
                        [
                          0.1111111111111111,
                          "#46039f"
                        ],
                        [
                          0.2222222222222222,
                          "#7201a8"
                        ],
                        [
                          0.3333333333333333,
                          "#9c179e"
                        ],
                        [
                          0.4444444444444444,
                          "#bd3786"
                        ],
                        [
                          0.5555555555555556,
                          "#d8576b"
                        ],
                        [
                          0.6666666666666666,
                          "#ed7953"
                        ],
                        [
                          0.7777777777777778,
                          "#fb9f3a"
                        ],
                        [
                          0.8888888888888888,
                          "#fdca26"
                        ],
                        [
                          1,
                          "#f0f921"
                        ]
                      ]
                    },
                    "colorway": [
                      "#636efa",
                      "#EF553B",
                      "#00cc96",
                      "#ab63fa",
                      "#FFA15A",
                      "#19d3f3",
                      "#FF6692",
                      "#B6E880",
                      "#FF97FF",
                      "#FECB52"
                    ],
                    "font": {
                      "color": "#2a3f5f"
                    },
                    "geo": {
                      "bgcolor": "white",
                      "lakecolor": "white",
                      "landcolor": "#E5ECF6",
                      "showlakes": true,
                      "showland": true,
                      "subunitcolor": "white"
                    },
                    "hoverlabel": {
                      "align": "left"
                    },
                    "hovermode": "closest",
                    "mapbox": {
                      "style": "light"
                    },
                    "paper_bgcolor": "white",
                    "plot_bgcolor": "#E5ECF6",
                    "polar": {
                      "angularaxis": {
                        "gridcolor": "white",
                        "linecolor": "white",
                        "ticks": ""
                      },
                      "bgcolor": "#E5ECF6",
                      "radialaxis": {
                        "gridcolor": "white",
                        "linecolor": "white",
                        "ticks": ""
                      }
                    },
                    "scene": {
                      "xaxis": {
                        "backgroundcolor": "#E5ECF6",
                        "gridcolor": "white",
                        "gridwidth": 2,
                        "linecolor": "white",
                        "showbackground": true,
                        "ticks": "",
                        "zerolinecolor": "white"
                      },
                      "yaxis": {
                        "backgroundcolor": "#E5ECF6",
                        "gridcolor": "white",
                        "gridwidth": 2,
                        "linecolor": "white",
                        "showbackground": true,
                        "ticks": "",
                        "zerolinecolor": "white"
                      },
                      "zaxis": {
                        "backgroundcolor": "#E5ECF6",
                        "gridcolor": "white",
                        "gridwidth": 2,
                        "linecolor": "white",
                        "showbackground": true,
                        "ticks": "",
                        "zerolinecolor": "white"
                      }
                    },
                    "shapedefaults": {
                      "line": {
                        "color": "#2a3f5f"
                      }
                    },
                    "ternary": {
                      "aaxis": {
                        "gridcolor": "white",
                        "linecolor": "white",
                        "ticks": ""
                      },
                      "baxis": {
                        "gridcolor": "white",
                        "linecolor": "white",
                        "ticks": ""
                      },
                      "bgcolor": "#E5ECF6",
                      "caxis": {
                        "gridcolor": "white",
                        "linecolor": "white",
                        "ticks": ""
                      }
                    },
                    "title": {
                      "x": 0.05
                    },
                    "xaxis": {
                      "automargin": true,
                      "gridcolor": "white",
                      "linecolor": "white",
                      "ticks": "",
                      "title": {
                        "standoff": 15
                      },
                      "zerolinecolor": "white",
                      "zerolinewidth": 2
                    },
                    "yaxis": {
                      "automargin": true,
                      "gridcolor": "white",
                      "linecolor": "white",
                      "ticks": "",
                      "title": {
                        "standoff": 15
                      },
                      "zerolinecolor": "white",
                      "zerolinewidth": 2
                    }
                  }
                }
              }
            }
          },
          "metadata": {},
          "output_type": "display_data"
        }
      ],
      "source": [
        "fig = px.pie(values = monthpopularity['Rocket_Status'], labels=monthpopularity['justmonth'],names=monthpopularity['justmonth'])\n",
        "fig.update_layout(showlegend = True)\n",
        "fig.show()"
      ]
    },
    {
      "cell_type": "markdown",
      "metadata": {
        "id": "dPQ_N_sfa-qo",
        "papermill": {
          "duration": 0.067915,
          "end_time": "2020-10-20T21:34:11.122539",
          "exception": false,
          "start_time": "2020-10-20T21:34:11.054624",
          "status": "completed"
        },
        "tags": []
      },
      "source": [
        "# How has the Launch Price varied Over Time? \n",
        "\n",
        "Create a line chart that shows the average price of rocket launches over time. "
      ]
    },
    {
      "cell_type": "code",
      "execution_count": 208,
      "metadata": {
        "id": "hFc-2M5-qCrv"
      },
      "outputs": [],
      "source": [
        "#removednoprice2 = spacedf.dropna(subset=['Price'])\n",
        "#removednoprice2['Price'] = pd.to_numeric(removednoprice['Price'], errors='coerce')\n",
        "#removednoprice2['Price']\n",
        "\n",
        "#removednoprice2 = removednoprice2.groupby([\"Year\"],as_index=False).agg({'Price': pd.Series.mean})\n",
        "#removednoprice2"
      ]
    },
    {
      "cell_type": "code",
      "execution_count": 209,
      "metadata": {
        "id": "ggYFiAsEqC6J"
      },
      "outputs": [
        {
          "data": {
            "application/vnd.plotly.v1+json": {
              "config": {
                "plotlyServerURL": "https://plot.ly"
              },
              "data": [
                {
                  "hovertemplate": "Year=%{x}<br>Average cost of a launch=%{y}<extra></extra>",
                  "legendgroup": "",
                  "line": {
                    "color": "#636efa",
                    "dash": "solid"
                  },
                  "marker": {
                    "symbol": "circle"
                  },
                  "mode": "lines",
                  "name": "",
                  "orientation": "v",
                  "showlegend": false,
                  "type": "scatter",
                  "x": [
                    1964,
                    1965,
                    1966,
                    1967,
                    1968,
                    1969,
                    1970,
                    1971,
                    1972,
                    1973,
                    1981,
                    1982,
                    1983,
                    1984,
                    1985,
                    1986,
                    1987,
                    1988,
                    1989,
                    1990,
                    1991,
                    1992,
                    1993,
                    1994,
                    1995,
                    1996,
                    1997,
                    1998,
                    1999,
                    2000,
                    2001,
                    2002,
                    2003,
                    2004,
                    2005,
                    2006,
                    2007,
                    2008,
                    2009,
                    2010,
                    2011,
                    2012,
                    2013,
                    2014,
                    2015,
                    2016,
                    2017,
                    2018,
                    2019,
                    2020
                  ],
                  "xaxis": "x",
                  "y": [
                    63.23,
                    63.23,
                    59,
                    59,
                    59,
                    59,
                    null,
                    null,
                    null,
                    null,
                    450,
                    345.2,
                    366.15999999999997,
                    380.1333333333334,
                    408.08000000000004,
                    310.26666666666665,
                    30.8,
                    241.45,
                    380.8333333333333,
                    289.1454545454545,
                    391.42857142857144,
                    319.34583333333336,
                    276.73333333333335,
                    221.509375,
                    325,
                    243.19642857142858,
                    221.7388888888889,
                    152.1222222222222,
                    128.51142857142858,
                    173.11875,
                    290.7,
                    185.58588235294118,
                    80.5115,
                    92.73588235294118,
                    95.79333333333334,
                    138.60592592592593,
                    125.6951724137931,
                    133.45185185185184,
                    180.28709677419357,
                    148.4,
                    146.59655172413792,
                    122.292,
                    90.55151515151516,
                    102.55121951219513,
                    91.54871794871794,
                    79.45734375,
                    69.4910606060606,
                    64.74977272727273,
                    59.60972602739725,
                    56.65019230769231
                  ],
                  "yaxis": "y"
                }
              ],
              "layout": {
                "legend": {
                  "tracegroupgap": 0
                },
                "template": {
                  "data": {
                    "bar": [
                      {
                        "error_x": {
                          "color": "#f2f5fa"
                        },
                        "error_y": {
                          "color": "#f2f5fa"
                        },
                        "marker": {
                          "line": {
                            "color": "rgb(17,17,17)",
                            "width": 0.5
                          },
                          "pattern": {
                            "fillmode": "overlay",
                            "size": 10,
                            "solidity": 0.2
                          }
                        },
                        "type": "bar"
                      }
                    ],
                    "barpolar": [
                      {
                        "marker": {
                          "line": {
                            "color": "rgb(17,17,17)",
                            "width": 0.5
                          },
                          "pattern": {
                            "fillmode": "overlay",
                            "size": 10,
                            "solidity": 0.2
                          }
                        },
                        "type": "barpolar"
                      }
                    ],
                    "carpet": [
                      {
                        "aaxis": {
                          "endlinecolor": "#A2B1C6",
                          "gridcolor": "#506784",
                          "linecolor": "#506784",
                          "minorgridcolor": "#506784",
                          "startlinecolor": "#A2B1C6"
                        },
                        "baxis": {
                          "endlinecolor": "#A2B1C6",
                          "gridcolor": "#506784",
                          "linecolor": "#506784",
                          "minorgridcolor": "#506784",
                          "startlinecolor": "#A2B1C6"
                        },
                        "type": "carpet"
                      }
                    ],
                    "choropleth": [
                      {
                        "colorbar": {
                          "outlinewidth": 0,
                          "ticks": ""
                        },
                        "type": "choropleth"
                      }
                    ],
                    "contour": [
                      {
                        "colorbar": {
                          "outlinewidth": 0,
                          "ticks": ""
                        },
                        "colorscale": [
                          [
                            0,
                            "#0d0887"
                          ],
                          [
                            0.1111111111111111,
                            "#46039f"
                          ],
                          [
                            0.2222222222222222,
                            "#7201a8"
                          ],
                          [
                            0.3333333333333333,
                            "#9c179e"
                          ],
                          [
                            0.4444444444444444,
                            "#bd3786"
                          ],
                          [
                            0.5555555555555556,
                            "#d8576b"
                          ],
                          [
                            0.6666666666666666,
                            "#ed7953"
                          ],
                          [
                            0.7777777777777778,
                            "#fb9f3a"
                          ],
                          [
                            0.8888888888888888,
                            "#fdca26"
                          ],
                          [
                            1,
                            "#f0f921"
                          ]
                        ],
                        "type": "contour"
                      }
                    ],
                    "contourcarpet": [
                      {
                        "colorbar": {
                          "outlinewidth": 0,
                          "ticks": ""
                        },
                        "type": "contourcarpet"
                      }
                    ],
                    "heatmap": [
                      {
                        "colorbar": {
                          "outlinewidth": 0,
                          "ticks": ""
                        },
                        "colorscale": [
                          [
                            0,
                            "#0d0887"
                          ],
                          [
                            0.1111111111111111,
                            "#46039f"
                          ],
                          [
                            0.2222222222222222,
                            "#7201a8"
                          ],
                          [
                            0.3333333333333333,
                            "#9c179e"
                          ],
                          [
                            0.4444444444444444,
                            "#bd3786"
                          ],
                          [
                            0.5555555555555556,
                            "#d8576b"
                          ],
                          [
                            0.6666666666666666,
                            "#ed7953"
                          ],
                          [
                            0.7777777777777778,
                            "#fb9f3a"
                          ],
                          [
                            0.8888888888888888,
                            "#fdca26"
                          ],
                          [
                            1,
                            "#f0f921"
                          ]
                        ],
                        "type": "heatmap"
                      }
                    ],
                    "heatmapgl": [
                      {
                        "colorbar": {
                          "outlinewidth": 0,
                          "ticks": ""
                        },
                        "colorscale": [
                          [
                            0,
                            "#0d0887"
                          ],
                          [
                            0.1111111111111111,
                            "#46039f"
                          ],
                          [
                            0.2222222222222222,
                            "#7201a8"
                          ],
                          [
                            0.3333333333333333,
                            "#9c179e"
                          ],
                          [
                            0.4444444444444444,
                            "#bd3786"
                          ],
                          [
                            0.5555555555555556,
                            "#d8576b"
                          ],
                          [
                            0.6666666666666666,
                            "#ed7953"
                          ],
                          [
                            0.7777777777777778,
                            "#fb9f3a"
                          ],
                          [
                            0.8888888888888888,
                            "#fdca26"
                          ],
                          [
                            1,
                            "#f0f921"
                          ]
                        ],
                        "type": "heatmapgl"
                      }
                    ],
                    "histogram": [
                      {
                        "marker": {
                          "pattern": {
                            "fillmode": "overlay",
                            "size": 10,
                            "solidity": 0.2
                          }
                        },
                        "type": "histogram"
                      }
                    ],
                    "histogram2d": [
                      {
                        "colorbar": {
                          "outlinewidth": 0,
                          "ticks": ""
                        },
                        "colorscale": [
                          [
                            0,
                            "#0d0887"
                          ],
                          [
                            0.1111111111111111,
                            "#46039f"
                          ],
                          [
                            0.2222222222222222,
                            "#7201a8"
                          ],
                          [
                            0.3333333333333333,
                            "#9c179e"
                          ],
                          [
                            0.4444444444444444,
                            "#bd3786"
                          ],
                          [
                            0.5555555555555556,
                            "#d8576b"
                          ],
                          [
                            0.6666666666666666,
                            "#ed7953"
                          ],
                          [
                            0.7777777777777778,
                            "#fb9f3a"
                          ],
                          [
                            0.8888888888888888,
                            "#fdca26"
                          ],
                          [
                            1,
                            "#f0f921"
                          ]
                        ],
                        "type": "histogram2d"
                      }
                    ],
                    "histogram2dcontour": [
                      {
                        "colorbar": {
                          "outlinewidth": 0,
                          "ticks": ""
                        },
                        "colorscale": [
                          [
                            0,
                            "#0d0887"
                          ],
                          [
                            0.1111111111111111,
                            "#46039f"
                          ],
                          [
                            0.2222222222222222,
                            "#7201a8"
                          ],
                          [
                            0.3333333333333333,
                            "#9c179e"
                          ],
                          [
                            0.4444444444444444,
                            "#bd3786"
                          ],
                          [
                            0.5555555555555556,
                            "#d8576b"
                          ],
                          [
                            0.6666666666666666,
                            "#ed7953"
                          ],
                          [
                            0.7777777777777778,
                            "#fb9f3a"
                          ],
                          [
                            0.8888888888888888,
                            "#fdca26"
                          ],
                          [
                            1,
                            "#f0f921"
                          ]
                        ],
                        "type": "histogram2dcontour"
                      }
                    ],
                    "mesh3d": [
                      {
                        "colorbar": {
                          "outlinewidth": 0,
                          "ticks": ""
                        },
                        "type": "mesh3d"
                      }
                    ],
                    "parcoords": [
                      {
                        "line": {
                          "colorbar": {
                            "outlinewidth": 0,
                            "ticks": ""
                          }
                        },
                        "type": "parcoords"
                      }
                    ],
                    "pie": [
                      {
                        "automargin": true,
                        "type": "pie"
                      }
                    ],
                    "scatter": [
                      {
                        "marker": {
                          "line": {
                            "color": "#283442"
                          }
                        },
                        "type": "scatter"
                      }
                    ],
                    "scatter3d": [
                      {
                        "line": {
                          "colorbar": {
                            "outlinewidth": 0,
                            "ticks": ""
                          }
                        },
                        "marker": {
                          "colorbar": {
                            "outlinewidth": 0,
                            "ticks": ""
                          }
                        },
                        "type": "scatter3d"
                      }
                    ],
                    "scattercarpet": [
                      {
                        "marker": {
                          "colorbar": {
                            "outlinewidth": 0,
                            "ticks": ""
                          }
                        },
                        "type": "scattercarpet"
                      }
                    ],
                    "scattergeo": [
                      {
                        "marker": {
                          "colorbar": {
                            "outlinewidth": 0,
                            "ticks": ""
                          }
                        },
                        "type": "scattergeo"
                      }
                    ],
                    "scattergl": [
                      {
                        "marker": {
                          "line": {
                            "color": "#283442"
                          }
                        },
                        "type": "scattergl"
                      }
                    ],
                    "scattermapbox": [
                      {
                        "marker": {
                          "colorbar": {
                            "outlinewidth": 0,
                            "ticks": ""
                          }
                        },
                        "type": "scattermapbox"
                      }
                    ],
                    "scatterpolar": [
                      {
                        "marker": {
                          "colorbar": {
                            "outlinewidth": 0,
                            "ticks": ""
                          }
                        },
                        "type": "scatterpolar"
                      }
                    ],
                    "scatterpolargl": [
                      {
                        "marker": {
                          "colorbar": {
                            "outlinewidth": 0,
                            "ticks": ""
                          }
                        },
                        "type": "scatterpolargl"
                      }
                    ],
                    "scatterternary": [
                      {
                        "marker": {
                          "colorbar": {
                            "outlinewidth": 0,
                            "ticks": ""
                          }
                        },
                        "type": "scatterternary"
                      }
                    ],
                    "surface": [
                      {
                        "colorbar": {
                          "outlinewidth": 0,
                          "ticks": ""
                        },
                        "colorscale": [
                          [
                            0,
                            "#0d0887"
                          ],
                          [
                            0.1111111111111111,
                            "#46039f"
                          ],
                          [
                            0.2222222222222222,
                            "#7201a8"
                          ],
                          [
                            0.3333333333333333,
                            "#9c179e"
                          ],
                          [
                            0.4444444444444444,
                            "#bd3786"
                          ],
                          [
                            0.5555555555555556,
                            "#d8576b"
                          ],
                          [
                            0.6666666666666666,
                            "#ed7953"
                          ],
                          [
                            0.7777777777777778,
                            "#fb9f3a"
                          ],
                          [
                            0.8888888888888888,
                            "#fdca26"
                          ],
                          [
                            1,
                            "#f0f921"
                          ]
                        ],
                        "type": "surface"
                      }
                    ],
                    "table": [
                      {
                        "cells": {
                          "fill": {
                            "color": "#506784"
                          },
                          "line": {
                            "color": "rgb(17,17,17)"
                          }
                        },
                        "header": {
                          "fill": {
                            "color": "#2a3f5f"
                          },
                          "line": {
                            "color": "rgb(17,17,17)"
                          }
                        },
                        "type": "table"
                      }
                    ]
                  },
                  "layout": {
                    "annotationdefaults": {
                      "arrowcolor": "#f2f5fa",
                      "arrowhead": 0,
                      "arrowwidth": 1
                    },
                    "autotypenumbers": "strict",
                    "coloraxis": {
                      "colorbar": {
                        "outlinewidth": 0,
                        "ticks": ""
                      }
                    },
                    "colorscale": {
                      "diverging": [
                        [
                          0,
                          "#8e0152"
                        ],
                        [
                          0.1,
                          "#c51b7d"
                        ],
                        [
                          0.2,
                          "#de77ae"
                        ],
                        [
                          0.3,
                          "#f1b6da"
                        ],
                        [
                          0.4,
                          "#fde0ef"
                        ],
                        [
                          0.5,
                          "#f7f7f7"
                        ],
                        [
                          0.6,
                          "#e6f5d0"
                        ],
                        [
                          0.7,
                          "#b8e186"
                        ],
                        [
                          0.8,
                          "#7fbc41"
                        ],
                        [
                          0.9,
                          "#4d9221"
                        ],
                        [
                          1,
                          "#276419"
                        ]
                      ],
                      "sequential": [
                        [
                          0,
                          "#0d0887"
                        ],
                        [
                          0.1111111111111111,
                          "#46039f"
                        ],
                        [
                          0.2222222222222222,
                          "#7201a8"
                        ],
                        [
                          0.3333333333333333,
                          "#9c179e"
                        ],
                        [
                          0.4444444444444444,
                          "#bd3786"
                        ],
                        [
                          0.5555555555555556,
                          "#d8576b"
                        ],
                        [
                          0.6666666666666666,
                          "#ed7953"
                        ],
                        [
                          0.7777777777777778,
                          "#fb9f3a"
                        ],
                        [
                          0.8888888888888888,
                          "#fdca26"
                        ],
                        [
                          1,
                          "#f0f921"
                        ]
                      ],
                      "sequentialminus": [
                        [
                          0,
                          "#0d0887"
                        ],
                        [
                          0.1111111111111111,
                          "#46039f"
                        ],
                        [
                          0.2222222222222222,
                          "#7201a8"
                        ],
                        [
                          0.3333333333333333,
                          "#9c179e"
                        ],
                        [
                          0.4444444444444444,
                          "#bd3786"
                        ],
                        [
                          0.5555555555555556,
                          "#d8576b"
                        ],
                        [
                          0.6666666666666666,
                          "#ed7953"
                        ],
                        [
                          0.7777777777777778,
                          "#fb9f3a"
                        ],
                        [
                          0.8888888888888888,
                          "#fdca26"
                        ],
                        [
                          1,
                          "#f0f921"
                        ]
                      ]
                    },
                    "colorway": [
                      "#636efa",
                      "#EF553B",
                      "#00cc96",
                      "#ab63fa",
                      "#FFA15A",
                      "#19d3f3",
                      "#FF6692",
                      "#B6E880",
                      "#FF97FF",
                      "#FECB52"
                    ],
                    "font": {
                      "color": "#f2f5fa"
                    },
                    "geo": {
                      "bgcolor": "rgb(17,17,17)",
                      "lakecolor": "rgb(17,17,17)",
                      "landcolor": "rgb(17,17,17)",
                      "showlakes": true,
                      "showland": true,
                      "subunitcolor": "#506784"
                    },
                    "hoverlabel": {
                      "align": "left"
                    },
                    "hovermode": "closest",
                    "mapbox": {
                      "style": "dark"
                    },
                    "paper_bgcolor": "rgb(17,17,17)",
                    "plot_bgcolor": "rgb(17,17,17)",
                    "polar": {
                      "angularaxis": {
                        "gridcolor": "#506784",
                        "linecolor": "#506784",
                        "ticks": ""
                      },
                      "bgcolor": "rgb(17,17,17)",
                      "radialaxis": {
                        "gridcolor": "#506784",
                        "linecolor": "#506784",
                        "ticks": ""
                      }
                    },
                    "scene": {
                      "xaxis": {
                        "backgroundcolor": "rgb(17,17,17)",
                        "gridcolor": "#506784",
                        "gridwidth": 2,
                        "linecolor": "#506784",
                        "showbackground": true,
                        "ticks": "",
                        "zerolinecolor": "#C8D4E3"
                      },
                      "yaxis": {
                        "backgroundcolor": "rgb(17,17,17)",
                        "gridcolor": "#506784",
                        "gridwidth": 2,
                        "linecolor": "#506784",
                        "showbackground": true,
                        "ticks": "",
                        "zerolinecolor": "#C8D4E3"
                      },
                      "zaxis": {
                        "backgroundcolor": "rgb(17,17,17)",
                        "gridcolor": "#506784",
                        "gridwidth": 2,
                        "linecolor": "#506784",
                        "showbackground": true,
                        "ticks": "",
                        "zerolinecolor": "#C8D4E3"
                      }
                    },
                    "shapedefaults": {
                      "line": {
                        "color": "#f2f5fa"
                      }
                    },
                    "sliderdefaults": {
                      "bgcolor": "#C8D4E3",
                      "bordercolor": "rgb(17,17,17)",
                      "borderwidth": 1,
                      "tickwidth": 0
                    },
                    "ternary": {
                      "aaxis": {
                        "gridcolor": "#506784",
                        "linecolor": "#506784",
                        "ticks": ""
                      },
                      "baxis": {
                        "gridcolor": "#506784",
                        "linecolor": "#506784",
                        "ticks": ""
                      },
                      "bgcolor": "rgb(17,17,17)",
                      "caxis": {
                        "gridcolor": "#506784",
                        "linecolor": "#506784",
                        "ticks": ""
                      }
                    },
                    "title": {
                      "x": 0.05
                    },
                    "updatemenudefaults": {
                      "bgcolor": "#506784",
                      "borderwidth": 0
                    },
                    "xaxis": {
                      "automargin": true,
                      "gridcolor": "#283442",
                      "linecolor": "#506784",
                      "ticks": "",
                      "title": {
                        "standoff": 15
                      },
                      "zerolinecolor": "#283442",
                      "zerolinewidth": 2
                    },
                    "yaxis": {
                      "automargin": true,
                      "gridcolor": "#283442",
                      "linecolor": "#506784",
                      "ticks": "",
                      "title": {
                        "standoff": 15
                      },
                      "zerolinecolor": "#283442",
                      "zerolinewidth": 2
                    }
                  }
                },
                "title": {
                  "text": "Average cost of a launch per year"
                },
                "xaxis": {
                  "anchor": "y",
                  "domain": [
                    0,
                    1
                  ],
                  "title": {
                    "text": "Year"
                  }
                },
                "yaxis": {
                  "anchor": "x",
                  "domain": [
                    0,
                    1
                  ],
                  "title": {
                    "text": "Average cost of a launch"
                  }
                }
              }
            }
          },
          "metadata": {},
          "output_type": "display_data"
        }
      ],
      "source": [
        "fig = px.line(removednoprice2, \n",
        "              x='Year', \n",
        "              y='Price', \n",
        "              labels={'Year':'Year',\n",
        "                      'Price':'Average cost of a launch'},\n",
        "              title='Average cost of a launch per year', \n",
        "              template='plotly_dark')\n",
        "fig.show()\n"
      ]
    },
    {
      "cell_type": "markdown",
      "metadata": {
        "id": "8OYrWyiOa-qs",
        "papermill": {
          "duration": 0.047152,
          "end_time": "2020-10-20T21:34:11.681371",
          "exception": false,
          "start_time": "2020-10-20T21:34:11.634219",
          "status": "completed"
        },
        "tags": []
      },
      "source": [
        "# Chart the Number of Launches over Time by the Top 10 Organisations. \n",
        "\n",
        "How has the dominance of launches changed over time between the different players? "
      ]
    },
    {
      "cell_type": "code",
      "execution_count": 238,
      "metadata": {
        "id": "RcsrPPpAqVFj"
      },
      "outputs": [],
      "source": [
        "#top10orgs = spacedf.groupby(['Organisation','Year'],as_index=False).agg({'Rocket_Status': pd.Series.count})\n",
        "org_year_launches = spacedf.groupby(['Organisation','Year'],as_index=False).count()\n",
        "\n",
        "org_launches = spacedf.groupby('Organisation', as_index=False)['Rocket_Status'].count()\n",
        "\n",
        "# Select the top 10 organizations by number of launches\n",
        "top_orgs = org_launches.nlargest(10, 'Rocket_Status')['Organisation']\n",
        "top_org_launches = org_year_launches[org_year_launches['Organisation'].isin(top_orgs)]\n"
      ]
    },
    {
      "cell_type": "code",
      "execution_count": 239,
      "metadata": {
        "id": "1IgfafiyqWEe"
      },
      "outputs": [
        {
          "data": {
            "application/vnd.plotly.v1+json": {
              "config": {
                "plotlyServerURL": "https://plot.ly"
              },
              "data": [
                {
                  "hovertemplate": "Organisation=Arianespace<br>Year=%{x}<br>Number of Launches=%{y}<extra></extra>",
                  "legendgroup": "Arianespace",
                  "line": {
                    "color": "#636efa",
                    "dash": "solid"
                  },
                  "marker": {
                    "symbol": "circle"
                  },
                  "mode": "lines",
                  "name": "Arianespace",
                  "orientation": "v",
                  "showlegend": true,
                  "type": "scatter",
                  "x": [
                    1984,
                    1985,
                    1986,
                    1987,
                    1988,
                    1989,
                    1990,
                    1991,
                    1992,
                    1993,
                    1994,
                    1995,
                    1996,
                    1997,
                    1998,
                    1999,
                    2000,
                    2001,
                    2002,
                    2003,
                    2004,
                    2005,
                    2006,
                    2007,
                    2008,
                    2009,
                    2010,
                    2011,
                    2012,
                    2013,
                    2014,
                    2015,
                    2016,
                    2017,
                    2018,
                    2019,
                    2020
                  ],
                  "xaxis": "x",
                  "y": [
                    3,
                    4,
                    3,
                    2,
                    6,
                    7,
                    6,
                    8,
                    7,
                    7,
                    8,
                    11,
                    10,
                    11,
                    10,
                    10,
                    12,
                    8,
                    12,
                    4,
                    3,
                    5,
                    5,
                    6,
                    6,
                    7,
                    6,
                    7,
                    9,
                    7,
                    11,
                    12,
                    11,
                    11,
                    11,
                    9,
                    4
                  ],
                  "yaxis": "y"
                },
                {
                  "hovertemplate": "Organisation=Boeing<br>Year=%{x}<br>Number of Launches=%{y}<extra></extra>",
                  "legendgroup": "Boeing",
                  "line": {
                    "color": "#EF553B",
                    "dash": "solid"
                  },
                  "marker": {
                    "symbol": "circle"
                  },
                  "mode": "lines",
                  "name": "Boeing",
                  "orientation": "v",
                  "showlegend": true,
                  "type": "scatter",
                  "x": [
                    1989,
                    1990,
                    1991,
                    1992,
                    1993,
                    1994,
                    1995,
                    1996,
                    1997,
                    1998,
                    1999,
                    2000,
                    2001,
                    2002,
                    2003,
                    2004,
                    2005,
                    2006
                  ],
                  "xaxis": "x",
                  "y": [
                    5,
                    11,
                    5,
                    11,
                    7,
                    3,
                    3,
                    10,
                    11,
                    13,
                    11,
                    7,
                    7,
                    4,
                    9,
                    8,
                    3,
                    8
                  ],
                  "yaxis": "y"
                },
                {
                  "hovertemplate": "Organisation=CASC<br>Year=%{x}<br>Number of Launches=%{y}<extra></extra>",
                  "legendgroup": "CASC",
                  "line": {
                    "color": "#00cc96",
                    "dash": "solid"
                  },
                  "marker": {
                    "symbol": "circle"
                  },
                  "mode": "lines",
                  "name": "CASC",
                  "orientation": "v",
                  "showlegend": true,
                  "type": "scatter",
                  "x": [
                    1969,
                    1970,
                    1971,
                    1972,
                    1973,
                    1974,
                    1975,
                    1976,
                    1977,
                    1978,
                    1979,
                    1981,
                    1982,
                    1983,
                    1984,
                    1985,
                    1986,
                    1987,
                    1988,
                    1990,
                    1991,
                    1992,
                    1993,
                    1994,
                    1995,
                    1996,
                    1997,
                    1998,
                    1999,
                    2000,
                    2001,
                    2002,
                    2003,
                    2004,
                    2005,
                    2006,
                    2007,
                    2008,
                    2011,
                    2012,
                    2013,
                    2015,
                    2016,
                    2017,
                    2018,
                    2019,
                    2020
                  ],
                  "xaxis": "x",
                  "y": [
                    1,
                    1,
                    1,
                    1,
                    1,
                    2,
                    3,
                    3,
                    1,
                    2,
                    1,
                    1,
                    1,
                    1,
                    3,
                    1,
                    2,
                    2,
                    4,
                    5,
                    1,
                    4,
                    1,
                    5,
                    3,
                    4,
                    6,
                    6,
                    4,
                    4,
                    1,
                    4,
                    6,
                    8,
                    5,
                    6,
                    10,
                    8,
                    2,
                    1,
                    1,
                    2,
                    22,
                    16,
                    37,
                    27,
                    19
                  ],
                  "yaxis": "y"
                },
                {
                  "hovertemplate": "Organisation=General Dynamics<br>Year=%{x}<br>Number of Launches=%{y}<extra></extra>",
                  "legendgroup": "General Dynamics",
                  "line": {
                    "color": "#ab63fa",
                    "dash": "solid"
                  },
                  "marker": {
                    "symbol": "circle"
                  },
                  "mode": "lines",
                  "name": "General Dynamics",
                  "orientation": "v",
                  "showlegend": true,
                  "type": "scatter",
                  "x": [
                    1959,
                    1960,
                    1961,
                    1962,
                    1963,
                    1964,
                    1965,
                    1966,
                    1967,
                    1968,
                    1969,
                    1970,
                    1971,
                    1972,
                    1973,
                    1974,
                    1975,
                    1976,
                    1977,
                    1978,
                    1979,
                    1980,
                    1981,
                    1982,
                    1983,
                    1984,
                    1985,
                    1986,
                    1987,
                    1988,
                    1989,
                    1990,
                    1991,
                    1992,
                    1993,
                    1994,
                    1995
                  ],
                  "xaxis": "x",
                  "y": [
                    1,
                    5,
                    8,
                    14,
                    9,
                    18,
                    19,
                    33,
                    14,
                    8,
                    5,
                    3,
                    6,
                    6,
                    4,
                    2,
                    5,
                    4,
                    7,
                    14,
                    4,
                    8,
                    6,
                    3,
                    6,
                    5,
                    5,
                    3,
                    3,
                    2,
                    1,
                    2,
                    4,
                    5,
                    6,
                    2,
                    1
                  ],
                  "yaxis": "y"
                },
                {
                  "hovertemplate": "Organisation=Martin Marietta<br>Year=%{x}<br>Number of Launches=%{y}<extra></extra>",
                  "legendgroup": "Martin Marietta",
                  "line": {
                    "color": "#FFA15A",
                    "dash": "solid"
                  },
                  "marker": {
                    "symbol": "circle"
                  },
                  "mode": "lines",
                  "name": "Martin Marietta",
                  "orientation": "v",
                  "showlegend": true,
                  "type": "scatter",
                  "x": [
                    1965,
                    1966,
                    1967,
                    1968,
                    1969,
                    1970,
                    1971,
                    1972,
                    1973,
                    1974,
                    1975,
                    1976,
                    1977,
                    1978,
                    1979,
                    1980,
                    1981,
                    1982,
                    1983,
                    1984,
                    1985,
                    1986,
                    1987,
                    1988,
                    1989,
                    1990,
                    1991,
                    1992,
                    1993,
                    1994
                  ],
                  "xaxis": "x",
                  "y": [
                    3,
                    3,
                    3,
                    2,
                    2,
                    2,
                    4,
                    5,
                    6,
                    5,
                    7,
                    7,
                    5,
                    7,
                    4,
                    3,
                    4,
                    4,
                    2,
                    6,
                    2,
                    1,
                    3,
                    3,
                    4,
                    5,
                    2,
                    3,
                    2,
                    5
                  ],
                  "yaxis": "y"
                },
                {
                  "hovertemplate": "Organisation=NASA<br>Year=%{x}<br>Number of Launches=%{y}<extra></extra>",
                  "legendgroup": "NASA",
                  "line": {
                    "color": "#19d3f3",
                    "dash": "solid"
                  },
                  "marker": {
                    "symbol": "circle"
                  },
                  "mode": "lines",
                  "name": "NASA",
                  "orientation": "v",
                  "showlegend": true,
                  "type": "scatter",
                  "x": [
                    1958,
                    1959,
                    1960,
                    1961,
                    1962,
                    1963,
                    1964,
                    1965,
                    1966,
                    1967,
                    1968,
                    1969,
                    1970,
                    1971,
                    1972,
                    1973,
                    1975,
                    1981,
                    1982,
                    1983,
                    1984,
                    1985,
                    1986,
                    1988,
                    1989,
                    1990,
                    1991,
                    1992,
                    1993,
                    1994,
                    1995,
                    1996,
                    1997,
                    1998,
                    1999,
                    2000,
                    2001,
                    2002,
                    2003,
                    2005,
                    2006,
                    2007,
                    2008,
                    2009,
                    2010,
                    2011
                  ],
                  "xaxis": "x",
                  "y": [
                    2,
                    1,
                    4,
                    12,
                    5,
                    2,
                    4,
                    9,
                    8,
                    2,
                    4,
                    4,
                    1,
                    2,
                    2,
                    4,
                    1,
                    2,
                    3,
                    4,
                    5,
                    9,
                    2,
                    2,
                    5,
                    6,
                    6,
                    8,
                    7,
                    7,
                    7,
                    7,
                    8,
                    5,
                    3,
                    5,
                    6,
                    5,
                    1,
                    1,
                    3,
                    3,
                    4,
                    6,
                    3,
                    3
                  ],
                  "yaxis": "y"
                },
                {
                  "hovertemplate": "Organisation=RVSN USSR<br>Year=%{x}<br>Number of Launches=%{y}<extra></extra>",
                  "legendgroup": "RVSN USSR",
                  "line": {
                    "color": "#FF6692",
                    "dash": "solid"
                  },
                  "marker": {
                    "symbol": "circle"
                  },
                  "mode": "lines",
                  "name": "RVSN USSR",
                  "orientation": "v",
                  "showlegend": true,
                  "type": "scatter",
                  "x": [
                    1957,
                    1958,
                    1959,
                    1960,
                    1961,
                    1962,
                    1963,
                    1964,
                    1965,
                    1966,
                    1967,
                    1968,
                    1969,
                    1970,
                    1971,
                    1972,
                    1973,
                    1974,
                    1975,
                    1976,
                    1977,
                    1978,
                    1979,
                    1980,
                    1981,
                    1982,
                    1983,
                    1984,
                    1985,
                    1986,
                    1987,
                    1988,
                    1989,
                    1990,
                    1991,
                    1992,
                    1995,
                    1996,
                    1998
                  ],
                  "xaxis": "x",
                  "y": [
                    2,
                    5,
                    4,
                    9,
                    9,
                    22,
                    24,
                    36,
                    53,
                    51,
                    74,
                    79,
                    82,
                    87,
                    93,
                    79,
                    84,
                    83,
                    89,
                    95,
                    97,
                    71,
                    36,
                    40,
                    51,
                    53,
                    46,
                    42,
                    51,
                    49,
                    42,
                    36,
                    26,
                    37,
                    28,
                    9,
                    1,
                    1,
                    1
                  ],
                  "yaxis": "y"
                },
                {
                  "hovertemplate": "Organisation=ULA<br>Year=%{x}<br>Number of Launches=%{y}<extra></extra>",
                  "legendgroup": "ULA",
                  "line": {
                    "color": "#B6E880",
                    "dash": "solid"
                  },
                  "marker": {
                    "symbol": "circle"
                  },
                  "mode": "lines",
                  "name": "ULA",
                  "orientation": "v",
                  "showlegend": true,
                  "type": "scatter",
                  "x": [
                    2006,
                    2007,
                    2008,
                    2009,
                    2010,
                    2011,
                    2012,
                    2013,
                    2014,
                    2015,
                    2016,
                    2017,
                    2018,
                    2019,
                    2020
                  ],
                  "xaxis": "x",
                  "y": [
                    1,
                    13,
                    7,
                    16,
                    8,
                    11,
                    10,
                    11,
                    14,
                    12,
                    12,
                    8,
                    8,
                    5,
                    4
                  ],
                  "yaxis": "y"
                },
                {
                  "hovertemplate": "Organisation=US Air Force<br>Year=%{x}<br>Number of Launches=%{y}<extra></extra>",
                  "legendgroup": "US Air Force",
                  "line": {
                    "color": "#FF97FF",
                    "dash": "solid"
                  },
                  "marker": {
                    "symbol": "circle"
                  },
                  "mode": "lines",
                  "name": "US Air Force",
                  "orientation": "v",
                  "showlegend": true,
                  "type": "scatter",
                  "x": [
                    1958,
                    1959,
                    1960,
                    1961,
                    1962,
                    1963,
                    1964,
                    1965,
                    1966,
                    1967,
                    1968,
                    1969,
                    1970,
                    1971,
                    1972,
                    1973,
                    1974,
                    1975,
                    1976,
                    1977,
                    1979,
                    1981,
                    1982,
                    1983,
                    1984
                  ],
                  "xaxis": "x",
                  "y": [
                    2,
                    10,
                    21,
                    23,
                    41,
                    6,
                    2,
                    2,
                    3,
                    7,
                    8,
                    6,
                    5,
                    4,
                    4,
                    3,
                    3,
                    2,
                    2,
                    2,
                    1,
                    1,
                    1,
                    1,
                    1
                  ],
                  "yaxis": "y"
                },
                {
                  "hovertemplate": "Organisation=VKS RF<br>Year=%{x}<br>Number of Launches=%{y}<extra></extra>",
                  "legendgroup": "VKS RF",
                  "line": {
                    "color": "#FECB52",
                    "dash": "solid"
                  },
                  "marker": {
                    "symbol": "circle"
                  },
                  "mode": "lines",
                  "name": "VKS RF",
                  "orientation": "v",
                  "showlegend": true,
                  "type": "scatter",
                  "x": [
                    1992,
                    1993,
                    1994,
                    1995,
                    1996,
                    1997,
                    1998,
                    1999,
                    2000,
                    2001,
                    2002,
                    2003,
                    2004,
                    2005,
                    2006,
                    2007,
                    2008,
                    2009,
                    2010,
                    2011,
                    2012,
                    2013,
                    2014,
                    2015,
                    2016,
                    2017,
                    2018,
                    2019,
                    2020
                  ],
                  "xaxis": "x",
                  "y": [
                    14,
                    26,
                    21,
                    12,
                    9,
                    7,
                    9,
                    6,
                    6,
                    6,
                    6,
                    6,
                    7,
                    5,
                    3,
                    5,
                    5,
                    3,
                    3,
                    1,
                    1,
                    7,
                    4,
                    3,
                    4,
                    6,
                    5,
                    8,
                    3
                  ],
                  "yaxis": "y"
                }
              ],
              "layout": {
                "legend": {
                  "title": {
                    "text": "Organisation"
                  },
                  "tracegroupgap": 0
                },
                "template": {
                  "data": {
                    "bar": [
                      {
                        "error_x": {
                          "color": "#2a3f5f"
                        },
                        "error_y": {
                          "color": "#2a3f5f"
                        },
                        "marker": {
                          "line": {
                            "color": "#E5ECF6",
                            "width": 0.5
                          },
                          "pattern": {
                            "fillmode": "overlay",
                            "size": 10,
                            "solidity": 0.2
                          }
                        },
                        "type": "bar"
                      }
                    ],
                    "barpolar": [
                      {
                        "marker": {
                          "line": {
                            "color": "#E5ECF6",
                            "width": 0.5
                          },
                          "pattern": {
                            "fillmode": "overlay",
                            "size": 10,
                            "solidity": 0.2
                          }
                        },
                        "type": "barpolar"
                      }
                    ],
                    "carpet": [
                      {
                        "aaxis": {
                          "endlinecolor": "#2a3f5f",
                          "gridcolor": "white",
                          "linecolor": "white",
                          "minorgridcolor": "white",
                          "startlinecolor": "#2a3f5f"
                        },
                        "baxis": {
                          "endlinecolor": "#2a3f5f",
                          "gridcolor": "white",
                          "linecolor": "white",
                          "minorgridcolor": "white",
                          "startlinecolor": "#2a3f5f"
                        },
                        "type": "carpet"
                      }
                    ],
                    "choropleth": [
                      {
                        "colorbar": {
                          "outlinewidth": 0,
                          "ticks": ""
                        },
                        "type": "choropleth"
                      }
                    ],
                    "contour": [
                      {
                        "colorbar": {
                          "outlinewidth": 0,
                          "ticks": ""
                        },
                        "colorscale": [
                          [
                            0,
                            "#0d0887"
                          ],
                          [
                            0.1111111111111111,
                            "#46039f"
                          ],
                          [
                            0.2222222222222222,
                            "#7201a8"
                          ],
                          [
                            0.3333333333333333,
                            "#9c179e"
                          ],
                          [
                            0.4444444444444444,
                            "#bd3786"
                          ],
                          [
                            0.5555555555555556,
                            "#d8576b"
                          ],
                          [
                            0.6666666666666666,
                            "#ed7953"
                          ],
                          [
                            0.7777777777777778,
                            "#fb9f3a"
                          ],
                          [
                            0.8888888888888888,
                            "#fdca26"
                          ],
                          [
                            1,
                            "#f0f921"
                          ]
                        ],
                        "type": "contour"
                      }
                    ],
                    "contourcarpet": [
                      {
                        "colorbar": {
                          "outlinewidth": 0,
                          "ticks": ""
                        },
                        "type": "contourcarpet"
                      }
                    ],
                    "heatmap": [
                      {
                        "colorbar": {
                          "outlinewidth": 0,
                          "ticks": ""
                        },
                        "colorscale": [
                          [
                            0,
                            "#0d0887"
                          ],
                          [
                            0.1111111111111111,
                            "#46039f"
                          ],
                          [
                            0.2222222222222222,
                            "#7201a8"
                          ],
                          [
                            0.3333333333333333,
                            "#9c179e"
                          ],
                          [
                            0.4444444444444444,
                            "#bd3786"
                          ],
                          [
                            0.5555555555555556,
                            "#d8576b"
                          ],
                          [
                            0.6666666666666666,
                            "#ed7953"
                          ],
                          [
                            0.7777777777777778,
                            "#fb9f3a"
                          ],
                          [
                            0.8888888888888888,
                            "#fdca26"
                          ],
                          [
                            1,
                            "#f0f921"
                          ]
                        ],
                        "type": "heatmap"
                      }
                    ],
                    "heatmapgl": [
                      {
                        "colorbar": {
                          "outlinewidth": 0,
                          "ticks": ""
                        },
                        "colorscale": [
                          [
                            0,
                            "#0d0887"
                          ],
                          [
                            0.1111111111111111,
                            "#46039f"
                          ],
                          [
                            0.2222222222222222,
                            "#7201a8"
                          ],
                          [
                            0.3333333333333333,
                            "#9c179e"
                          ],
                          [
                            0.4444444444444444,
                            "#bd3786"
                          ],
                          [
                            0.5555555555555556,
                            "#d8576b"
                          ],
                          [
                            0.6666666666666666,
                            "#ed7953"
                          ],
                          [
                            0.7777777777777778,
                            "#fb9f3a"
                          ],
                          [
                            0.8888888888888888,
                            "#fdca26"
                          ],
                          [
                            1,
                            "#f0f921"
                          ]
                        ],
                        "type": "heatmapgl"
                      }
                    ],
                    "histogram": [
                      {
                        "marker": {
                          "pattern": {
                            "fillmode": "overlay",
                            "size": 10,
                            "solidity": 0.2
                          }
                        },
                        "type": "histogram"
                      }
                    ],
                    "histogram2d": [
                      {
                        "colorbar": {
                          "outlinewidth": 0,
                          "ticks": ""
                        },
                        "colorscale": [
                          [
                            0,
                            "#0d0887"
                          ],
                          [
                            0.1111111111111111,
                            "#46039f"
                          ],
                          [
                            0.2222222222222222,
                            "#7201a8"
                          ],
                          [
                            0.3333333333333333,
                            "#9c179e"
                          ],
                          [
                            0.4444444444444444,
                            "#bd3786"
                          ],
                          [
                            0.5555555555555556,
                            "#d8576b"
                          ],
                          [
                            0.6666666666666666,
                            "#ed7953"
                          ],
                          [
                            0.7777777777777778,
                            "#fb9f3a"
                          ],
                          [
                            0.8888888888888888,
                            "#fdca26"
                          ],
                          [
                            1,
                            "#f0f921"
                          ]
                        ],
                        "type": "histogram2d"
                      }
                    ],
                    "histogram2dcontour": [
                      {
                        "colorbar": {
                          "outlinewidth": 0,
                          "ticks": ""
                        },
                        "colorscale": [
                          [
                            0,
                            "#0d0887"
                          ],
                          [
                            0.1111111111111111,
                            "#46039f"
                          ],
                          [
                            0.2222222222222222,
                            "#7201a8"
                          ],
                          [
                            0.3333333333333333,
                            "#9c179e"
                          ],
                          [
                            0.4444444444444444,
                            "#bd3786"
                          ],
                          [
                            0.5555555555555556,
                            "#d8576b"
                          ],
                          [
                            0.6666666666666666,
                            "#ed7953"
                          ],
                          [
                            0.7777777777777778,
                            "#fb9f3a"
                          ],
                          [
                            0.8888888888888888,
                            "#fdca26"
                          ],
                          [
                            1,
                            "#f0f921"
                          ]
                        ],
                        "type": "histogram2dcontour"
                      }
                    ],
                    "mesh3d": [
                      {
                        "colorbar": {
                          "outlinewidth": 0,
                          "ticks": ""
                        },
                        "type": "mesh3d"
                      }
                    ],
                    "parcoords": [
                      {
                        "line": {
                          "colorbar": {
                            "outlinewidth": 0,
                            "ticks": ""
                          }
                        },
                        "type": "parcoords"
                      }
                    ],
                    "pie": [
                      {
                        "automargin": true,
                        "type": "pie"
                      }
                    ],
                    "scatter": [
                      {
                        "fillpattern": {
                          "fillmode": "overlay",
                          "size": 10,
                          "solidity": 0.2
                        },
                        "type": "scatter"
                      }
                    ],
                    "scatter3d": [
                      {
                        "line": {
                          "colorbar": {
                            "outlinewidth": 0,
                            "ticks": ""
                          }
                        },
                        "marker": {
                          "colorbar": {
                            "outlinewidth": 0,
                            "ticks": ""
                          }
                        },
                        "type": "scatter3d"
                      }
                    ],
                    "scattercarpet": [
                      {
                        "marker": {
                          "colorbar": {
                            "outlinewidth": 0,
                            "ticks": ""
                          }
                        },
                        "type": "scattercarpet"
                      }
                    ],
                    "scattergeo": [
                      {
                        "marker": {
                          "colorbar": {
                            "outlinewidth": 0,
                            "ticks": ""
                          }
                        },
                        "type": "scattergeo"
                      }
                    ],
                    "scattergl": [
                      {
                        "marker": {
                          "colorbar": {
                            "outlinewidth": 0,
                            "ticks": ""
                          }
                        },
                        "type": "scattergl"
                      }
                    ],
                    "scattermapbox": [
                      {
                        "marker": {
                          "colorbar": {
                            "outlinewidth": 0,
                            "ticks": ""
                          }
                        },
                        "type": "scattermapbox"
                      }
                    ],
                    "scatterpolar": [
                      {
                        "marker": {
                          "colorbar": {
                            "outlinewidth": 0,
                            "ticks": ""
                          }
                        },
                        "type": "scatterpolar"
                      }
                    ],
                    "scatterpolargl": [
                      {
                        "marker": {
                          "colorbar": {
                            "outlinewidth": 0,
                            "ticks": ""
                          }
                        },
                        "type": "scatterpolargl"
                      }
                    ],
                    "scatterternary": [
                      {
                        "marker": {
                          "colorbar": {
                            "outlinewidth": 0,
                            "ticks": ""
                          }
                        },
                        "type": "scatterternary"
                      }
                    ],
                    "surface": [
                      {
                        "colorbar": {
                          "outlinewidth": 0,
                          "ticks": ""
                        },
                        "colorscale": [
                          [
                            0,
                            "#0d0887"
                          ],
                          [
                            0.1111111111111111,
                            "#46039f"
                          ],
                          [
                            0.2222222222222222,
                            "#7201a8"
                          ],
                          [
                            0.3333333333333333,
                            "#9c179e"
                          ],
                          [
                            0.4444444444444444,
                            "#bd3786"
                          ],
                          [
                            0.5555555555555556,
                            "#d8576b"
                          ],
                          [
                            0.6666666666666666,
                            "#ed7953"
                          ],
                          [
                            0.7777777777777778,
                            "#fb9f3a"
                          ],
                          [
                            0.8888888888888888,
                            "#fdca26"
                          ],
                          [
                            1,
                            "#f0f921"
                          ]
                        ],
                        "type": "surface"
                      }
                    ],
                    "table": [
                      {
                        "cells": {
                          "fill": {
                            "color": "#EBF0F8"
                          },
                          "line": {
                            "color": "white"
                          }
                        },
                        "header": {
                          "fill": {
                            "color": "#C8D4E3"
                          },
                          "line": {
                            "color": "white"
                          }
                        },
                        "type": "table"
                      }
                    ]
                  },
                  "layout": {
                    "annotationdefaults": {
                      "arrowcolor": "#2a3f5f",
                      "arrowhead": 0,
                      "arrowwidth": 1
                    },
                    "autotypenumbers": "strict",
                    "coloraxis": {
                      "colorbar": {
                        "outlinewidth": 0,
                        "ticks": ""
                      }
                    },
                    "colorscale": {
                      "diverging": [
                        [
                          0,
                          "#8e0152"
                        ],
                        [
                          0.1,
                          "#c51b7d"
                        ],
                        [
                          0.2,
                          "#de77ae"
                        ],
                        [
                          0.3,
                          "#f1b6da"
                        ],
                        [
                          0.4,
                          "#fde0ef"
                        ],
                        [
                          0.5,
                          "#f7f7f7"
                        ],
                        [
                          0.6,
                          "#e6f5d0"
                        ],
                        [
                          0.7,
                          "#b8e186"
                        ],
                        [
                          0.8,
                          "#7fbc41"
                        ],
                        [
                          0.9,
                          "#4d9221"
                        ],
                        [
                          1,
                          "#276419"
                        ]
                      ],
                      "sequential": [
                        [
                          0,
                          "#0d0887"
                        ],
                        [
                          0.1111111111111111,
                          "#46039f"
                        ],
                        [
                          0.2222222222222222,
                          "#7201a8"
                        ],
                        [
                          0.3333333333333333,
                          "#9c179e"
                        ],
                        [
                          0.4444444444444444,
                          "#bd3786"
                        ],
                        [
                          0.5555555555555556,
                          "#d8576b"
                        ],
                        [
                          0.6666666666666666,
                          "#ed7953"
                        ],
                        [
                          0.7777777777777778,
                          "#fb9f3a"
                        ],
                        [
                          0.8888888888888888,
                          "#fdca26"
                        ],
                        [
                          1,
                          "#f0f921"
                        ]
                      ],
                      "sequentialminus": [
                        [
                          0,
                          "#0d0887"
                        ],
                        [
                          0.1111111111111111,
                          "#46039f"
                        ],
                        [
                          0.2222222222222222,
                          "#7201a8"
                        ],
                        [
                          0.3333333333333333,
                          "#9c179e"
                        ],
                        [
                          0.4444444444444444,
                          "#bd3786"
                        ],
                        [
                          0.5555555555555556,
                          "#d8576b"
                        ],
                        [
                          0.6666666666666666,
                          "#ed7953"
                        ],
                        [
                          0.7777777777777778,
                          "#fb9f3a"
                        ],
                        [
                          0.8888888888888888,
                          "#fdca26"
                        ],
                        [
                          1,
                          "#f0f921"
                        ]
                      ]
                    },
                    "colorway": [
                      "#636efa",
                      "#EF553B",
                      "#00cc96",
                      "#ab63fa",
                      "#FFA15A",
                      "#19d3f3",
                      "#FF6692",
                      "#B6E880",
                      "#FF97FF",
                      "#FECB52"
                    ],
                    "font": {
                      "color": "#2a3f5f"
                    },
                    "geo": {
                      "bgcolor": "white",
                      "lakecolor": "white",
                      "landcolor": "#E5ECF6",
                      "showlakes": true,
                      "showland": true,
                      "subunitcolor": "white"
                    },
                    "hoverlabel": {
                      "align": "left"
                    },
                    "hovermode": "closest",
                    "mapbox": {
                      "style": "light"
                    },
                    "paper_bgcolor": "white",
                    "plot_bgcolor": "#E5ECF6",
                    "polar": {
                      "angularaxis": {
                        "gridcolor": "white",
                        "linecolor": "white",
                        "ticks": ""
                      },
                      "bgcolor": "#E5ECF6",
                      "radialaxis": {
                        "gridcolor": "white",
                        "linecolor": "white",
                        "ticks": ""
                      }
                    },
                    "scene": {
                      "xaxis": {
                        "backgroundcolor": "#E5ECF6",
                        "gridcolor": "white",
                        "gridwidth": 2,
                        "linecolor": "white",
                        "showbackground": true,
                        "ticks": "",
                        "zerolinecolor": "white"
                      },
                      "yaxis": {
                        "backgroundcolor": "#E5ECF6",
                        "gridcolor": "white",
                        "gridwidth": 2,
                        "linecolor": "white",
                        "showbackground": true,
                        "ticks": "",
                        "zerolinecolor": "white"
                      },
                      "zaxis": {
                        "backgroundcolor": "#E5ECF6",
                        "gridcolor": "white",
                        "gridwidth": 2,
                        "linecolor": "white",
                        "showbackground": true,
                        "ticks": "",
                        "zerolinecolor": "white"
                      }
                    },
                    "shapedefaults": {
                      "line": {
                        "color": "#2a3f5f"
                      }
                    },
                    "ternary": {
                      "aaxis": {
                        "gridcolor": "white",
                        "linecolor": "white",
                        "ticks": ""
                      },
                      "baxis": {
                        "gridcolor": "white",
                        "linecolor": "white",
                        "ticks": ""
                      },
                      "bgcolor": "#E5ECF6",
                      "caxis": {
                        "gridcolor": "white",
                        "linecolor": "white",
                        "ticks": ""
                      }
                    },
                    "title": {
                      "x": 0.05
                    },
                    "xaxis": {
                      "automargin": true,
                      "gridcolor": "white",
                      "linecolor": "white",
                      "ticks": "",
                      "title": {
                        "standoff": 15
                      },
                      "zerolinecolor": "white",
                      "zerolinewidth": 2
                    },
                    "yaxis": {
                      "automargin": true,
                      "gridcolor": "white",
                      "linecolor": "white",
                      "ticks": "",
                      "title": {
                        "standoff": 15
                      },
                      "zerolinecolor": "white",
                      "zerolinewidth": 2
                    }
                  }
                },
                "title": {
                  "text": "Number of Launches per Year per Top Organisation"
                },
                "xaxis": {
                  "anchor": "y",
                  "domain": [
                    0,
                    1
                  ],
                  "title": {
                    "text": "Year"
                  }
                },
                "yaxis": {
                  "anchor": "x",
                  "domain": [
                    0,
                    1
                  ],
                  "title": {
                    "text": "Number of Launches"
                  }
                }
              }
            }
          },
          "metadata": {},
          "output_type": "display_data"
        }
      ],
      "source": [
        "fig = px.line(top_org_launches, \n",
        "              x='Year', \n",
        "              y='Rocket_Status', \n",
        "              color='Organisation', \n",
        "              labels={'Year':'Year', 'Rocket_Status':'Number of Launches'}, \n",
        "              title='Number of Launches per Year per Top Organisation')\n",
        "fig.show()"
      ]
    },
    {
      "cell_type": "code",
      "execution_count": null,
      "metadata": {
        "id": "akCDKT8CqVjG"
      },
      "outputs": [],
      "source": []
    },
    {
      "cell_type": "markdown",
      "metadata": {
        "id": "6Cm8_ch6a-q7",
        "papermill": {
          "duration": 0.052399,
          "end_time": "2020-10-20T21:34:13.756781",
          "exception": false,
          "start_time": "2020-10-20T21:34:13.704382",
          "status": "completed"
        },
        "tags": []
      },
      "source": [
        "# Cold War Space Race: USA vs USSR\n",
        "\n",
        "The cold war lasted from the start of the dataset up until 1991. "
      ]
    },
    {
      "cell_type": "code",
      "execution_count": 249,
      "metadata": {
        "id": "AcE_U8csrICL"
      },
      "outputs": [
        {
          "data": {
            "text/html": [
              "<div>\n",
              "<style scoped>\n",
              "    .dataframe tbody tr th:only-of-type {\n",
              "        vertical-align: middle;\n",
              "    }\n",
              "\n",
              "    .dataframe tbody tr th {\n",
              "        vertical-align: top;\n",
              "    }\n",
              "\n",
              "    .dataframe thead th {\n",
              "        text-align: right;\n",
              "    }\n",
              "</style>\n",
              "<table border=\"1\" class=\"dataframe\">\n",
              "  <thead>\n",
              "    <tr style=\"text-align: right;\">\n",
              "      <th></th>\n",
              "      <th>Country</th>\n",
              "      <th>Year</th>\n",
              "      <th>Organisation</th>\n",
              "      <th>Location</th>\n",
              "      <th>Date</th>\n",
              "      <th>Detail</th>\n",
              "      <th>Rocket_Status</th>\n",
              "      <th>Price</th>\n",
              "      <th>Mission_Status</th>\n",
              "      <th>Iso</th>\n",
              "      <th>Month</th>\n",
              "      <th>justmonth</th>\n",
              "    </tr>\n",
              "  </thead>\n",
              "  <tbody>\n",
              "    <tr>\n",
              "      <th>288</th>\n",
              "      <td>Russian Federation</td>\n",
              "      <td>1961</td>\n",
              "      <td>2</td>\n",
              "      <td>2</td>\n",
              "      <td>2</td>\n",
              "      <td>2</td>\n",
              "      <td>2</td>\n",
              "      <td>0</td>\n",
              "      <td>2</td>\n",
              "      <td>2</td>\n",
              "      <td>2</td>\n",
              "      <td>2</td>\n",
              "    </tr>\n",
              "    <tr>\n",
              "      <th>289</th>\n",
              "      <td>Russian Federation</td>\n",
              "      <td>1962</td>\n",
              "      <td>8</td>\n",
              "      <td>8</td>\n",
              "      <td>8</td>\n",
              "      <td>8</td>\n",
              "      <td>8</td>\n",
              "      <td>0</td>\n",
              "      <td>8</td>\n",
              "      <td>8</td>\n",
              "      <td>8</td>\n",
              "      <td>8</td>\n",
              "    </tr>\n",
              "    <tr>\n",
              "      <th>290</th>\n",
              "      <td>Russian Federation</td>\n",
              "      <td>1963</td>\n",
              "      <td>8</td>\n",
              "      <td>8</td>\n",
              "      <td>8</td>\n",
              "      <td>8</td>\n",
              "      <td>8</td>\n",
              "      <td>0</td>\n",
              "      <td>8</td>\n",
              "      <td>8</td>\n",
              "      <td>8</td>\n",
              "      <td>8</td>\n",
              "    </tr>\n",
              "    <tr>\n",
              "      <th>291</th>\n",
              "      <td>Russian Federation</td>\n",
              "      <td>1964</td>\n",
              "      <td>8</td>\n",
              "      <td>8</td>\n",
              "      <td>8</td>\n",
              "      <td>8</td>\n",
              "      <td>8</td>\n",
              "      <td>0</td>\n",
              "      <td>8</td>\n",
              "      <td>8</td>\n",
              "      <td>8</td>\n",
              "      <td>8</td>\n",
              "    </tr>\n",
              "    <tr>\n",
              "      <th>292</th>\n",
              "      <td>Russian Federation</td>\n",
              "      <td>1965</td>\n",
              "      <td>10</td>\n",
              "      <td>10</td>\n",
              "      <td>10</td>\n",
              "      <td>10</td>\n",
              "      <td>10</td>\n",
              "      <td>0</td>\n",
              "      <td>10</td>\n",
              "      <td>10</td>\n",
              "      <td>10</td>\n",
              "      <td>10</td>\n",
              "    </tr>\n",
              "    <tr>\n",
              "      <th>...</th>\n",
              "      <td>...</td>\n",
              "      <td>...</td>\n",
              "      <td>...</td>\n",
              "      <td>...</td>\n",
              "      <td>...</td>\n",
              "      <td>...</td>\n",
              "      <td>...</td>\n",
              "      <td>...</td>\n",
              "      <td>...</td>\n",
              "      <td>...</td>\n",
              "      <td>...</td>\n",
              "      <td>...</td>\n",
              "    </tr>\n",
              "    <tr>\n",
              "      <th>378</th>\n",
              "      <td>United States of America</td>\n",
              "      <td>1987</td>\n",
              "      <td>6</td>\n",
              "      <td>6</td>\n",
              "      <td>6</td>\n",
              "      <td>6</td>\n",
              "      <td>6</td>\n",
              "      <td>0</td>\n",
              "      <td>6</td>\n",
              "      <td>6</td>\n",
              "      <td>6</td>\n",
              "      <td>6</td>\n",
              "    </tr>\n",
              "    <tr>\n",
              "      <th>379</th>\n",
              "      <td>United States of America</td>\n",
              "      <td>1988</td>\n",
              "      <td>7</td>\n",
              "      <td>7</td>\n",
              "      <td>7</td>\n",
              "      <td>7</td>\n",
              "      <td>7</td>\n",
              "      <td>3</td>\n",
              "      <td>7</td>\n",
              "      <td>7</td>\n",
              "      <td>7</td>\n",
              "      <td>7</td>\n",
              "    </tr>\n",
              "    <tr>\n",
              "      <th>380</th>\n",
              "      <td>United States of America</td>\n",
              "      <td>1989</td>\n",
              "      <td>16</td>\n",
              "      <td>16</td>\n",
              "      <td>16</td>\n",
              "      <td>16</td>\n",
              "      <td>16</td>\n",
              "      <td>6</td>\n",
              "      <td>16</td>\n",
              "      <td>16</td>\n",
              "      <td>16</td>\n",
              "      <td>16</td>\n",
              "    </tr>\n",
              "    <tr>\n",
              "      <th>381</th>\n",
              "      <td>United States of America</td>\n",
              "      <td>1990</td>\n",
              "      <td>26</td>\n",
              "      <td>26</td>\n",
              "      <td>26</td>\n",
              "      <td>26</td>\n",
              "      <td>26</td>\n",
              "      <td>10</td>\n",
              "      <td>26</td>\n",
              "      <td>26</td>\n",
              "      <td>26</td>\n",
              "      <td>26</td>\n",
              "    </tr>\n",
              "    <tr>\n",
              "      <th>382</th>\n",
              "      <td>United States of America</td>\n",
              "      <td>1991</td>\n",
              "      <td>18</td>\n",
              "      <td>18</td>\n",
              "      <td>18</td>\n",
              "      <td>18</td>\n",
              "      <td>18</td>\n",
              "      <td>7</td>\n",
              "      <td>18</td>\n",
              "      <td>18</td>\n",
              "      <td>18</td>\n",
              "      <td>18</td>\n",
              "    </tr>\n",
              "  </tbody>\n",
              "</table>\n",
              "<p>66 rows × 12 columns</p>\n",
              "</div>"
            ],
            "text/plain": [
              "                      Country  Year  Organisation  Location  Date  Detail  \\\n",
              "288        Russian Federation  1961             2         2     2       2   \n",
              "289        Russian Federation  1962             8         8     8       8   \n",
              "290        Russian Federation  1963             8         8     8       8   \n",
              "291        Russian Federation  1964             8         8     8       8   \n",
              "292        Russian Federation  1965            10        10    10      10   \n",
              "..                        ...   ...           ...       ...   ...     ...   \n",
              "378  United States of America  1987             6         6     6       6   \n",
              "379  United States of America  1988             7         7     7       7   \n",
              "380  United States of America  1989            16        16    16      16   \n",
              "381  United States of America  1990            26        26    26      26   \n",
              "382  United States of America  1991            18        18    18      18   \n",
              "\n",
              "     Rocket_Status  Price  Mission_Status  Iso  Month  justmonth  \n",
              "288              2      0               2    2      2          2  \n",
              "289              8      0               8    8      8          8  \n",
              "290              8      0               8    8      8          8  \n",
              "291              8      0               8    8      8          8  \n",
              "292             10      0              10   10     10         10  \n",
              "..             ...    ...             ...  ...    ...        ...  \n",
              "378              6      0               6    6      6          6  \n",
              "379              7      3               7    7      7          7  \n",
              "380             16      6              16   16     16         16  \n",
              "381             26     10              26   26     26         26  \n",
              "382             18      7              18   18     18         18  \n",
              "\n",
              "[66 rows x 12 columns]"
            ]
          },
          "execution_count": 249,
          "metadata": {},
          "output_type": "execute_result"
        }
      ],
      "source": [
        "target_countries = [\"Russian Federation\", \"United States of America\"]\n",
        "\n",
        "cold_war = spacedf.groupby(['Country','Year'],as_index=False).count()\n",
        "#This only filters for countires\n",
        "#cold_war = cold_war[cold_war['Country'].isin(target_countries)]\n",
        "\n",
        "#These both work \n",
        "#cold_war = cold_war.query('Year<=1991 and Country in @target_countries')\n",
        "cold_war = cold_war[(cold_war['Year'] <= 1991) & cold_war['Country'].isin(target_countries)]\n",
        "\n",
        "cold_war"
      ]
    },
    {
      "cell_type": "code",
      "execution_count": 250,
      "metadata": {
        "id": "cOe_t4OmrHr9"
      },
      "outputs": [
        {
          "data": {
            "application/vnd.plotly.v1+json": {
              "config": {
                "plotlyServerURL": "https://plot.ly"
              },
              "data": [
                {
                  "hovertemplate": "Country=Russian Federation<br>Year=%{x}<br>Number of Launches=%{y}<extra></extra>",
                  "legendgroup": "Russian Federation",
                  "line": {
                    "color": "#636efa",
                    "dash": "solid"
                  },
                  "marker": {
                    "symbol": "circle"
                  },
                  "mode": "lines",
                  "name": "Russian Federation",
                  "orientation": "v",
                  "showlegend": true,
                  "type": "scatter",
                  "x": [
                    1961,
                    1962,
                    1963,
                    1964,
                    1965,
                    1966,
                    1967,
                    1968,
                    1969,
                    1970,
                    1971,
                    1972,
                    1973,
                    1974,
                    1975,
                    1976,
                    1977,
                    1978,
                    1979,
                    1980,
                    1981,
                    1982,
                    1983,
                    1984,
                    1985,
                    1986,
                    1987,
                    1988,
                    1989,
                    1990,
                    1991
                  ],
                  "xaxis": "x",
                  "y": [
                    2,
                    8,
                    8,
                    8,
                    10,
                    15,
                    37,
                    40,
                    45,
                    59,
                    62,
                    57,
                    67,
                    60,
                    66,
                    66,
                    72,
                    62,
                    33,
                    34,
                    41,
                    43,
                    40,
                    38,
                    39,
                    42,
                    30,
                    27,
                    22,
                    30,
                    25
                  ],
                  "yaxis": "y"
                },
                {
                  "hovertemplate": "Country=United States of America<br>Year=%{x}<br>Number of Launches=%{y}<extra></extra>",
                  "legendgroup": "United States of America",
                  "line": {
                    "color": "#EF553B",
                    "dash": "solid"
                  },
                  "marker": {
                    "symbol": "circle"
                  },
                  "mode": "lines",
                  "name": "United States of America",
                  "orientation": "v",
                  "showlegend": true,
                  "type": "scatter",
                  "x": [
                    1957,
                    1958,
                    1959,
                    1960,
                    1961,
                    1962,
                    1963,
                    1964,
                    1965,
                    1966,
                    1967,
                    1968,
                    1969,
                    1970,
                    1971,
                    1972,
                    1973,
                    1974,
                    1975,
                    1976,
                    1977,
                    1978,
                    1979,
                    1980,
                    1981,
                    1982,
                    1983,
                    1984,
                    1985,
                    1986,
                    1987,
                    1988,
                    1989,
                    1990,
                    1991
                  ],
                  "xaxis": "x",
                  "y": [
                    1,
                    23,
                    16,
                    30,
                    43,
                    60,
                    17,
                    24,
                    33,
                    47,
                    26,
                    22,
                    17,
                    11,
                    16,
                    17,
                    17,
                    10,
                    15,
                    13,
                    14,
                    21,
                    9,
                    11,
                    13,
                    11,
                    13,
                    17,
                    16,
                    6,
                    6,
                    7,
                    16,
                    26,
                    18
                  ],
                  "yaxis": "y"
                }
              ],
              "layout": {
                "legend": {
                  "title": {
                    "text": "Country"
                  },
                  "tracegroupgap": 0
                },
                "template": {
                  "data": {
                    "bar": [
                      {
                        "error_x": {
                          "color": "#2a3f5f"
                        },
                        "error_y": {
                          "color": "#2a3f5f"
                        },
                        "marker": {
                          "line": {
                            "color": "#E5ECF6",
                            "width": 0.5
                          },
                          "pattern": {
                            "fillmode": "overlay",
                            "size": 10,
                            "solidity": 0.2
                          }
                        },
                        "type": "bar"
                      }
                    ],
                    "barpolar": [
                      {
                        "marker": {
                          "line": {
                            "color": "#E5ECF6",
                            "width": 0.5
                          },
                          "pattern": {
                            "fillmode": "overlay",
                            "size": 10,
                            "solidity": 0.2
                          }
                        },
                        "type": "barpolar"
                      }
                    ],
                    "carpet": [
                      {
                        "aaxis": {
                          "endlinecolor": "#2a3f5f",
                          "gridcolor": "white",
                          "linecolor": "white",
                          "minorgridcolor": "white",
                          "startlinecolor": "#2a3f5f"
                        },
                        "baxis": {
                          "endlinecolor": "#2a3f5f",
                          "gridcolor": "white",
                          "linecolor": "white",
                          "minorgridcolor": "white",
                          "startlinecolor": "#2a3f5f"
                        },
                        "type": "carpet"
                      }
                    ],
                    "choropleth": [
                      {
                        "colorbar": {
                          "outlinewidth": 0,
                          "ticks": ""
                        },
                        "type": "choropleth"
                      }
                    ],
                    "contour": [
                      {
                        "colorbar": {
                          "outlinewidth": 0,
                          "ticks": ""
                        },
                        "colorscale": [
                          [
                            0,
                            "#0d0887"
                          ],
                          [
                            0.1111111111111111,
                            "#46039f"
                          ],
                          [
                            0.2222222222222222,
                            "#7201a8"
                          ],
                          [
                            0.3333333333333333,
                            "#9c179e"
                          ],
                          [
                            0.4444444444444444,
                            "#bd3786"
                          ],
                          [
                            0.5555555555555556,
                            "#d8576b"
                          ],
                          [
                            0.6666666666666666,
                            "#ed7953"
                          ],
                          [
                            0.7777777777777778,
                            "#fb9f3a"
                          ],
                          [
                            0.8888888888888888,
                            "#fdca26"
                          ],
                          [
                            1,
                            "#f0f921"
                          ]
                        ],
                        "type": "contour"
                      }
                    ],
                    "contourcarpet": [
                      {
                        "colorbar": {
                          "outlinewidth": 0,
                          "ticks": ""
                        },
                        "type": "contourcarpet"
                      }
                    ],
                    "heatmap": [
                      {
                        "colorbar": {
                          "outlinewidth": 0,
                          "ticks": ""
                        },
                        "colorscale": [
                          [
                            0,
                            "#0d0887"
                          ],
                          [
                            0.1111111111111111,
                            "#46039f"
                          ],
                          [
                            0.2222222222222222,
                            "#7201a8"
                          ],
                          [
                            0.3333333333333333,
                            "#9c179e"
                          ],
                          [
                            0.4444444444444444,
                            "#bd3786"
                          ],
                          [
                            0.5555555555555556,
                            "#d8576b"
                          ],
                          [
                            0.6666666666666666,
                            "#ed7953"
                          ],
                          [
                            0.7777777777777778,
                            "#fb9f3a"
                          ],
                          [
                            0.8888888888888888,
                            "#fdca26"
                          ],
                          [
                            1,
                            "#f0f921"
                          ]
                        ],
                        "type": "heatmap"
                      }
                    ],
                    "heatmapgl": [
                      {
                        "colorbar": {
                          "outlinewidth": 0,
                          "ticks": ""
                        },
                        "colorscale": [
                          [
                            0,
                            "#0d0887"
                          ],
                          [
                            0.1111111111111111,
                            "#46039f"
                          ],
                          [
                            0.2222222222222222,
                            "#7201a8"
                          ],
                          [
                            0.3333333333333333,
                            "#9c179e"
                          ],
                          [
                            0.4444444444444444,
                            "#bd3786"
                          ],
                          [
                            0.5555555555555556,
                            "#d8576b"
                          ],
                          [
                            0.6666666666666666,
                            "#ed7953"
                          ],
                          [
                            0.7777777777777778,
                            "#fb9f3a"
                          ],
                          [
                            0.8888888888888888,
                            "#fdca26"
                          ],
                          [
                            1,
                            "#f0f921"
                          ]
                        ],
                        "type": "heatmapgl"
                      }
                    ],
                    "histogram": [
                      {
                        "marker": {
                          "pattern": {
                            "fillmode": "overlay",
                            "size": 10,
                            "solidity": 0.2
                          }
                        },
                        "type": "histogram"
                      }
                    ],
                    "histogram2d": [
                      {
                        "colorbar": {
                          "outlinewidth": 0,
                          "ticks": ""
                        },
                        "colorscale": [
                          [
                            0,
                            "#0d0887"
                          ],
                          [
                            0.1111111111111111,
                            "#46039f"
                          ],
                          [
                            0.2222222222222222,
                            "#7201a8"
                          ],
                          [
                            0.3333333333333333,
                            "#9c179e"
                          ],
                          [
                            0.4444444444444444,
                            "#bd3786"
                          ],
                          [
                            0.5555555555555556,
                            "#d8576b"
                          ],
                          [
                            0.6666666666666666,
                            "#ed7953"
                          ],
                          [
                            0.7777777777777778,
                            "#fb9f3a"
                          ],
                          [
                            0.8888888888888888,
                            "#fdca26"
                          ],
                          [
                            1,
                            "#f0f921"
                          ]
                        ],
                        "type": "histogram2d"
                      }
                    ],
                    "histogram2dcontour": [
                      {
                        "colorbar": {
                          "outlinewidth": 0,
                          "ticks": ""
                        },
                        "colorscale": [
                          [
                            0,
                            "#0d0887"
                          ],
                          [
                            0.1111111111111111,
                            "#46039f"
                          ],
                          [
                            0.2222222222222222,
                            "#7201a8"
                          ],
                          [
                            0.3333333333333333,
                            "#9c179e"
                          ],
                          [
                            0.4444444444444444,
                            "#bd3786"
                          ],
                          [
                            0.5555555555555556,
                            "#d8576b"
                          ],
                          [
                            0.6666666666666666,
                            "#ed7953"
                          ],
                          [
                            0.7777777777777778,
                            "#fb9f3a"
                          ],
                          [
                            0.8888888888888888,
                            "#fdca26"
                          ],
                          [
                            1,
                            "#f0f921"
                          ]
                        ],
                        "type": "histogram2dcontour"
                      }
                    ],
                    "mesh3d": [
                      {
                        "colorbar": {
                          "outlinewidth": 0,
                          "ticks": ""
                        },
                        "type": "mesh3d"
                      }
                    ],
                    "parcoords": [
                      {
                        "line": {
                          "colorbar": {
                            "outlinewidth": 0,
                            "ticks": ""
                          }
                        },
                        "type": "parcoords"
                      }
                    ],
                    "pie": [
                      {
                        "automargin": true,
                        "type": "pie"
                      }
                    ],
                    "scatter": [
                      {
                        "fillpattern": {
                          "fillmode": "overlay",
                          "size": 10,
                          "solidity": 0.2
                        },
                        "type": "scatter"
                      }
                    ],
                    "scatter3d": [
                      {
                        "line": {
                          "colorbar": {
                            "outlinewidth": 0,
                            "ticks": ""
                          }
                        },
                        "marker": {
                          "colorbar": {
                            "outlinewidth": 0,
                            "ticks": ""
                          }
                        },
                        "type": "scatter3d"
                      }
                    ],
                    "scattercarpet": [
                      {
                        "marker": {
                          "colorbar": {
                            "outlinewidth": 0,
                            "ticks": ""
                          }
                        },
                        "type": "scattercarpet"
                      }
                    ],
                    "scattergeo": [
                      {
                        "marker": {
                          "colorbar": {
                            "outlinewidth": 0,
                            "ticks": ""
                          }
                        },
                        "type": "scattergeo"
                      }
                    ],
                    "scattergl": [
                      {
                        "marker": {
                          "colorbar": {
                            "outlinewidth": 0,
                            "ticks": ""
                          }
                        },
                        "type": "scattergl"
                      }
                    ],
                    "scattermapbox": [
                      {
                        "marker": {
                          "colorbar": {
                            "outlinewidth": 0,
                            "ticks": ""
                          }
                        },
                        "type": "scattermapbox"
                      }
                    ],
                    "scatterpolar": [
                      {
                        "marker": {
                          "colorbar": {
                            "outlinewidth": 0,
                            "ticks": ""
                          }
                        },
                        "type": "scatterpolar"
                      }
                    ],
                    "scatterpolargl": [
                      {
                        "marker": {
                          "colorbar": {
                            "outlinewidth": 0,
                            "ticks": ""
                          }
                        },
                        "type": "scatterpolargl"
                      }
                    ],
                    "scatterternary": [
                      {
                        "marker": {
                          "colorbar": {
                            "outlinewidth": 0,
                            "ticks": ""
                          }
                        },
                        "type": "scatterternary"
                      }
                    ],
                    "surface": [
                      {
                        "colorbar": {
                          "outlinewidth": 0,
                          "ticks": ""
                        },
                        "colorscale": [
                          [
                            0,
                            "#0d0887"
                          ],
                          [
                            0.1111111111111111,
                            "#46039f"
                          ],
                          [
                            0.2222222222222222,
                            "#7201a8"
                          ],
                          [
                            0.3333333333333333,
                            "#9c179e"
                          ],
                          [
                            0.4444444444444444,
                            "#bd3786"
                          ],
                          [
                            0.5555555555555556,
                            "#d8576b"
                          ],
                          [
                            0.6666666666666666,
                            "#ed7953"
                          ],
                          [
                            0.7777777777777778,
                            "#fb9f3a"
                          ],
                          [
                            0.8888888888888888,
                            "#fdca26"
                          ],
                          [
                            1,
                            "#f0f921"
                          ]
                        ],
                        "type": "surface"
                      }
                    ],
                    "table": [
                      {
                        "cells": {
                          "fill": {
                            "color": "#EBF0F8"
                          },
                          "line": {
                            "color": "white"
                          }
                        },
                        "header": {
                          "fill": {
                            "color": "#C8D4E3"
                          },
                          "line": {
                            "color": "white"
                          }
                        },
                        "type": "table"
                      }
                    ]
                  },
                  "layout": {
                    "annotationdefaults": {
                      "arrowcolor": "#2a3f5f",
                      "arrowhead": 0,
                      "arrowwidth": 1
                    },
                    "autotypenumbers": "strict",
                    "coloraxis": {
                      "colorbar": {
                        "outlinewidth": 0,
                        "ticks": ""
                      }
                    },
                    "colorscale": {
                      "diverging": [
                        [
                          0,
                          "#8e0152"
                        ],
                        [
                          0.1,
                          "#c51b7d"
                        ],
                        [
                          0.2,
                          "#de77ae"
                        ],
                        [
                          0.3,
                          "#f1b6da"
                        ],
                        [
                          0.4,
                          "#fde0ef"
                        ],
                        [
                          0.5,
                          "#f7f7f7"
                        ],
                        [
                          0.6,
                          "#e6f5d0"
                        ],
                        [
                          0.7,
                          "#b8e186"
                        ],
                        [
                          0.8,
                          "#7fbc41"
                        ],
                        [
                          0.9,
                          "#4d9221"
                        ],
                        [
                          1,
                          "#276419"
                        ]
                      ],
                      "sequential": [
                        [
                          0,
                          "#0d0887"
                        ],
                        [
                          0.1111111111111111,
                          "#46039f"
                        ],
                        [
                          0.2222222222222222,
                          "#7201a8"
                        ],
                        [
                          0.3333333333333333,
                          "#9c179e"
                        ],
                        [
                          0.4444444444444444,
                          "#bd3786"
                        ],
                        [
                          0.5555555555555556,
                          "#d8576b"
                        ],
                        [
                          0.6666666666666666,
                          "#ed7953"
                        ],
                        [
                          0.7777777777777778,
                          "#fb9f3a"
                        ],
                        [
                          0.8888888888888888,
                          "#fdca26"
                        ],
                        [
                          1,
                          "#f0f921"
                        ]
                      ],
                      "sequentialminus": [
                        [
                          0,
                          "#0d0887"
                        ],
                        [
                          0.1111111111111111,
                          "#46039f"
                        ],
                        [
                          0.2222222222222222,
                          "#7201a8"
                        ],
                        [
                          0.3333333333333333,
                          "#9c179e"
                        ],
                        [
                          0.4444444444444444,
                          "#bd3786"
                        ],
                        [
                          0.5555555555555556,
                          "#d8576b"
                        ],
                        [
                          0.6666666666666666,
                          "#ed7953"
                        ],
                        [
                          0.7777777777777778,
                          "#fb9f3a"
                        ],
                        [
                          0.8888888888888888,
                          "#fdca26"
                        ],
                        [
                          1,
                          "#f0f921"
                        ]
                      ]
                    },
                    "colorway": [
                      "#636efa",
                      "#EF553B",
                      "#00cc96",
                      "#ab63fa",
                      "#FFA15A",
                      "#19d3f3",
                      "#FF6692",
                      "#B6E880",
                      "#FF97FF",
                      "#FECB52"
                    ],
                    "font": {
                      "color": "#2a3f5f"
                    },
                    "geo": {
                      "bgcolor": "white",
                      "lakecolor": "white",
                      "landcolor": "#E5ECF6",
                      "showlakes": true,
                      "showland": true,
                      "subunitcolor": "white"
                    },
                    "hoverlabel": {
                      "align": "left"
                    },
                    "hovermode": "closest",
                    "mapbox": {
                      "style": "light"
                    },
                    "paper_bgcolor": "white",
                    "plot_bgcolor": "#E5ECF6",
                    "polar": {
                      "angularaxis": {
                        "gridcolor": "white",
                        "linecolor": "white",
                        "ticks": ""
                      },
                      "bgcolor": "#E5ECF6",
                      "radialaxis": {
                        "gridcolor": "white",
                        "linecolor": "white",
                        "ticks": ""
                      }
                    },
                    "scene": {
                      "xaxis": {
                        "backgroundcolor": "#E5ECF6",
                        "gridcolor": "white",
                        "gridwidth": 2,
                        "linecolor": "white",
                        "showbackground": true,
                        "ticks": "",
                        "zerolinecolor": "white"
                      },
                      "yaxis": {
                        "backgroundcolor": "#E5ECF6",
                        "gridcolor": "white",
                        "gridwidth": 2,
                        "linecolor": "white",
                        "showbackground": true,
                        "ticks": "",
                        "zerolinecolor": "white"
                      },
                      "zaxis": {
                        "backgroundcolor": "#E5ECF6",
                        "gridcolor": "white",
                        "gridwidth": 2,
                        "linecolor": "white",
                        "showbackground": true,
                        "ticks": "",
                        "zerolinecolor": "white"
                      }
                    },
                    "shapedefaults": {
                      "line": {
                        "color": "#2a3f5f"
                      }
                    },
                    "ternary": {
                      "aaxis": {
                        "gridcolor": "white",
                        "linecolor": "white",
                        "ticks": ""
                      },
                      "baxis": {
                        "gridcolor": "white",
                        "linecolor": "white",
                        "ticks": ""
                      },
                      "bgcolor": "#E5ECF6",
                      "caxis": {
                        "gridcolor": "white",
                        "linecolor": "white",
                        "ticks": ""
                      }
                    },
                    "title": {
                      "x": 0.05
                    },
                    "xaxis": {
                      "automargin": true,
                      "gridcolor": "white",
                      "linecolor": "white",
                      "ticks": "",
                      "title": {
                        "standoff": 15
                      },
                      "zerolinecolor": "white",
                      "zerolinewidth": 2
                    },
                    "yaxis": {
                      "automargin": true,
                      "gridcolor": "white",
                      "linecolor": "white",
                      "ticks": "",
                      "title": {
                        "standoff": 15
                      },
                      "zerolinecolor": "white",
                      "zerolinewidth": 2
                    }
                  }
                },
                "title": {
                  "text": "How close was it? Comparing Cold War launches"
                },
                "xaxis": {
                  "anchor": "y",
                  "domain": [
                    0,
                    1
                  ],
                  "title": {
                    "text": "Year"
                  }
                },
                "yaxis": {
                  "anchor": "x",
                  "domain": [
                    0,
                    1
                  ],
                  "title": {
                    "text": "Number of Launches"
                  }
                }
              }
            }
          },
          "metadata": {},
          "output_type": "display_data"
        }
      ],
      "source": [
        "fig = px.line(cold_war, \n",
        "              x='Year', \n",
        "              y='Rocket_Status', \n",
        "              color='Country', \n",
        "              labels={'Year':'Year', 'Rocket_Status':'Number of Launches'}, \n",
        "              title='How close was it? Comparing Cold War launches')\n",
        "fig.show()"
      ]
    },
    {
      "cell_type": "markdown",
      "metadata": {
        "id": "Os-3A5vLa-q9",
        "papermill": {
          "duration": 0.054318,
          "end_time": "2020-10-20T21:34:14.089604",
          "exception": false,
          "start_time": "2020-10-20T21:34:14.035286",
          "status": "completed"
        },
        "tags": []
      },
      "source": [
        "## Create a Plotly Pie Chart comparing the total number of launches of the USSR and the USA\n",
        "\n",
        "Hint: Remember to include former Soviet Republics like Kazakhstan when analysing the total number of launches. "
      ]
    },
    {
      "cell_type": "code",
      "execution_count": null,
      "metadata": {
        "id": "1irc6_W9rD59"
      },
      "outputs": [],
      "source": [
        "#Continue here"
      ]
    },
    {
      "cell_type": "code",
      "execution_count": null,
      "metadata": {
        "id": "OhhuLQycrEE-"
      },
      "outputs": [],
      "source": []
    },
    {
      "cell_type": "markdown",
      "metadata": {
        "id": "0C29Zz4xa-rA",
        "papermill": {
          "duration": 0.052921,
          "end_time": "2020-10-20T21:34:14.340085",
          "exception": false,
          "start_time": "2020-10-20T21:34:14.287164",
          "status": "completed"
        },
        "tags": []
      },
      "source": [
        "## Create a Chart that Shows the Total Number of Launches Year-On-Year by the Two Superpowers"
      ]
    },
    {
      "cell_type": "code",
      "execution_count": null,
      "metadata": {
        "id": "9ISKvOiCrS73"
      },
      "outputs": [],
      "source": []
    },
    {
      "cell_type": "code",
      "execution_count": null,
      "metadata": {
        "id": "oCc7VTzGrTK-"
      },
      "outputs": [],
      "source": []
    },
    {
      "cell_type": "markdown",
      "metadata": {
        "id": "eWv4iZmra-rE",
        "papermill": {
          "duration": 0.079311,
          "end_time": "2020-10-20T21:34:14.933058",
          "exception": false,
          "start_time": "2020-10-20T21:34:14.853747",
          "status": "completed"
        },
        "tags": []
      },
      "source": [
        "## Chart the Total Number of Mission Failures Year on Year."
      ]
    },
    {
      "cell_type": "code",
      "execution_count": null,
      "metadata": {
        "id": "I-Zss5-Mre-4"
      },
      "outputs": [],
      "source": []
    },
    {
      "cell_type": "code",
      "execution_count": null,
      "metadata": {
        "id": "7Ps9Iq_crfYl"
      },
      "outputs": [],
      "source": []
    },
    {
      "cell_type": "markdown",
      "metadata": {
        "id": "XNp-NkrJriEF"
      },
      "source": [
        "## Chart the Percentage of Failures over Time\n",
        "\n",
        "Did failures go up or down over time? Did the countries get better at minimising risk and improving their chances of success over time? "
      ]
    },
    {
      "cell_type": "code",
      "execution_count": null,
      "metadata": {
        "id": "Kj3-zsI0rhOS"
      },
      "outputs": [],
      "source": []
    },
    {
      "cell_type": "code",
      "execution_count": null,
      "metadata": {
        "id": "nxnnzx89rwvH"
      },
      "outputs": [],
      "source": []
    },
    {
      "cell_type": "code",
      "execution_count": null,
      "metadata": {
        "id": "_TPWaaJ5r1Fz"
      },
      "outputs": [],
      "source": []
    },
    {
      "cell_type": "markdown",
      "metadata": {
        "id": "S5aOC7bGr2OX"
      },
      "source": [
        "# For Every Year Show which Country was in the Lead in terms of Total Number of Launches up to and including including 2020)\n",
        "\n",
        "Do the results change if we only look at the number of successful launches? "
      ]
    },
    {
      "cell_type": "code",
      "execution_count": null,
      "metadata": {
        "id": "_h0grIXKsOz_"
      },
      "outputs": [],
      "source": []
    },
    {
      "cell_type": "code",
      "execution_count": null,
      "metadata": {
        "id": "zgVysedmsOp4"
      },
      "outputs": [],
      "source": []
    },
    {
      "cell_type": "markdown",
      "metadata": {
        "id": "jQcqBfJ8serG"
      },
      "source": [
        "# Create a Year-on-Year Chart Showing the Organisation Doing the Most Number of Launches\n",
        "\n",
        "Which organisation was dominant in the 1970s and 1980s? Which organisation was dominant in 2018, 2019 and 2020? "
      ]
    },
    {
      "cell_type": "code",
      "execution_count": null,
      "metadata": {
        "id": "jc9ImQEWsztG"
      },
      "outputs": [],
      "source": []
    },
    {
      "cell_type": "code",
      "execution_count": null,
      "metadata": {
        "id": "r5frxzwlsz5W"
      },
      "outputs": [],
      "source": []
    },
    {
      "cell_type": "code",
      "execution_count": null,
      "metadata": {
        "id": "8vHKpuc5a-rc",
        "papermill": {
          "duration": 0.092403,
          "end_time": "2020-10-20T21:34:26.709168",
          "exception": false,
          "start_time": "2020-10-20T21:34:26.616765",
          "status": "completed"
        },
        "tags": []
      },
      "outputs": [],
      "source": []
    }
  ],
  "metadata": {
    "colab": {
      "name": "Space Missions Analysis (start).ipynb",
      "provenance": []
    },
    "kernelspec": {
      "display_name": ".venv",
      "language": "python",
      "name": "python3"
    },
    "language_info": {
      "codemirror_mode": {
        "name": "ipython",
        "version": 3
      },
      "file_extension": ".py",
      "mimetype": "text/x-python",
      "name": "python",
      "nbconvert_exporter": "python",
      "pygments_lexer": "ipython3",
      "version": "3.11.1"
    },
    "papermill": {
      "duration": 28.468597,
      "end_time": "2020-10-20T21:34:26.910951",
      "environment_variables": {},
      "exception": null,
      "input_path": "__notebook__.ipynb",
      "output_path": "__notebook__.ipynb",
      "parameters": {},
      "start_time": "2020-10-20T21:33:58.442354",
      "version": "2.1.0"
    },
    "vscode": {
      "interpreter": {
        "hash": "0b401cf8ddf2f3d4611555a6591a812e3029a5e28dc9d1b796a9d641f99c961e"
      }
    }
  },
  "nbformat": 4,
  "nbformat_minor": 0
}
